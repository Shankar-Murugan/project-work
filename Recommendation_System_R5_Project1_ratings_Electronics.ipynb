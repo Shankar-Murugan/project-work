{
  "nbformat": 4,
  "nbformat_minor": 0,
  "metadata": {
    "colab": {
      "name": "Recommendation_System_R5_Project1_ratings_Electronics.ipynb",
      "provenance": [],
      "collapsed_sections": [],
      "machine_shape": "hm"
    },
    "kernelspec": {
      "name": "python3",
      "display_name": "Python 3"
    }
  },
  "cells": [
    {
      "cell_type": "code",
      "metadata": {
        "id": "rqAsXGDp5h7N",
        "colab_type": "code",
        "outputId": "f88fb1ff-e81f-4bc7-9e39-1c632f954957",
        "colab": {
          "base_uri": "https://localhost:8080/",
          "height": 54
        }
      },
      "source": [
        "from google.colab import drive\n",
        "drive.mount('/content/drive')"
      ],
      "execution_count": 165,
      "outputs": [
        {
          "output_type": "stream",
          "text": [
            "Drive already mounted at /content/drive; to attempt to forcibly remount, call drive.mount(\"/content/drive\", force_remount=True).\n"
          ],
          "name": "stdout"
        }
      ]
    },
    {
      "cell_type": "markdown",
      "metadata": {
        "id": "yPwcp5qOCBtY",
        "colab_type": "text"
      },
      "source": [
        "1. Read and explore the given dataset. ( Rename column/add headers, plot histograms,\n",
        "find data characteristics)"
      ]
    },
    {
      "cell_type": "code",
      "metadata": {
        "id": "_R0GV9706Agf",
        "colab_type": "code",
        "colab": {}
      },
      "source": [
        "import pandas as pd"
      ],
      "execution_count": 0,
      "outputs": []
    },
    {
      "cell_type": "code",
      "metadata": {
        "id": "Gf8om4WK-2-q",
        "colab_type": "code",
        "colab": {}
      },
      "source": [
        "import numpy as np"
      ],
      "execution_count": 0,
      "outputs": []
    },
    {
      "cell_type": "code",
      "metadata": {
        "id": "qze3ySK4-48p",
        "colab_type": "code",
        "colab": {}
      },
      "source": [
        "df = pd.read_csv('/content/drive/My Drive/Colab Notebooks/Recommendation System_Assignment/ratings_Electronics.csv', header = None)"
      ],
      "execution_count": 0,
      "outputs": []
    },
    {
      "cell_type": "code",
      "metadata": {
        "id": "oOOo6gPW_DQT",
        "colab_type": "code",
        "outputId": "f324fcb3-866a-4c76-a200-5e9415b1e38f",
        "colab": {
          "base_uri": "https://localhost:8080/",
          "height": 204
        }
      },
      "source": [
        "df.head()"
      ],
      "execution_count": 169,
      "outputs": [
        {
          "output_type": "execute_result",
          "data": {
            "text/html": [
              "<div>\n",
              "<style scoped>\n",
              "    .dataframe tbody tr th:only-of-type {\n",
              "        vertical-align: middle;\n",
              "    }\n",
              "\n",
              "    .dataframe tbody tr th {\n",
              "        vertical-align: top;\n",
              "    }\n",
              "\n",
              "    .dataframe thead th {\n",
              "        text-align: right;\n",
              "    }\n",
              "</style>\n",
              "<table border=\"1\" class=\"dataframe\">\n",
              "  <thead>\n",
              "    <tr style=\"text-align: right;\">\n",
              "      <th></th>\n",
              "      <th>0</th>\n",
              "      <th>1</th>\n",
              "      <th>2</th>\n",
              "      <th>3</th>\n",
              "    </tr>\n",
              "  </thead>\n",
              "  <tbody>\n",
              "    <tr>\n",
              "      <th>0</th>\n",
              "      <td>AKM1MP6P0OYPR</td>\n",
              "      <td>0132793040</td>\n",
              "      <td>5.0</td>\n",
              "      <td>1365811200</td>\n",
              "    </tr>\n",
              "    <tr>\n",
              "      <th>1</th>\n",
              "      <td>A2CX7LUOHB2NDG</td>\n",
              "      <td>0321732944</td>\n",
              "      <td>5.0</td>\n",
              "      <td>1341100800</td>\n",
              "    </tr>\n",
              "    <tr>\n",
              "      <th>2</th>\n",
              "      <td>A2NWSAGRHCP8N5</td>\n",
              "      <td>0439886341</td>\n",
              "      <td>1.0</td>\n",
              "      <td>1367193600</td>\n",
              "    </tr>\n",
              "    <tr>\n",
              "      <th>3</th>\n",
              "      <td>A2WNBOD3WNDNKT</td>\n",
              "      <td>0439886341</td>\n",
              "      <td>3.0</td>\n",
              "      <td>1374451200</td>\n",
              "    </tr>\n",
              "    <tr>\n",
              "      <th>4</th>\n",
              "      <td>A1GI0U4ZRJA8WN</td>\n",
              "      <td>0439886341</td>\n",
              "      <td>1.0</td>\n",
              "      <td>1334707200</td>\n",
              "    </tr>\n",
              "  </tbody>\n",
              "</table>\n",
              "</div>"
            ],
            "text/plain": [
              "                0           1    2           3\n",
              "0   AKM1MP6P0OYPR  0132793040  5.0  1365811200\n",
              "1  A2CX7LUOHB2NDG  0321732944  5.0  1341100800\n",
              "2  A2NWSAGRHCP8N5  0439886341  1.0  1367193600\n",
              "3  A2WNBOD3WNDNKT  0439886341  3.0  1374451200\n",
              "4  A1GI0U4ZRJA8WN  0439886341  1.0  1334707200"
            ]
          },
          "metadata": {
            "tags": []
          },
          "execution_count": 169
        }
      ]
    },
    {
      "cell_type": "markdown",
      "metadata": {
        "id": "QogzXP1JjQiS",
        "colab_type": "text"
      },
      "source": [
        "The lodead data set not have column heads so we need to set column names as per data description."
      ]
    },
    {
      "cell_type": "markdown",
      "metadata": {
        "id": "bvYvXYlajeqS",
        "colab_type": "text"
      },
      "source": [
        "Column Name setting:"
      ]
    },
    {
      "cell_type": "code",
      "metadata": {
        "id": "b__TSBF6_HlB",
        "colab_type": "code",
        "colab": {}
      },
      "source": [
        "df.columns = ['User ID', 'Product ID', 'Ratings', 'Timestamp']"
      ],
      "execution_count": 0,
      "outputs": []
    },
    {
      "cell_type": "code",
      "metadata": {
        "id": "2iOA25fKDS8y",
        "colab_type": "code",
        "outputId": "458c774c-bac5-48ad-e18b-0c5f8faa2329",
        "colab": {
          "base_uri": "https://localhost:8080/",
          "height": 204
        }
      },
      "source": [
        "df.head()"
      ],
      "execution_count": 171,
      "outputs": [
        {
          "output_type": "execute_result",
          "data": {
            "text/html": [
              "<div>\n",
              "<style scoped>\n",
              "    .dataframe tbody tr th:only-of-type {\n",
              "        vertical-align: middle;\n",
              "    }\n",
              "\n",
              "    .dataframe tbody tr th {\n",
              "        vertical-align: top;\n",
              "    }\n",
              "\n",
              "    .dataframe thead th {\n",
              "        text-align: right;\n",
              "    }\n",
              "</style>\n",
              "<table border=\"1\" class=\"dataframe\">\n",
              "  <thead>\n",
              "    <tr style=\"text-align: right;\">\n",
              "      <th></th>\n",
              "      <th>User ID</th>\n",
              "      <th>Product ID</th>\n",
              "      <th>Ratings</th>\n",
              "      <th>Timestamp</th>\n",
              "    </tr>\n",
              "  </thead>\n",
              "  <tbody>\n",
              "    <tr>\n",
              "      <th>0</th>\n",
              "      <td>AKM1MP6P0OYPR</td>\n",
              "      <td>0132793040</td>\n",
              "      <td>5.0</td>\n",
              "      <td>1365811200</td>\n",
              "    </tr>\n",
              "    <tr>\n",
              "      <th>1</th>\n",
              "      <td>A2CX7LUOHB2NDG</td>\n",
              "      <td>0321732944</td>\n",
              "      <td>5.0</td>\n",
              "      <td>1341100800</td>\n",
              "    </tr>\n",
              "    <tr>\n",
              "      <th>2</th>\n",
              "      <td>A2NWSAGRHCP8N5</td>\n",
              "      <td>0439886341</td>\n",
              "      <td>1.0</td>\n",
              "      <td>1367193600</td>\n",
              "    </tr>\n",
              "    <tr>\n",
              "      <th>3</th>\n",
              "      <td>A2WNBOD3WNDNKT</td>\n",
              "      <td>0439886341</td>\n",
              "      <td>3.0</td>\n",
              "      <td>1374451200</td>\n",
              "    </tr>\n",
              "    <tr>\n",
              "      <th>4</th>\n",
              "      <td>A1GI0U4ZRJA8WN</td>\n",
              "      <td>0439886341</td>\n",
              "      <td>1.0</td>\n",
              "      <td>1334707200</td>\n",
              "    </tr>\n",
              "  </tbody>\n",
              "</table>\n",
              "</div>"
            ],
            "text/plain": [
              "          User ID  Product ID  Ratings   Timestamp\n",
              "0   AKM1MP6P0OYPR  0132793040      5.0  1365811200\n",
              "1  A2CX7LUOHB2NDG  0321732944      5.0  1341100800\n",
              "2  A2NWSAGRHCP8N5  0439886341      1.0  1367193600\n",
              "3  A2WNBOD3WNDNKT  0439886341      3.0  1374451200\n",
              "4  A1GI0U4ZRJA8WN  0439886341      1.0  1334707200"
            ]
          },
          "metadata": {
            "tags": []
          },
          "execution_count": 171
        }
      ]
    },
    {
      "cell_type": "code",
      "metadata": {
        "id": "kp1DIvxTM7yO",
        "colab_type": "code",
        "outputId": "bf6ce5d9-9dd1-4d1c-a7e2-bf1cf3a8f391",
        "colab": {
          "base_uri": "https://localhost:8080/",
          "height": 34
        }
      },
      "source": [
        "df.shape"
      ],
      "execution_count": 172,
      "outputs": [
        {
          "output_type": "execute_result",
          "data": {
            "text/plain": [
              "(7824482, 4)"
            ]
          },
          "metadata": {
            "tags": []
          },
          "execution_count": 172
        }
      ]
    },
    {
      "cell_type": "markdown",
      "metadata": {
        "id": "RJbd6Zq6jp5R",
        "colab_type": "text"
      },
      "source": [
        "Initially we have 7.8 million records and 4 columns in the loaded data set."
      ]
    },
    {
      "cell_type": "markdown",
      "metadata": {
        "id": "Gyoh2oCokL6r",
        "colab_type": "text"
      },
      "source": [
        "Dropping \"Timestamp\" since it is not needed for this project."
      ]
    },
    {
      "cell_type": "code",
      "metadata": {
        "id": "HgF2wnj-DU8G",
        "colab_type": "code",
        "colab": {}
      },
      "source": [
        "df1 = df.drop(['Timestamp'], axis=1)"
      ],
      "execution_count": 0,
      "outputs": []
    },
    {
      "cell_type": "code",
      "metadata": {
        "id": "Fw-w_naTD45o",
        "colab_type": "code",
        "outputId": "f4e515a2-d4fa-43b3-b34b-dec11e3c2b57",
        "colab": {
          "base_uri": "https://localhost:8080/",
          "height": 204
        }
      },
      "source": [
        "df1.head()"
      ],
      "execution_count": 174,
      "outputs": [
        {
          "output_type": "execute_result",
          "data": {
            "text/html": [
              "<div>\n",
              "<style scoped>\n",
              "    .dataframe tbody tr th:only-of-type {\n",
              "        vertical-align: middle;\n",
              "    }\n",
              "\n",
              "    .dataframe tbody tr th {\n",
              "        vertical-align: top;\n",
              "    }\n",
              "\n",
              "    .dataframe thead th {\n",
              "        text-align: right;\n",
              "    }\n",
              "</style>\n",
              "<table border=\"1\" class=\"dataframe\">\n",
              "  <thead>\n",
              "    <tr style=\"text-align: right;\">\n",
              "      <th></th>\n",
              "      <th>User ID</th>\n",
              "      <th>Product ID</th>\n",
              "      <th>Ratings</th>\n",
              "    </tr>\n",
              "  </thead>\n",
              "  <tbody>\n",
              "    <tr>\n",
              "      <th>0</th>\n",
              "      <td>AKM1MP6P0OYPR</td>\n",
              "      <td>0132793040</td>\n",
              "      <td>5.0</td>\n",
              "    </tr>\n",
              "    <tr>\n",
              "      <th>1</th>\n",
              "      <td>A2CX7LUOHB2NDG</td>\n",
              "      <td>0321732944</td>\n",
              "      <td>5.0</td>\n",
              "    </tr>\n",
              "    <tr>\n",
              "      <th>2</th>\n",
              "      <td>A2NWSAGRHCP8N5</td>\n",
              "      <td>0439886341</td>\n",
              "      <td>1.0</td>\n",
              "    </tr>\n",
              "    <tr>\n",
              "      <th>3</th>\n",
              "      <td>A2WNBOD3WNDNKT</td>\n",
              "      <td>0439886341</td>\n",
              "      <td>3.0</td>\n",
              "    </tr>\n",
              "    <tr>\n",
              "      <th>4</th>\n",
              "      <td>A1GI0U4ZRJA8WN</td>\n",
              "      <td>0439886341</td>\n",
              "      <td>1.0</td>\n",
              "    </tr>\n",
              "  </tbody>\n",
              "</table>\n",
              "</div>"
            ],
            "text/plain": [
              "          User ID  Product ID  Ratings\n",
              "0   AKM1MP6P0OYPR  0132793040      5.0\n",
              "1  A2CX7LUOHB2NDG  0321732944      5.0\n",
              "2  A2NWSAGRHCP8N5  0439886341      1.0\n",
              "3  A2WNBOD3WNDNKT  0439886341      3.0\n",
              "4  A1GI0U4ZRJA8WN  0439886341      1.0"
            ]
          },
          "metadata": {
            "tags": []
          },
          "execution_count": 174
        }
      ]
    },
    {
      "cell_type": "markdown",
      "metadata": {
        "id": "iU073C5zkXJp",
        "colab_type": "text"
      },
      "source": [
        "Exploratory data analysis"
      ]
    },
    {
      "cell_type": "markdown",
      "metadata": {
        "id": "Q6cfI9fjki8q",
        "colab_type": "text"
      },
      "source": [
        "Missing Values checking:"
      ]
    },
    {
      "cell_type": "code",
      "metadata": {
        "id": "R56rWWsZFKIU",
        "colab_type": "code",
        "colab": {}
      },
      "source": [
        "missing = df1.isnull().sum().sort_values(ascending=False)"
      ],
      "execution_count": 0,
      "outputs": []
    },
    {
      "cell_type": "code",
      "metadata": {
        "id": "YXjzDGyTFlSX",
        "colab_type": "code",
        "outputId": "42710be7-8d37-4100-e3bc-88dc646dc8e3",
        "colab": {
          "base_uri": "https://localhost:8080/",
          "height": 85
        }
      },
      "source": [
        "print(missing)"
      ],
      "execution_count": 176,
      "outputs": [
        {
          "output_type": "stream",
          "text": [
            "Ratings       0\n",
            "Product ID    0\n",
            "User ID       0\n",
            "dtype: int64\n"
          ],
          "name": "stdout"
        }
      ]
    },
    {
      "cell_type": "markdown",
      "metadata": {
        "id": "AurAPregFzxl",
        "colab_type": "text"
      },
      "source": [
        "Ther is no missing values"
      ]
    },
    {
      "cell_type": "markdown",
      "metadata": {
        "id": "dmDcSh5mkpCf",
        "colab_type": "text"
      },
      "source": [
        "Unique User ID count prediction"
      ]
    },
    {
      "cell_type": "code",
      "metadata": {
        "id": "AQxXvfe6Hkqs",
        "colab_type": "code",
        "colab": {}
      },
      "source": [
        "user_id_count=df1['User ID'].value_counts()"
      ],
      "execution_count": 0,
      "outputs": []
    },
    {
      "cell_type": "code",
      "metadata": {
        "id": "XEeU9x1_Hu0v",
        "colab_type": "code",
        "outputId": "54cad153-ecc0-4842-a03c-09cc28da75e2",
        "colab": {
          "base_uri": "https://localhost:8080/",
          "height": 221
        }
      },
      "source": [
        "print(user_id_count)"
      ],
      "execution_count": 178,
      "outputs": [
        {
          "output_type": "stream",
          "text": [
            "A5JLAU2ARJ0BO     520\n",
            "ADLVFFE4VBT8      501\n",
            "A3OXHLG6DIBRW8    498\n",
            "A6FIAB28IS79      431\n",
            "A680RUE1FDO8B     406\n",
            "                 ... \n",
            "A1IMNY899K4OVT      1\n",
            "A2Q9ZMV77S7R3B      1\n",
            "A1YY0AFBR76STU      1\n",
            "A36KAXWCTT5ISV      1\n",
            "APOYZ7AX2MI4G       1\n",
            "Name: User ID, Length: 4201696, dtype: int64\n"
          ],
          "name": "stdout"
        }
      ]
    },
    {
      "cell_type": "markdown",
      "metadata": {
        "id": "R5_Mh94sJSjv",
        "colab_type": "text"
      },
      "source": [
        "We infer that there are 4201696 users participated in this *ratings*"
      ]
    },
    {
      "cell_type": "markdown",
      "metadata": {
        "id": "8GXhte8uk3wb",
        "colab_type": "text"
      },
      "source": [
        "Unique Product ID count prediction:"
      ]
    },
    {
      "cell_type": "code",
      "metadata": {
        "id": "7mBr9Hs1H86A",
        "colab_type": "code",
        "colab": {}
      },
      "source": [
        "product_id_count=df1['Product ID'].value_counts()"
      ],
      "execution_count": 0,
      "outputs": []
    },
    {
      "cell_type": "code",
      "metadata": {
        "id": "JSkIbzAUI4Mi",
        "colab_type": "code",
        "outputId": "e8ec411c-519d-4bbf-dbc6-53233ac21624",
        "colab": {
          "base_uri": "https://localhost:8080/",
          "height": 221
        }
      },
      "source": [
        "print(product_id_count)"
      ],
      "execution_count": 180,
      "outputs": [
        {
          "output_type": "stream",
          "text": [
            "B0074BW614    18244\n",
            "B00DR0PDNE    16454\n",
            "B007WTAJTO    14172\n",
            "B0019EHU8G    12285\n",
            "B006GWO5WK    12226\n",
            "              ...  \n",
            "B00EOMYCYU        1\n",
            "B0030CVA7M        1\n",
            "B007B79U3S        1\n",
            "B00JAUWHN4        1\n",
            "B002QOLB6A        1\n",
            "Name: Product ID, Length: 476002, dtype: int64\n"
          ],
          "name": "stdout"
        }
      ]
    },
    {
      "cell_type": "markdown",
      "metadata": {
        "id": "DZQai486Jhlr",
        "colab_type": "text"
      },
      "source": [
        "We infer that there are 476002 products has been rated in this dataset."
      ]
    },
    {
      "cell_type": "markdown",
      "metadata": {
        "id": "5W0ju6tPlAtd",
        "colab_type": "text"
      },
      "source": [
        "Type of data prediction:"
      ]
    },
    {
      "cell_type": "code",
      "metadata": {
        "id": "RRrSJymtNPYc",
        "colab_type": "code",
        "outputId": "0c3e72e2-9840-44b9-a26c-d1e6ae29dac6",
        "colab": {
          "base_uri": "https://localhost:8080/",
          "height": 153
        }
      },
      "source": [
        "df1.info()"
      ],
      "execution_count": 181,
      "outputs": [
        {
          "output_type": "stream",
          "text": [
            "<class 'pandas.core.frame.DataFrame'>\n",
            "RangeIndex: 7824482 entries, 0 to 7824481\n",
            "Data columns (total 3 columns):\n",
            "User ID       object\n",
            "Product ID    object\n",
            "Ratings       float64\n",
            "dtypes: float64(1), object(2)\n",
            "memory usage: 179.1+ MB\n"
          ],
          "name": "stdout"
        }
      ]
    },
    {
      "cell_type": "markdown",
      "metadata": {
        "id": "8bzJxe2MlFrt",
        "colab_type": "text"
      },
      "source": [
        "We inferred that Ratings only folat and remaing two columns(User ID and Producted ID) treated as object."
      ]
    },
    {
      "cell_type": "markdown",
      "metadata": {
        "id": "JP_4UMgYlayn",
        "colab_type": "text"
      },
      "source": [
        "Histogram plot between Raings against Number of users:"
      ]
    },
    {
      "cell_type": "code",
      "metadata": {
        "id": "TpDDqlepRDYG",
        "colab_type": "code",
        "outputId": "111c68c5-d25f-4ffd-e3e0-c1cf87ab908b",
        "colab": {
          "base_uri": "https://localhost:8080/",
          "height": 296
        }
      },
      "source": [
        "import seaborn as sns\n",
        "sns.countplot(data=df1,x='Ratings')"
      ],
      "execution_count": 182,
      "outputs": [
        {
          "output_type": "execute_result",
          "data": {
            "text/plain": [
              "<matplotlib.axes._subplots.AxesSubplot at 0x7fe00c8603c8>"
            ]
          },
          "metadata": {
            "tags": []
          },
          "execution_count": 182
        },
        {
          "output_type": "display_data",
          "data": {
            "image/png": "[encoded data removed]",
            "text/plain": [
              "<Figure size 432x288 with 1 Axes>"
            ]
          },
          "metadata": {
            "tags": []
          }
        }
      ]
    },
    {
      "cell_type": "markdown",
      "metadata": {
        "id": "GaMleCiolkpC",
        "colab_type": "text"
      },
      "source": [
        "We inferred that more users rated as rating 5 than remaing ratings. The rating 2 has been rated by less number of userse. The raing 4 is farely good."
      ]
    },
    {
      "cell_type": "markdown",
      "metadata": {
        "id": "W73rmLanccR1",
        "colab_type": "text"
      },
      "source": [
        "2. Take a subset of the dataset to make it less sparse/ denser. ( For example, keep the\n",
        "users only who has given 50 or more number of ratings )"
      ]
    },
    {
      "cell_type": "markdown",
      "metadata": {
        "id": "HJA9Q7ZMnD8v",
        "colab_type": "text"
      },
      "source": [
        "Short the date for more than 50 Reviwers."
      ]
    },
    {
      "cell_type": "code",
      "metadata": {
        "id": "jZLj9iScTERw",
        "colab_type": "code",
        "colab": {}
      },
      "source": [
        "user_index_50 = user_id_count[user_id_count >= 50].index"
      ],
      "execution_count": 0,
      "outputs": []
    },
    {
      "cell_type": "code",
      "metadata": {
        "id": "cgDrBFytXWX8",
        "colab_type": "code",
        "colab": {}
      },
      "source": [
        "df2 = df1[df1['User ID'].isin(user_index_50)==True]"
      ],
      "execution_count": 0,
      "outputs": []
    },
    {
      "cell_type": "code",
      "metadata": {
        "id": "BGYeLb_vX7qr",
        "colab_type": "code",
        "outputId": "9eeb029e-7313-4b18-87dd-38aefa1c837a",
        "colab": {
          "base_uri": "https://localhost:8080/",
          "height": 204
        }
      },
      "source": [
        "df2.head()"
      ],
      "execution_count": 185,
      "outputs": [
        {
          "output_type": "execute_result",
          "data": {
            "text/html": [
              "<div>\n",
              "<style scoped>\n",
              "    .dataframe tbody tr th:only-of-type {\n",
              "        vertical-align: middle;\n",
              "    }\n",
              "\n",
              "    .dataframe tbody tr th {\n",
              "        vertical-align: top;\n",
              "    }\n",
              "\n",
              "    .dataframe thead th {\n",
              "        text-align: right;\n",
              "    }\n",
              "</style>\n",
              "<table border=\"1\" class=\"dataframe\">\n",
              "  <thead>\n",
              "    <tr style=\"text-align: right;\">\n",
              "      <th></th>\n",
              "      <th>User ID</th>\n",
              "      <th>Product ID</th>\n",
              "      <th>Ratings</th>\n",
              "    </tr>\n",
              "  </thead>\n",
              "  <tbody>\n",
              "    <tr>\n",
              "      <th>94</th>\n",
              "      <td>A3BY5KCNQZXV5U</td>\n",
              "      <td>0594451647</td>\n",
              "      <td>5.0</td>\n",
              "    </tr>\n",
              "    <tr>\n",
              "      <th>118</th>\n",
              "      <td>AT09WGFUM934H</td>\n",
              "      <td>0594481813</td>\n",
              "      <td>3.0</td>\n",
              "    </tr>\n",
              "    <tr>\n",
              "      <th>177</th>\n",
              "      <td>A32HSNCNPRUMTR</td>\n",
              "      <td>0970407998</td>\n",
              "      <td>1.0</td>\n",
              "    </tr>\n",
              "    <tr>\n",
              "      <th>178</th>\n",
              "      <td>A17HMM1M7T9PJ1</td>\n",
              "      <td>0970407998</td>\n",
              "      <td>4.0</td>\n",
              "    </tr>\n",
              "    <tr>\n",
              "      <th>492</th>\n",
              "      <td>A3CLWR1UUZT6TG</td>\n",
              "      <td>0972683275</td>\n",
              "      <td>5.0</td>\n",
              "    </tr>\n",
              "  </tbody>\n",
              "</table>\n",
              "</div>"
            ],
            "text/plain": [
              "            User ID  Product ID  Ratings\n",
              "94   A3BY5KCNQZXV5U  0594451647      5.0\n",
              "118   AT09WGFUM934H  0594481813      3.0\n",
              "177  A32HSNCNPRUMTR  0970407998      1.0\n",
              "178  A17HMM1M7T9PJ1  0970407998      4.0\n",
              "492  A3CLWR1UUZT6TG  0972683275      5.0"
            ]
          },
          "metadata": {
            "tags": []
          },
          "execution_count": 185
        }
      ]
    },
    {
      "cell_type": "code",
      "metadata": {
        "id": "txAqc2gyYOfm",
        "colab_type": "code",
        "colab": {}
      },
      "source": [
        "user_id_count1=df2['User ID'].value_counts()"
      ],
      "execution_count": 0,
      "outputs": []
    },
    {
      "cell_type": "code",
      "metadata": {
        "id": "Vd6UHCnVYYwp",
        "colab_type": "code",
        "outputId": "6a8bd6e7-19ea-483e-f34a-59a927569041",
        "colab": {
          "base_uri": "https://localhost:8080/",
          "height": 221
        }
      },
      "source": [
        "user_id_count1"
      ],
      "execution_count": 188,
      "outputs": [
        {
          "output_type": "execute_result",
          "data": {
            "text/plain": [
              "A5JLAU2ARJ0BO     520\n",
              "ADLVFFE4VBT8      501\n",
              "A3OXHLG6DIBRW8    498\n",
              "A6FIAB28IS79      431\n",
              "A680RUE1FDO8B     406\n",
              "                 ... \n",
              "A3EHJ5519LG7TR     50\n",
              "AA8RBTN3J2F5H      50\n",
              "A2QAOP52OEB5EV     50\n",
              "A21S26XYPGXJZX     50\n",
              "A3HH340REI4J47     50\n",
              "Name: User ID, Length: 1540, dtype: int64"
            ]
          },
          "metadata": {
            "tags": []
          },
          "execution_count": 188
        }
      ]
    },
    {
      "cell_type": "markdown",
      "metadata": {
        "id": "_jfPaMQjYqH2",
        "colab_type": "text"
      },
      "source": [
        "There are 1540 users only rated 50 or above 50 products."
      ]
    },
    {
      "cell_type": "markdown",
      "metadata": {
        "id": "3KTPiwIknAvb",
        "colab_type": "text"
      },
      "source": [
        "Short the data from df2 for the product which has more than 50 reviews."
      ]
    },
    {
      "cell_type": "code",
      "metadata": {
        "colab_type": "code",
        "id": "Df3oFztK1B1R",
        "colab": {}
      },
      "source": [
        "product_index_50 = product_id_count[product_id_count >= 50].index"
      ],
      "execution_count": 0,
      "outputs": []
    },
    {
      "cell_type": "code",
      "metadata": {
        "colab_type": "code",
        "id": "s1foGqO81B1k",
        "colab": {}
      },
      "source": [
        "df3 = df2[df2['Product ID'].isin(product_index_50)==True]"
      ],
      "execution_count": 0,
      "outputs": []
    },
    {
      "cell_type": "code",
      "metadata": {
        "id": "g9WA3gXB2fNw",
        "colab_type": "code",
        "colab": {
          "base_uri": "https://localhost:8080/",
          "height": 34
        },
        "outputId": "b9ba9878-6cd3-4ee0-ae44-024e3d2127d5"
      },
      "source": [
        "df3.shape"
      ],
      "execution_count": 191,
      "outputs": [
        {
          "output_type": "execute_result",
          "data": {
            "text/plain": [
              "(79182, 3)"
            ]
          },
          "metadata": {
            "tags": []
          },
          "execution_count": 191
        }
      ]
    },
    {
      "cell_type": "code",
      "metadata": {
        "id": "ZiFMIEXGmccr",
        "colab_type": "code",
        "colab": {
          "base_uri": "https://localhost:8080/",
          "height": 204
        },
        "outputId": "f8bbf684-453c-435a-b75f-14cd2461c2cd"
      },
      "source": [
        "df3.head()"
      ],
      "execution_count": 291,
      "outputs": [
        {
          "output_type": "execute_result",
          "data": {
            "text/html": [
              "<div>\n",
              "<style scoped>\n",
              "    .dataframe tbody tr th:only-of-type {\n",
              "        vertical-align: middle;\n",
              "    }\n",
              "\n",
              "    .dataframe tbody tr th {\n",
              "        vertical-align: top;\n",
              "    }\n",
              "\n",
              "    .dataframe thead th {\n",
              "        text-align: right;\n",
              "    }\n",
              "</style>\n",
              "<table border=\"1\" class=\"dataframe\">\n",
              "  <thead>\n",
              "    <tr style=\"text-align: right;\">\n",
              "      <th></th>\n",
              "      <th>User ID</th>\n",
              "      <th>Product ID</th>\n",
              "      <th>Ratings</th>\n",
              "    </tr>\n",
              "  </thead>\n",
              "  <tbody>\n",
              "    <tr>\n",
              "      <th>4</th>\n",
              "      <td>A3CLWR1UUZT6TG</td>\n",
              "      <td>0972683275</td>\n",
              "      <td>5.0</td>\n",
              "    </tr>\n",
              "    <tr>\n",
              "      <th>5</th>\n",
              "      <td>A3TAS1AG6FMBQW</td>\n",
              "      <td>0972683275</td>\n",
              "      <td>5.0</td>\n",
              "    </tr>\n",
              "    <tr>\n",
              "      <th>6</th>\n",
              "      <td>A2Y4H3PXB07WQI</td>\n",
              "      <td>0972683275</td>\n",
              "      <td>4.0</td>\n",
              "    </tr>\n",
              "    <tr>\n",
              "      <th>7</th>\n",
              "      <td>A25RTRAPQAJBDJ</td>\n",
              "      <td>0972683275</td>\n",
              "      <td>5.0</td>\n",
              "    </tr>\n",
              "    <tr>\n",
              "      <th>8</th>\n",
              "      <td>A3LDPF5FMB782Z</td>\n",
              "      <td>1400501466</td>\n",
              "      <td>5.0</td>\n",
              "    </tr>\n",
              "  </tbody>\n",
              "</table>\n",
              "</div>"
            ],
            "text/plain": [
              "          User ID  Product ID  Ratings\n",
              "4  A3CLWR1UUZT6TG  0972683275      5.0\n",
              "5  A3TAS1AG6FMBQW  0972683275      5.0\n",
              "6  A2Y4H3PXB07WQI  0972683275      4.0\n",
              "7  A25RTRAPQAJBDJ  0972683275      5.0\n",
              "8  A3LDPF5FMB782Z  1400501466      5.0"
            ]
          },
          "metadata": {
            "tags": []
          },
          "execution_count": 291
        }
      ]
    },
    {
      "cell_type": "code",
      "metadata": {
        "id": "o3iuNrLDm1OG",
        "colab_type": "code",
        "colab": {
          "base_uri": "https://localhost:8080/",
          "height": 204
        },
        "outputId": "60e795d6-cb7c-49c2-e502-22800cbcbec7"
      },
      "source": [
        "df3.reset_index(inplace = True, drop = True)\n",
        "df3.head()"
      ],
      "execution_count": 292,
      "outputs": [
        {
          "output_type": "execute_result",
          "data": {
            "text/html": [
              "<div>\n",
              "<style scoped>\n",
              "    .dataframe tbody tr th:only-of-type {\n",
              "        vertical-align: middle;\n",
              "    }\n",
              "\n",
              "    .dataframe tbody tr th {\n",
              "        vertical-align: top;\n",
              "    }\n",
              "\n",
              "    .dataframe thead th {\n",
              "        text-align: right;\n",
              "    }\n",
              "</style>\n",
              "<table border=\"1\" class=\"dataframe\">\n",
              "  <thead>\n",
              "    <tr style=\"text-align: right;\">\n",
              "      <th></th>\n",
              "      <th>User ID</th>\n",
              "      <th>Product ID</th>\n",
              "      <th>Ratings</th>\n",
              "    </tr>\n",
              "  </thead>\n",
              "  <tbody>\n",
              "    <tr>\n",
              "      <th>0</th>\n",
              "      <td>A3CLWR1UUZT6TG</td>\n",
              "      <td>0972683275</td>\n",
              "      <td>5.0</td>\n",
              "    </tr>\n",
              "    <tr>\n",
              "      <th>1</th>\n",
              "      <td>A3TAS1AG6FMBQW</td>\n",
              "      <td>0972683275</td>\n",
              "      <td>5.0</td>\n",
              "    </tr>\n",
              "    <tr>\n",
              "      <th>2</th>\n",
              "      <td>A2Y4H3PXB07WQI</td>\n",
              "      <td>0972683275</td>\n",
              "      <td>4.0</td>\n",
              "    </tr>\n",
              "    <tr>\n",
              "      <th>3</th>\n",
              "      <td>A25RTRAPQAJBDJ</td>\n",
              "      <td>0972683275</td>\n",
              "      <td>5.0</td>\n",
              "    </tr>\n",
              "    <tr>\n",
              "      <th>4</th>\n",
              "      <td>A3LDPF5FMB782Z</td>\n",
              "      <td>1400501466</td>\n",
              "      <td>5.0</td>\n",
              "    </tr>\n",
              "  </tbody>\n",
              "</table>\n",
              "</div>"
            ],
            "text/plain": [
              "          User ID  Product ID  Ratings\n",
              "0  A3CLWR1UUZT6TG  0972683275      5.0\n",
              "1  A3TAS1AG6FMBQW  0972683275      5.0\n",
              "2  A2Y4H3PXB07WQI  0972683275      4.0\n",
              "3  A25RTRAPQAJBDJ  0972683275      5.0\n",
              "4  A3LDPF5FMB782Z  1400501466      5.0"
            ]
          },
          "metadata": {
            "tags": []
          },
          "execution_count": 292
        }
      ]
    },
    {
      "cell_type": "code",
      "metadata": {
        "id": "K8nrHU0InmzQ",
        "colab_type": "code",
        "colab": {
          "base_uri": "https://localhost:8080/",
          "height": 34
        },
        "outputId": "e57f3710-e785-4658-9833-a7f3d444b518"
      },
      "source": [
        "df3.shape"
      ],
      "execution_count": 293,
      "outputs": [
        {
          "output_type": "execute_result",
          "data": {
            "text/plain": [
              "(79182, 3)"
            ]
          },
          "metadata": {
            "tags": []
          },
          "execution_count": 293
        }
      ]
    },
    {
      "cell_type": "markdown",
      "metadata": {
        "id": "KdoPGWdynq_A",
        "colab_type": "text"
      },
      "source": [
        "In the aspect of reducing the dataframe, finally we got 79182 records. In this data frame, the useres who are all reviewd atleat 50 products. And the Products has been got atleat 50 reviews. Now our data set is pretty small and easy to handle."
      ]
    },
    {
      "cell_type": "markdown",
      "metadata": {
        "id": "J9fZMuDtcB76",
        "colab_type": "text"
      },
      "source": [
        "3. Split the data randomly into train and test dataset. ( For example, split it in 70/30 ratio)"
      ]
    },
    {
      "cell_type": "code",
      "metadata": {
        "id": "kI2XycT2eZ4R",
        "colab_type": "code",
        "colab": {}
      },
      "source": [
        "from sklearn.model_selection import train_test_split\n",
        "trainset_pop, testset_pop = train_test_split(df3, test_size=.30,random_state=123)"
      ],
      "execution_count": 0,
      "outputs": []
    },
    {
      "cell_type": "code",
      "metadata": {
        "id": "OYdSEmMjnp1a",
        "colab_type": "code",
        "outputId": "e707fcba-5386-4617-8b0b-841da6c6e167",
        "colab": {
          "base_uri": "https://localhost:8080/",
          "height": 34
        }
      },
      "source": [
        "trainset_pop.shape"
      ],
      "execution_count": 193,
      "outputs": [
        {
          "output_type": "execute_result",
          "data": {
            "text/plain": [
              "(55427, 3)"
            ]
          },
          "metadata": {
            "tags": []
          },
          "execution_count": 193
        }
      ]
    },
    {
      "cell_type": "code",
      "metadata": {
        "id": "_Mvwt8_Ln-kl",
        "colab_type": "code",
        "outputId": "b6f2f226-62e9-4ced-9eaf-393138f45363",
        "colab": {
          "base_uri": "https://localhost:8080/",
          "height": 34
        }
      },
      "source": [
        "testset_pop.shape"
      ],
      "execution_count": 194,
      "outputs": [
        {
          "output_type": "execute_result",
          "data": {
            "text/plain": [
              "(23755, 3)"
            ]
          },
          "metadata": {
            "tags": []
          },
          "execution_count": 194
        }
      ]
    },
    {
      "cell_type": "code",
      "metadata": {
        "id": "X8SLGfN9eMOB",
        "colab_type": "code",
        "colab": {
          "base_uri": "https://localhost:8080/",
          "height": 296
        },
        "outputId": "e77c7550-3cbd-472c-8f95-bf81e199e3bd"
      },
      "source": [
        "import seaborn as sns\n",
        "sns.countplot(data=testset_pop,x='Ratings')"
      ],
      "execution_count": 284,
      "outputs": [
        {
          "output_type": "execute_result",
          "data": {
            "text/plain": [
              "<matplotlib.axes._subplots.AxesSubplot at 0x7fdfecf14dd8>"
            ]
          },
          "metadata": {
            "tags": []
          },
          "execution_count": 284
        },
        {
          "output_type": "display_data",
          "data": {
            "image/png": "[encoded data removed]",
            "text/plain": [
              "<Figure size 432x288 with 1 Axes>"
            ]
          },
          "metadata": {
            "tags": []
          }
        }
      ]
    },
    {
      "cell_type": "markdown",
      "metadata": {
        "id": "XKORY2xToTvd",
        "colab_type": "text"
      },
      "source": [
        "After Train and Test splitup our final redueds data frame named as trainset_pop. This data frame has aproximately 55.45 K records. This reduction prety more help to run the data without memory error. But this approac is not good to practice. It is followed just to avoid memory kind of error. In the real time project we would use entire data set to get better accuracy."
      ]
    },
    {
      "cell_type": "markdown",
      "metadata": {
        "id": "TJtXdE2Dco7s",
        "colab_type": "text"
      },
      "source": [
        "4. Build Popularity Recommendation model."
      ]
    },
    {
      "cell_type": "code",
      "metadata": {
        "id": "m81y4MyJYrSF",
        "colab_type": "code",
        "outputId": "fbdda1af-c209-47e7-f19b-bee24cbb5e2d",
        "colab": {
          "base_uri": "https://localhost:8080/",
          "height": 136
        }
      },
      "source": [
        "trainset_pop.groupby('Product ID')['Ratings'].mean().sort_values(ascending=False).head()  "
      ],
      "execution_count": 195,
      "outputs": [
        {
          "output_type": "execute_result",
          "data": {
            "text/plain": [
              "Product ID\n",
              "B00L3YHF6O    5.0\n",
              "B003GAAQXM    5.0\n",
              "B003B41XYO    5.0\n",
              "B003B48UNG    5.0\n",
              "B003B4BBFK    5.0\n",
              "Name: Ratings, dtype: float64"
            ]
          },
          "metadata": {
            "tags": []
          },
          "execution_count": 195
        }
      ]
    },
    {
      "cell_type": "code",
      "metadata": {
        "id": "YNbVThhhZrjz",
        "colab_type": "code",
        "outputId": "13c1645b-ebbb-4da8-95d3-d5a261058123",
        "colab": {
          "base_uri": "https://localhost:8080/",
          "height": 136
        }
      },
      "source": [
        "trainset_pop.groupby('Product ID')['Ratings'].count().sort_values(ascending=False).head()  "
      ],
      "execution_count": 196,
      "outputs": [
        {
          "output_type": "execute_result",
          "data": {
            "text/plain": [
              "Product ID\n",
              "B0088CJT4U    145\n",
              "B003ES5ZUU    126\n",
              "B000N99BBC    121\n",
              "B007WTAJTO    111\n",
              "B00829TIEK    108\n",
              "Name: Ratings, dtype: int64"
            ]
          },
          "metadata": {
            "tags": []
          },
          "execution_count": 196
        }
      ]
    },
    {
      "cell_type": "code",
      "metadata": {
        "id": "zyGbOCyQZ9Kg",
        "colab_type": "code",
        "colab": {}
      },
      "source": [
        "ratings_mean_count = pd.DataFrame(trainset_pop.groupby('Product ID')['Ratings'].mean())"
      ],
      "execution_count": 0,
      "outputs": []
    },
    {
      "cell_type": "code",
      "metadata": {
        "id": "UClgI3DDagB5",
        "colab_type": "code",
        "colab": {}
      },
      "source": [
        "ratings_mean_count['Rating Counts'] = pd.DataFrame(trainset_pop.groupby('Product ID')['Ratings'].count())"
      ],
      "execution_count": 0,
      "outputs": []
    },
    {
      "cell_type": "code",
      "metadata": {
        "id": "J3lG7mrPayfa",
        "colab_type": "code",
        "outputId": "f27e6b85-9752-4aad-e3f6-bb4987252d7a",
        "colab": {
          "base_uri": "https://localhost:8080/",
          "height": 235
        }
      },
      "source": [
        "ratings_mean_count.head()"
      ],
      "execution_count": 199,
      "outputs": [
        {
          "output_type": "execute_result",
          "data": {
            "text/html": [
              "<div>\n",
              "<style scoped>\n",
              "    .dataframe tbody tr th:only-of-type {\n",
              "        vertical-align: middle;\n",
              "    }\n",
              "\n",
              "    .dataframe tbody tr th {\n",
              "        vertical-align: top;\n",
              "    }\n",
              "\n",
              "    .dataframe thead th {\n",
              "        text-align: right;\n",
              "    }\n",
              "</style>\n",
              "<table border=\"1\" class=\"dataframe\">\n",
              "  <thead>\n",
              "    <tr style=\"text-align: right;\">\n",
              "      <th></th>\n",
              "      <th>Ratings</th>\n",
              "      <th>Rating Counts</th>\n",
              "    </tr>\n",
              "    <tr>\n",
              "      <th>Product ID</th>\n",
              "      <th></th>\n",
              "      <th></th>\n",
              "    </tr>\n",
              "  </thead>\n",
              "  <tbody>\n",
              "    <tr>\n",
              "      <th>0972683275</th>\n",
              "      <td>5.0</td>\n",
              "      <td>2</td>\n",
              "    </tr>\n",
              "    <tr>\n",
              "      <th>1400501466</th>\n",
              "      <td>3.0</td>\n",
              "      <td>3</td>\n",
              "    </tr>\n",
              "    <tr>\n",
              "      <th>1400501520</th>\n",
              "      <td>5.0</td>\n",
              "      <td>1</td>\n",
              "    </tr>\n",
              "    <tr>\n",
              "      <th>1400501776</th>\n",
              "      <td>5.0</td>\n",
              "      <td>1</td>\n",
              "    </tr>\n",
              "    <tr>\n",
              "      <th>1400532620</th>\n",
              "      <td>5.0</td>\n",
              "      <td>1</td>\n",
              "    </tr>\n",
              "  </tbody>\n",
              "</table>\n",
              "</div>"
            ],
            "text/plain": [
              "            Ratings  Rating Counts\n",
              "Product ID                        \n",
              "0972683275      5.0              2\n",
              "1400501466      3.0              3\n",
              "1400501520      5.0              1\n",
              "1400501776      5.0              1\n",
              "1400532620      5.0              1"
            ]
          },
          "metadata": {
            "tags": []
          },
          "execution_count": 199
        }
      ]
    },
    {
      "cell_type": "code",
      "metadata": {
        "id": "eTlOWHWRa36_",
        "colab_type": "code",
        "colab": {}
      },
      "source": [
        "ratings_mean_count['Rating weighted Average'] = ratings_mean_count['Ratings'] * ratings_mean_count['Rating Counts']"
      ],
      "execution_count": 0,
      "outputs": []
    },
    {
      "cell_type": "code",
      "metadata": {
        "id": "xxKlPdEQbPJW",
        "colab_type": "code",
        "outputId": "e9efa069-1ea3-44eb-eacf-1936c747cee7",
        "colab": {
          "base_uri": "https://localhost:8080/",
          "height": 235
        }
      },
      "source": [
        "ratings_mean_count.head()"
      ],
      "execution_count": 201,
      "outputs": [
        {
          "output_type": "execute_result",
          "data": {
            "text/html": [
              "<div>\n",
              "<style scoped>\n",
              "    .dataframe tbody tr th:only-of-type {\n",
              "        vertical-align: middle;\n",
              "    }\n",
              "\n",
              "    .dataframe tbody tr th {\n",
              "        vertical-align: top;\n",
              "    }\n",
              "\n",
              "    .dataframe thead th {\n",
              "        text-align: right;\n",
              "    }\n",
              "</style>\n",
              "<table border=\"1\" class=\"dataframe\">\n",
              "  <thead>\n",
              "    <tr style=\"text-align: right;\">\n",
              "      <th></th>\n",
              "      <th>Ratings</th>\n",
              "      <th>Rating Counts</th>\n",
              "      <th>Rating weighted Average</th>\n",
              "    </tr>\n",
              "    <tr>\n",
              "      <th>Product ID</th>\n",
              "      <th></th>\n",
              "      <th></th>\n",
              "      <th></th>\n",
              "    </tr>\n",
              "  </thead>\n",
              "  <tbody>\n",
              "    <tr>\n",
              "      <th>0972683275</th>\n",
              "      <td>5.0</td>\n",
              "      <td>2</td>\n",
              "      <td>10.0</td>\n",
              "    </tr>\n",
              "    <tr>\n",
              "      <th>1400501466</th>\n",
              "      <td>3.0</td>\n",
              "      <td>3</td>\n",
              "      <td>9.0</td>\n",
              "    </tr>\n",
              "    <tr>\n",
              "      <th>1400501520</th>\n",
              "      <td>5.0</td>\n",
              "      <td>1</td>\n",
              "      <td>5.0</td>\n",
              "    </tr>\n",
              "    <tr>\n",
              "      <th>1400501776</th>\n",
              "      <td>5.0</td>\n",
              "      <td>1</td>\n",
              "      <td>5.0</td>\n",
              "    </tr>\n",
              "    <tr>\n",
              "      <th>1400532620</th>\n",
              "      <td>5.0</td>\n",
              "      <td>1</td>\n",
              "      <td>5.0</td>\n",
              "    </tr>\n",
              "  </tbody>\n",
              "</table>\n",
              "</div>"
            ],
            "text/plain": [
              "            Ratings  Rating Counts  Rating weighted Average\n",
              "Product ID                                                 \n",
              "0972683275      5.0              2                     10.0\n",
              "1400501466      3.0              3                      9.0\n",
              "1400501520      5.0              1                      5.0\n",
              "1400501776      5.0              1                      5.0\n",
              "1400532620      5.0              1                      5.0"
            ]
          },
          "metadata": {
            "tags": []
          },
          "execution_count": 201
        }
      ]
    },
    {
      "cell_type": "code",
      "metadata": {
        "id": "TOnhF2EupEBm",
        "colab_type": "code",
        "outputId": "a76a17d0-8758-4aae-d477-62e721c9befd",
        "colab": {
          "base_uri": "https://localhost:8080/",
          "height": 136
        }
      },
      "source": [
        "ratings_mean_count['Rating weighted Average'].sort_values(ascending=False).head()  "
      ],
      "execution_count": 202,
      "outputs": [
        {
          "output_type": "execute_result",
          "data": {
            "text/plain": [
              "Product ID\n",
              "B003ES5ZUU    623.0\n",
              "B0088CJT4U    605.0\n",
              "B000N99BBC    579.0\n",
              "B007WTAJTO    514.0\n",
              "B00829TIEK    482.0\n",
              "Name: Rating weighted Average, dtype: float64"
            ]
          },
          "metadata": {
            "tags": []
          },
          "execution_count": 202
        }
      ]
    },
    {
      "cell_type": "code",
      "metadata": {
        "id": "cZxm65M-piiP",
        "colab_type": "code",
        "outputId": "5d7c73a4-69bf-4e0a-cc95-5f7e57937460",
        "colab": {
          "base_uri": "https://localhost:8080/",
          "height": 390
        }
      },
      "source": [
        "ratings_mean_count.sort_values([\"Rating weighted Average\"], axis=0, ascending=False).head(10)"
      ],
      "execution_count": 203,
      "outputs": [
        {
          "output_type": "execute_result",
          "data": {
            "text/html": [
              "<div>\n",
              "<style scoped>\n",
              "    .dataframe tbody tr th:only-of-type {\n",
              "        vertical-align: middle;\n",
              "    }\n",
              "\n",
              "    .dataframe tbody tr th {\n",
              "        vertical-align: top;\n",
              "    }\n",
              "\n",
              "    .dataframe thead th {\n",
              "        text-align: right;\n",
              "    }\n",
              "</style>\n",
              "<table border=\"1\" class=\"dataframe\">\n",
              "  <thead>\n",
              "    <tr style=\"text-align: right;\">\n",
              "      <th></th>\n",
              "      <th>Ratings</th>\n",
              "      <th>Rating Counts</th>\n",
              "      <th>Rating weighted Average</th>\n",
              "    </tr>\n",
              "    <tr>\n",
              "      <th>Product ID</th>\n",
              "      <th></th>\n",
              "      <th></th>\n",
              "      <th></th>\n",
              "    </tr>\n",
              "  </thead>\n",
              "  <tbody>\n",
              "    <tr>\n",
              "      <th>B003ES5ZUU</th>\n",
              "      <td>4.944444</td>\n",
              "      <td>126</td>\n",
              "      <td>623.0</td>\n",
              "    </tr>\n",
              "    <tr>\n",
              "      <th>B0088CJT4U</th>\n",
              "      <td>4.172414</td>\n",
              "      <td>145</td>\n",
              "      <td>605.0</td>\n",
              "    </tr>\n",
              "    <tr>\n",
              "      <th>B000N99BBC</th>\n",
              "      <td>4.785124</td>\n",
              "      <td>121</td>\n",
              "      <td>579.0</td>\n",
              "    </tr>\n",
              "    <tr>\n",
              "      <th>B007WTAJTO</th>\n",
              "      <td>4.630631</td>\n",
              "      <td>111</td>\n",
              "      <td>514.0</td>\n",
              "    </tr>\n",
              "    <tr>\n",
              "      <th>B00829TIEK</th>\n",
              "      <td>4.462963</td>\n",
              "      <td>108</td>\n",
              "      <td>482.0</td>\n",
              "    </tr>\n",
              "    <tr>\n",
              "      <th>B004CLYEDC</th>\n",
              "      <td>4.647059</td>\n",
              "      <td>85</td>\n",
              "      <td>395.0</td>\n",
              "    </tr>\n",
              "    <tr>\n",
              "      <th>B008DWCRQW</th>\n",
              "      <td>4.129032</td>\n",
              "      <td>93</td>\n",
              "      <td>384.0</td>\n",
              "    </tr>\n",
              "    <tr>\n",
              "      <th>B00834SJNA</th>\n",
              "      <td>4.517647</td>\n",
              "      <td>85</td>\n",
              "      <td>384.0</td>\n",
              "    </tr>\n",
              "    <tr>\n",
              "      <th>B00829THK0</th>\n",
              "      <td>4.414634</td>\n",
              "      <td>82</td>\n",
              "      <td>362.0</td>\n",
              "    </tr>\n",
              "    <tr>\n",
              "      <th>B002V88HFE</th>\n",
              "      <td>4.680000</td>\n",
              "      <td>75</td>\n",
              "      <td>351.0</td>\n",
              "    </tr>\n",
              "  </tbody>\n",
              "</table>\n",
              "</div>"
            ],
            "text/plain": [
              "             Ratings  Rating Counts  Rating weighted Average\n",
              "Product ID                                                  \n",
              "B003ES5ZUU  4.944444            126                    623.0\n",
              "B0088CJT4U  4.172414            145                    605.0\n",
              "B000N99BBC  4.785124            121                    579.0\n",
              "B007WTAJTO  4.630631            111                    514.0\n",
              "B00829TIEK  4.462963            108                    482.0\n",
              "B004CLYEDC  4.647059             85                    395.0\n",
              "B008DWCRQW  4.129032             93                    384.0\n",
              "B00834SJNA  4.517647             85                    384.0\n",
              "B00829THK0  4.414634             82                    362.0\n",
              "B002V88HFE  4.680000             75                    351.0"
            ]
          },
          "metadata": {
            "tags": []
          },
          "execution_count": 203
        }
      ]
    },
    {
      "cell_type": "markdown",
      "metadata": {
        "id": "vIWXa95HpR7T",
        "colab_type": "text"
      },
      "source": [
        "Insight: In the Popularity Recomendation model, We have shported the data using group by option and get best products for the new users. Here I have interduced one more column for Rated weighted Average. This column predicted by product of average rating and number of review. From thic column value we can exactly predict the best products based on rating and number reviews provided by reputed useres."
      ]
    },
    {
      "cell_type": "markdown",
      "metadata": {
        "id": "TPwi1XFjcziE",
        "colab_type": "text"
      },
      "source": [
        "5. Build Collaborative Filtering model."
      ]
    },
    {
      "cell_type": "markdown",
      "metadata": {
        "id": "GzCCpXXTqKA8",
        "colab_type": "text"
      },
      "source": [
        "For this model, we have used again the same data set \"trainset_pop\" which was used for \"Popularity Recommender model\"."
      ]
    },
    {
      "cell_type": "code",
      "metadata": {
        "id": "N6xSQC8Ep8OW",
        "colab_type": "code",
        "outputId": "ef7c4092-0384-4d74-b3ee-b79dd635a3c9",
        "colab": {
          "base_uri": "https://localhost:8080/",
          "height": 122
        }
      },
      "source": [
        "!pip install scikit-surprise"
      ],
      "execution_count": 204,
      "outputs": [
        {
          "output_type": "stream",
          "text": [
            "Requirement already satisfied: scikit-surprise in /usr/local/lib/python3.6/dist-packages (1.1.0)\n",
            "Requirement already satisfied: joblib>=0.11 in /usr/local/lib/python3.6/dist-packages (from scikit-surprise) (0.14.0)\n",
            "Requirement already satisfied: numpy>=1.11.2 in /usr/local/lib/python3.6/dist-packages (from scikit-surprise) (1.17.4)\n",
            "Requirement already satisfied: scipy>=1.0.0 in /usr/local/lib/python3.6/dist-packages (from scikit-surprise) (1.3.2)\n",
            "Requirement already satisfied: six>=1.10.0 in /usr/local/lib/python3.6/dist-packages (from scikit-surprise) (1.12.0)\n"
          ],
          "name": "stdout"
        }
      ]
    },
    {
      "cell_type": "code",
      "metadata": {
        "id": "rHGFAi7dauB6",
        "colab_type": "code",
        "colab": {}
      },
      "source": [
        "from surprise import Dataset,Reader\n",
        "reader = Reader(rating_scale=(1, 5))"
      ],
      "execution_count": 0,
      "outputs": []
    },
    {
      "cell_type": "code",
      "metadata": {
        "id": "pMR4wGXnnuYB",
        "colab_type": "code",
        "outputId": "6513cc75-0231-43d5-84a1-bc5c87e00482",
        "colab": {
          "base_uri": "https://localhost:8080/",
          "height": 34
        }
      },
      "source": [
        "trainset_pop.shape"
      ],
      "execution_count": 206,
      "outputs": [
        {
          "output_type": "execute_result",
          "data": {
            "text/plain": [
              "(55427, 3)"
            ]
          },
          "metadata": {
            "tags": []
          },
          "execution_count": 206
        }
      ]
    },
    {
      "cell_type": "code",
      "metadata": {
        "id": "9mWKFTEn6Ylf",
        "colab_type": "code",
        "colab": {
          "base_uri": "https://localhost:8080/",
          "height": 204
        },
        "outputId": "4214f133-2008-43fe-c029-2d4f6e406171"
      },
      "source": [
        "trainset_pop.head()"
      ],
      "execution_count": 207,
      "outputs": [
        {
          "output_type": "execute_result",
          "data": {
            "text/html": [
              "<div>\n",
              "<style scoped>\n",
              "    .dataframe tbody tr th:only-of-type {\n",
              "        vertical-align: middle;\n",
              "    }\n",
              "\n",
              "    .dataframe tbody tr th {\n",
              "        vertical-align: top;\n",
              "    }\n",
              "\n",
              "    .dataframe thead th {\n",
              "        text-align: right;\n",
              "    }\n",
              "</style>\n",
              "<table border=\"1\" class=\"dataframe\">\n",
              "  <thead>\n",
              "    <tr style=\"text-align: right;\">\n",
              "      <th></th>\n",
              "      <th>User ID</th>\n",
              "      <th>Product ID</th>\n",
              "      <th>Ratings</th>\n",
              "    </tr>\n",
              "  </thead>\n",
              "  <tbody>\n",
              "    <tr>\n",
              "      <th>123654</th>\n",
              "      <td>A32O98PFC3OP7K</td>\n",
              "      <td>B00IAKLM54</td>\n",
              "      <td>5.0</td>\n",
              "    </tr>\n",
              "    <tr>\n",
              "      <th>74142</th>\n",
              "      <td>A2YEOR4XJ8N3QE</td>\n",
              "      <td>B004T9RR6I</td>\n",
              "      <td>1.0</td>\n",
              "    </tr>\n",
              "    <tr>\n",
              "      <th>64459</th>\n",
              "      <td>A2QRXQPHDMFCQV</td>\n",
              "      <td>B0041RSHWG</td>\n",
              "      <td>4.0</td>\n",
              "    </tr>\n",
              "    <tr>\n",
              "      <th>35628</th>\n",
              "      <td>A25FL6VLD7S23S</td>\n",
              "      <td>B001F1ZRAQ</td>\n",
              "      <td>5.0</td>\n",
              "    </tr>\n",
              "    <tr>\n",
              "      <th>83418</th>\n",
              "      <td>A1GWG5CWLKJ7ET</td>\n",
              "      <td>B005MJU1DA</td>\n",
              "      <td>4.0</td>\n",
              "    </tr>\n",
              "  </tbody>\n",
              "</table>\n",
              "</div>"
            ],
            "text/plain": [
              "               User ID  Product ID  Ratings\n",
              "123654  A32O98PFC3OP7K  B00IAKLM54      5.0\n",
              "74142   A2YEOR4XJ8N3QE  B004T9RR6I      1.0\n",
              "64459   A2QRXQPHDMFCQV  B0041RSHWG      4.0\n",
              "35628   A25FL6VLD7S23S  B001F1ZRAQ      5.0\n",
              "83418   A1GWG5CWLKJ7ET  B005MJU1DA      4.0"
            ]
          },
          "metadata": {
            "tags": []
          },
          "execution_count": 207
        }
      ]
    },
    {
      "cell_type": "code",
      "metadata": {
        "id": "xs4GVlgxjeHM",
        "colab_type": "code",
        "colab": {}
      },
      "source": [
        "data = Dataset.load_from_df(trainset_pop[['User ID', 'Product ID', 'Ratings']], reader)"
      ],
      "execution_count": 0,
      "outputs": []
    },
    {
      "cell_type": "code",
      "metadata": {
        "id": "93JNenR_njsh",
        "colab_type": "code",
        "outputId": "09bb3a22-5004-448a-faa4-a740133db3c2",
        "colab": {
          "base_uri": "https://localhost:8080/",
          "height": 34
        }
      },
      "source": [
        "data"
      ],
      "execution_count": 209,
      "outputs": [
        {
          "output_type": "execute_result",
          "data": {
            "text/plain": [
              "<surprise.dataset.DatasetAutoFolds at 0x7fdfecf1e278>"
            ]
          },
          "metadata": {
            "tags": []
          },
          "execution_count": 209
        }
      ]
    },
    {
      "cell_type": "code",
      "metadata": {
        "id": "oG_cP3Ydn8jQ",
        "colab_type": "code",
        "colab": {}
      },
      "source": [
        "from surprise.model_selection import train_test_split\n",
        "trainset, testset = train_test_split(data, test_size=.30,random_state=123)"
      ],
      "execution_count": 0,
      "outputs": []
    },
    {
      "cell_type": "code",
      "metadata": {
        "id": "HX8XCojBoH6u",
        "colab_type": "code",
        "outputId": "969f75cb-a026-48c2-809e-38104b672ee9",
        "colab": {
          "base_uri": "https://localhost:8080/",
          "height": 34
        }
      },
      "source": [
        "type(trainset)"
      ],
      "execution_count": 211,
      "outputs": [
        {
          "output_type": "execute_result",
          "data": {
            "text/plain": [
              "surprise.trainset.Trainset"
            ]
          },
          "metadata": {
            "tags": []
          },
          "execution_count": 211
        }
      ]
    },
    {
      "cell_type": "code",
      "metadata": {
        "id": "eAQbPk61oSZ9",
        "colab_type": "code",
        "outputId": "5c8583e2-04c3-4cfd-9e8b-8920001acb85",
        "colab": {
          "base_uri": "https://localhost:8080/",
          "height": 34
        }
      },
      "source": [
        "user_records = trainset.ur\n",
        "type(user_records)"
      ],
      "execution_count": 212,
      "outputs": [
        {
          "output_type": "execute_result",
          "data": {
            "text/plain": [
              "collections.defaultdict"
            ]
          },
          "metadata": {
            "tags": []
          },
          "execution_count": 212
        }
      ]
    },
    {
      "cell_type": "code",
      "metadata": {
        "id": "JvkDsXgAwWUs",
        "colab_type": "code",
        "outputId": "dc3f2ae5-c59e-4fe3-e704-35a2e9c0799a",
        "colab": {
          "base_uri": "https://localhost:8080/",
          "height": 289
        }
      },
      "source": [
        "user_records[0]"
      ],
      "execution_count": 213,
      "outputs": [
        {
          "output_type": "execute_result",
          "data": {
            "text/plain": [
              "[(0, 4.0),\n",
              " (2244, 4.0),\n",
              " (2403, 5.0),\n",
              " (3234, 5.0),\n",
              " (3725, 4.0),\n",
              " (3531, 5.0),\n",
              " (4410, 3.0),\n",
              " (4900, 5.0),\n",
              " (3029, 5.0),\n",
              " (66, 5.0),\n",
              " (3174, 4.0),\n",
              " (9098, 5.0),\n",
              " (9194, 5.0),\n",
              " (1437, 4.0),\n",
              " (341, 4.0),\n",
              " (1830, 4.0)]"
            ]
          },
          "metadata": {
            "tags": []
          },
          "execution_count": 213
        }
      ]
    },
    {
      "cell_type": "code",
      "metadata": {
        "id": "TktrKcgswnf7",
        "colab_type": "code",
        "colab": {
          "base_uri": "https://localhost:8080/",
          "height": 51
        },
        "outputId": "74ce8f02-6457-4d36-8812-05bdcb641e69"
      },
      "source": [
        "print(trainset.to_raw_uid(0))\n",
        "print(trainset.to_raw_iid(0))"
      ],
      "execution_count": 214,
      "outputs": [
        {
          "output_type": "stream",
          "text": [
            "A1ITRGMT80D5TK\n",
            "B00284ALF0\n"
          ],
          "name": "stdout"
        }
      ]
    },
    {
      "cell_type": "code",
      "metadata": {
        "id": "Y7BVjNhs3nkl",
        "colab_type": "code",
        "colab": {
          "base_uri": "https://localhost:8080/",
          "height": 34
        },
        "outputId": "5c2fc5ee-0590-44c5-baaa-4fe942cd7de3"
      },
      "source": [
        "len(testset)"
      ],
      "execution_count": 215,
      "outputs": [
        {
          "output_type": "execute_result",
          "data": {
            "text/plain": [
              "16629"
            ]
          },
          "metadata": {
            "tags": []
          },
          "execution_count": 215
        }
      ]
    },
    {
      "cell_type": "code",
      "metadata": {
        "id": "w239eFMhx02s",
        "colab_type": "code",
        "outputId": "a425c1c3-6bd2-4ff9-c38f-9160c3ad4dbd",
        "colab": {
          "base_uri": "https://localhost:8080/",
          "height": 34
        }
      },
      "source": [
        "print(trainset.to_inner_uid(\"A3BY5KCNQZXV5U\"))"
      ],
      "execution_count": 216,
      "outputs": [
        {
          "output_type": "stream",
          "text": [
            "645\n"
          ],
          "name": "stdout"
        }
      ]
    },
    {
      "cell_type": "code",
      "metadata": {
        "id": "13rJgrywyghs",
        "colab_type": "code",
        "colab": {}
      },
      "source": [
        "from surprise import KNNWithMeans\n",
        "from surprise import accuracy"
      ],
      "execution_count": 0,
      "outputs": []
    },
    {
      "cell_type": "code",
      "metadata": {
        "id": "X4rFZLrN5GsY",
        "colab_type": "code",
        "colab": {
          "base_uri": "https://localhost:8080/",
          "height": 68
        },
        "outputId": "d7c810d1-61d1-4174-df09-17263d353e5d"
      },
      "source": [
        "algo = KNNWithMeans(k=5, sim_options={'name': 'pearson', 'user_based': False})\n",
        "algo.fit(trainset)"
      ],
      "execution_count": 218,
      "outputs": [
        {
          "output_type": "stream",
          "text": [
            "Computing the pearson similarity matrix...\n",
            "Done computing similarity matrix.\n"
          ],
          "name": "stdout"
        },
        {
          "output_type": "execute_result",
          "data": {
            "text/plain": [
              "<surprise.prediction_algorithms.knns.KNNWithMeans at 0x7fdfecf1e208>"
            ]
          },
          "metadata": {
            "tags": []
          },
          "execution_count": 218
        }
      ]
    },
    {
      "cell_type": "code",
      "metadata": {
        "id": "tTcEyiNlQFnX",
        "colab_type": "code",
        "colab": {
          "base_uri": "https://localhost:8080/",
          "height": 34
        },
        "outputId": "85a89f21-9d2e-40de-c714-254ea2f05a74"
      },
      "source": [
        "sim_products = algo.get_neighbors(trainset.to_inner_iid(\"B00284ALF0\"),5)\n",
        "[trainset.to_raw_iid(x) for x in sim_products]"
      ],
      "execution_count": 294,
      "outputs": [
        {
          "output_type": "execute_result",
          "data": {
            "text/plain": [
              "['B001RQ2YF0', 'B00176TEGM', 'B000IJY8DS', 'B003GSLEJY', 'B005CVNH1Q']"
            ]
          },
          "metadata": {
            "tags": []
          },
          "execution_count": 294
        }
      ]
    },
    {
      "cell_type": "markdown",
      "metadata": {
        "id": "-x6nrx8hc_oV",
        "colab_type": "text"
      },
      "source": [
        "6. Evaluate both the models. ( Once the model is trained on the training data, it can be\n",
        "used to compute the error (like RMSE) on predictions made on the test data.) You can\n",
        "also use a different method to evaluate the models."
      ]
    },
    {
      "cell_type": "code",
      "metadata": {
        "id": "k0beRzLDRlql",
        "colab_type": "code",
        "colab": {
          "base_uri": "https://localhost:8080/",
          "height": 34
        },
        "outputId": "02bc349a-b631-4cf0-e99d-94394cc61b82"
      },
      "source": [
        "len(testset)"
      ],
      "execution_count": 239,
      "outputs": [
        {
          "output_type": "execute_result",
          "data": {
            "text/plain": [
              "16629"
            ]
          },
          "metadata": {
            "tags": []
          },
          "execution_count": 239
        }
      ]
    },
    {
      "cell_type": "code",
      "metadata": {
        "id": "IF0sKBnkRv6Z",
        "colab_type": "code",
        "colab": {
          "base_uri": "https://localhost:8080/",
          "height": 102
        },
        "outputId": "097fe6fc-b327-4b82-a19e-d448eb275514"
      },
      "source": [
        "testset[0:5]"
      ],
      "execution_count": 240,
      "outputs": [
        {
          "output_type": "execute_result",
          "data": {
            "text/plain": [
              "[('AIJQU979J6UFY', 'B005CWJB5G', 5.0),\n",
              " ('A1MFAPVBW9BEGD', 'B00009UT9B', 3.0),\n",
              " ('A20OBCQWBKCGZT', 'B005A0B3FG', 5.0),\n",
              " ('A1G5MI2KREPEIB', 'B000ANCPNM', 5.0),\n",
              " ('A2FWZ58M6IQMD7', 'B002DW92IE', 2.0)]"
            ]
          },
          "metadata": {
            "tags": []
          },
          "execution_count": 240
        }
      ]
    },
    {
      "cell_type": "code",
      "metadata": {
        "id": "MmkuRfvmR0O5",
        "colab_type": "code",
        "colab": {
          "base_uri": "https://localhost:8080/",
          "height": 51
        },
        "outputId": "0386dec0-958f-415c-b84c-8411b97e7b51"
      },
      "source": [
        "test_pred = algo.test(testset)\n",
        "accuracy.rmse(test_pred)"
      ],
      "execution_count": 283,
      "outputs": [
        {
          "output_type": "stream",
          "text": [
            "RMSE: 1.1278\n"
          ],
          "name": "stdout"
        },
        {
          "output_type": "execute_result",
          "data": {
            "text/plain": [
              "1.1278412016732569"
            ]
          },
          "metadata": {
            "tags": []
          },
          "execution_count": 283
        }
      ]
    },
    {
      "cell_type": "markdown",
      "metadata": {
        "id": "vhH8wfUArMK0",
        "colab_type": "text"
      },
      "source": [
        "From the \"Collaborative Filtering model\" we got RMSE value as 1.12. It means our predicted rating might varry +/- 1.12."
      ]
    },
    {
      "cell_type": "code",
      "metadata": {
        "id": "pnKT4YYvFibg",
        "colab_type": "code",
        "colab": {
          "base_uri": "https://localhost:8080/",
          "height": 34
        },
        "outputId": "9eb095a8-5cb7-4560-de23-7b47825e7ce4"
      },
      "source": [
        "testset[12]"
      ],
      "execution_count": 242,
      "outputs": [
        {
          "output_type": "execute_result",
          "data": {
            "text/plain": [
              "('ANYC38I00IRVK', 'B0058P0I2C', 5.0)"
            ]
          },
          "metadata": {
            "tags": []
          },
          "execution_count": 242
        }
      ]
    },
    {
      "cell_type": "code",
      "metadata": {
        "id": "qeHM4OrPR-0R",
        "colab_type": "code",
        "colab": {
          "base_uri": "https://localhost:8080/",
          "height": 54
        },
        "outputId": "b72b2093-89a3-4d0a-d507-9c4c38fbd084"
      },
      "source": [
        "test_pred[12]"
      ],
      "execution_count": 243,
      "outputs": [
        {
          "output_type": "execute_result",
          "data": {
            "text/plain": [
              "Prediction(uid='ANYC38I00IRVK', iid='B0058P0I2C', r_ui=5.0, est=4.297077168926234, details={'was_impossible': True, 'reason': 'User and/or item is unkown.'})"
            ]
          },
          "metadata": {
            "tags": []
          },
          "execution_count": 243
        }
      ]
    },
    {
      "cell_type": "code",
      "metadata": {
        "id": "UMY5VOf79qvs",
        "colab_type": "code",
        "colab": {}
      },
      "source": [
        "test_pred_df = pd.DataFrame(test_pred)\n",
        "test_pred_df[\"was_impossible\"] = [x[\"was_impossible\"] for x in test_pred_df[\"details\"]]"
      ],
      "execution_count": 0,
      "outputs": []
    },
    {
      "cell_type": "code",
      "metadata": {
        "id": "I4qO_7mt9ywB",
        "colab_type": "code",
        "colab": {
          "base_uri": "https://localhost:8080/",
          "height": 204
        },
        "outputId": "db66c7ce-640d-4bf2-c746-a6f06b120342"
      },
      "source": [
        "test_pred_df.loc[test_pred_df.was_impossible].head(5)"
      ],
      "execution_count": 245,
      "outputs": [
        {
          "output_type": "execute_result",
          "data": {
            "text/html": [
              "<div>\n",
              "<style scoped>\n",
              "    .dataframe tbody tr th:only-of-type {\n",
              "        vertical-align: middle;\n",
              "    }\n",
              "\n",
              "    .dataframe tbody tr th {\n",
              "        vertical-align: top;\n",
              "    }\n",
              "\n",
              "    .dataframe thead th {\n",
              "        text-align: right;\n",
              "    }\n",
              "</style>\n",
              "<table border=\"1\" class=\"dataframe\">\n",
              "  <thead>\n",
              "    <tr style=\"text-align: right;\">\n",
              "      <th></th>\n",
              "      <th>uid</th>\n",
              "      <th>iid</th>\n",
              "      <th>r_ui</th>\n",
              "      <th>est</th>\n",
              "      <th>details</th>\n",
              "      <th>was_impossible</th>\n",
              "    </tr>\n",
              "  </thead>\n",
              "  <tbody>\n",
              "    <tr>\n",
              "      <th>12</th>\n",
              "      <td>ANYC38I00IRVK</td>\n",
              "      <td>B0058P0I2C</td>\n",
              "      <td>5.0</td>\n",
              "      <td>4.297077</td>\n",
              "      <td>{'was_impossible': True, 'reason': 'User and/o...</td>\n",
              "      <td>True</td>\n",
              "    </tr>\n",
              "    <tr>\n",
              "      <th>13</th>\n",
              "      <td>A3V0YR50F1XSKP</td>\n",
              "      <td>B000HGMMH6</td>\n",
              "      <td>5.0</td>\n",
              "      <td>4.297077</td>\n",
              "      <td>{'was_impossible': True, 'reason': 'User and/o...</td>\n",
              "      <td>True</td>\n",
              "    </tr>\n",
              "    <tr>\n",
              "      <th>16</th>\n",
              "      <td>A1NNMOD9H36Q8E</td>\n",
              "      <td>B002K4512Q</td>\n",
              "      <td>5.0</td>\n",
              "      <td>4.297077</td>\n",
              "      <td>{'was_impossible': True, 'reason': 'User and/o...</td>\n",
              "      <td>True</td>\n",
              "    </tr>\n",
              "    <tr>\n",
              "      <th>25</th>\n",
              "      <td>A32482Z7XIKDQX</td>\n",
              "      <td>B00F42V83C</td>\n",
              "      <td>5.0</td>\n",
              "      <td>4.297077</td>\n",
              "      <td>{'was_impossible': True, 'reason': 'User and/o...</td>\n",
              "      <td>True</td>\n",
              "    </tr>\n",
              "    <tr>\n",
              "      <th>52</th>\n",
              "      <td>A3V0YR50F1XSKP</td>\n",
              "      <td>B00763WKZW</td>\n",
              "      <td>5.0</td>\n",
              "      <td>4.297077</td>\n",
              "      <td>{'was_impossible': True, 'reason': 'User and/o...</td>\n",
              "      <td>True</td>\n",
              "    </tr>\n",
              "  </tbody>\n",
              "</table>\n",
              "</div>"
            ],
            "text/plain": [
              "               uid  ... was_impossible\n",
              "12   ANYC38I00IRVK  ...           True\n",
              "13  A3V0YR50F1XSKP  ...           True\n",
              "16  A1NNMOD9H36Q8E  ...           True\n",
              "25  A32482Z7XIKDQX  ...           True\n",
              "52  A3V0YR50F1XSKP  ...           True\n",
              "\n",
              "[5 rows x 6 columns]"
            ]
          },
          "metadata": {
            "tags": []
          },
          "execution_count": 245
        }
      ]
    },
    {
      "cell_type": "code",
      "metadata": {
        "id": "YvQRFnmqSKbK",
        "colab_type": "code",
        "colab": {}
      },
      "source": [
        "testset_new = trainset.build_anti_testset()"
      ],
      "execution_count": 0,
      "outputs": []
    },
    {
      "cell_type": "code",
      "metadata": {
        "id": "vtvAN6ns-MBF",
        "colab_type": "code",
        "colab": {
          "base_uri": "https://localhost:8080/",
          "height": 34
        },
        "outputId": "681395ca-d5fe-4582-f126-85418817474e"
      },
      "source": [
        "len(testset_new)"
      ],
      "execution_count": 247,
      "outputs": [
        {
          "output_type": "execute_result",
          "data": {
            "text/plain": [
              "19654722"
            ]
          },
          "metadata": {
            "tags": []
          },
          "execution_count": 247
        }
      ]
    },
    {
      "cell_type": "code",
      "metadata": {
        "id": "NSbSRSRt-UHk",
        "colab_type": "code",
        "colab": {
          "base_uri": "https://localhost:8080/",
          "height": 102
        },
        "outputId": "48917997-fb1f-4bdf-8589-bd75f0fe48f1"
      },
      "source": [
        "testset_new[0:5]"
      ],
      "execution_count": 248,
      "outputs": [
        {
          "output_type": "execute_result",
          "data": {
            "text/plain": [
              "[('A1ITRGMT80D5TK', 'B001RQ2YF0', 4.297077168926234),\n",
              " ('A1ITRGMT80D5TK', 'B00176TEGM', 4.297077168926234),\n",
              " ('A1ITRGMT80D5TK', 'B000IJY8DS', 4.297077168926234),\n",
              " ('A1ITRGMT80D5TK', 'B003GSLEJY', 4.297077168926234),\n",
              " ('A1ITRGMT80D5TK', 'B005CVNH1Q', 4.297077168926234)]"
            ]
          },
          "metadata": {
            "tags": []
          },
          "execution_count": 248
        }
      ]
    },
    {
      "cell_type": "markdown",
      "metadata": {
        "id": "lP1q-klTdbjK",
        "colab_type": "text"
      },
      "source": [
        "7. Get top - K ( K = 5) recommendations. Since our goal is to recommend new products to\n",
        "each user based on his/her habits, we will recommend 5 new products."
      ]
    },
    {
      "cell_type": "code",
      "metadata": {
        "id": "MSmFU7cf-aGh",
        "colab_type": "code",
        "colab": {}
      },
      "source": [
        "predictions = algo.test(testset_new[0:10000])"
      ],
      "execution_count": 0,
      "outputs": []
    },
    {
      "cell_type": "code",
      "metadata": {
        "id": "3k-BZF0hPyFL",
        "colab_type": "code",
        "colab": {
          "base_uri": "https://localhost:8080/",
          "height": 54
        },
        "outputId": "b10e128c-ed69-4c86-d361-05274290984a"
      },
      "source": [
        "predictions[100]"
      ],
      "execution_count": 252,
      "outputs": [
        {
          "output_type": "execute_result",
          "data": {
            "text/plain": [
              "Prediction(uid='A1ITRGMT80D5TK', iid='B001QTXL82', r_ui=4.297077168926234, est=4.6, details={'actual_k': 0, 'was_impossible': False})"
            ]
          },
          "metadata": {
            "tags": []
          },
          "execution_count": 252
        }
      ]
    },
    {
      "cell_type": "code",
      "metadata": {
        "id": "y8HU1OWk-h97",
        "colab_type": "code",
        "colab": {}
      },
      "source": [
        "predictions_df = pd.DataFrame([[x.uid,x.iid,x.est] for x in predictions])"
      ],
      "execution_count": 0,
      "outputs": []
    },
    {
      "cell_type": "code",
      "metadata": {
        "id": "COSe5nIM-prr",
        "colab_type": "code",
        "colab": {}
      },
      "source": [
        "predictions_df.columns = [\"userId\",\"iid\",\"est_rating\"]"
      ],
      "execution_count": 0,
      "outputs": []
    },
    {
      "cell_type": "code",
      "metadata": {
        "id": "m2gzPDcF-vgG",
        "colab_type": "code",
        "colab": {}
      },
      "source": [
        "predictions_df.sort_values(by = [\"userId\", \"est_rating\"],ascending=False,inplace=True)"
      ],
      "execution_count": 0,
      "outputs": []
    },
    {
      "cell_type": "code",
      "metadata": {
        "id": "KE6WAbhX-14M",
        "colab_type": "code",
        "colab": {}
      },
      "source": [
        "top_5_recos = predictions_df.groupby(\"userId\").head(5).reset_index(drop=True)"
      ],
      "execution_count": 0,
      "outputs": []
    },
    {
      "cell_type": "code",
      "metadata": {
        "id": "68sOuwum-5QU",
        "colab_type": "code",
        "colab": {
          "base_uri": "https://localhost:8080/",
          "height": 204
        },
        "outputId": "3b149ba1-fdb9-4737-ef65-8d4ebc490347"
      },
      "source": [
        "top_5_recos"
      ],
      "execution_count": 265,
      "outputs": [
        {
          "output_type": "execute_result",
          "data": {
            "text/html": [
              "<div>\n",
              "<style scoped>\n",
              "    .dataframe tbody tr th:only-of-type {\n",
              "        vertical-align: middle;\n",
              "    }\n",
              "\n",
              "    .dataframe tbody tr th {\n",
              "        vertical-align: top;\n",
              "    }\n",
              "\n",
              "    .dataframe thead th {\n",
              "        text-align: right;\n",
              "    }\n",
              "</style>\n",
              "<table border=\"1\" class=\"dataframe\">\n",
              "  <thead>\n",
              "    <tr style=\"text-align: right;\">\n",
              "      <th></th>\n",
              "      <th>userId</th>\n",
              "      <th>iid</th>\n",
              "      <th>est_rating</th>\n",
              "    </tr>\n",
              "  </thead>\n",
              "  <tbody>\n",
              "    <tr>\n",
              "      <th>0</th>\n",
              "      <td>A1ITRGMT80D5TK</td>\n",
              "      <td>B000IJY8DS</td>\n",
              "      <td>5.0</td>\n",
              "    </tr>\n",
              "    <tr>\n",
              "      <th>1</th>\n",
              "      <td>A1ITRGMT80D5TK</td>\n",
              "      <td>B005CVNH1Q</td>\n",
              "      <td>5.0</td>\n",
              "    </tr>\n",
              "    <tr>\n",
              "      <th>2</th>\n",
              "      <td>A1ITRGMT80D5TK</td>\n",
              "      <td>B000AL8JKW</td>\n",
              "      <td>5.0</td>\n",
              "    </tr>\n",
              "    <tr>\n",
              "      <th>3</th>\n",
              "      <td>A1ITRGMT80D5TK</td>\n",
              "      <td>B002JCSV5I</td>\n",
              "      <td>5.0</td>\n",
              "    </tr>\n",
              "    <tr>\n",
              "      <th>4</th>\n",
              "      <td>A1ITRGMT80D5TK</td>\n",
              "      <td>B0083XTQ42</td>\n",
              "      <td>5.0</td>\n",
              "    </tr>\n",
              "  </tbody>\n",
              "</table>\n",
              "</div>"
            ],
            "text/plain": [
              "           userId         iid  est_rating\n",
              "0  A1ITRGMT80D5TK  B000IJY8DS         5.0\n",
              "1  A1ITRGMT80D5TK  B005CVNH1Q         5.0\n",
              "2  A1ITRGMT80D5TK  B000AL8JKW         5.0\n",
              "3  A1ITRGMT80D5TK  B002JCSV5I         5.0\n",
              "4  A1ITRGMT80D5TK  B0083XTQ42         5.0"
            ]
          },
          "metadata": {
            "tags": []
          },
          "execution_count": 265
        }
      ]
    },
    {
      "cell_type": "markdown",
      "metadata": {
        "id": "CyKgRzLyr0Ri",
        "colab_type": "text"
      },
      "source": [
        "From the above model, we can recommend the best 5 productes for each user."
      ]
    },
    {
      "cell_type": "markdown",
      "metadata": {
        "id": "OEU4eFlzr_gU",
        "colab_type": "text"
      },
      "source": [
        "To reduce our RMSE value, we are traing some other model."
      ]
    },
    {
      "cell_type": "markdown",
      "metadata": {
        "collapsed": true,
        "id": "sYECyO4R40cw",
        "colab_type": "text"
      },
      "source": [
        "## SVD Based Recommendation"
      ]
    },
    {
      "cell_type": "code",
      "metadata": {
        "id": "Y45q_48n40dG",
        "colab_type": "code",
        "colab": {}
      },
      "source": [
        "from surprise import SVD\n",
        "from surprise import accuracy"
      ],
      "execution_count": 0,
      "outputs": []
    },
    {
      "cell_type": "code",
      "metadata": {
        "id": "CI7KwtNV40dK",
        "colab_type": "code",
        "outputId": "47a322bc-babc-4546-ebff-eecabfff7894",
        "colab": {
          "base_uri": "https://localhost:8080/",
          "height": 34
        }
      },
      "source": [
        "svd_model = SVD(n_factors=50,biased=False)\n",
        "svd_model.fit(trainset)"
      ],
      "execution_count": 272,
      "outputs": [
        {
          "output_type": "execute_result",
          "data": {
            "text/plain": [
              "<surprise.prediction_algorithms.matrix_factorization.SVD at 0x7fdfecf25240>"
            ]
          },
          "metadata": {
            "tags": []
          },
          "execution_count": 272
        }
      ]
    },
    {
      "cell_type": "code",
      "metadata": {
        "id": "1bSwid_B40dQ",
        "colab_type": "code",
        "colab": {}
      },
      "source": [
        "test_pred = svd_model.test(testset)"
      ],
      "execution_count": 0,
      "outputs": []
    },
    {
      "cell_type": "code",
      "metadata": {
        "id": "hc-gbPIf40dX",
        "colab_type": "code",
        "outputId": "0a33c8b9-1cc4-48d3-c689-68de6a34956d",
        "colab": {
          "base_uri": "https://localhost:8080/",
          "height": 51
        }
      },
      "source": [
        "accuracy.rmse(test_pred)"
      ],
      "execution_count": 274,
      "outputs": [
        {
          "output_type": "stream",
          "text": [
            "RMSE: 2.5919\n"
          ],
          "name": "stdout"
        },
        {
          "output_type": "execute_result",
          "data": {
            "text/plain": [
              "2.5919423391441163"
            ]
          },
          "metadata": {
            "tags": []
          },
          "execution_count": 274
        }
      ]
    },
    {
      "cell_type": "markdown",
      "metadata": {
        "id": "qMm6j4JYsIkp",
        "colab_type": "text"
      },
      "source": [
        "From the above result, we infer that RMSE value increased. So we are preding the best model through grid search using hyper parameter."
      ]
    },
    {
      "cell_type": "markdown",
      "metadata": {
        "id": "mh9Gyuem40dz",
        "colab_type": "text"
      },
      "source": [
        "<b> Parameter tuning of SVD Recommendation system </b>"
      ]
    },
    {
      "cell_type": "code",
      "metadata": {
        "id": "7PE-YEmQ40d2",
        "colab_type": "code",
        "colab": {}
      },
      "source": [
        "from surprise.model_selection import GridSearchCV\n",
        "param_grid = {'n_factors' : [5,10,15], \"reg_all\":[0.01,0.02]}\n",
        "gs = GridSearchCV(SVD, param_grid, measures=['rmse'], cv=3,refit = True)"
      ],
      "execution_count": 0,
      "outputs": []
    },
    {
      "cell_type": "code",
      "metadata": {
        "id": "mjSoQeN540d6",
        "colab_type": "code",
        "colab": {}
      },
      "source": [
        "gs.fit(data)"
      ],
      "execution_count": 0,
      "outputs": []
    },
    {
      "cell_type": "code",
      "metadata": {
        "id": "FHV4GtQX40d-",
        "colab_type": "code",
        "outputId": "7d4cf3d0-c6c2-4f26-aef6-e6580d368b63",
        "colab": {
          "base_uri": "https://localhost:8080/",
          "height": 119
        }
      },
      "source": [
        "# get all parameter combinations\n",
        "gs.param_combinations"
      ],
      "execution_count": 277,
      "outputs": [
        {
          "output_type": "execute_result",
          "data": {
            "text/plain": [
              "[{'n_factors': 5, 'reg_all': 0.01},\n",
              " {'n_factors': 5, 'reg_all': 0.02},\n",
              " {'n_factors': 10, 'reg_all': 0.01},\n",
              " {'n_factors': 10, 'reg_all': 0.02},\n",
              " {'n_factors': 15, 'reg_all': 0.01},\n",
              " {'n_factors': 15, 'reg_all': 0.02}]"
            ]
          },
          "metadata": {
            "tags": []
          },
          "execution_count": 277
        }
      ]
    },
    {
      "cell_type": "code",
      "metadata": {
        "id": "Qw6SRwTk40eD",
        "colab_type": "code",
        "outputId": "74f41fe7-75ce-4902-f39c-6bc8138f8c87",
        "colab": {
          "base_uri": "https://localhost:8080/",
          "height": 34
        }
      },
      "source": [
        "# get best parameters\n",
        "gs.best_params"
      ],
      "execution_count": 278,
      "outputs": [
        {
          "output_type": "execute_result",
          "data": {
            "text/plain": [
              "{'rmse': {'n_factors': 5, 'reg_all': 0.02}}"
            ]
          },
          "metadata": {
            "tags": []
          },
          "execution_count": 278
        }
      ]
    },
    {
      "cell_type": "code",
      "metadata": {
        "id": "zVUO3Zh340eF",
        "colab_type": "code",
        "outputId": "9e7e9a8f-1a3d-4c9c-8317-24a8789c3c38",
        "colab": {
          "base_uri": "https://localhost:8080/",
          "height": 1000
        }
      },
      "source": [
        "# Use the \"best model\" for prediction\n",
        "gs.test(testset)"
      ],
      "execution_count": 279,
      "outputs": [
        {
          "output_type": "execute_result",
          "data": {
            "text/plain": [
              "[Prediction(uid='AIJQU979J6UFY', iid='B005CWJB5G', r_ui=5.0, est=4.186353754997871, details={'was_impossible': False}),\n",
              " Prediction(uid='A1MFAPVBW9BEGD', iid='B00009UT9B', r_ui=3.0, est=3.790846709992234, details={'was_impossible': False}),\n",
              " Prediction(uid='A20OBCQWBKCGZT', iid='B005A0B3FG', r_ui=5.0, est=4.6780303497438736, details={'was_impossible': False}),\n",
              " Prediction(uid='A1G5MI2KREPEIB', iid='B000ANCPNM', r_ui=5.0, est=4.486476842887791, details={'was_impossible': False}),\n",
              " Prediction(uid='A2FWZ58M6IQMD7', iid='B002DW92IE', r_ui=2.0, est=3.243793512294056, details={'was_impossible': False}),\n",
              " Prediction(uid='A1OH33MR6K4G5J', iid='B003OBXHPC', r_ui=5.0, est=4.395367742610304, details={'was_impossible': False}),\n",
              " Prediction(uid='A3VZH0PWLQ9BB1', iid='B00IVPU786', r_ui=5.0, est=4.854579834438424, details={'was_impossible': False}),\n",
              " Prediction(uid='A2SYAQXJGRY3XE', iid='B002WE4HE2', r_ui=5.0, est=4.372796898189848, details={'was_impossible': False}),\n",
              " Prediction(uid='AVTJEWTCJ3PBE', iid='B003L137Y6', r_ui=5.0, est=4.664892270595916, details={'was_impossible': False}),\n",
              " Prediction(uid='AEWYUPCNDV7HY', iid='B0027VT6V4', r_ui=3.0, est=4.246478417863349, details={'was_impossible': False}),\n",
              " Prediction(uid='A3TCMJ6GKZJFBQ', iid='B00119T6NQ', r_ui=4.0, est=4.206599771301968, details={'was_impossible': False}),\n",
              " Prediction(uid='A2PSC7LUNIDEAH', iid='B000HCT12O', r_ui=4.0, est=4.650566268052329, details={'was_impossible': False}),\n",
              " Prediction(uid='ANYC38I00IRVK', iid='B0058P0I2C', r_ui=5.0, est=4.108017181967389, details={'was_impossible': False}),\n",
              " Prediction(uid='A3V0YR50F1XSKP', iid='B000HGMMH6', r_ui=5.0, est=4.795989953087605, details={'was_impossible': False}),\n",
              " Prediction(uid='A2AY4YUOX2N1BQ', iid='B00CSFCYFY', r_ui=4.0, est=4.232693586482173, details={'was_impossible': False}),\n",
              " Prediction(uid='A2J3VCGBNDLAKF', iid='B00CUACTKM', r_ui=5.0, est=4.137143866022033, details={'was_impossible': False}),\n",
              " Prediction(uid='A1NNMOD9H36Q8E', iid='B002K4512Q', r_ui=5.0, est=4.029707218338854, details={'was_impossible': False}),\n",
              " Prediction(uid='A96JD9312DHWC', iid='B000NLLXVQ', r_ui=4.0, est=4.718154310134026, details={'was_impossible': False}),\n",
              " Prediction(uid='A141OPVE376YFI', iid='B0037ECAQ8', r_ui=4.0, est=4.614011983624387, details={'was_impossible': False}),\n",
              " Prediction(uid='AE88D7OM7YU99', iid='B0079TOEQQ', r_ui=4.0, est=3.7755400976455875, details={'was_impossible': False}),\n",
              " Prediction(uid='A2KYRPDKVBI2R4', iid='B0034CL2ZI', r_ui=5.0, est=5, details={'was_impossible': False}),\n",
              " Prediction(uid='AAA0TUKS5VBSA', iid='B00GMGDFPI', r_ui=4.0, est=4.095522263431157, details={'was_impossible': False}),\n",
              " Prediction(uid='A27B1U3OWCU14J', iid='B003BYRGJU', r_ui=4.0, est=4.226423728466552, details={'was_impossible': False}),\n",
              " Prediction(uid='A2Z1R98M2XOCEJ', iid='B0035AN31A', r_ui=4.0, est=3.905203308368547, details={'was_impossible': False}),\n",
              " Prediction(uid='APOGXH3A74CM3', iid='B000JMJWV2', r_ui=5.0, est=4.93461303126076, details={'was_impossible': False}),\n",
              " Prediction(uid='A32482Z7XIKDQX', iid='B00F42V83C', r_ui=5.0, est=4.5543230046336385, details={'was_impossible': False}),\n",
              " Prediction(uid='A1O229NVVDJUX2', iid='B000NK8EWI', r_ui=4.0, est=4.126894481850337, details={'was_impossible': False}),\n",
              " Prediction(uid='A328S9RN3U5M68', iid='B00CIZ2238', r_ui=5.0, est=5, details={'was_impossible': False}),\n",
              " Prediction(uid='A32AK8FOAZEPE2', iid='B003B4AVRE', r_ui=2.0, est=2.498983650788575, details={'was_impossible': False}),\n",
              " Prediction(uid='AYMD77ITD15PT', iid='B0047DVRQW', r_ui=5.0, est=4.496539139121277, details={'was_impossible': False}),\n",
              " Prediction(uid='A16WP8NTPYB0ZM', iid='B002K9GCU6', r_ui=1.0, est=3.405869569361761, details={'was_impossible': False}),\n",
              " Prediction(uid='A34BZM6S9L7QI4', iid='B00DQZO3JK', r_ui=4.0, est=4.392254714770063, details={'was_impossible': False}),\n",
              " Prediction(uid='A3HPCRD9RX351S', iid='B004JQQDZ2', r_ui=3.0, est=4.274680008747751, details={'was_impossible': False}),\n",
              " Prediction(uid='A6KL17KKN0A5L', iid='B00004YZQ8', r_ui=5.0, est=4.706870275352166, details={'was_impossible': False}),\n",
              " Prediction(uid='A1UL2JH7XOUGM5', iid='B00894YP00', r_ui=4.0, est=4.160608582764323, details={'was_impossible': False}),\n",
              " Prediction(uid='ASJZT7DM51QEM', iid='B006TR0FCQ', r_ui=3.0, est=3.8887187526464926, details={'was_impossible': False}),\n",
              " Prediction(uid='ASJLXOX1VD4DF', iid='B00G4UQ6U8', r_ui=5.0, est=4.523624395021899, details={'was_impossible': False}),\n",
              " Prediction(uid='A1S7BFT0HDF3HA', iid='B005PC7VG4', r_ui=5.0, est=3.7189552980092406, details={'was_impossible': False}),\n",
              " Prediction(uid='AR74YY08IP2WE', iid='B00006B9CR', r_ui=5.0, est=3.95194994792347, details={'was_impossible': False}),\n",
              " Prediction(uid='A38CHSS1ZAE51B', iid='B00B4GGW5Q', r_ui=5.0, est=4.652619984950031, details={'was_impossible': False}),\n",
              " Prediction(uid='A1ZTR0FR5AW9B4', iid='B0046TDJJK', r_ui=3.0, est=4.07644741469591, details={'was_impossible': False}),\n",
              " Prediction(uid='AQR4HPVSOPS08', iid='B001QNBUA4', r_ui=4.0, est=4.627882407052446, details={'was_impossible': False}),\n",
              " Prediction(uid='A1L64KDYO5BOJA', iid='B0057ODG6Y', r_ui=5.0, est=4.728339945702654, details={'was_impossible': False}),\n",
              " Prediction(uid='A3EX8ZFNVDHGPM', iid='B00BJ8C02I', r_ui=5.0, est=4.717459083877638, details={'was_impossible': False}),\n",
              " Prediction(uid='A1YEPFLLH42OU1', iid='B000ETVKHE', r_ui=5.0, est=4.549432491739542, details={'was_impossible': False}),\n",
              " Prediction(uid='AYB4ELCS5AM8P', iid='B008X9Z528', r_ui=4.0, est=4.3018654284531825, details={'was_impossible': False}),\n",
              " Prediction(uid='A3NXJDNTQK2YJL', iid='B002KKFP9Y', r_ui=4.0, est=3.5294634609951614, details={'was_impossible': False}),\n",
              " Prediction(uid='A27H0T39U3FZB5', iid='B000EW8074', r_ui=5.0, est=4.325965614555925, details={'was_impossible': False}),\n",
              " Prediction(uid='ADLVFFE4VBT8', iid='B005EJLFXI', r_ui=4.0, est=4.29005474661888, details={'was_impossible': False}),\n",
              " Prediction(uid='A5JLAU2ARJ0BO', iid='B0000A0AJH', r_ui=5.0, est=3.686442626012851, details={'was_impossible': False}),\n",
              " Prediction(uid='A27GITTN6AVW5I', iid='B007PA1K84', r_ui=4.0, est=4.155565868486994, details={'was_impossible': False}),\n",
              " Prediction(uid='A16SRDVPBXN69C', iid='B0001G6U3Y', r_ui=5.0, est=4.498984143265689, details={'was_impossible': False}),\n",
              " Prediction(uid='A3V0YR50F1XSKP', iid='B00763WKZW', r_ui=5.0, est=4.741187903442508, details={'was_impossible': False}),\n",
              " Prediction(uid='A1YN5I4FINMBTI', iid='B000J01I1G', r_ui=5.0, est=4.566785202877681, details={'was_impossible': False}),\n",
              " Prediction(uid='A2X8KN82L07RSK', iid='B0035JJJPU', r_ui=3.0, est=2.9582295560386784, details={'was_impossible': False}),\n",
              " Prediction(uid='A3JNBO7H2SPL44', iid='B003ES5ZUU', r_ui=5.0, est=5, details={'was_impossible': False}),\n",
              " Prediction(uid='A1YEPFLLH42OU1', iid='B008I21EA2', r_ui=2.0, est=4.317529944083247, details={'was_impossible': False}),\n",
              " Prediction(uid='A21VM9WVF8EOSJ', iid='B0031GGQC6', r_ui=2.0, est=3.257318331470984, details={'was_impossible': False}),\n",
              " Prediction(uid='A1UTM65Y3G9HUL', iid='B002W4M0DW', r_ui=5.0, est=4.3917263087346585, details={'was_impossible': False}),\n",
              " Prediction(uid='A4WEZJOIZIV4U', iid='B008OZF9SQ', r_ui=5.0, est=4.703970725670342, details={'was_impossible': False}),\n",
              " Prediction(uid='A2NSXY5L42ZUGO', iid='B003EWGD1Q', r_ui=5.0, est=4.633302761553645, details={'was_impossible': False}),\n",
              " Prediction(uid='A29KJ32G75L7G9', iid='B00434OWDA', r_ui=5.0, est=4.70720437864034, details={'was_impossible': False}),\n",
              " Prediction(uid='AS8C336DDLSO4', iid='B0000CE1UO', r_ui=4.0, est=4.329601890165323, details={'was_impossible': False}),\n",
              " Prediction(uid='AV10H5K6VPQIJ', iid='B0015DYMVO', r_ui=5.0, est=4.333064771526204, details={'was_impossible': False}),\n",
              " Prediction(uid='A2JWF9IG8PJAOA', iid='B001FA1O1S', r_ui=5.0, est=4.821575165221736, details={'was_impossible': False}),\n",
              " Prediction(uid='A24RCBRDXRXR0Y', iid='B0088CJT4U', r_ui=4.0, est=3.801163345849452, details={'was_impossible': False}),\n",
              " Prediction(uid='A2Q204DY2L7YRP', iid='B0056TYRMW', r_ui=5.0, est=4.759144193273991, details={'was_impossible': False}),\n",
              " Prediction(uid='A213J54E63SYOP', iid='B0041Q38NU', r_ui=3.0, est=4.000135628126764, details={'was_impossible': False}),\n",
              " Prediction(uid='A3Q1J68QY1MZQ9', iid='B002TLTE6Y', r_ui=4.0, est=4.295825768978407, details={'was_impossible': False}),\n",
              " Prediction(uid='AKX9EQ37PAYMY', iid='B00834SJNA', r_ui=5.0, est=4.731899379161823, details={'was_impossible': False}),\n",
              " Prediction(uid='AM0QLU79O05JR', iid='B002LARVYK', r_ui=5.0, est=3.23475858339366, details={'was_impossible': False}),\n",
              " Prediction(uid='A2L0F2T1DLTNT8', iid='B004YHXXKO', r_ui=4.0, est=4.387362291948147, details={'was_impossible': False}),\n",
              " Prediction(uid='A2BMZRO0H7TFCS', iid='B009NHWVIA', r_ui=3.0, est=4.441978239296184, details={'was_impossible': False}),\n",
              " Prediction(uid='AIJQU979J6UFY', iid='B0013DXVYK', r_ui=5.0, est=4.664033594227986, details={'was_impossible': False}),\n",
              " Prediction(uid='AUBEFRFHJR64Y', iid='B00814CAS2', r_ui=4.0, est=3.9583120816576187, details={'was_impossible': False}),\n",
              " Prediction(uid='A2YEOR4XJ8N3QE', iid='B008DWCRQW', r_ui=5.0, est=3.9365774656427006, details={'was_impossible': False}),\n",
              " Prediction(uid='A33CNFK776MTWR', iid='B004Q3RE2O', r_ui=4.0, est=4.059054432394802, details={'was_impossible': False}),\n",
              " Prediction(uid='A3FOSLM5G1BO63', iid='B009NHWVIA', r_ui=5.0, est=4.271959193572741, details={'was_impossible': False}),\n",
              " Prediction(uid='A2NB2E5DXE319Z', iid='B000N99BBC', r_ui=5.0, est=4.937789280021007, details={'was_impossible': False}),\n",
              " Prediction(uid='A9Y5O2R4D6EH5', iid='B006K551TO', r_ui=4.0, est=3.7374668570408662, details={'was_impossible': False}),\n",
              " Prediction(uid='A11EYMH9UV9XG7', iid='B005EM6IAA', r_ui=5.0, est=4.5443423915693515, details={'was_impossible': False}),\n",
              " Prediction(uid='AZNUHQSHZHSUE', iid='B009UEAZ84', r_ui=5.0, est=4.448374286177932, details={'was_impossible': False}),\n",
              " Prediction(uid='A2V9DTXTQ5YIMK', iid='B005J31BCY', r_ui=5.0, est=4.795146765675569, details={'was_impossible': False}),\n",
              " Prediction(uid='A368IPE6EW0GZL', iid='B0055MBQOM', r_ui=5.0, est=4.1774894503075535, details={'was_impossible': False}),\n",
              " Prediction(uid='A2A4X545ERLS7H', iid='B0052SCU8U', r_ui=5.0, est=5, details={'was_impossible': False}),\n",
              " Prediction(uid='A2N75ADJSRW0AH', iid='B00CDS9HTM', r_ui=4.0, est=4.566723386493794, details={'was_impossible': False}),\n",
              " Prediction(uid='A10PEXB6XAQ5XF', iid='B00DQZSEWM', r_ui=4.0, est=3.661616808708521, details={'was_impossible': False}),\n",
              " Prediction(uid='A1MEISNED4NP7U', iid='B001E0JH5E', r_ui=5.0, est=4.554381491302726, details={'was_impossible': False}),\n",
              " Prediction(uid='A1BJOHHLG0D965', iid='B001QLFNCC', r_ui=5.0, est=4.178414563554264, details={'was_impossible': False}),\n",
              " Prediction(uid='A3F3B6HY9RJI04', iid='B00275EVAQ', r_ui=5.0, est=4.628372318114979, details={'was_impossible': False}),\n",
              " Prediction(uid='A1PN2U0AWXGVML', iid='B000OFSN4G', r_ui=5.0, est=4.788683909260953, details={'was_impossible': False}),\n",
              " Prediction(uid='AW63IRQWH10GF', iid='B0024G48VA', r_ui=4.0, est=3.6740598135789235, details={'was_impossible': False}),\n",
              " Prediction(uid='A3CIET1UO3G51E', iid='B0043WJRRS', r_ui=5.0, est=4.674126382838598, details={'was_impossible': False}),\n",
              " Prediction(uid='A2J3VCGBNDLAKF', iid='B00317HUWU', r_ui=4.0, est=4.422774474887674, details={'was_impossible': False}),\n",
              " Prediction(uid='A2XXBZPQT5EXHV', iid='B0049MPQGS', r_ui=5.0, est=4.766720956677377, details={'was_impossible': False}),\n",
              " Prediction(uid='ADKGE078JK8K7', iid='B002L6HE6E', r_ui=4.0, est=4.4549753620149275, details={'was_impossible': False}),\n",
              " Prediction(uid='A2HKUM9OEBQKDW', iid='B0074703CM', r_ui=5.0, est=4.146696121135673, details={'was_impossible': False}),\n",
              " Prediction(uid='A250AXLRBVYKB4', iid='B001SH2AVQ', r_ui=3.0, est=4.1423925749601045, details={'was_impossible': False}),\n",
              " Prediction(uid='A28I5UM0FT3I6T', iid='B00609B3J2', r_ui=5.0, est=4.677609893162643, details={'was_impossible': False}),\n",
              " Prediction(uid='A259MPG6SOL02P', iid='B003PHJJV6', r_ui=5.0, est=3.451793048143903, details={'was_impossible': False}),\n",
              " Prediction(uid='A11ED8O95W2103', iid='B00005MOZG', r_ui=1.0, est=3.7119057090802983, details={'was_impossible': False}),\n",
              " Prediction(uid='AM3XNQU9TZBD8', iid='B005FNH9RE', r_ui=5.0, est=4.736919767731626, details={'was_impossible': False}),\n",
              " Prediction(uid='AR74YY08IP2WE', iid='B009VV56TY', r_ui=4.0, est=3.9239865635187843, details={'was_impossible': False}),\n",
              " Prediction(uid='A3J8A5L5AF5TX9', iid='B000I23TTE', r_ui=5.0, est=4.240318650339782, details={'was_impossible': False}),\n",
              " Prediction(uid='A3G7BEJJCPD6DS', iid='B00FJWKYYG', r_ui=5.0, est=4.7218160551661255, details={'was_impossible': False}),\n",
              " Prediction(uid='A2MJ8OL2FYN7CW', iid='B007C0Y8NQ', r_ui=4.0, est=3.7984633690492573, details={'was_impossible': False}),\n",
              " Prediction(uid='A25UZ7MA72SMKM', iid='B006LW0W5Y', r_ui=5.0, est=4.565414397913353, details={'was_impossible': False}),\n",
              " Prediction(uid='AG5WSXI52FPKH', iid='B000ETVKHE', r_ui=5.0, est=4.156566737368894, details={'was_impossible': False}),\n",
              " Prediction(uid='A35HUT8MQMT21L', iid='B001SJVU6K', r_ui=1.0, est=3.8207152301355265, details={'was_impossible': False}),\n",
              " Prediction(uid='A1ODOGXEYECQQ8', iid='B007M52EXM', r_ui=3.0, est=4.038089087570872, details={'was_impossible': False}),\n",
              " Prediction(uid='A19W47CXJJP1MI', iid='B002VPE1XE', r_ui=5.0, est=4.6026810984652435, details={'was_impossible': False}),\n",
              " Prediction(uid='A212MDP6K4VJS5', iid='B003YBUSMW', r_ui=4.0, est=4.0864256073117184, details={'was_impossible': False}),\n",
              " Prediction(uid='A33HIV8RXRDM88', iid='B0088CJT4U', r_ui=4.0, est=4.265534560621794, details={'was_impossible': False}),\n",
              " Prediction(uid='A1V4A5U5O3TMMD', iid='B0058J1QYC', r_ui=5.0, est=4.0670535823176515, details={'was_impossible': False}),\n",
              " Prediction(uid='AXU8RH1DEV21H', iid='B006K0Z1LW', r_ui=5.0, est=4.883988528632876, details={'was_impossible': False}),\n",
              " Prediction(uid='A3NG7X4APIV649', iid='B000075UZ7', r_ui=5.0, est=4.256195945709549, details={'was_impossible': False}),\n",
              " Prediction(uid='AG5WSXI52FPKH', iid='B002IO2UM2', r_ui=5.0, est=4.294422853428476, details={'was_impossible': False}),\n",
              " Prediction(uid='AW6J9IILGOZY3', iid='B0094S35W4', r_ui=3.0, est=4.399023911183613, details={'was_impossible': False}),\n",
              " Prediction(uid='A3OXHLG6DIBRW8', iid='B002M3SOC4', r_ui=5.0, est=4.652710335148761, details={'was_impossible': False}),\n",
              " Prediction(uid='A2PSD2R9A1CXG7', iid='B003ICXCWA', r_ui=4.0, est=4.178764914741656, details={'was_impossible': False}),\n",
              " Prediction(uid='A3V0YR50F1XSKP', iid='B0057Q4ADU', r_ui=5.0, est=4.850947769474672, details={'was_impossible': False}),\n",
              " Prediction(uid='A3NOBH42C7UI5M', iid='B002UT42UI', r_ui=3.0, est=3.328597209410206, details={'was_impossible': False}),\n",
              " Prediction(uid='A2E1EFNIZL2FVA', iid='B0058FAYPI', r_ui=5.0, est=4.885573739845686, details={'was_impossible': False}),\n",
              " Prediction(uid='A8X478DM3KAWM', iid='B000MAXYHY', r_ui=5.0, est=3.9512287493029916, details={'was_impossible': False}),\n",
              " Prediction(uid='AWPODHOB4GFWL', iid='B001AYW91I', r_ui=5.0, est=4.154259920297879, details={'was_impossible': False}),\n",
              " Prediction(uid='A3AYSYSLHU26U9', iid='B008X9Z7N0', r_ui=2.0, est=3.84596963972268, details={'was_impossible': False}),\n",
              " Prediction(uid='A1CPRP3VFJRS1R', iid='B000N99BBC', r_ui=5.0, est=4.107617368661656, details={'was_impossible': False}),\n",
              " Prediction(uid='A33XMCG1UFDSY2', iid='B0014KOB6Y', r_ui=1.0, est=4.323452734609013, details={'was_impossible': False}),\n",
              " Prediction(uid='A2L9OPJAAEK08Q', iid='B005DMFDKW', r_ui=4.0, est=3.619175186989463, details={'was_impossible': False}),\n",
              " Prediction(uid='AHF4I1FSIHABC', iid='B0018BTPLK', r_ui=5.0, est=4.8685968118589695, details={'was_impossible': False}),\n",
              " Prediction(uid='AGX2K0FMS0IVL', iid='B003WGNSTE', r_ui=5.0, est=3.8443538641894897, details={'was_impossible': False}),\n",
              " Prediction(uid='A3W4D8XOGLWUN5', iid='B0012Y2LLE', r_ui=4.0, est=4.244108222510201, details={'was_impossible': False}),\n",
              " Prediction(uid='AL1XV4L25FZ2S', iid='B00065DGF0', r_ui=5.0, est=4.230375917930927, details={'was_impossible': False}),\n",
              " Prediction(uid='A2I357I10ZY7CI', iid='B004XY65WQ', r_ui=4.0, est=3.975294099321233, details={'was_impossible': False}),\n",
              " Prediction(uid='A2BLFCOPSMBOZ9', iid='B005SNPTRS', r_ui=5.0, est=4.3758129856841474, details={'was_impossible': False}),\n",
              " Prediction(uid='A3F7USIDJBR8WU', iid='B0047P0QLC', r_ui=5.0, est=4.673084782398725, details={'was_impossible': False}),\n",
              " Prediction(uid='A2QRXQPHDMFCQV', iid='B005NHR6MU', r_ui=4.0, est=3.4607074792693275, details={'was_impossible': False}),\n",
              " Prediction(uid='A3FKQQTSMHOCE0', iid='B0000A1G05', r_ui=5.0, est=4.808699218257033, details={'was_impossible': False}),\n",
              " Prediction(uid='A3INN916E4VION', iid='B005DOK8NW', r_ui=5.0, est=4.435831633230472, details={'was_impossible': False}),\n",
              " Prediction(uid='A1VRANSQ0WF1YS', iid='B000AYDQB6', r_ui=4.0, est=4.120000279969194, details={'was_impossible': False}),\n",
              " Prediction(uid='A298GL2D0BHGKZ', iid='B0026ZPFBG', r_ui=3.0, est=4.099266338121368, details={'was_impossible': False}),\n",
              " Prediction(uid='A2HMF8ZR67BNZS', iid='B0002MQGK4', r_ui=5.0, est=4.556250943866046, details={'was_impossible': False}),\n",
              " Prediction(uid='A19UTUEBWKIZFT', iid='B002J9HBIO', r_ui=5.0, est=4.904653851283084, details={'was_impossible': False}),\n",
              " Prediction(uid='A3KZEGBTPH6MMF', iid='B004RKQMCY', r_ui=2.0, est=4.253468963386144, details={'was_impossible': False}),\n",
              " Prediction(uid='ALHC64J88LVWO', iid='B003VX3S3Y', r_ui=5.0, est=3.4934137166044805, details={'was_impossible': False}),\n",
              " Prediction(uid='A314KKDIJWCNMV', iid='B001V9LA44', r_ui=4.0, est=4.428896389389967, details={'was_impossible': False}),\n",
              " Prediction(uid='A3TP31S61PPE3G', iid='B008PQAFR4', r_ui=5.0, est=4.469119797543492, details={'was_impossible': False}),\n",
              " Prediction(uid='A2SH6A32BE6NEV', iid='B004TKTOWC', r_ui=3.0, est=3.9920846241929233, details={'was_impossible': False}),\n",
              " Prediction(uid='AFHYEO3Y1IIDD', iid='B00006HMPK', r_ui=5.0, est=4.421956590347403, details={'was_impossible': False}),\n",
              " Prediction(uid='A2I2KPNJDQ9SL0', iid='B005CLPP84', r_ui=5.0, est=4.33157130739774, details={'was_impossible': False}),\n",
              " Prediction(uid='A2F7CSE6KT7NI4', iid='B00FR6VL50', r_ui=5.0, est=4.406634596215755, details={'was_impossible': False}),\n",
              " Prediction(uid='A3NCIN6TNL0MGA', iid='B00120WRSU', r_ui=5.0, est=4.6557025278828705, details={'was_impossible': False}),\n",
              " Prediction(uid='A23NSKTMSPPBTR', iid='B005I6EU48', r_ui=4.0, est=3.8835615875542904, details={'was_impossible': False}),\n",
              " Prediction(uid='A3N4VTNFPMTHEF', iid='B000779RZA', r_ui=3.0, est=4.093102958469283, details={'was_impossible': False}),\n",
              " Prediction(uid='A1EVV74UQYVKRY', iid='B000LGFLXO', r_ui=4.0, est=4.635175286070441, details={'was_impossible': False}),\n",
              " Prediction(uid='A17HMM1M7T9PJ1', iid='B002BH3I9U', r_ui=4.0, est=4.003161440150719, details={'was_impossible': False}),\n",
              " Prediction(uid='A3F7F7QKQP2FKT', iid='B003U9RHM2', r_ui=5.0, est=4.803687237208642, details={'was_impossible': False}),\n",
              " Prediction(uid='A1FDSZISWIXH1A', iid='B00310PJM0', r_ui=5.0, est=4.73463965797352, details={'was_impossible': False}),\n",
              " Prediction(uid='A4UGMKUSX9XHI', iid='B007BY0MIS', r_ui=3.0, est=4.137233335003207, details={'was_impossible': False}),\n",
              " Prediction(uid='AO2EURP2Y4JZM', iid='B002SZEOLG', r_ui=4.0, est=3.958924379429578, details={'was_impossible': False}),\n",
              " Prediction(uid='A2HRHF83I3NDGT', iid='B000I23TTE', r_ui=5.0, est=4.863419100767893, details={'was_impossible': False}),\n",
              " Prediction(uid='A1C47ROOK7BSVL', iid='B005TFONMC', r_ui=5.0, est=3.266721690596757, details={'was_impossible': False}),\n",
              " Prediction(uid='A1H4IVXNXWWBLV', iid='B005IHAIC0', r_ui=4.0, est=4.44368559859003, details={'was_impossible': False}),\n",
              " Prediction(uid='AN81JUYW2SL24', iid='B003ASPH48', r_ui=4.0, est=4.37240634660682, details={'was_impossible': False}),\n",
              " Prediction(uid='ABDR6IJ93HFIO', iid='B001IYS1QM', r_ui=5.0, est=4.8980897480815235, details={'was_impossible': False}),\n",
              " Prediction(uid='A1KY5G5FP31F2F', iid='B004Q3RE2O', r_ui=5.0, est=4.345795057973114, details={'was_impossible': False}),\n",
              " Prediction(uid='A26EQ8U96JA92T', iid='B000FKKWVM', r_ui=5.0, est=4.390080328186352, details={'was_impossible': False}),\n",
              " Prediction(uid='A3UXW18DP4WSD6', iid='B003WGJYCY', r_ui=5.0, est=4.9149875708714665, details={'was_impossible': False}),\n",
              " Prediction(uid='AGX2K0FMS0IVL', iid='B001U3DZMQ', r_ui=5.0, est=3.9149779760924353, details={'was_impossible': False}),\n",
              " Prediction(uid='A298GL2D0BHGKZ', iid='B009C98NPY', r_ui=5.0, est=4.167490891566993, details={'was_impossible': False}),\n",
              " Prediction(uid='A38Z6QG6988WS7', iid='B00752R9SM', r_ui=5.0, est=4.773209019148709, details={'was_impossible': False}),\n",
              " Prediction(uid='A27M75LRSJ788H', iid='B002HZW6WQ', r_ui=5.0, est=4.594082150399203, details={'was_impossible': False}),\n",
              " Prediction(uid='A3963R7EPE3A7E', iid='B0074FGMEW', r_ui=5.0, est=4.834902056315963, details={'was_impossible': False}),\n",
              " Prediction(uid='A2NX6MFZP8TM6S', iid='B000IK5XWW', r_ui=5.0, est=4.646559453218616, details={'was_impossible': False}),\n",
              " Prediction(uid='A34UVV757IKPVB', iid='B005O88CY4', r_ui=4.0, est=3.635038590251568, details={'was_impossible': False}),\n",
              " Prediction(uid='A21T0D2F7SKG5S', iid='B000I1YIDQ', r_ui=5.0, est=4.306011470318207, details={'was_impossible': False}),\n",
              " Prediction(uid='A9ELHLPXF7JKD', iid='B0017U0WM8', r_ui=5.0, est=4.393301564417423, details={'was_impossible': False}),\n",
              " Prediction(uid='AQIJ3ZEEVCIKU', iid='B007PZYBTY', r_ui=4.0, est=3.9293007953713177, details={'was_impossible': False}),\n",
              " Prediction(uid='A37IRE9GZ0CZ7I', iid='B00F3ZO6HU', r_ui=3.0, est=3.9843908978969087, details={'was_impossible': False}),\n",
              " Prediction(uid='A6XDZ1MJ0B1A2', iid='B0090UEQ8I', r_ui=1.0, est=3.0076263039005235, details={'was_impossible': False}),\n",
              " Prediction(uid='A23WPWLYT3P1CZ', iid='B008OHNZI0', r_ui=5.0, est=5, details={'was_impossible': False}),\n",
              " Prediction(uid='A2SKEQT0WTB954', iid='B0002XQDSS', r_ui=5.0, est=4.839562082510696, details={'was_impossible': False}),\n",
              " Prediction(uid='AYB4ELCS5AM8P', iid='B000L47AHG', r_ui=5.0, est=4.840768044456993, details={'was_impossible': False}),\n",
              " Prediction(uid='A2WYF4POBUXL2O', iid='B000GHXMO8', r_ui=2.0, est=4.295491924121758, details={'was_impossible': False}),\n",
              " Prediction(uid='A2WLNSZ9U0T1S3', iid='B001UI2FPE', r_ui=5.0, est=4.9986861688658815, details={'was_impossible': False}),\n",
              " Prediction(uid='ARC5ASW9CUAGP', iid='B001V9LPT4', r_ui=4.0, est=4.065395130304117, details={'was_impossible': False}),\n",
              " Prediction(uid='A1ZU55TM45Y2R8', iid='B0011N180Q', r_ui=5.0, est=4.003364912559113, details={'was_impossible': False}),\n",
              " Prediction(uid='AHIK7BUXFRMT8', iid='B0019HGTLC', r_ui=5.0, est=4.733878090637585, details={'was_impossible': False}),\n",
              " Prediction(uid='A15G70V9OBTOVO', iid='B008NENG1A', r_ui=3.0, est=3.850160834486151, details={'was_impossible': False}),\n",
              " Prediction(uid='ABE5E8B3J7MKY', iid='B003DZ166Q', r_ui=5.0, est=4.814888158540201, details={'was_impossible': False}),\n",
              " Prediction(uid='A1V4A5U5O3TMMD', iid='B0018BTPLK', r_ui=5.0, est=4.214541162327847, details={'was_impossible': False}),\n",
              " Prediction(uid='A15G70V9OBTOVO', iid='B0097BEF0O', r_ui=3.0, est=3.6648476107319565, details={'was_impossible': False}),\n",
              " Prediction(uid='A1ZU55TM45Y2R8', iid='B008X9Z8NE', r_ui=5.0, est=4.208548579709517, details={'was_impossible': False}),\n",
              " Prediction(uid='A2BMZRO0H7TFCS', iid='B003VANO7C', r_ui=3.0, est=4.379712026459012, details={'was_impossible': False}),\n",
              " Prediction(uid='AGHZXQL9F94T9', iid='B00006IR39', r_ui=2.0, est=3.58027807845003, details={'was_impossible': False}),\n",
              " Prediction(uid='A3RGJ1FXOB1ZLL', iid='B0025VKUQQ', r_ui=5.0, est=4.986650217794224, details={'was_impossible': False}),\n",
              " Prediction(uid='A2XU6J41ZQOJ2V', iid='B0007RALGO', r_ui=5.0, est=4.5711468549861065, details={'was_impossible': False}),\n",
              " Prediction(uid='A2X695AM08AIN1', iid='B003ZUIHY8', r_ui=4.0, est=4.511827012104376, details={'was_impossible': False}),\n",
              " Prediction(uid='A1VYFEJM12ZP11', iid='B005KELR3A', r_ui=5.0, est=4.40719036462346, details={'was_impossible': False}),\n",
              " Prediction(uid='A1T1YSCDW0PD25', iid='B000NDA5E0', r_ui=5.0, est=4.648904147550525, details={'was_impossible': False}),\n",
              " Prediction(uid='A2NB2E5DXE319Z', iid='B0095F5ACE', r_ui=3.0, est=4.001296663011976, details={'was_impossible': False}),\n",
              " Prediction(uid='AKT8TGIT6VVZ5', iid='B00021EE4U', r_ui=4.0, est=4.900373578551958, details={'was_impossible': False}),\n",
              " Prediction(uid='A3QAO3QBCQF89T', iid='B004RORMF6', r_ui=5.0, est=4.7019084689735715, details={'was_impossible': False}),\n",
              " Prediction(uid='A1VQHH85U7PX0', iid='B0062XB9FE', r_ui=5.0, est=4.89458411714256, details={'was_impossible': False}),\n",
              " Prediction(uid='A680RUE1FDO8B', iid='B000VM8EDW', r_ui=5.0, est=4.445666446397593, details={'was_impossible': False}),\n",
              " Prediction(uid='A3EXWV8FNSSFL6', iid='B0012R9T0M', r_ui=4.0, est=4.541610623134837, details={'was_impossible': False}),\n",
              " Prediction(uid='A2L4ZGN7GZJ95T', iid='B007JCMDA2', r_ui=4.0, est=3.960429238178263, details={'was_impossible': False}),\n",
              " Prediction(uid='A3FEGTOLCWXSV4', iid='B00FPKDPZC', r_ui=5.0, est=4.474708611254799, details={'was_impossible': False}),\n",
              " Prediction(uid='A2AY4YUOX2N1BQ', iid='B001Q9A69O', r_ui=3.0, est=4.24865588873933, details={'was_impossible': False}),\n",
              " Prediction(uid='A3IY316DRNF5F2', iid='B0012R9WHW', r_ui=1.0, est=3.3132029937640146, details={'was_impossible': False}),\n",
              " Prediction(uid='A13EQE9EY2ET93', iid='B000EY5F5C', r_ui=4.0, est=3.7542840249068257, details={'was_impossible': False}),\n",
              " Prediction(uid='A3TP31S61PPE3G', iid='B0094R4PBU', r_ui=4.0, est=4.208030724666191, details={'was_impossible': False}),\n",
              " Prediction(uid='A38KK0SZYEH5UD', iid='B00006RVPW', r_ui=5.0, est=4.49215078962565, details={'was_impossible': False}),\n",
              " Prediction(uid='A23ONMGKEWDG4M', iid='B004PX56TI', r_ui=5.0, est=4.330075515325847, details={'was_impossible': False}),\n",
              " Prediction(uid='A1NZLRAZJGD99W', iid='B008HY8XTG', r_ui=5.0, est=4.440292995283729, details={'was_impossible': False}),\n",
              " Prediction(uid='A37D1ZP8GBHE38', iid='B0016BUKJS', r_ui=3.0, est=4.241665331979364, details={'was_impossible': False}),\n",
              " Prediction(uid='AUBEFRFHJR64Y', iid='B00119NBEG', r_ui=5.0, est=4.185951952105913, details={'was_impossible': False}),\n",
              " Prediction(uid='A3D822N1K2IAQD', iid='B005N8W214', r_ui=4.0, est=3.8488614637265512, details={'was_impossible': False}),\n",
              " Prediction(uid='A1UQBFCERIP7VJ', iid='B006RG23JC', r_ui=5.0, est=4.553122778700191, details={'was_impossible': False}),\n",
              " Prediction(uid='A2W9GX82SLKROQ', iid='B005B5G4S6', r_ui=4.0, est=3.9696685673152694, details={'was_impossible': False}),\n",
              " Prediction(uid='A35Q0RBM3YNQNF', iid='B00EVVGAC6', r_ui=5.0, est=3.6828883742619363, details={'was_impossible': False}),\n",
              " Prediction(uid='A1TFDMY4YNTV97', iid='B000F8XGJO', r_ui=3.0, est=3.391419001166963, details={'was_impossible': False}),\n",
              " Prediction(uid='A1YN5I4FINMBTI', iid='B0073FE1F0', r_ui=3.0, est=4.861828004649413, details={'was_impossible': False}),\n",
              " Prediction(uid='A1L64KDYO5BOJA', iid='B00328HR7G', r_ui=5.0, est=4.560834363031437, details={'was_impossible': False}),\n",
              " Prediction(uid='A2KYRPDKVBI2R4', iid='B0027AGK3M', r_ui=5.0, est=4.918559608909785, details={'was_impossible': False}),\n",
              " Prediction(uid='A2LF07KCXDR70D', iid='B0077QTSQM', r_ui=5.0, est=4.08319009816947, details={'was_impossible': False}),\n",
              " Prediction(uid='AKX9EQ37PAYMY', iid='B000YGNZN4', r_ui=2.0, est=4.300040978510981, details={'was_impossible': False}),\n",
              " Prediction(uid='AEJAGHLC675A7', iid='B001MX5YWI', r_ui=5.0, est=4.662148221099204, details={'was_impossible': False}),\n",
              " Prediction(uid='A1P4XD7IORSEFN', iid='B003GAJ67Y', r_ui=3.0, est=3.904806544424188, details={'was_impossible': False}),\n",
              " Prediction(uid='A35IX2GE0VC0JP', iid='B002JM1V6O', r_ui=4.0, est=3.7335566399731155, details={'was_impossible': False}),\n",
              " Prediction(uid='A2V9DTXTQ5YIMK', iid='B0023B138W', r_ui=5.0, est=4.6359200328674195, details={'was_impossible': False}),\n",
              " Prediction(uid='A8CKH8XB33XGN', iid='B005HMKKH4', r_ui=1.0, est=4.219255445887459, details={'was_impossible': False}),\n",
              " Prediction(uid='AWNJAY0M5UI70', iid='B0089VO7MY', r_ui=5.0, est=4.535728196006979, details={'was_impossible': False}),\n",
              " Prediction(uid='A3AVJCB1ZD6ZY5', iid='B005IGVY6K', r_ui=2.0, est=3.8172218280747523, details={'was_impossible': False}),\n",
              " Prediction(uid='A2PC9ZZIFV31B1', iid='B002HWJT1A', r_ui=5.0, est=4.2407718590612085, details={'was_impossible': False}),\n",
              " Prediction(uid='A2WDCAMKCCP1UR', iid='B00000K13L', r_ui=5.0, est=3.7195442195411124, details={'was_impossible': False}),\n",
              " Prediction(uid='A25C2M3QF9G7OQ', iid='B001ELK2NY', r_ui=4.0, est=4.82518640287742, details={'was_impossible': False}),\n",
              " Prediction(uid='A22MANL4US4RMY', iid='B000MEANKQ', r_ui=5.0, est=4.456091848665912, details={'was_impossible': False}),\n",
              " Prediction(uid='A38RMU1Y5TDP9', iid='B002NGVY8G', r_ui=1.0, est=4.118026434866005, details={'was_impossible': False}),\n",
              " Prediction(uid='A2PK64OVZA1U8Z', iid='B00947LCZW', r_ui=3.0, est=4.017768490392161, details={'was_impossible': False}),\n",
              " Prediction(uid='A1DO9LRCO23EOM', iid='B0052SCU8U', r_ui=5.0, est=4.889932427860173, details={'was_impossible': False}),\n",
              " Prediction(uid='A1IU7S4HCK1XK0', iid='B0097CZHAU', r_ui=4.0, est=4.4481731873170824, details={'was_impossible': False}),\n",
              " Prediction(uid='A20OBCQWBKCGZT', iid='B0044779G8', r_ui=5.0, est=4.702547721437951, details={'was_impossible': False}),\n",
              " Prediction(uid='A250AXLRBVYKB4', iid='B001H5T7LK', r_ui=5.0, est=4.470323236543625, details={'was_impossible': False}),\n",
              " Prediction(uid='A3LDFTSXU3UPBO', iid='B009SD74H2', r_ui=5.0, est=4.93608194912191, details={'was_impossible': False}),\n",
              " Prediction(uid='A1UTM65Y3G9HUL', iid='B006BCKDGW', r_ui=5.0, est=4.293083146897415, details={'was_impossible': False}),\n",
              " Prediction(uid='A1NGFGBX2VCQS8', iid='B000BSN4UY', r_ui=4.0, est=4.153387529765222, details={'was_impossible': False}),\n",
              " Prediction(uid='A2LW5AL0KQ9P1M', iid='B009T0NNRO', r_ui=3.0, est=3.8741986925723593, details={'was_impossible': False}),\n",
              " Prediction(uid='A1ZCSSCAGBCD49', iid='B003QABV4K', r_ui=2.0, est=3.634499831047293, details={'was_impossible': False}),\n",
              " Prediction(uid='A316XO4RWX21YN', iid='B0093HAWZY', r_ui=4.0, est=3.9609719492062503, details={'was_impossible': False}),\n",
              " Prediction(uid='A38QEATH3NODFM', iid='B00142OHAC', r_ui=5.0, est=4.911969719676136, details={'was_impossible': False}),\n",
              " Prediction(uid='A197T2N6RU7K56', iid='B003XU76O2', r_ui=5.0, est=4.652223193713766, details={'was_impossible': False}),\n",
              " Prediction(uid='A2NU9H8H5MJZSL', iid='B003D1ADUU', r_ui=2.0, est=2.778922445687024, details={'was_impossible': False}),\n",
              " Prediction(uid='A2NQMVTQ4PVLL', iid='B003ELVLKU', r_ui=4.0, est=4.597388673198567, details={'was_impossible': False}),\n",
              " Prediction(uid='A22CW0ZHY3NJH8', iid='B001BCC0YA', r_ui=4.0, est=4.289827645120712, details={'was_impossible': False}),\n",
              " Prediction(uid='A2NOW4U7W3F7RI', iid='B003XE3X8Q', r_ui=5.0, est=4.632663341344303, details={'was_impossible': False}),\n",
              " Prediction(uid='APGQTZZ4ZFPHO', iid='B003DSCU72', r_ui=5.0, est=4.275748799296406, details={'was_impossible': False}),\n",
              " Prediction(uid='AI8EMB0HUC6Z5', iid='B00461E7JE', r_ui=5.0, est=4.601122115307172, details={'was_impossible': False}),\n",
              " Prediction(uid='A36K2N527TXXJN', iid='B00829TIEK', r_ui=5.0, est=4.714282319688526, details={'was_impossible': False}),\n",
              " Prediction(uid='AAQ9NJ480N9W5', iid='B000I3C6CE', r_ui=4.0, est=4.529882115375809, details={'was_impossible': False}),\n",
              " Prediction(uid='AG0PM9IAHQ06C', iid='B001CCLBSA', r_ui=4.0, est=4.477909843698453, details={'was_impossible': False}),\n",
              " Prediction(uid='ABMF4UC4Z00NT', iid='B00DM5EV8C', r_ui=5.0, est=4.40118722428205, details={'was_impossible': False}),\n",
              " Prediction(uid='A17BUUBOU0598B', iid='B000WM2YS2', r_ui=4.0, est=3.67460736653631, details={'was_impossible': False}),\n",
              " Prediction(uid='A7KBAXO177NND', iid='B001E01EYQ', r_ui=5.0, est=4.588746445857927, details={'was_impossible': False}),\n",
              " Prediction(uid='A149RNR5RH19YY', iid='B0000DFZ67', r_ui=2.0, est=3.7555334123458453, details={'was_impossible': False}),\n",
              " Prediction(uid='A1MEISNED4NP7U', iid='B004V93166', r_ui=4.0, est=4.563871270051242, details={'was_impossible': False}),\n",
              " Prediction(uid='A23NSKTMSPPBTR', iid='B0038P1TP4', r_ui=3.0, est=3.555799202431664, details={'was_impossible': False}),\n",
              " Prediction(uid='A1WUQF5HWBAQJU', iid='B000MDZKUU', r_ui=5.0, est=4.27288143216606, details={'was_impossible': False}),\n",
              " Prediction(uid='A18FLOC8YQY0P8', iid='B0020ZDI5C', r_ui=5.0, est=4.477273060443857, details={'was_impossible': False}),\n",
              " Prediction(uid='AKCZIJ6ZHE41D', iid='B0035JJOLE', r_ui=4.0, est=3.931269899184843, details={'was_impossible': False}),\n",
              " Prediction(uid='A2FRKEXDXDN1KI', iid='B008EQZ25K', r_ui=5.0, est=5, details={'was_impossible': False}),\n",
              " Prediction(uid='A33PVCHCQ2BTN0', iid='B007K9P7H0', r_ui=3.0, est=4.570980710145477, details={'was_impossible': False}),\n",
              " Prediction(uid='A1CMD08Z49PGKQ', iid='B00A86QWN0', r_ui=5.0, est=4.876762713417647, details={'was_impossible': False}),\n",
              " Prediction(uid='A2NU9H8H5MJZSL', iid='B0036UUST4', r_ui=3.0, est=2.834822637814489, details={'was_impossible': False}),\n",
              " Prediction(uid='A1T1YSCDW0PD25', iid='B002NEFL8W', r_ui=5.0, est=4.368254026785158, details={'was_impossible': False}),\n",
              " Prediction(uid='AIFLY2HF8NS8U', iid='B000O5TH14', r_ui=5.0, est=4.702808248057712, details={'was_impossible': False}),\n",
              " Prediction(uid='A3QRW0UJPKIAX7', iid='B002ZV51DI', r_ui=4.0, est=4.10259665129127, details={'was_impossible': False}),\n",
              " Prediction(uid='A3QMJMTLJC34QC', iid='B001AZUTCS', r_ui=5.0, est=4.546042836217103, details={'was_impossible': False}),\n",
              " Prediction(uid='A1EOTB1WHLSW6G', iid='B0000C3GWU', r_ui=5.0, est=4.535042814270844, details={'was_impossible': False}),\n",
              " Prediction(uid='A3IJL9A50KVVZ1', iid='B002NEGTTW', r_ui=5.0, est=5, details={'was_impossible': False}),\n",
              " Prediction(uid='A1BC62X6HZJGZR', iid='B00BY3XOSW', r_ui=4.0, est=4.05504060719326, details={'was_impossible': False}),\n",
              " Prediction(uid='A1CMD08Z49PGKQ', iid='B00H1OQX6I', r_ui=5.0, est=4.872304819326142, details={'was_impossible': False}),\n",
              " Prediction(uid='ANYC38I00IRVK', iid='B004C9P9TM', r_ui=4.0, est=4.273405096922909, details={'was_impossible': False}),\n",
              " Prediction(uid='A19HT7YC1UW3D6', iid='B000FBK3QK', r_ui=5.0, est=4.51377911757382, details={'was_impossible': False}),\n",
              " Prediction(uid='AUITG1DJ3QUGK', iid='B00C28L51G', r_ui=4.0, est=4.165010157930041, details={'was_impossible': False}),\n",
              " Prediction(uid='A3RMEU4GNP60BM', iid='B00461E7JE', r_ui=4.0, est=4.321984479798447, details={'was_impossible': False}),\n",
              " Prediction(uid='A3CW0ZLUO5X2B1', iid='B0054YQO5C', r_ui=5.0, est=4.468473531128117, details={'was_impossible': False}),\n",
              " Prediction(uid='A1E55W6ES0FY17', iid='B0015A90BY', r_ui=1.0, est=3.370168830303278, details={'was_impossible': False}),\n",
              " Prediction(uid='AXU3VKZE848IY', iid='B005TCMW7S', r_ui=5.0, est=4.232547910545605, details={'was_impossible': False}),\n",
              " Prediction(uid='A1DTCJV6KOMJOA', iid='B005HY4UOG', r_ui=4.0, est=3.7058430091206493, details={'was_impossible': False}),\n",
              " Prediction(uid='A2BMZRO0H7TFCS', iid='B00BEHQKP2', r_ui=4.0, est=3.947167463573375, details={'was_impossible': False}),\n",
              " Prediction(uid='A3FBM0RMCMAABV', iid='B005LIDN14', r_ui=5.0, est=4.470667430230052, details={'was_impossible': False}),\n",
              " Prediction(uid='A2XRMQA6PJ5ZJ8', iid='B0000632FZ', r_ui=4.0, est=4.6640049992266865, details={'was_impossible': False}),\n",
              " Prediction(uid='A3V7D0LH8L7BG0', iid='B008DWCRQW', r_ui=4.0, est=4.293195486837268, details={'was_impossible': False}),\n",
              " Prediction(uid='A3ER6ARJ23CIN8', iid='B0011Z44UA', r_ui=5.0, est=4.8143378693305365, details={'was_impossible': False}),\n",
              " Prediction(uid='A2J8DE8R94ZB02', iid='B0015BUJ0Y', r_ui=4.0, est=3.7719874952745482, details={'was_impossible': False}),\n",
              " Prediction(uid='A3G007LQX6KGOD', iid='B00005Y3OM', r_ui=4.0, est=4.3570680186230994, details={'was_impossible': False}),\n",
              " Prediction(uid='A1MZL91Z44RN06', iid='B0079UAT0A', r_ui=5.0, est=4.8127253965567185, details={'was_impossible': False}),\n",
              " Prediction(uid='ABDR6IJ93HFIO', iid='B004WMGT1G', r_ui=5.0, est=4.778652230823825, details={'was_impossible': False}),\n",
              " Prediction(uid='A3LZA698SQPCXE', iid='B00FZ9SJLS', r_ui=5.0, est=4.46466775826742, details={'was_impossible': False}),\n",
              " Prediction(uid='A84FLVDK2R5JF', iid='B008D4X9UI', r_ui=5.0, est=4.389214251197598, details={'was_impossible': False}),\n",
              " Prediction(uid='A3ER6ARJ23CIN8', iid='B0099SMFVQ', r_ui=5.0, est=4.9797189453312605, details={'was_impossible': False}),\n",
              " Prediction(uid='A38C12950IM24P', iid='B00DESFE6A', r_ui=4.0, est=4.682565658365124, details={'was_impossible': False}),\n",
              " Prediction(uid='A1ZM846Y7AUYD', iid='B00009R6V0', r_ui=5.0, est=4.1888750676114315, details={'was_impossible': False}),\n",
              " Prediction(uid='A87N6UTYA6NOB', iid='B000233WJ6', r_ui=5.0, est=4.459241523012127, details={'was_impossible': False}),\n",
              " Prediction(uid='A2HXEJXEQQTM1D', iid='B004AGX4YO', r_ui=5.0, est=4.914958484354111, details={'was_impossible': False}),\n",
              " Prediction(uid='A30XZK10EZN9V4', iid='B004TJ6JH6', r_ui=4.0, est=4.597098789991839, details={'was_impossible': False}),\n",
              " Prediction(uid='A2XPK6XCL0UH1S', iid='B005UA3I72', r_ui=4.0, est=4.59804465616964, details={'was_impossible': False}),\n",
              " Prediction(uid='A2A4X545ERLS7H', iid='B000VEOIEO', r_ui=5.0, est=4.4123716113259075, details={'was_impossible': False}),\n",
              " Prediction(uid='A2OT3PDH1AWLTG', iid='B001SER47O', r_ui=5.0, est=4.920725363632158, details={'was_impossible': False}),\n",
              " Prediction(uid='AT09WGFUM934H', iid='B002SAA42Y', r_ui=5.0, est=4.290058812981306, details={'was_impossible': False}),\n",
              " Prediction(uid='A1V3TRGWOMA8LC', iid='B0007DDK7A', r_ui=5.0, est=4.390601349414764, details={'was_impossible': False}),\n",
              " Prediction(uid='A13BX9O5UDBILC', iid='B003ES5ZSW', r_ui=3.0, est=3.970916081485356, details={'was_impossible': False}),\n",
              " Prediction(uid='A3R4794K2RVU1S', iid='B002TQYUAE', r_ui=5.0, est=4.578695283664987, details={'was_impossible': False}),\n",
              " Prediction(uid='A186697K4XKXQL', iid='B00AQUO5RI', r_ui=5.0, est=4.024671825755146, details={'was_impossible': False}),\n",
              " Prediction(uid='A23GFTVIETX7DS', iid='B00HHRP11C', r_ui=4.0, est=4.635465394619251, details={'was_impossible': False}),\n",
              " Prediction(uid='A3LPL35P7FH78Y', iid='B001EYV690', r_ui=4.0, est=4.721900749203919, details={'was_impossible': False}),\n",
              " Prediction(uid='A2HBOG4LVIY15L', iid='B00007E7K9', r_ui=5.0, est=4.209551332938748, details={'was_impossible': False}),\n",
              " Prediction(uid='A1CN1P7147QDJC', iid='B003WUBIZQ', r_ui=5.0, est=4.718737183319658, details={'was_impossible': False}),\n",
              " Prediction(uid='A1SDPA1J98UP4L', iid='B00139XOCI', r_ui=5.0, est=4.289518833985933, details={'was_impossible': False}),\n",
              " Prediction(uid='A1CSRR7FCKBL9M', iid='B000ANGNN0', r_ui=5.0, est=4.575779678623345, details={'was_impossible': False}),\n",
              " Prediction(uid='A365PBEOWM7EI7', iid='B006T9B6R2', r_ui=4.0, est=3.755157572958838, details={'was_impossible': False}),\n",
              " Prediction(uid='A11YIHB6IW352W', iid='B005CLMJLU', r_ui=5.0, est=4.825557240539107, details={'was_impossible': False}),\n",
              " Prediction(uid='A1MFVAHTT2BHM0', iid='B000G36GOK', r_ui=3.0, est=3.923881424363464, details={'was_impossible': False}),\n",
              " Prediction(uid='A8WEXFRWX1ZHH', iid='B005HMKKH4', r_ui=1.0, est=3.58352395455235, details={'was_impossible': False}),\n",
              " Prediction(uid='A3MUSWDCTZINQZ', iid='B0035AN31A', r_ui=4.0, est=4.176321397935477, details={'was_impossible': False}),\n",
              " Prediction(uid='A3V7D0LH8L7BG0', iid='B00CHDSPSM', r_ui=5.0, est=4.588266900324879, details={'was_impossible': False}),\n",
              " Prediction(uid='AN9CP6J4JF91X', iid='B003C1FC7K', r_ui=5.0, est=4.494010367704712, details={'was_impossible': False}),\n",
              " Prediction(uid='A4WEZJOIZIV4U', iid='B000N8DJB6', r_ui=5.0, est=4.620793992532099, details={'was_impossible': False}),\n",
              " Prediction(uid='A16C19G0I2DE8S', iid='B007XJIYI6', r_ui=5.0, est=4.8147896476874505, details={'was_impossible': False}),\n",
              " Prediction(uid='AG2YXYIQ8TLTA', iid='B0055QZ216', r_ui=3.0, est=4.085010857042582, details={'was_impossible': False}),\n",
              " Prediction(uid='A33HIV8RXRDM88', iid='B0035JJJPU', r_ui=4.0, est=3.5913635360950042, details={'was_impossible': False}),\n",
              " Prediction(uid='A37IRE9GZ0CZ7I', iid='B003ES5ZUU', r_ui=5.0, est=4.744576042702821, details={'was_impossible': False}),\n",
              " Prediction(uid='A3ER6ARJ23CIN8', iid='B0015AARJI', r_ui=5.0, est=4.784088730800817, details={'was_impossible': False}),\n",
              " Prediction(uid='A3LWC833HQIG7J', iid='B004Z57YJQ', r_ui=5.0, est=4.461812524795001, details={'was_impossible': False}),\n",
              " Prediction(uid='ABXANRX4GPYRZ', iid='B000VLHN9E', r_ui=5.0, est=4.261331139095731, details={'was_impossible': False}),\n",
              " Prediction(uid='A1MQQEM7W77L62', iid='B001ULD4L0', r_ui=5.0, est=4.808268546215543, details={'was_impossible': False}),\n",
              " Prediction(uid='AP53MVRC8ZEW2', iid='B00GAKX34E', r_ui=5.0, est=4.638516858845883, details={'was_impossible': False}),\n",
              " Prediction(uid='A3UXW18DP4WSD6', iid='B003LSTD38', r_ui=5.0, est=4.972993806116699, details={'was_impossible': False}),\n",
              " Prediction(uid='ASFW4ZMNZJKDA', iid='B004J4VYEY', r_ui=4.0, est=3.7021109859580847, details={'was_impossible': False}),\n",
              " Prediction(uid='A1FF2PLA84KNAE', iid='B002BH3Z8E', r_ui=5.0, est=4.843013362790838, details={'was_impossible': False}),\n",
              " Prediction(uid='A2Z1R98M2XOCEJ', iid='B00E7LOXTW', r_ui=3.0, est=3.6745635087120734, details={'was_impossible': False}),\n",
              " Prediction(uid='AOEAD7DPLZE53', iid='B00A4A1TYM', r_ui=5.0, est=4.276904506522893, details={'was_impossible': False}),\n",
              " Prediction(uid='A2PB325LKXYDOL', iid='B007YXA5SI', r_ui=5.0, est=4.381189474874319, details={'was_impossible': False}),\n",
              " Prediction(uid='A1NGFGBX2VCQS8', iid='B008HO9DK4', r_ui=5.0, est=3.9971310305107814, details={'was_impossible': False}),\n",
              " Prediction(uid='AZMY6E8B52L2T', iid='B000BQ7GW8', r_ui=5.0, est=4.986028758379207, details={'was_impossible': False}),\n",
              " Prediction(uid='ADLVFFE4VBT8', iid='B003U7LJJ6', r_ui=4.0, est=4.296196264790091, details={'was_impossible': False}),\n",
              " Prediction(uid='A11KZ906QD08C5', iid='B0011000R6', r_ui=4.0, est=4.3101837236016936, details={'was_impossible': False}),\n",
              " Prediction(uid='AVU1ILDDYW301', iid='B005EJH6RW', r_ui=4.0, est=3.989651081210517, details={'was_impossible': False}),\n",
              " Prediction(uid='A20DZX38KRBIT8', iid='B000V07N9U', r_ui=5.0, est=3.140375980653926, details={'was_impossible': False}),\n",
              " Prediction(uid='ARXU3FESTWMJJ', iid='B0038KTAXW', r_ui=3.0, est=3.774742728525172, details={'was_impossible': False}),\n",
              " Prediction(uid='A2BMZRO0H7TFCS', iid='B000092YQW', r_ui=5.0, est=3.6724067478430187, details={'was_impossible': False}),\n",
              " Prediction(uid='A1MFVAHTT2BHM0', iid='B001N4KGNS', r_ui=4.0, est=3.9358948666637295, details={'was_impossible': False}),\n",
              " Prediction(uid='A3MUSWDCTZINQZ', iid='B00E5UHRIO', r_ui=4.0, est=4.2707780991449535, details={'was_impossible': False}),\n",
              " Prediction(uid='A38KK0SZYEH5UD', iid='B0002MH3HO', r_ui=5.0, est=4.355994050473682, details={'was_impossible': False}),\n",
              " Prediction(uid='ALQ4USPEQ9L5N', iid='B001762LIA', r_ui=5.0, est=4.280526753443967, details={'was_impossible': False}),\n",
              " Prediction(uid='A2TKWMX4563NR6', iid='B007WTAJTO', r_ui=5.0, est=4.289230547676523, details={'was_impossible': False}),\n",
              " Prediction(uid='A3J6Q0Y0SKY7AR', iid='B002K8U0WI', r_ui=3.0, est=4.290131850114196, details={'was_impossible': False}),\n",
              " Prediction(uid='A3DGJMO6VPG6FJ', iid='B0019X20R8', r_ui=2.0, est=4.081983689603235, details={'was_impossible': False}),\n",
              " Prediction(uid='A1EVV74UQYVKRY', iid='B00GMRCAC6', r_ui=5.0, est=4.700778436978436, details={'was_impossible': False}),\n",
              " Prediction(uid='A2ME89MSWVG9NF', iid='B001EYU3HG', r_ui=5.0, est=4.086835121306446, details={'was_impossible': False}),\n",
              " Prediction(uid='A1PVJICI412IN4', iid='B0018LX0DY', r_ui=2.0, est=3.5143882139870564, details={'was_impossible': False}),\n",
              " Prediction(uid='A2WC9NFLG57W4H', iid='B000O8WE66', r_ui=5.0, est=4.468912076206874, details={'was_impossible': False}),\n",
              " Prediction(uid='AM0QLU79O05JR', iid='B00G69FC48', r_ui=1.0, est=2.644179710242797, details={'was_impossible': False}),\n",
              " Prediction(uid='A2MCRCK1V61FWQ', iid='B003O8J11E', r_ui=5.0, est=4.770860844639709, details={'was_impossible': False}),\n",
              " Prediction(uid='A3UXW18DP4WSD6', iid='B0074H3IU6', r_ui=5.0, est=4.840148043031653, details={'was_impossible': False}),\n",
              " Prediction(uid='A18FLOC8YQY0P8', iid='B000IF4788', r_ui=3.0, est=4.017770175865683, details={'was_impossible': False}),\n",
              " Prediction(uid='AG6TX1ZJHLMO7', iid='B000A6PPOK', r_ui=5.0, est=4.0178783445677295, details={'was_impossible': False}),\n",
              " Prediction(uid='A2NVQZ4Y7Y0J1R', iid='B0001AU6H6', r_ui=4.0, est=4.066871914279254, details={'was_impossible': False}),\n",
              " Prediction(uid='A2LW5AL0KQ9P1M', iid='B005LMWP82', r_ui=5.0, est=4.107445312637166, details={'was_impossible': False}),\n",
              " Prediction(uid='A145B8OHVNNFAJ', iid='B009UNZ5WQ', r_ui=4.0, est=4.218316413122823, details={'was_impossible': False}),\n",
              " Prediction(uid='A2IFGGXG3YV3Y6', iid='B008ULPD0S', r_ui=4.0, est=4.496812045397788, details={'was_impossible': False}),\n",
              " Prediction(uid='A31N0XY2UTB25C', iid='B002LBROAA', r_ui=5.0, est=4.783699814020352, details={'was_impossible': False}),\n",
              " Prediction(uid='A1JZFGZEZVWQPY', iid='B003NG0BKM', r_ui=2.0, est=3.830869142683738, details={'was_impossible': False}),\n",
              " Prediction(uid='A2BYV7S1QP2YIG', iid='B008RDI0TU', r_ui=5.0, est=4.825011887313944, details={'was_impossible': False}),\n",
              " Prediction(uid='A27Y4OEC9MD9PA', iid='B001MT8J4W', r_ui=5.0, est=5, details={'was_impossible': False}),\n",
              " Prediction(uid='A20951I210L0IB', iid='B002OOWB3O', r_ui=4.0, est=3.8371623708439695, details={'was_impossible': False}),\n",
              " Prediction(uid='A2UOHALGF2X77Q', iid='B00B5HE32I', r_ui=4.0, est=4.369793716955643, details={'was_impossible': False}),\n",
              " Prediction(uid='A2KZOIOFXXMC1H', iid='B000MCEL1K', r_ui=3.0, est=3.9732545099719743, details={'was_impossible': False}),\n",
              " Prediction(uid='A3EHJ5519LG7TR', iid='B001RB1XY8', r_ui=5.0, est=4.215020473265027, details={'was_impossible': False}),\n",
              " Prediction(uid='A3IOQ7NVVLAUEE', iid='B004716NFE', r_ui=2.0, est=4.158205884791437, details={'was_impossible': False}),\n",
              " Prediction(uid='A1OES7R7FDAT2L', iid='B002NU5O9C', r_ui=5.0, est=4.446372844680264, details={'was_impossible': False}),\n",
              " Prediction(uid='A1OGCPMSIVK7G4', iid='B004LTEUDO', r_ui=5.0, est=4.5589262203258984, details={'was_impossible': False}),\n",
              " Prediction(uid='A1VTCSCH8FFC76', iid='B001GDLYAU', r_ui=3.0, est=4.127121676047894, details={'was_impossible': False}),\n",
              " Prediction(uid='A32O98PFC3OP7K', iid='B006GDTTM0', r_ui=4.0, est=4.198681800662072, details={'was_impossible': False}),\n",
              " Prediction(uid='A1FR68QH6Z4YZM', iid='B000O161X0', r_ui=2.0, est=4.515431014715459, details={'was_impossible': False}),\n",
              " Prediction(uid='A2503LT8PZIHAD', iid='B002FB7IX4', r_ui=5.0, est=4.265922436493376, details={'was_impossible': False}),\n",
              " Prediction(uid='A31HE83MU98GBV', iid='B000065BPA', r_ui=4.0, est=4.5824494410396115, details={'was_impossible': False}),\n",
              " Prediction(uid='A2OS3TIVAKUAHG', iid='B0038JE07O', r_ui=3.0, est=3.6715359083799313, details={'was_impossible': False}),\n",
              " Prediction(uid='A1Z3598J0371ND', iid='B00D1GYNT4', r_ui=5.0, est=4.683496000769667, details={'was_impossible': False}),\n",
              " Prediction(uid='A1IU7S4HCK1XK0', iid='B00428N9N6', r_ui=4.0, est=4.325007553680565, details={'was_impossible': False}),\n",
              " Prediction(uid='A2WPL6Y08K6ZQH', iid='B001BER1B0', r_ui=4.0, est=4.232630123359446, details={'was_impossible': False}),\n",
              " Prediction(uid='AMRMK86X3PKXD', iid='B0044DEDC0', r_ui=5.0, est=4.683724144763164, details={'was_impossible': False}),\n",
              " Prediction(uid='A3RGJ1FXOB1ZLL', iid='B001LL5JDA', r_ui=5.0, est=4.864984120742103, details={'was_impossible': False}),\n",
              " Prediction(uid='A3KCETSIJNOK56', iid='B004XMOS22', r_ui=5.0, est=4.050961483689, details={'was_impossible': False}),\n",
              " Prediction(uid='A2LB4FLRZG6CUV', iid='B0077CR5RK', r_ui=5.0, est=4.3256386586314886, details={'was_impossible': False}),\n",
              " Prediction(uid='A1MEISNED4NP7U', iid='B00483WRZ6', r_ui=5.0, est=4.74961802028658, details={'was_impossible': False}),\n",
              " Prediction(uid='A3A15L96IYUO6V', iid='B004PA2B6C', r_ui=5.0, est=4.369814101310939, details={'was_impossible': False}),\n",
              " Prediction(uid='A2XPK6XCL0UH1S', iid='B0021L9BZQ', r_ui=3.0, est=3.812321398473667, details={'was_impossible': False}),\n",
              " Prediction(uid='A3A4ZAIBQWKOZS', iid='B00AE0IEHM', r_ui=5.0, est=4.623981657428798, details={'was_impossible': False}),\n",
              " Prediction(uid='A2858RV2VLI14X', iid='B005Y8BYOE', r_ui=5.0, est=4.286764117114901, details={'was_impossible': False}),\n",
              " Prediction(uid='A3HQAPXAJV7PRX', iid='B007X3VC7W', r_ui=5.0, est=4.562852633433564, details={'was_impossible': False}),\n",
              " Prediction(uid='A1TDR7Y90SVCHL', iid='B00004SABB', r_ui=3.0, est=4.265765214709176, details={'was_impossible': False}),\n",
              " Prediction(uid='A3A4ZAIBQWKOZS', iid='B006TF3746', r_ui=4.0, est=4.318351495304692, details={'was_impossible': False}),\n",
              " Prediction(uid='A36IHC0K68NS2', iid='B005DKZTNK', r_ui=3.0, est=3.6103023565884023, details={'was_impossible': False}),\n",
              " Prediction(uid='A1VJ0V58N0698J', iid='B005A2RLXC', r_ui=1.0, est=2.5989929838315646, details={'was_impossible': False}),\n",
              " Prediction(uid='A1F9Z42CFF9IAY', iid='B002RL875A', r_ui=5.0, est=3.6722758086451557, details={'was_impossible': False}),\n",
              " Prediction(uid='A1F1A0QQP2XVH5', iid='B00EAXRVLY', r_ui=4.0, est=3.91964148739928, details={'was_impossible': False}),\n",
              " Prediction(uid='AMFXXAOVV4CPJ', iid='B001QUA6RA', r_ui=5.0, est=5, details={'was_impossible': False}),\n",
              " Prediction(uid='A11T807LX2EF00', iid='B002NEG0VO', r_ui=5.0, est=4.340433241103428, details={'was_impossible': False}),\n",
              " Prediction(uid='A2PZXXPGLXXKZU', iid='B0002CPBUK', r_ui=5.0, est=4.105105999645034, details={'was_impossible': False}),\n",
              " Prediction(uid='A27M75LRSJ788H', iid='B002S9KDKS', r_ui=5.0, est=4.889672434683986, details={'was_impossible': False}),\n",
              " Prediction(uid='AXU8RH1DEV21H', iid='B0026ZPFCK', r_ui=5.0, est=4.697124125413823, details={'was_impossible': False}),\n",
              " Prediction(uid='A1KDUQ2HU0WD68', iid='B00ALN54KM', r_ui=4.0, est=3.958692100539589, details={'was_impossible': False}),\n",
              " Prediction(uid='A11T807LX2EF00', iid='B00BOHNYU6', r_ui=5.0, est=5, details={'was_impossible': False}),\n",
              " Prediction(uid='A1EH2S92FHWZRP', iid='B003OA8T92', r_ui=5.0, est=4.0819998578652035, details={'was_impossible': False}),\n",
              " Prediction(uid='A2L4ZGN7GZJ95T', iid='B00C28L51G', r_ui=5.0, est=4.177299338611816, details={'was_impossible': False}),\n",
              " Prediction(uid='A2XRMQA6PJ5ZJ8', iid='B00L3YHF6O', r_ui=5.0, est=4.987961046533009, details={'was_impossible': False}),\n",
              " Prediction(uid='ARX7Z3NI6O0F7', iid='B0000BZL0G', r_ui=5.0, est=4.759975343697563, details={'was_impossible': False}),\n",
              " Prediction(uid='A1T7EHCMZ92TKC', iid='B009CQNPYQ', r_ui=4.0, est=4.511447443459583, details={'was_impossible': False}),\n",
              " Prediction(uid='AENULRBQ2IE5I', iid='B001TLQK8U', r_ui=5.0, est=4.712948611831733, details={'was_impossible': False}),\n",
              " Prediction(uid='A6FIAB28IS79', iid='B002C7481G', r_ui=5.0, est=4.295302852854429, details={'was_impossible': False}),\n",
              " Prediction(uid='A5Q1FK0FWU7DH', iid='B001TOD7ME', r_ui=5.0, est=4.709563584856064, details={'was_impossible': False}),\n",
              " Prediction(uid='A3GX0FAMEXV6FB', iid='B0064FS7HI', r_ui=5.0, est=4.096727529169556, details={'was_impossible': False}),\n",
              " Prediction(uid='A2F2GLVFRNV7JJ', iid='B005DBEA52', r_ui=5.0, est=4.444401879774598, details={'was_impossible': False}),\n",
              " Prediction(uid='AYOTEJ617O60K', iid='B007KB0EGC', r_ui=3.0, est=4.086819930342445, details={'was_impossible': False}),\n",
              " Prediction(uid='A1MCH5RXDOH87H', iid='B00FPKDPZC', r_ui=5.0, est=4.1597628931035615, details={'was_impossible': False}),\n",
              " Prediction(uid='A2JCJJNY43QQIV', iid='B000UY1MB2', r_ui=4.0, est=3.975925542506267, details={'was_impossible': False}),\n",
              " Prediction(uid='A1LD5SE8IZ1H70', iid='B00752R9PK', r_ui=5.0, est=4.350277105882672, details={'was_impossible': False}),\n",
              " Prediction(uid='A3U41ZL33SS92P', iid='B005O81U8Y', r_ui=2.0, est=3.2111651614077177, details={'was_impossible': False}),\n",
              " Prediction(uid='A20DDH4NT6Q1E8', iid='B0055QZ216', r_ui=5.0, est=4.561065890439054, details={'was_impossible': False}),\n",
              " Prediction(uid='ARXU3FESTWMJJ', iid='B00169N0BK', r_ui=4.0, est=3.5993717708587063, details={'was_impossible': False}),\n",
              " Prediction(uid='A341HCMGNZCBIT', iid='B00023MEL8', r_ui=4.0, est=4.582293669804012, details={'was_impossible': False}),\n",
              " Prediction(uid='AVFJ327UXPXLF', iid='B005L38SGY', r_ui=3.0, est=4.1061150326083435, details={'was_impossible': False}),\n",
              " Prediction(uid='A21T0D2F7SKG5S', iid='B00007GQLS', r_ui=4.0, est=4.568510562916565, details={'was_impossible': False}),\n",
              " Prediction(uid='A3TRY87JJCA5Y8', iid='B000WYVBR0', r_ui=4.0, est=4.1499411082691156, details={'was_impossible': False}),\n",
              " Prediction(uid='A3EXWV8FNSSFL6', iid='B0007OWNCC', r_ui=5.0, est=4.3761773905361085, details={'was_impossible': False}),\n",
              " Prediction(uid='A2858RV2VLI14X', iid='B007WT9SSC', r_ui=5.0, est=4.5342995452633685, details={'was_impossible': False}),\n",
              " Prediction(uid='A3TAS1AG6FMBQW', iid='B00DT04I9W', r_ui=5.0, est=5, details={'was_impossible': False}),\n",
              " Prediction(uid='A2RIXSMGE9VIBG', iid='B008Y2SPH6', r_ui=5.0, est=3.8555491673407714, details={'was_impossible': False}),\n",
              " Prediction(uid='A2BX8DDQGCCG2J', iid='B003SX0O2K', r_ui=5.0, est=4.783623142716351, details={'was_impossible': False}),\n",
              " Prediction(uid='A18HE80910BTZI', iid='B0040JHVC2', r_ui=5.0, est=4.200705732770878, details={'was_impossible': False}),\n",
              " Prediction(uid='AWH2AY17ZU7W2', iid='B0001GMIOE', r_ui=5.0, est=4.608621798299839, details={'was_impossible': False}),\n",
              " Prediction(uid='A2MIP3AQVSF2SS', iid='B005X3E5BO', r_ui=5.0, est=4.502944481355185, details={'was_impossible': False}),\n",
              " Prediction(uid='AMFXXAOVV4CPJ', iid='B008MDSWI4', r_ui=5.0, est=4.316434853948705, details={'was_impossible': False}),\n",
              " Prediction(uid='AKT8TGIT6VVZ5', iid='B0000TU7I6', r_ui=5.0, est=4.9666999908212315, details={'was_impossible': False}),\n",
              " Prediction(uid='A1J75JJ0Q2OEJN', iid='B006MBP7T0', r_ui=4.0, est=3.917278755204172, details={'was_impossible': False}),\n",
              " Prediction(uid='A3QNX5KWHDV0GD', iid='B00065AO0K', r_ui=5.0, est=3.8960911197035624, details={'was_impossible': False}),\n",
              " Prediction(uid='A12DQZKRKTNF5E', iid='B00BJOZNV2', r_ui=4.0, est=4.14875649465867, details={'was_impossible': False}),\n",
              " Prediction(uid='A1J5HIF41ENSMZ', iid='B005L38QLQ', r_ui=4.0, est=3.9977709067595324, details={'was_impossible': False}),\n",
              " Prediction(uid='A21S26XYPGXJZX', iid='B008ULPCB8', r_ui=5.0, est=4.475269216025228, details={'was_impossible': False}),\n",
              " Prediction(uid='AQB4DH57MSZSC', iid='B000BKJZ9Q', r_ui=3.0, est=4.419099026517063, details={'was_impossible': False}),\n",
              " Prediction(uid='ADHA1W879JNT0', iid='B0019EQ1RW', r_ui=2.0, est=3.44703106352732, details={'was_impossible': False}),\n",
              " Prediction(uid='A2XXBZPQT5EXHV', iid='B00EOAHPNW', r_ui=5.0, est=4.7328310591690155, details={'was_impossible': False}),\n",
              " Prediction(uid='A21GW4L8FO307V', iid='B0086A7AB8', r_ui=5.0, est=4.441209114424003, details={'was_impossible': False}),\n",
              " Prediction(uid='AEZJTA4KDIWY8', iid='B001SJLLTQ', r_ui=3.0, est=4.154731204401974, details={'was_impossible': False}),\n",
              " Prediction(uid='A1JUBRIZMO0RJV', iid='B002QQ8EKO', r_ui=4.0, est=4.044730804739062, details={'was_impossible': False}),\n",
              " Prediction(uid='A37CEYB95LK6R6', iid='B0000A2QBP', r_ui=4.0, est=4.612722309600155, details={'was_impossible': False}),\n",
              " Prediction(uid='A3F9CBHV4OHFBS', iid='B002W3IXZW', r_ui=4.0, est=4.669786867402131, details={'was_impossible': False}),\n",
              " Prediction(uid='A359MYLPLEOF7N', iid='B003NYSZUW', r_ui=5.0, est=4.639446221870555, details={'was_impossible': False}),\n",
              " Prediction(uid='A10O7THJ2O20AG', iid='B005FYNSPK', r_ui=5.0, est=5, details={'was_impossible': False}),\n",
              " Prediction(uid='A3FEGTOLCWXSV4', iid='B0035JCI6M', r_ui=2.0, est=3.461752456487698, details={'was_impossible': False}),\n",
              " Prediction(uid='A2IIAQ7VVAHXTD', iid='B001DFX2OC', r_ui=5.0, est=4.448407051529837, details={'was_impossible': False}),\n",
              " Prediction(uid='A2JXS1JII6SAUD', iid='B002DMK1R0', r_ui=4.0, est=4.602899410754069, details={'was_impossible': False}),\n",
              " Prediction(uid='AHF4I1FSIHABC', iid='B0044TNPJQ', r_ui=3.0, est=4.238553323569802, details={'was_impossible': False}),\n",
              " Prediction(uid='A34VRVI4CSI5RQ', iid='B0039BPG4M', r_ui=4.0, est=4.3549001527240785, details={'was_impossible': False}),\n",
              " Prediction(uid='A3223W5IROMYTY', iid='B0065SFEE8', r_ui=5.0, est=4.4362160455731985, details={'was_impossible': False}),\n",
              " Prediction(uid='A2OS3TIVAKUAHG', iid='B0050YG3CU', r_ui=5.0, est=4.270559043544772, details={'was_impossible': False}),\n",
              " Prediction(uid='A13EQE9EY2ET93', iid='B001FFU1GC', r_ui=4.0, est=3.885066174845752, details={'was_impossible': False}),\n",
              " Prediction(uid='AW3LX47IHPFRL', iid='B002JPITXY', r_ui=2.0, est=3.7918229969835986, details={'was_impossible': False}),\n",
              " Prediction(uid='A3TNM3C9ENUCFW', iid='B00D78Q2AO', r_ui=5.0, est=4.1423998932681165, details={'was_impossible': False}),\n",
              " Prediction(uid='A3SRDVCD2ATIIS', iid='B0046TDJJK', r_ui=5.0, est=4.82958279337597, details={'was_impossible': False}),\n",
              " Prediction(uid='A34LQ791ACZ0JC', iid='B004E9SGO0', r_ui=5.0, est=4.807167645099879, details={'was_impossible': False}),\n",
              " Prediction(uid='A2503LT8PZIHAD', iid='B009O7Y9AC', r_ui=3.0, est=3.6524561177553942, details={'was_impossible': False}),\n",
              " Prediction(uid='A3EK2KTYHJCPB9', iid='B0088CJT4U', r_ui=4.0, est=4.291665107792227, details={'was_impossible': False}),\n",
              " Prediction(uid='A1ASWDAEDTTY5I', iid='B00E0EY7Z6', r_ui=5.0, est=4.681118772518808, details={'was_impossible': False}),\n",
              " Prediction(uid='A16SRDVPBXN69C', iid='B002CXEJAA', r_ui=5.0, est=4.705417742463888, details={'was_impossible': False}),\n",
              " Prediction(uid='A1ODOGXEYECQQ8', iid='B00007FGU7', r_ui=5.0, est=4.515305190956059, details={'was_impossible': False}),\n",
              " Prediction(uid='A3VZH0PWLQ9BB1', iid='B006NNWZSI', r_ui=5.0, est=4.490489958873108, details={'was_impossible': False}),\n",
              " Prediction(uid='A3IMALU0RM8UT9', iid='B005LS2J14', r_ui=4.0, est=4.6328495222238635, details={'was_impossible': False}),\n",
              " Prediction(uid='A2TKWMX4563NR6', iid='B005PZDVF6', r_ui=5.0, est=4.321802891121927, details={'was_impossible': False}),\n",
              " Prediction(uid='A2HV76MYH7UL3S', iid='B00ATKKV0A', r_ui=5.0, est=4.477909593037744, details={'was_impossible': False}),\n",
              " Prediction(uid='A2DXENZNO2JT4F', iid='B00DR6DQZA', r_ui=5.0, est=4.60505860762421, details={'was_impossible': False}),\n",
              " Prediction(uid='A2QRXQPHDMFCQV', iid='B0041RSHWG', r_ui=4.0, est=3.5853092220187355, details={'was_impossible': False}),\n",
              " Prediction(uid='A3EXWV8FNSSFL6', iid='B007RIFKUS', r_ui=5.0, est=4.6160582684231075, details={'was_impossible': False}),\n",
              " Prediction(uid='AHS6PX6H22WW1', iid='B001QFZMCO', r_ui=3.0, est=4.25189949498764, details={'was_impossible': False}),\n",
              " Prediction(uid='AFICF7DKHTQ87', iid='B009F7IBZK', r_ui=5.0, est=4.243402685647241, details={'was_impossible': False}),\n",
              " Prediction(uid='A2PREU4LOFQRB1', iid='B0019825B4', r_ui=5.0, est=4.628091628774672, details={'was_impossible': False}),\n",
              " Prediction(uid='A3UQSOJW51UU9T', iid='B002L5QGQ4', r_ui=1.0, est=3.488032328565984, details={'was_impossible': False}),\n",
              " Prediction(uid='A25C2M3QF9G7OQ', iid='B00834SJNA', r_ui=5.0, est=4.804796682504654, details={'was_impossible': False}),\n",
              " Prediction(uid='A34CKIMZ969UW7', iid='B000HJPK2C', r_ui=5.0, est=4.572210940930352, details={'was_impossible': False}),\n",
              " Prediction(uid='A29GWIJL72GXXZ', iid='B001E1Y5O6', r_ui=1.0, est=4.347519326429103, details={'was_impossible': False}),\n",
              " Prediction(uid='A31N0XY2UTB25C', iid='B000QY9KIS', r_ui=5.0, est=4.658566113591418, details={'was_impossible': False}),\n",
              " Prediction(uid='A1ILWPH1GHUXE2', iid='B000E1FYQA', r_ui=3.0, est=3.81799000852934, details={'was_impossible': False}),\n",
              " Prediction(uid='A28525P0S5ZVJ3', iid='B005EV1R8Y', r_ui=3.0, est=3.5924180513560113, details={'was_impossible': False}),\n",
              " Prediction(uid='A2QDOJFFLFGF18', iid='B0002L5R78', r_ui=5.0, est=5, details={'was_impossible': False}),\n",
              " Prediction(uid='A18HE80910BTZI', iid='B002DPTQ8W', r_ui=2.0, est=3.231468905586797, details={'was_impossible': False}),\n",
              " Prediction(uid='A1VHCO8RQFIGQJ', iid='B008MCZJXG', r_ui=5.0, est=4.419500037199028, details={'was_impossible': False}),\n",
              " Prediction(uid='A23NSKTMSPPBTR', iid='B001QUA6RA', r_ui=5.0, est=4.408561119095357, details={'was_impossible': False}),\n",
              " Prediction(uid='A3V7D0LH8L7BG0', iid='B0041Q38NU', r_ui=5.0, est=4.573877074564736, details={'was_impossible': False}),\n",
              " Prediction(uid='A3AVJCB1ZD6ZY5', iid='B006MRAVFE', r_ui=4.0, est=4.288054277285608, details={'was_impossible': False}),\n",
              " Prediction(uid='AVPNQUVZWMDSX', iid='B008C1JC4O', r_ui=5.0, est=4.556583318281536, details={'was_impossible': False}),\n",
              " Prediction(uid='A6FIAB28IS79', iid='B001F7AHXM', r_ui=5.0, est=4.711769725489774, details={'was_impossible': False}),\n",
              " Prediction(uid='A15T9G38F589KM', iid='B007KZQM8W', r_ui=5.0, est=4.8715643039837735, details={'was_impossible': False}),\n",
              " Prediction(uid='AEJAGHLC675A7', iid='B0035ERKYW', r_ui=5.0, est=4.9493520929401855, details={'was_impossible': False}),\n",
              " Prediction(uid='A2PMR2PIGWKCQ9', iid='B0054U6CEE', r_ui=5.0, est=4.333366551018699, details={'was_impossible': False}),\n",
              " Prediction(uid='A1EXGL6L0QQ0M5', iid='B00829THK0', r_ui=5.0, est=4.513530113915979, details={'was_impossible': False}),\n",
              " Prediction(uid='ANFJYYQ0P35CW', iid='B002YOENAS', r_ui=4.0, est=4.45314009506898, details={'was_impossible': False}),\n",
              " Prediction(uid='AV10H5K6VPQIJ', iid='B0027VT6V4', r_ui=5.0, est=4.229415947767682, details={'was_impossible': False}),\n",
              " Prediction(uid='A3KNGMX2RVQG91', iid='B004I2KA4M', r_ui=4.0, est=4.227018653053747, details={'was_impossible': False}),\n",
              " Prediction(uid='A38Z6QG6988WS7', iid='B004YDTMPS', r_ui=5.0, est=4.73254520935426, details={'was_impossible': False}),\n",
              " Prediction(uid='A1GWG5CWLKJ7ET', iid='B00AQDG99M', r_ui=3.0, est=3.8428726208457418, details={'was_impossible': False}),\n",
              " Prediction(uid='A3Q4TYJVAM4IRM', iid='B000I42QO6', r_ui=4.0, est=4.4990106783856945, details={'was_impossible': False}),\n",
              " Prediction(uid='A1VEELTKS8NLZB', iid='B00FSA8VQ2', r_ui=5.0, est=4.024050755172661, details={'was_impossible': False}),\n",
              " Prediction(uid='A2ZWJVKITA32OV', iid='B001D773KY', r_ui=2.0, est=3.896448169556652, details={'was_impossible': False}),\n",
              " Prediction(uid='A2HV76MYH7UL3S', iid='B008R6OPJQ', r_ui=5.0, est=4.970151929185185, details={'was_impossible': False}),\n",
              " Prediction(uid='A3JU16JTNLVK1J', iid='B001KN6WL2', r_ui=4.0, est=4.398308411779485, details={'was_impossible': False}),\n",
              " Prediction(uid='A27QXQQOLAMRRR', iid='B00180LGX6', r_ui=5.0, est=4.0740019518834805, details={'was_impossible': False}),\n",
              " Prediction(uid='A3G5MOHY1U635N', iid='B0014Z29U4', r_ui=5.0, est=4.319054302651324, details={'was_impossible': False}),\n",
              " Prediction(uid='A2LXX47A0KMJVX', iid='B003V57TBY', r_ui=5.0, est=4.219800087871988, details={'was_impossible': False}),\n",
              " Prediction(uid='A6TBR6L2D4XKC', iid='B006T4USAI', r_ui=1.0, est=3.409451039050495, details={'was_impossible': False}),\n",
              " Prediction(uid='A23GFTVIETX7DS', iid='B00FMTIUD8', r_ui=4.0, est=4.512030511032129, details={'was_impossible': False}),\n",
              " Prediction(uid='A11KZ906QD08C5', iid='B004ECZJDS', r_ui=4.0, est=4.234410842057822, details={'was_impossible': False}),\n",
              " Prediction(uid='A3CW0ZLUO5X2B1', iid='B005Z3DWIY', r_ui=4.0, est=4.162336739379613, details={'was_impossible': False}),\n",
              " Prediction(uid='A2DF62DP20RIXF', iid='B0041OMWNY', r_ui=4.0, est=3.8788764250724173, details={'was_impossible': False}),\n",
              " Prediction(uid='A20951I210L0IB', iid='B00576APEI', r_ui=4.0, est=3.6691841797545495, details={'was_impossible': False}),\n",
              " Prediction(uid='A3SU7JSTPH9CC9', iid='B003TLSXMO', r_ui=5.0, est=4.608133074854989, details={'was_impossible': False}),\n",
              " Prediction(uid='A1ODOGXEYECQQ8', iid='B007G5NNOW', r_ui=5.0, est=4.6167320366945255, details={'was_impossible': False}),\n",
              " Prediction(uid='A2QNS95WGN35G9', iid='B002KC55OM', r_ui=5.0, est=4.281922273605012, details={'was_impossible': False}),\n",
              " Prediction(uid='A3FOSLM5G1BO63', iid='B00G6CLN3Y', r_ui=4.0, est=3.1342358252026434, details={'was_impossible': False}),\n",
              " Prediction(uid='A1UQUDT2Q0YENM', iid='B0034CL2ZI', r_ui=5.0, est=4.031039970100408, details={'was_impossible': False}),\n",
              " Prediction(uid='A2WA8TDCTGUADI', iid='B005CT56F8', r_ui=4.0, est=4.124253029192833, details={'was_impossible': False}),\n",
              " Prediction(uid='AI8EMB0HUC6Z5', iid='B003ES5ZUU', r_ui=5.0, est=5, details={'was_impossible': False}),\n",
              " Prediction(uid='A3077MQTAKOVFZ', iid='B008KVUAGU', r_ui=5.0, est=4.257131161152902, details={'was_impossible': False}),\n",
              " Prediction(uid='ALRCAGJOJ9583', iid='B000EPLP3C', r_ui=5.0, est=3.9996070195649676, details={'was_impossible': False}),\n",
              " Prediction(uid='ARBKYIVNYWK3C', iid='B000067SG2', r_ui=5.0, est=4.550423753623315, details={'was_impossible': False}),\n",
              " Prediction(uid='AUITG1DJ3QUGK', iid='B004MT7GGG', r_ui=5.0, est=4.263554787687648, details={'was_impossible': False}),\n",
              " Prediction(uid='A2503LT8PZIHAD', iid='B004OVECUA', r_ui=4.0, est=4.07853262174401, details={'was_impossible': False}),\n",
              " Prediction(uid='A1EH2S92FHWZRP', iid='B003YUEF0E', r_ui=2.0, est=3.719483394878608, details={'was_impossible': False}),\n",
              " Prediction(uid='A124WZCUIH2T7W', iid='B001TP6TDW', r_ui=3.0, est=4.340335307397555, details={'was_impossible': False}),\n",
              " Prediction(uid='A1FDV3WPOHREY9', iid='B001U0O5QO', r_ui=2.0, est=4.055880053564097, details={'was_impossible': False}),\n",
              " Prediction(uid='AAW7X3GRD8GY9', iid='B00000JDF5', r_ui=5.0, est=4.590528067702903, details={'was_impossible': False}),\n",
              " Prediction(uid='A3F3B6HY9RJI04', iid='B00DUTIZJG', r_ui=5.0, est=4.529549108863259, details={'was_impossible': False}),\n",
              " Prediction(uid='A3NVZTGPORNPRW', iid='B0055D66V4', r_ui=4.0, est=3.867565021616355, details={'was_impossible': False}),\n",
              " Prediction(uid='A3R1WFO4KIUQXZ', iid='B0007KQWDC', r_ui=5.0, est=4.361558351396934, details={'was_impossible': False}),\n",
              " Prediction(uid='AGHZXQL9F94T9', iid='B00009VSG6', r_ui=3.0, est=3.568813909005083, details={'was_impossible': False}),\n",
              " Prediction(uid='A5Q1FK0FWU7DH', iid='B003CGMQ38', r_ui=2.0, est=3.7287961185849303, details={'was_impossible': False}),\n",
              " Prediction(uid='A149RNR5RH19YY', iid='B0000DIET2', r_ui=5.0, est=4.198091490339575, details={'was_impossible': False}),\n",
              " Prediction(uid='A2OBDNQ5ZYU1L8', iid='B00475K64E', r_ui=5.0, est=4.7080530390201405, details={'was_impossible': False}),\n",
              " Prediction(uid='A74UT8IQCM0I2', iid='B005DOK8NW', r_ui=5.0, est=4.691205935485197, details={'was_impossible': False}),\n",
              " Prediction(uid='A250AXLRBVYKB4', iid='B002UVNW5W', r_ui=5.0, est=4.6198487554749095, details={'was_impossible': False}),\n",
              " Prediction(uid='A1E55W6ES0FY17', iid='B000HI9O5W', r_ui=5.0, est=3.7612783474046676, details={'was_impossible': False}),\n",
              " Prediction(uid='A3077MQTAKOVFZ', iid='B0006GCCN6', r_ui=4.0, est=4.340509368873313, details={'was_impossible': False}),\n",
              " Prediction(uid='A1WJ3P43SZUNDM', iid='B003EHA5G0', r_ui=5.0, est=4.435714012766737, details={'was_impossible': False}),\n",
              " Prediction(uid='A2NB2E5DXE319Z', iid='B003NEPHAI', r_ui=5.0, est=4.470875632895974, details={'was_impossible': False}),\n",
              " Prediction(uid='A100WO06OQR8BQ', iid='B001342KM8', r_ui=5.0, est=4.058814997073103, details={'was_impossible': False}),\n",
              " Prediction(uid='AHR86ZEYETLJI', iid='B00C9TECFO', r_ui=5.0, est=4.713161550643477, details={'was_impossible': False}),\n",
              " Prediction(uid='A2RWHTNM5P3I8Y', iid='B002PHLZXC', r_ui=5.0, est=4.153130044845981, details={'was_impossible': False}),\n",
              " Prediction(uid='A2FRKEXDXDN1KI', iid='B006WVR9GY', r_ui=4.0, est=4.201939780516855, details={'was_impossible': False}),\n",
              " Prediction(uid='AGXMC3ITWZASE', iid='B004BFXBXI', r_ui=4.0, est=4.17193711550086, details={'was_impossible': False}),\n",
              " Prediction(uid='A3DL29NLZ7SXXG', iid='B0072NPFH6', r_ui=5.0, est=4.69754625458249, details={'was_impossible': False}),\n",
              " Prediction(uid='A1L64KDYO5BOJA', iid='B00378YPB2', r_ui=5.0, est=4.663370990798407, details={'was_impossible': False}),\n",
              " Prediction(uid='A1V3TRGWOMA8LC', iid='B00BGGDVOO', r_ui=5.0, est=4.542280138128779, details={'was_impossible': False}),\n",
              " Prediction(uid='AEZJTA4KDIWY8', iid='B000JMJWV2', r_ui=5.0, est=4.572327517963181, details={'was_impossible': False}),\n",
              " Prediction(uid='A2PREU4LOFQRB1', iid='B001RPEJA4', r_ui=5.0, est=4.430764889844011, details={'was_impossible': False}),\n",
              " Prediction(uid='A1ODOGXEYECQQ8', iid='B00BIFNTMC', r_ui=5.0, est=4.333419349860333, details={'was_impossible': False}),\n",
              " Prediction(uid='A2MIP3AQVSF2SS', iid='B0010T8X9A', r_ui=5.0, est=4.576404706123541, details={'was_impossible': False}),\n",
              " Prediction(uid='A16HXVNPU5TCGE', iid='B00DR0RBV6', r_ui=5.0, est=4.783069427903277, details={'was_impossible': False}),\n",
              " Prediction(uid='A3EFSLEMHNPP6A', iid='B00007LTBA', r_ui=5.0, est=4.22189415356597, details={'was_impossible': False}),\n",
              " Prediction(uid='A2J4XMWKR8PPD0', iid='B005AKRPP8', r_ui=5.0, est=4.952535721231744, details={'was_impossible': False}),\n",
              " Prediction(uid='A2NP9CGUSFP22E', iid='B002V88HFE', r_ui=5.0, est=4.946533006439643, details={'was_impossible': False}),\n",
              " Prediction(uid='A28621TSIR5EOG', iid='B001F6YRNO', r_ui=5.0, est=4.922381078849322, details={'was_impossible': False}),\n",
              " Prediction(uid='AVPNQUVZWMDSX', iid='B00GTGETFG', r_ui=5.0, est=4.684441012413726, details={'was_impossible': False}),\n",
              " Prediction(uid='A3DOPYDOS49I3T', iid='B00067OF80', r_ui=5.0, est=4.997951246181662, details={'was_impossible': False}),\n",
              " Prediction(uid='A3QU3O79AGNWCY', iid='B001KC08A4', r_ui=3.0, est=4.336114750547414, details={'was_impossible': False}),\n",
              " Prediction(uid='A2XU6J41ZQOJ2V', iid='B0000C8VEK', r_ui=5.0, est=4.3944645230971355, details={'was_impossible': False}),\n",
              " Prediction(uid='A4WEZJOIZIV4U', iid='B00263D7A4', r_ui=5.0, est=4.720087696908399, details={'was_impossible': False}),\n",
              " Prediction(uid='A370XYLIZCSK1Y', iid='B002TPFNXS', r_ui=4.0, est=4.340877144604197, details={'was_impossible': False}),\n",
              " Prediction(uid='A27Y4OEC9MD9PA', iid='B003172FFW', r_ui=5.0, est=4.876724046767068, details={'was_impossible': False}),\n",
              " Prediction(uid='A1MRPX3RM48T2I', iid='B001GXQOUU', r_ui=5.0, est=4.559041666140039, details={'was_impossible': False}),\n",
              " Prediction(uid='A105TOJ6LTVMBG', iid='B000LP0R3E', r_ui=5.0, est=3.7696749400825587, details={'was_impossible': False}),\n",
              " Prediction(uid='A1VUN4JU731CBH', iid='B002JCSCYS', r_ui=3.0, est=3.7365289932961097, details={'was_impossible': False}),\n",
              " Prediction(uid='A1B6O7SAIYG2N0', iid='B003LYKLCO', r_ui=5.0, est=4.5807159617936435, details={'was_impossible': False}),\n",
              " Prediction(uid='A1YEPFLLH42OU1', iid='B0038LILTK', r_ui=5.0, est=4.340552313281444, details={'was_impossible': False}),\n",
              " Prediction(uid='A2X61KKXXR6WNP', iid='B0000UV2AW', r_ui=5.0, est=4.219877206375902, details={'was_impossible': False}),\n",
              " Prediction(uid='A2BLFCOPSMBOZ9', iid='B00FSA8VQ2', r_ui=4.0, est=4.407070120398427, details={'was_impossible': False}),\n",
              " Prediction(uid='A2WB7LZ595CR50', iid='B007471PZQ', r_ui=4.0, est=3.9753831645813995, details={'was_impossible': False}),\n",
              " Prediction(uid='A2ER8G4JJJ7XER', iid='B00006HZ0K', r_ui=2.0, est=4.136887348896902, details={'was_impossible': False}),\n",
              " Prediction(uid='A18L9A64XNGVGU', iid='B003NSBF32', r_ui=5.0, est=3.6644488975082097, details={'was_impossible': False}),\n",
              " Prediction(uid='AR74YY08IP2WE', iid='B00E9QK2MW', r_ui=5.0, est=3.8254255147022405, details={'was_impossible': False}),\n",
              " Prediction(uid='A3FEGTOLCWXSV4', iid='B004TKTOWC', r_ui=5.0, est=3.8370228661727612, details={'was_impossible': False}),\n",
              " Prediction(uid='A1ILWPH1GHUXE2', iid='B000089GN3', r_ui=4.0, est=4.209070958523553, details={'was_impossible': False}),\n",
              " Prediction(uid='A1J75JJ0Q2OEJN', iid='B00FJWKYYG', r_ui=5.0, est=4.346822708129415, details={'was_impossible': False}),\n",
              " Prediction(uid='A1R377IPZOKLMM', iid='B002TLTE6O', r_ui=4.0, est=4.86382031404017, details={'was_impossible': False}),\n",
              " Prediction(uid='A1AH8033GWKBY7', iid='B006QZ96XA', r_ui=5.0, est=4.422437067497837, details={'was_impossible': False}),\n",
              " Prediction(uid='A2POXR5VS3PHKR', iid='B008ZGKWQI', r_ui=5.0, est=4.762528909659368, details={'was_impossible': False}),\n",
              " Prediction(uid='A19XMHRB3G4DIR', iid='B008HK3YOO', r_ui=3.0, est=3.8612664977202953, details={'was_impossible': False}),\n",
              " Prediction(uid='A2NOIWPJDD7WIQ', iid='B000O161X0', r_ui=5.0, est=3.978617858843336, details={'was_impossible': False}),\n",
              " Prediction(uid='A19UTUEBWKIZFT', iid='B00752R9PK', r_ui=5.0, est=4.708220102357582, details={'was_impossible': False}),\n",
              " Prediction(uid='A1B6O7SAIYG2N0', iid='B002P3KH80', r_ui=5.0, est=4.70571260489866, details={'was_impossible': False}),\n",
              " Prediction(uid='AEJAGHLC675A7', iid='B000UXZQ42', r_ui=4.0, est=4.469653412424261, details={'was_impossible': False}),\n",
              " Prediction(uid='AQIJ3ZEEVCIKU', iid='B00CL8F98W', r_ui=4.0, est=3.7681269797502273, details={'was_impossible': False}),\n",
              " Prediction(uid='A1V4VVBQBFXRHC', iid='B008DWCRQW', r_ui=3.0, est=4.213632626838129, details={'was_impossible': False}),\n",
              " Prediction(uid='A3N8O68DOEQ2FE', iid='B0001Y7UAI', r_ui=5.0, est=4.723368946149453, details={'was_impossible': False}),\n",
              " Prediction(uid='AL1XV4L25FZ2S', iid='B00CHT6CRC', r_ui=1.0, est=3.947704054077034, details={'was_impossible': False}),\n",
              " Prediction(uid='A3LSEIG2PIJYBL', iid='B001SEARCS', r_ui=5.0, est=4.5100059976535745, details={'was_impossible': False}),\n",
              " Prediction(uid='A7UPJYPAH73NC', iid='B008HU9R7W', r_ui=5.0, est=4.279175559493391, details={'was_impossible': False}),\n",
              " Prediction(uid='ASFP250F22MDZ', iid='B001542X64', r_ui=5.0, est=3.6332773191624366, details={'was_impossible': False}),\n",
              " Prediction(uid='A3977M5S0GIG5H', iid='B003O1UYHG', r_ui=5.0, est=4.75446526523701, details={'was_impossible': False}),\n",
              " Prediction(uid='A1NGFGBX2VCQS8', iid='B00CB2F65O', r_ui=5.0, est=4.145377396719773, details={'was_impossible': False}),\n",
              " Prediction(uid='A2IFKH3TJ10387', iid='B004Q3R9AQ', r_ui=4.0, est=4.547260428843485, details={'was_impossible': False}),\n",
              " Prediction(uid='A2ZY49IDE6TY5I', iid='B00DQHZXK6', r_ui=5.0, est=4.330748969635619, details={'was_impossible': False}),\n",
              " Prediction(uid='A680RUE1FDO8B', iid='B007YX9O94', r_ui=5.0, est=4.415184625499966, details={'was_impossible': False}),\n",
              " Prediction(uid='A1KWPIORLG2QV', iid='B001NIZB5M', r_ui=5.0, est=4.915362401044235, details={'was_impossible': False}),\n",
              " Prediction(uid='A17O9AHKHK66AI', iid='B003M0NURK', r_ui=5.0, est=4.125578714654065, details={'was_impossible': False}),\n",
              " Prediction(uid='A2ZRG5NOFZ47RK', iid='B0000BZL1P', r_ui=5.0, est=5, details={'was_impossible': False}),\n",
              " Prediction(uid='AXP8GO5Q3AXSA', iid='B00AWRPIWQ', r_ui=5.0, est=4.408385198856458, details={'was_impossible': False}),\n",
              " Prediction(uid='A680RUE1FDO8B', iid='B000FL2EJE', r_ui=5.0, est=4.665939733201167, details={'was_impossible': False}),\n",
              " Prediction(uid='A1ASWDAEDTTY5I', iid='B0037D51FQ', r_ui=5.0, est=4.191178587819814, details={'was_impossible': False}),\n",
              " Prediction(uid='A26LD9FQHTM8ZH', iid='B002TLTE6Y', r_ui=5.0, est=4.5849805084378135, details={'was_impossible': False}),\n",
              " Prediction(uid='A3A15L96IYUO6V', iid='B00001P4XA', r_ui=4.0, est=4.147979873359239, details={'was_impossible': False}),\n",
              " Prediction(uid='A14JBDSWKPKTZA', iid='B000075UZ7', r_ui=5.0, est=4.937886076550365, details={'was_impossible': False}),\n",
              " Prediction(uid='A33SX0AD5PYD9B', iid='B0095F5ACE', r_ui=4.0, est=3.5572121800322827, details={'was_impossible': False}),\n",
              " Prediction(uid='A6XLG77BC9R8R', iid='B002FJJGUO', r_ui=1.0, est=4.006008224770532, details={'was_impossible': False}),\n",
              " Prediction(uid='A30XZK10EZN9V4', iid='B001KC08A4', r_ui=5.0, est=4.564265082000781, details={'was_impossible': False}),\n",
              " Prediction(uid='AGOH8N902URMW', iid='B0040QE98O', r_ui=5.0, est=3.8803229439117013, details={'was_impossible': False}),\n",
              " Prediction(uid='AIBRTGBN07D6A', iid='B000UY1MB2', r_ui=5.0, est=4.205974944864895, details={'was_impossible': False}),\n",
              " Prediction(uid='A2NX6PABLIJLP1', iid='B00005U21H', r_ui=5.0, est=4.518075939273471, details={'was_impossible': False}),\n",
              " Prediction(uid='A3U41ZL33SS92P', iid='B001MBLBXQ', r_ui=3.0, est=3.599657200192635, details={'was_impossible': False}),\n",
              " Prediction(uid='A1PVJICI412IN4', iid='B000BTL0OA', r_ui=5.0, est=4.002983611197681, details={'was_impossible': False}),\n",
              " Prediction(uid='A328GLDSDNFYII', iid='B001G4NBSC', r_ui=5.0, est=4.288848719783703, details={'was_impossible': False}),\n",
              " Prediction(uid='A1QRST0A3IQIEF', iid='B004G8QO5M', r_ui=5.0, est=4.8785024329331135, details={'was_impossible': False}),\n",
              " Prediction(uid='A1ZU55TM45Y2R8', iid='B004BDOGL6', r_ui=5.0, est=4.300787112718788, details={'was_impossible': False}),\n",
              " Prediction(uid='AHROSV6WJOEGY', iid='B00006HYKM', r_ui=1.0, est=2.5904244802646703, details={'was_impossible': False}),\n",
              " Prediction(uid='A2XQYE6TJYROHQ', iid='B00007056H', r_ui=5.0, est=4.56701392074199, details={'was_impossible': False}),\n",
              " Prediction(uid='A1LAGS8H4A2DR7', iid='B0074BW614', r_ui=3.0, est=4.03531956184763, details={'was_impossible': False}),\n",
              " Prediction(uid='A1P3DDFL423B3C', iid='B0009SHDGC', r_ui=5.0, est=4.116655568189008, details={'was_impossible': False}),\n",
              " Prediction(uid='A31ICLWQ9CSHRS', iid='B000NP3DJW', r_ui=5.0, est=4.744940790459668, details={'was_impossible': False}),\n",
              " Prediction(uid='ACYZXQ2JKPZKT', iid='B001F8SCRE', r_ui=4.0, est=3.7968258844072964, details={'was_impossible': False}),\n",
              " Prediction(uid='AU2UJF4I7KAWL', iid='B001KN6WL2', r_ui=3.0, est=4.122583333472459, details={'was_impossible': False}),\n",
              " Prediction(uid='AGATRDOFW48DK', iid='B000P1NAMO', r_ui=5.0, est=3.5263882406289935, details={'was_impossible': False}),\n",
              " Prediction(uid='A3UW23DBF2KHWC', iid='B00BQHD4B8', r_ui=4.0, est=4.658591559195066, details={'was_impossible': False}),\n",
              " Prediction(uid='A1Q5P5ML3176C0', iid='B0041NPZE8', r_ui=4.0, est=4.007905566241399, details={'was_impossible': False}),\n",
              " Prediction(uid='A3F9CBHV4OHFBS', iid='B001B077PO', r_ui=5.0, est=4.344233468909145, details={'was_impossible': False}),\n",
              " Prediction(uid='A3963R7EPE3A7E', iid='B00DULMXTW', r_ui=5.0, est=4.750778319633608, details={'was_impossible': False}),\n",
              " Prediction(uid='A32NEDX6UVV8DE', iid='B0045RU68U', r_ui=5.0, est=4.7098369358400065, details={'was_impossible': False}),\n",
              " Prediction(uid='A2JAEZ0FMAMJVW', iid='B000BDD56W', r_ui=5.0, est=4.529637079363233, details={'was_impossible': False}),\n",
              " Prediction(uid='AHR86ZEYETLJI', iid='B007VGGFZU', r_ui=5.0, est=4.765098527576128, details={'was_impossible': False}),\n",
              " Prediction(uid='AUK79PXTAOJP9', iid='B0007N55NW', r_ui=5.0, est=4.270650123428566, details={'was_impossible': False}),\n",
              " Prediction(uid='AHR86ZEYETLJI', iid='B004PW04B4', r_ui=5.0, est=4.687005766051588, details={'was_impossible': False}),\n",
              " Prediction(uid='A1MZL91Z44RN06', iid='B005L38VPC', r_ui=5.0, est=4.795485035839505, details={'was_impossible': False}),\n",
              " Prediction(uid='A10H24TDLK2VDP', iid='B00A0JUNWQ', r_ui=5.0, est=4.62239310349087, details={'was_impossible': False}),\n",
              " Prediction(uid='A1SX9PHJWTDMF9', iid='B0013FRNKG', r_ui=5.0, est=4.784846559912282, details={'was_impossible': False}),\n",
              " Prediction(uid='A105S56ODHGJEK', iid='B00IVFDZBC', r_ui=5.0, est=4.609604503897412, details={'was_impossible': False}),\n",
              " Prediction(uid='AOTZOHB2LZGYR', iid='B007ZKQ9XA', r_ui=4.0, est=4.252262561281549, details={'was_impossible': False}),\n",
              " Prediction(uid='A3TBMGNSEQBWIL', iid='B001TH7GUA', r_ui=5.0, est=4.43278578369471, details={'was_impossible': False}),\n",
              " Prediction(uid='AQM0K7MBBT4AY', iid='B007PZYAJ0', r_ui=5.0, est=4.122372306880951, details={'was_impossible': False}),\n",
              " Prediction(uid='A379DLIAF0MFM5', iid='B004J4VYG2', r_ui=5.0, est=4.160381730307858, details={'was_impossible': False}),\n",
              " Prediction(uid='A15J9K7O10A3M6', iid='B000KZALSG', r_ui=5.0, est=4.531708266774315, details={'was_impossible': False}),\n",
              " Prediction(uid='A31HE83MU98GBV', iid='B005IA844Q', r_ui=4.0, est=4.660378044200364, details={'was_impossible': False}),\n",
              " Prediction(uid='A1LHMSY3Q46PJS', iid='B001RNOHDU', r_ui=5.0, est=4.433359176995375, details={'was_impossible': False}),\n",
              " Prediction(uid='AYGEKID3G7DPW', iid='B007WTAJTO', r_ui=5.0, est=3.943713229038945, details={'was_impossible': False}),\n",
              " Prediction(uid='A680RUE1FDO8B', iid='B003LYKX0E', r_ui=5.0, est=4.658775213266035, details={'was_impossible': False}),\n",
              " Prediction(uid='A34BZM6S9L7QI4', iid='B00E5UHRIO', r_ui=4.0, est=4.331529811177531, details={'was_impossible': False}),\n",
              " Prediction(uid='A38C12950IM24P', iid='B005FDOG6G', r_ui=5.0, est=4.782812890927251, details={'was_impossible': False}),\n",
              " Prediction(uid='A2V5M5EJPOD2IU', iid='B00452V66G', r_ui=5.0, est=4.629113624692094, details={'was_impossible': False}),\n",
              " Prediction(uid='A5JLAU2ARJ0BO', iid='1400532655', r_ui=1.0, est=3.661019108909806, details={'was_impossible': False}),\n",
              " Prediction(uid='ARBKYIVNYWK3C', iid='B000OW3524', r_ui=5.0, est=4.514584667072185, details={'was_impossible': False}),\n",
              " Prediction(uid='A2XCCN239AR1XK', iid='B00B2G3R5G', r_ui=5.0, est=4.691823429663056, details={'was_impossible': False}),\n",
              " Prediction(uid='A1DQHS7MOVYYYA', iid='B002EVP85K', r_ui=5.0, est=4.377916258830777, details={'was_impossible': False}),\n",
              " Prediction(uid='A2RN2AO4BE6F4K', iid='B001DJ64D4', r_ui=5.0, est=4.94773234400464, details={'was_impossible': False}),\n",
              " Prediction(uid='AWSK1ZAEU1KFL', iid='B007V9ZNBY', r_ui=5.0, est=4.167401237235678, details={'was_impossible': False}),\n",
              " Prediction(uid='A319Y83RT0MRVR', iid='B00D96LZ6K', r_ui=5.0, est=4.277306182821357, details={'was_impossible': False}),\n",
              " Prediction(uid='A3S5WYWYKSAI9C', iid='B005DEW4BQ', r_ui=3.0, est=3.122150264386723, details={'was_impossible': False}),\n",
              " Prediction(uid='A2SYAQXJGRY3XE', iid='B0069R7PBA', r_ui=2.0, est=3.8538154610528763, details={'was_impossible': False}),\n",
              " Prediction(uid='A9Y5O2R4D6EH5', iid='B001F51G0W', r_ui=4.0, est=3.9455102291604547, details={'was_impossible': False}),\n",
              " Prediction(uid='A3RGJ1FXOB1ZLL', iid='B0055QYKQO', r_ui=5.0, est=5, details={'was_impossible': False}),\n",
              " Prediction(uid='AY3D7DG5L5WCK', iid='B004CLYE8C', r_ui=4.0, est=5, details={'was_impossible': False}),\n",
              " Prediction(uid='AKX9EQ37PAYMY', iid='B001H0GI9Y', r_ui=5.0, est=4.592740505424374, details={'was_impossible': False}),\n",
              " Prediction(uid='A3V7D0LH8L7BG0', iid='B004GUT1QO', r_ui=5.0, est=4.759447755265923, details={'was_impossible': False}),\n",
              " Prediction(uid='A1OMXVXXP07F05', iid='B0000CFYM9', r_ui=5.0, est=4.551103693173118, details={'was_impossible': False}),\n",
              " Prediction(uid='A3F9CMU8KNAY1M', iid='B002K9IHGI', r_ui=5.0, est=4.526514633374742, details={'was_impossible': False}),\n",
              " Prediction(uid='AI8EMB0HUC6Z5', iid='B00EAR8S76', r_ui=5.0, est=4.249575741427552, details={'was_impossible': False}),\n",
              " Prediction(uid='A2WYF4POBUXL2O', iid='B001G1ZPV6', r_ui=5.0, est=4.166737249141285, details={'was_impossible': False}),\n",
              " Prediction(uid='A26KXNN6H1IL0I', iid='B008O2HVIK', r_ui=5.0, est=4.141674468888494, details={'was_impossible': False}),\n",
              " Prediction(uid='A3LDLV1GWQJLEQ', iid='B00JC5Y6YA', r_ui=4.0, est=4.4454904755257285, details={'was_impossible': False}),\n",
              " Prediction(uid='A105TOJ6LTVMBG', iid='B001KB6Z2U', r_ui=5.0, est=4.218356271666753, details={'was_impossible': False}),\n",
              " Prediction(uid='A3QRR8PSCBI07C', iid='B0030DL37I', r_ui=5.0, est=4.407165863997052, details={'was_impossible': False}),\n",
              " Prediction(uid='A95PWI4S6WHGL', iid='B002MMY4WY', r_ui=4.0, est=4.559241800563964, details={'was_impossible': False}),\n",
              " Prediction(uid='A1EH2S92FHWZRP', iid='B000NEKORW', r_ui=3.0, est=3.898601427966493, details={'was_impossible': False}),\n",
              " Prediction(uid='A1BXVZSQOJE6UE', iid='B002TLT10I', r_ui=5.0, est=3.9828303940262355, details={'was_impossible': False}),\n",
              " Prediction(uid='A19NP8YYADOOSF', iid='B009YQ8BTI', r_ui=5.0, est=4.448124251396536, details={'was_impossible': False}),\n",
              " Prediction(uid='A3M7BCQKSQAK4L', iid='B00D68ZVY8', r_ui=4.0, est=4.318840059907603, details={'was_impossible': False}),\n",
              " Prediction(uid='AYNAH993VDECT', iid='B0099SMFVQ', r_ui=4.0, est=4.802538828597289, details={'was_impossible': False}),\n",
              " Prediction(uid='A3W4D8XOGLWUN5', iid='B0009K9FZW', r_ui=5.0, est=4.134453765111178, details={'was_impossible': False}),\n",
              " Prediction(uid='A1RPTVW5VEOSI', iid='B000ZLSWJ0', r_ui=4.0, est=4.013847910401344, details={'was_impossible': False}),\n",
              " Prediction(uid='A307Y3LMCVEZS1', iid='B0009H5VVM', r_ui=2.0, est=3.4039649688633795, details={'was_impossible': False}),\n",
              " Prediction(uid='A3W4D8XOGLWUN5', iid='B007WTAJTO', r_ui=4.0, est=4.167705211943509, details={'was_impossible': False}),\n",
              " Prediction(uid='A3D0UM4ZD2CMAW', iid='B009PHSDBM', r_ui=5.0, est=4.383060284964036, details={'was_impossible': False}),\n",
              " Prediction(uid='A2PY5ED630H0QJ', iid='B004W2JKWG', r_ui=5.0, est=4.191917789763147, details={'was_impossible': False}),\n",
              " Prediction(uid='A1QOIHVQC5XWCJ', iid='B002ZKXK2S', r_ui=5.0, est=4.613368460834122, details={'was_impossible': False}),\n",
              " Prediction(uid='A1ZVFCPHCWFV71', iid='B0036RH93K', r_ui=5.0, est=4.526263329456207, details={'was_impossible': False}),\n",
              " Prediction(uid='A20L63B48RPSOH', iid='B005X9XVNQ', r_ui=4.0, est=3.7860544756238466, details={'was_impossible': False}),\n",
              " Prediction(uid='A18S2VGUH9SCV5', iid='B004NNVHUC', r_ui=4.0, est=4.03437140691999, details={'was_impossible': False}),\n",
              " Prediction(uid='AC6Z7DP1Z5GHD', iid='B000L47AHG', r_ui=4.0, est=4.3794488831936516, details={'was_impossible': False}),\n",
              " Prediction(uid='A3SX5MZTCZRQLF', iid='B000NK3H4S', r_ui=4.0, est=4.322556420964507, details={'was_impossible': False}),\n",
              " Prediction(uid='A30X750M8V1XXW', iid='B0002VAQR4', r_ui=1.0, est=4.079633084180612, details={'was_impossible': False}),\n",
              " Prediction(uid='A3PGVJF37JSHFO', iid='B006UMM1PO', r_ui=4.0, est=3.863728772539708, details={'was_impossible': False}),\n",
              " Prediction(uid='A25QJBK33C4O0R', iid='B008X9Z7N0', r_ui=3.0, est=3.514262321815512, details={'was_impossible': False}),\n",
              " Prediction(uid='A2R1HUYHXV7H18', iid='B005QUQP6W', r_ui=5.0, est=3.766511167693992, details={'was_impossible': False}),\n",
              " Prediction(uid='A1PEXTGNF36I1Q', iid='B002K4E7TE', r_ui=5.0, est=4.783715255567517, details={'was_impossible': False}),\n",
              " Prediction(uid='A14Z6D3IRJ23F7', iid='B0058OTXK6', r_ui=5.0, est=4.846146974510028, details={'was_impossible': False}),\n",
              " Prediction(uid='A2L42QEWR77PKZ', iid='B003AVPV1O', r_ui=5.0, est=4.470802131178135, details={'was_impossible': False}),\n",
              " Prediction(uid='ABDR6IJ93HFIO', iid='B00BJ8C02I', r_ui=5.0, est=4.921041758649992, details={'was_impossible': False}),\n",
              " Prediction(uid='A2NXRD80LWHUOP', iid='B0007RV3IE', r_ui=3.0, est=3.3528911042407694, details={'was_impossible': False}),\n",
              " Prediction(uid='A231WM2Z2JL0U3', iid='B000063CWP', r_ui=4.0, est=4.337243078802911, details={'was_impossible': False}),\n",
              " Prediction(uid='A2Q2A6JKY95RTP', iid='B002MU1ZRS', r_ui=4.0, est=3.929713917778451, details={'was_impossible': False}),\n",
              " Prediction(uid='A2NOW4U7W3F7RI', iid='B00JF0D7RE', r_ui=5.0, est=4.842284066270712, details={'was_impossible': False}),\n",
              " Prediction(uid='A2T689YVOAYGGD', iid='B005M21TBA', r_ui=4.0, est=4.020598358741612, details={'was_impossible': False}),\n",
              " Prediction(uid='A2S26YGSVXBCFL', iid='B003CJTQJC', r_ui=5.0, est=4.579973304329173, details={'was_impossible': False}),\n",
              " Prediction(uid='A2WYF4POBUXL2O', iid='B0007U9SOC', r_ui=4.0, est=4.3295932711680996, details={'was_impossible': False}),\n",
              " Prediction(uid='A3N4VTNFPMTHEF', iid='B00077AA5Q', r_ui=5.0, est=4.456913445160641, details={'was_impossible': False}),\n",
              " Prediction(uid='AR8LWDT6TUKNZ', iid='B0002RBQO0', r_ui=5.0, est=4.826734295459857, details={'was_impossible': False}),\n",
              " Prediction(uid='A26877IWJGISYM', iid='B005FVNHBI', r_ui=5.0, est=3.965170329377422, details={'was_impossible': False}),\n",
              " Prediction(uid='A38V76R24EJSHA', iid='B008LT3TYG', r_ui=5.0, est=4.501501155996732, details={'was_impossible': False}),\n",
              " Prediction(uid='A20H1M28WLI9J2', iid='B0043AV8ZE', r_ui=5.0, est=4.256319246112278, details={'was_impossible': False}),\n",
              " Prediction(uid='AWHL379EE14K7', iid='B006W41W7S', r_ui=5.0, est=4.393708440852834, details={'was_impossible': False}),\n",
              " Prediction(uid='AAXAKFQEAQPWC', iid='B009WT2VKM', r_ui=5.0, est=4.545186554258325, details={'was_impossible': False}),\n",
              " Prediction(uid='A6FIAB28IS79', iid='B000FOYMKU', r_ui=5.0, est=4.395359483154154, details={'was_impossible': False}),\n",
              " Prediction(uid='A10NMELR4KX0J6', iid='B005T3GPXE', r_ui=5.0, est=4.256284974684615, details={'was_impossible': False}),\n",
              " Prediction(uid='AENULRBQ2IE5I', iid='B004286VMW', r_ui=5.0, est=4.949860052080767, details={'was_impossible': False}),\n",
              " Prediction(uid='A2WC9NFLG57W4H', iid='B00HR7FWUC', r_ui=5.0, est=4.406713602028621, details={'was_impossible': False}),\n",
              " Prediction(uid='A37CEYB95LK6R6', iid='B0002ER2YQ', r_ui=4.0, est=4.466700063845501, details={'was_impossible': False}),\n",
              " Prediction(uid='A1CYTBE7LLUQ8F', iid='B000CSH44K', r_ui=5.0, est=4.813328270425145, details={'was_impossible': False}),\n",
              " Prediction(uid='ARXU3FESTWMJJ', iid='B0058GK55Q', r_ui=2.0, est=3.7612214341574868, details={'was_impossible': False}),\n",
              " Prediction(uid='A1QQA7Y92L4F9R', iid='B001XHBNN2', r_ui=4.0, est=4.40743157047197, details={'was_impossible': False}),\n",
              " Prediction(uid='A2PB325LKXYDOL', iid='B003S6AXVO', r_ui=5.0, est=4.90893993764612, details={'was_impossible': False}),\n",
              " Prediction(uid='AQ3IN3MRXQ5KH', iid='B009X00E18', r_ui=4.0, est=3.6766671688720653, details={'was_impossible': False}),\n",
              " Prediction(uid='A1T7EHCMZ92TKC', iid='B0025VKUQQ', r_ui=5.0, est=4.6033724506012375, details={'was_impossible': False}),\n",
              " Prediction(uid='A1EKSETIBS9ETQ', iid='B003XCDA9A', r_ui=5.0, est=4.06957869026353, details={'was_impossible': False}),\n",
              " Prediction(uid='A1B4MIXYVIKMU2', iid='B00825BZUY', r_ui=5.0, est=4.471614992360488, details={'was_impossible': False}),\n",
              " Prediction(uid='A3NCIN6TNL0MGA', iid='B000ICZZJG', r_ui=5.0, est=4.658857617843707, details={'was_impossible': False}),\n",
              " Prediction(uid='A2Y29IRSI08F0I', iid='B004BI6MVS', r_ui=3.0, est=4.502919328590266, details={'was_impossible': False}),\n",
              " Prediction(uid='A14MZJTZAQS6CV', iid='B0042VLFIE', r_ui=1.0, est=3.948484999142621, details={'was_impossible': False}),\n",
              " Prediction(uid='A1CMD08Z49PGKQ', iid='B00AQM8586', r_ui=5.0, est=4.941531799586723, details={'was_impossible': False}),\n",
              " Prediction(uid='A3639Z6O5JBLIZ', iid='B00001P4XH', r_ui=5.0, est=4.727566290775171, details={'was_impossible': False}),\n",
              " Prediction(uid='A2I18AO597DSDI', iid='B00005OTG6', r_ui=3.0, est=3.523718822528872, details={'was_impossible': False}),\n",
              " Prediction(uid='A3R19YKNL641X3', iid='B0049U3TVE', r_ui=2.0, est=3.6563989159617476, details={'was_impossible': False}),\n",
              " Prediction(uid='A3EZFFPVS34AMO', iid='B009A6CZ30', r_ui=5.0, est=4.776248935252533, details={'was_impossible': False}),\n",
              " Prediction(uid='A3V7D0LH8L7BG0', iid='B00AQRUW4Q', r_ui=4.0, est=4.30136912897564, details={'was_impossible': False}),\n",
              " Prediction(uid='A24RCBRDXRXR0Y', iid='B004TPJKEY', r_ui=4.0, est=3.713151106536663, details={'was_impossible': False}),\n",
              " Prediction(uid='A3DGJMO6VPG6FJ', iid='B001F8SCRE', r_ui=4.0, est=4.226949695671501, details={'was_impossible': False}),\n",
              " Prediction(uid='A2YRX8J4WM5BRX', iid='B005MTME3U', r_ui=5.0, est=4.9032266976027605, details={'was_impossible': False}),\n",
              " Prediction(uid='A20L63B48RPSOH', iid='B004CLYEH8', r_ui=4.0, est=4.207568291215319, details={'was_impossible': False}),\n",
              " Prediction(uid='ABIVKBMSIPEDY', iid='B00HVT27B8', r_ui=5.0, est=4.3001937599299085, details={'was_impossible': False}),\n",
              " Prediction(uid='A3OXHLG6DIBRW8', iid='B000NAQS3K', r_ui=5.0, est=4.531531205408228, details={'was_impossible': False}),\n",
              " Prediction(uid='AAQ9NJ480N9W5', iid='B001M4XCHQ', r_ui=5.0, est=4.759397893372871, details={'was_impossible': False}),\n",
              " Prediction(uid='A3IJL9A50KVVZ1', iid='B003O55U8K', r_ui=5.0, est=4.894967758187417, details={'was_impossible': False}),\n",
              " Prediction(uid='A12ANFNOSMW5VD', iid='B005S0BYQ6', r_ui=4.0, est=3.8138464431323493, details={'was_impossible': False}),\n",
              " Prediction(uid='A1P4XD7IORSEFN', iid='B002L5QGQ4', r_ui=5.0, est=3.713572353550319, details={'was_impossible': False}),\n",
              " Prediction(uid='ALNE7Q71JFC0F', iid='B002V8C3W2', r_ui=4.0, est=4.095593846764868, details={'was_impossible': False}),\n",
              " Prediction(uid='A35C2IVVQR1HTK', iid='B00803N2AY', r_ui=5.0, est=4.161096595610225, details={'was_impossible': False}),\n",
              " Prediction(uid='A2BLFCOPSMBOZ9', iid='B001OOZ1X2', r_ui=4.0, est=4.474156957859458, details={'was_impossible': False}),\n",
              " Prediction(uid='A2A4X545ERLS7H', iid='B000NPZ4D0', r_ui=5.0, est=4.5167768319777775, details={'was_impossible': False}),\n",
              " Prediction(uid='AL9WKVMRI6GFB', iid='B00DR6DQZA', r_ui=5.0, est=4.201604293131757, details={'was_impossible': False}),\n",
              " Prediction(uid='A3IOQ7NVVLAUEE', iid='B000IF51UQ', r_ui=5.0, est=4.621825099557306, details={'was_impossible': False}),\n",
              " Prediction(uid='A3N4VTNFPMTHEF', iid='B000065BP9', r_ui=5.0, est=4.529850808183152, details={'was_impossible': False}),\n",
              " Prediction(uid='A34UVV757IKPVB', iid='B004CLYEFK', r_ui=4.0, est=3.8623220192318555, details={'was_impossible': False}),\n",
              " Prediction(uid='A1T7EHCMZ92TKC', iid='B002M3SOBU', r_ui=5.0, est=4.648886478164242, details={'was_impossible': False}),\n",
              " Prediction(uid='A22CW0ZHY3NJH8', iid='B0000U19F0', r_ui=5.0, est=4.169204260759869, details={'was_impossible': False}),\n",
              " Prediction(uid='A1F1A0QQP2XVH5', iid='B002TLTGM6', r_ui=5.0, est=3.79835617172543, details={'was_impossible': False}),\n",
              " Prediction(uid='A2S26YGSVXBCFL', iid='B001FSIT9K', r_ui=4.0, est=4.311650055536783, details={'was_impossible': False}),\n",
              " Prediction(uid='AT8V3JOZD3KWK', iid='B00B46XUQU', r_ui=5.0, est=4.304376950490649, details={'was_impossible': False}),\n",
              " Prediction(uid='A1OES7R7FDAT2L', iid='B001DUQU0A', r_ui=5.0, est=4.465626149211756, details={'was_impossible': False}),\n",
              " Prediction(uid='A3GFQHHVMEAIO', iid='B00126V3EI', r_ui=3.0, est=4.074651348098335, details={'was_impossible': False}),\n",
              " Prediction(uid='A35W3JQYP0M655', iid='B0001OHH0Q', r_ui=5.0, est=4.440237305731967, details={'was_impossible': False}),\n",
              " Prediction(uid='A38RMU1Y5TDP9', iid='B0078KP0SM', r_ui=5.0, est=4.379257077958183, details={'was_impossible': False}),\n",
              " Prediction(uid='A2SKEQT0WTB954', iid='B0035LBRJO', r_ui=5.0, est=4.548421679912875, details={'was_impossible': False}),\n",
              " Prediction(uid='A30JPZ9TZ7I61U', iid='B000WOIFGU', r_ui=4.0, est=4.492291958981758, details={'was_impossible': False}),\n",
              " Prediction(uid='A21Q9JVG4SII51', iid='B007PA1K84', r_ui=5.0, est=4.778519755995595, details={'was_impossible': False}),\n",
              " Prediction(uid='A3OYO7B6SS7QLH', iid='B0010SIAV2', r_ui=4.0, est=4.007750960614766, details={'was_impossible': False}),\n",
              " Prediction(uid='A19X4BF861LQST', iid='B001XHBNN2', r_ui=5.0, est=3.4660651151515145, details={'was_impossible': False}),\n",
              " Prediction(uid='A3VC74TJ06WDDD', iid='B000XPSH70', r_ui=3.0, est=4.224346484527367, details={'was_impossible': False}),\n",
              " Prediction(uid='ANYC38I00IRVK', iid='B00BHC7ZT4', r_ui=4.0, est=3.9953390216539315, details={'was_impossible': False}),\n",
              " Prediction(uid='A3SRDVCD2ATIIS', iid='B0025ZH43O', r_ui=4.0, est=4.66368476506672, details={'was_impossible': False}),\n",
              " Prediction(uid='A16QODENBJVUI1', iid='B004T9RR6I', r_ui=5.0, est=4.363747067647072, details={'was_impossible': False}),\n",
              " Prediction(uid='A1BBYSMT9YCODI', iid='B001TOD7ME', r_ui=3.0, est=4.026004157191442, details={'was_impossible': False}),\n",
              " Prediction(uid='A2W9GX82SLKROQ', iid='B00007GQLS', r_ui=5.0, est=4.645253149663914, details={'was_impossible': False}),\n",
              " Prediction(uid='A3OXHLG6DIBRW8', iid='B001T9NUJE', r_ui=4.0, est=4.734733316469552, details={'was_impossible': False}),\n",
              " Prediction(uid='A2ARDVMUGDFED6', iid='B00004WCFY', r_ui=3.0, est=4.235798141700441, details={'was_impossible': False}),\n",
              " Prediction(uid='A25FL6VLD7S23S', iid='B000RZDBM2', r_ui=1.0, est=4.641500880279793, details={'was_impossible': False}),\n",
              " Prediction(uid='A2WLNSZ9U0T1S3', iid='B0076POAI0', r_ui=1.0, est=3.740081120253161, details={'was_impossible': False}),\n",
              " Prediction(uid='A1ZPY91VE3IDN1', iid='B0011U65F2', r_ui=5.0, est=4.834770108838125, details={'was_impossible': False}),\n",
              " Prediction(uid='A5KMMY627T3W', iid='B00F3SISYO', r_ui=5.0, est=4.422509218175137, details={'was_impossible': False}),\n",
              " Prediction(uid='A10H24TDLK2VDP', iid='B001EQ0HAW', r_ui=3.0, est=4.334062557774706, details={'was_impossible': False}),\n",
              " Prediction(uid='A1MFAPVBW9BEGD', iid='B00IDG3IDO', r_ui=5.0, est=3.745608057090984, details={'was_impossible': False}),\n",
              " Prediction(uid='A1VQHH85U7PX0', iid='B00007E7JU', r_ui=5.0, est=4.718280957813257, details={'was_impossible': False}),\n",
              " Prediction(uid='A2NQMVTQ4PVLL', iid='B007ZIBURC', r_ui=5.0, est=4.56035848977414, details={'was_impossible': False}),\n",
              " Prediction(uid='A34CSXOGVYF94S', iid='B0082E9K7U', r_ui=5.0, est=4.759258266248055, details={'was_impossible': False}),\n",
              " Prediction(uid='A3VTOLNB5N6FVP', iid='B00FH66AW4', r_ui=4.0, est=4.1788463524965, details={'was_impossible': False}),\n",
              " Prediction(uid='A1F9Z42CFF9IAY', iid='B00078GLJY', r_ui=5.0, est=3.747278450877014, details={'was_impossible': False}),\n",
              " Prediction(uid='A2I5LVVQ7WXEH6', iid='B000JE7GPY', r_ui=5.0, est=4.483610413939142, details={'was_impossible': False}),\n",
              " Prediction(uid='A3J8A5L5AF5TX9', iid='B000VAIMF4', r_ui=4.0, est=4.071498806500929, details={'was_impossible': False}),\n",
              " Prediction(uid='A2GYV87WW0DMSN', iid='B005HMKKH4', r_ui=5.0, est=4.406734709138133, details={'was_impossible': False}),\n",
              " Prediction(uid='A1G650TTTHEAL5', iid='B00I027GPC', r_ui=5.0, est=4.93433145493923, details={'was_impossible': False}),\n",
              " Prediction(uid='A3TNM3C9ENUCFW', iid='B00E6ONJJU', r_ui=5.0, est=4.071713610258864, details={'was_impossible': False}),\n",
              " Prediction(uid='A2IFGGXG3YV3Y6', iid='B004AK154Q', r_ui=5.0, est=4.685003461397962, details={'was_impossible': False}),\n",
              " Prediction(uid='A1VFX417XDNWIU', iid='B001URY8CI', r_ui=5.0, est=4.269834050453383, details={'was_impossible': False}),\n",
              " Prediction(uid='A20WUUD9EDWY4N', iid='B004MYFOE2', r_ui=5.0, est=4.585297253168966, details={'was_impossible': False}),\n",
              " Prediction(uid='A25QJBK33C4O0R', iid='B001V9LA44', r_ui=4.0, est=4.015701367886453, details={'was_impossible': False}),\n",
              " Prediction(uid='A1L0P1ZP5FD6EC', iid='B000KIDBO4', r_ui=5.0, est=4.510609108030825, details={'was_impossible': False}),\n",
              " Prediction(uid='A2LF16F0KX9L7P', iid='B00EOI2TD0', r_ui=5.0, est=4.3038458854099995, details={'was_impossible': False}),\n",
              " Prediction(uid='A31N0XY2UTB25C', iid='B0034KO59U', r_ui=5.0, est=4.910449880250392, details={'was_impossible': False}),\n",
              " Prediction(uid='ANFJYYQ0P35CW', iid='B005M1777G', r_ui=5.0, est=3.466021686667008, details={'was_impossible': False}),\n",
              " Prediction(uid='A35A2RWUMC737N', iid='B001ENI3C4', r_ui=1.0, est=4.183862987742245, details={'was_impossible': False}),\n",
              " Prediction(uid='A1GWG5CWLKJ7ET', iid='B00622AG6S', r_ui=5.0, est=4.613603032617836, details={'was_impossible': False}),\n",
              " Prediction(uid='A2PZXXPGLXXKZU', iid='B004QKM5MG', r_ui=3.0, est=3.44963456712611, details={'was_impossible': False}),\n",
              " Prediction(uid='A368IPE6EW0GZL', iid='B0027VT6V4', r_ui=5.0, est=4.283600893710188, details={'was_impossible': False}),\n",
              " Prediction(uid='A2RTVGR9B1M600', iid='B004VK475Y', r_ui=4.0, est=4.144896950417643, details={'was_impossible': False}),\n",
              " Prediction(uid='A3U6J0DLLDEWM2', iid='B0046HU670', r_ui=5.0, est=4.122110777279232, details={'was_impossible': False}),\n",
              " Prediction(uid='AGLT3L7ALL4O4', iid='B00BWF5U0M', r_ui=5.0, est=5, details={'was_impossible': False}),\n",
              " Prediction(uid='A20OBCQWBKCGZT', iid='B003N9PJDI', r_ui=5.0, est=4.62480834592157, details={'was_impossible': False}),\n",
              " Prediction(uid='A38CHSS1ZAE51B', iid='B001TH7T2U', r_ui=5.0, est=4.748723253416828, details={'was_impossible': False}),\n",
              " Prediction(uid='A3BNMHRW2R35LK', iid='B00HFAEBWG', r_ui=4.0, est=3.7926538930018943, details={'was_impossible': False}),\n",
              " Prediction(uid='A214W7SK2DJQ99', iid='B001E1Y5O6', r_ui=5.0, est=4.479015897747378, details={'was_impossible': False}),\n",
              " Prediction(uid='A3HSDV9Y0TV5Z2', iid='B000VOU91U', r_ui=5.0, est=4.462926615491782, details={'was_impossible': False}),\n",
              " Prediction(uid='A3BACUOZV1M0WM', iid='B0018SHJPM', r_ui=5.0, est=4.502652990637263, details={'was_impossible': False}),\n",
              " Prediction(uid='A3F3B1JPACN215', iid='B009P2S4G6', r_ui=4.0, est=4.127505209930005, details={'was_impossible': False}),\n",
              " Prediction(uid='A2OT3PDH1AWLTG', iid='B004SBI2MU', r_ui=5.0, est=4.649213873028401, details={'was_impossible': False}),\n",
              " Prediction(uid='A1ASWDAEDTTY5I', iid='B00BSED7S4', r_ui=5.0, est=4.2479192443388705, details={'was_impossible': False}),\n",
              " Prediction(uid='A2QRXQPHDMFCQV', iid='B004GUT1QO', r_ui=4.0, est=3.7157785830231744, details={'was_impossible': False}),\n",
              " Prediction(uid='A3D2VIUT2HWP0Z', iid='B00834SJSK', r_ui=4.0, est=4.611897604075597, details={'was_impossible': False}),\n",
              " Prediction(uid='A3CG93783LP0FO', iid='B008DWCRQW', r_ui=2.0, est=4.032247786051388, details={'was_impossible': False}),\n",
              " Prediction(uid='A1EKSETIBS9ETQ', iid='B004XZL980', r_ui=4.0, est=4.012148902232917, details={'was_impossible': False}),\n",
              " Prediction(uid='A11YIHB6IW352W', iid='B003DZJQQI', r_ui=5.0, est=5, details={'was_impossible': False}),\n",
              " Prediction(uid='A3NEAETOSXDBOM', iid='B00CKPCJNO', r_ui=3.0, est=4.304144130510548, details={'was_impossible': False}),\n",
              " Prediction(uid='A1NQFT941TOTT7', iid='B0056TYRMW', r_ui=1.0, est=3.078373066043883, details={'was_impossible': False}),\n",
              " Prediction(uid='A3BI8BKIHESDNQ', iid='B001GX6MJ8', r_ui=4.0, est=4.597492082759553, details={'was_impossible': False}),\n",
              " Prediction(uid='A357B3PUHSVQA', iid='B004HW7KDC', r_ui=4.0, est=3.9234656104582, details={'was_impossible': False}),\n",
              " Prediction(uid='A2XRMQA6PJ5ZJ8', iid='B008OHNZI0', r_ui=5.0, est=4.799435135009234, details={'was_impossible': False}),\n",
              " Prediction(uid='A6FIAB28IS79', iid='B000V1MLBE', r_ui=5.0, est=4.18970489161148, details={'was_impossible': False}),\n",
              " Prediction(uid='A3S5EXYZDEBF3K', iid='B0041OSQ9I', r_ui=5.0, est=4.3460899778100535, details={'was_impossible': False}),\n",
              " Prediction(uid='A32AK8FOAZEPE2', iid='B002V88HFE', r_ui=4.0, est=3.335971666412936, details={'was_impossible': False}),\n",
              " Prediction(uid='A30J7WQV0ZNRXG', iid='B004YLAYHA', r_ui=5.0, est=4.568635210583484, details={'was_impossible': False}),\n",
              " Prediction(uid='A2IFKH3TJ10387', iid='B00JP12170', r_ui=4.0, est=4.061825747175053, details={'was_impossible': False}),\n",
              " Prediction(uid='A57Q87B0TC9IJ', iid='B001MVKZOC', r_ui=3.0, est=2.602756319191026, details={'was_impossible': False}),\n",
              " Prediction(uid='A195EZSQDW3E21', iid='B003URJP5Q', r_ui=4.0, est=3.856941814179473, details={'was_impossible': False}),\n",
              " Prediction(uid='A1V3TRGWOMA8LC', iid='B0082E9K7U', r_ui=5.0, est=4.826296447969215, details={'was_impossible': False}),\n",
              " Prediction(uid='ADKZOXAOV8EXD', iid='B0017H4G0A', r_ui=5.0, est=4.351836011242487, details={'was_impossible': False}),\n",
              " Prediction(uid='A32HSNCNPRUMTR', iid='B0043EV20Q', r_ui=4.0, est=3.659020020249643, details={'was_impossible': False}),\n",
              " Prediction(uid='A206CGM6J75UJY', iid='B000QYEN1W', r_ui=4.0, est=4.337213787100743, details={'was_impossible': False}),\n",
              " Prediction(uid='A3TBMGNSEQBWIL', iid='B004V93U26', r_ui=3.0, est=3.880152358564545, details={'was_impossible': False}),\n",
              " Prediction(uid='ABQWMANK4AR63', iid='B008AT6BMY', r_ui=3.0, est=3.716223450123395, details={'was_impossible': False}),\n",
              " Prediction(uid='A11EYMH9UV9XG7', iid='B000HCRVSK', r_ui=4.0, est=4.372008514724196, details={'was_impossible': False}),\n",
              " Prediction(uid='A2VC48WIMY6L6E', iid='B004PA9PBQ', r_ui=3.0, est=4.240324611928069, details={'was_impossible': False}),\n",
              " Prediction(uid='AA3FTJYJYX55C', iid='B005CT56F8', r_ui=5.0, est=4.010000099815246, details={'was_impossible': False}),\n",
              " Prediction(uid='A2KYRPDKVBI2R4', iid='B00006B82N', r_ui=5.0, est=4.748308215262089, details={'was_impossible': False}),\n",
              " Prediction(uid='A3AG5QAT8L0I3R', iid='B00E87E1OM', r_ui=5.0, est=4.60276011498053, details={'was_impossible': False}),\n",
              " Prediction(uid='A1BT6TL7UCIC5Y', iid='B008EQYRRY', r_ui=5.0, est=4.766239162773559, details={'was_impossible': False}),\n",
              " Prediction(uid='ADLVFFE4VBT8', iid='B008CP5R8K', r_ui=5.0, est=4.527863348973238, details={'was_impossible': False}),\n",
              " Prediction(uid='A18YMFFJW974QS', iid='B001TH7T2U', r_ui=5.0, est=4.957726322329024, details={'was_impossible': False}),\n",
              " Prediction(uid='A2X695AM08AIN1', iid='B006YW3DI4', r_ui=5.0, est=4.432313634018839, details={'was_impossible': False}),\n",
              " Prediction(uid='A2X8KN82L07RSK', iid='B002IC0YL8', r_ui=4.0, est=3.7376506233894795, details={'was_impossible': False}),\n",
              " Prediction(uid='A9Y5O2R4D6EH5', iid='B0002XQJFA', r_ui=4.0, est=4.302505371240093, details={'was_impossible': False}),\n",
              " Prediction(uid='A1QOK9LU90ACF7', iid='B005VAORH6', r_ui=5.0, est=4.1658836867655715, details={'was_impossible': False}),\n",
              " Prediction(uid='A20WUUD9EDWY4N', iid='B00A47U22U', r_ui=5.0, est=4.692178018894347, details={'was_impossible': False}),\n",
              " Prediction(uid='A4UGMKUSX9XHI', iid='B00ADG5FLK', r_ui=4.0, est=4.367609101663021, details={'was_impossible': False}),\n",
              " Prediction(uid='AVBLGXSWRN666', iid='B0013FW8XS', r_ui=3.0, est=3.615640208414128, details={'was_impossible': False}),\n",
              " Prediction(uid='A38Z6QG6988WS7', iid='B002LJNKNM', r_ui=5.0, est=4.79555325402712, details={'was_impossible': False}),\n",
              " Prediction(uid='A4IL0CLL27Q33', iid='B004X28I0A', r_ui=3.0, est=4.2463528955848, details={'was_impossible': False}),\n",
              " Prediction(uid='A1QQA7Y92L4F9R', iid='B000LIJ4ZS', r_ui=5.0, est=4.541003052267279, details={'was_impossible': False}),\n",
              " Prediction(uid='AY4EXFOO43C3S', iid='B0015EY5RE', r_ui=2.0, est=3.547265229086962, details={'was_impossible': False}),\n",
              " Prediction(uid='A2F2F7N94SR1KQ', iid='B0062HIQLU', r_ui=5.0, est=4.22079454989495, details={'was_impossible': False}),\n",
              " Prediction(uid='A34C9AFFZOI45T', iid='B004SBI2MU', r_ui=5.0, est=4.784791981935393, details={'was_impossible': False}),\n",
              " Prediction(uid='A36K2N527TXXJN', iid='B002K9IHGI', r_ui=5.0, est=4.817854987583429, details={'was_impossible': False}),\n",
              " Prediction(uid='A3H6NNGCINPLEC', iid='B000VNJD18', r_ui=5.0, est=4.298522182758654, details={'was_impossible': False}),\n",
              " Prediction(uid='A2BYV7S1QP2YIG', iid='B00IF70QCW', r_ui=5.0, est=4.710600407678838, details={'was_impossible': False}),\n",
              " Prediction(uid='ACSX5AIZE3MJ9', iid='B000BDD56W', r_ui=3.0, est=3.851766493425094, details={'was_impossible': False}),\n",
              " Prediction(uid='AGILRZOT49R0V', iid='B000AM3U2I', r_ui=3.0, est=4.340891214022716, details={'was_impossible': False}),\n",
              " Prediction(uid='A6FIAB28IS79', iid='B004QK8FBG', r_ui=3.0, est=3.346308560881397, details={'was_impossible': False}),\n",
              " Prediction(uid='A1LYMYNURB9EWW', iid='B002KC55OM', r_ui=4.0, est=3.2760076257726407, details={'was_impossible': False}),\n",
              " Prediction(uid='A1TDR7Y90SVCHL', iid='B003EO1H7E', r_ui=4.0, est=3.8193883715770487, details={'was_impossible': False}),\n",
              " Prediction(uid='A2F4HP0J5VNOYR', iid='B0014YGAN2', r_ui=5.0, est=4.835345946592265, details={'was_impossible': False}),\n",
              " Prediction(uid='A3PGVJF37JSHFO', iid='B0088LYCZC', r_ui=3.0, est=3.906078357376244, details={'was_impossible': False}),\n",
              " Prediction(uid='A2LCE1D0TW2XY0', iid='B00AW3O4WU', r_ui=5.0, est=4.125305528173628, details={'was_impossible': False}),\n",
              " Prediction(uid='A2K5RRMPICZ606', iid='B004NIG1SA', r_ui=4.0, est=4.273330312120091, details={'was_impossible': False}),\n",
              " Prediction(uid='AGGAQLXPVGM5D', iid='B001A4LVYY', r_ui=4.0, est=4.642291461768257, details={'was_impossible': False}),\n",
              " Prediction(uid='A233TZONT1OGR0', iid='B0036VO7WM', r_ui=5.0, est=4.138411503814691, details={'was_impossible': False}),\n",
              " Prediction(uid='A1OO9N1MRNQ7K0', iid='B0042QNFDM', r_ui=5.0, est=4.802491013417686, details={'was_impossible': False}),\n",
              " Prediction(uid='A2Q204DY2L7YRP', iid='B00A3VFIM6', r_ui=5.0, est=4.652228840523328, details={'was_impossible': False}),\n",
              " Prediction(uid='A2JMJVNTBL7K7E', iid='B002JM5JSU', r_ui=3.0, est=3.7094467187309985, details={'was_impossible': False}),\n",
              " Prediction(uid='A314KKDIJWCNMV', iid='B004PYD9I2', r_ui=5.0, est=4.605335678433681, details={'was_impossible': False}),\n",
              " Prediction(uid='A3S3R88HA0HZG3', iid='B000HDJT4S', r_ui=5.0, est=4.81114759485772, details={'was_impossible': False}),\n",
              " Prediction(uid='A3PD8JD9L4WEII', iid='B001T9N12A', r_ui=5.0, est=4.442951812648065, details={'was_impossible': False}),\n",
              " Prediction(uid='A1QQA7Y92L4F9R', iid='B002XZLURC', r_ui=5.0, est=4.44083647106286, details={'was_impossible': False}),\n",
              " Prediction(uid='A3U41ZL33SS92P', iid='B002DGTGNQ', r_ui=3.0, est=3.6721445234473915, details={'was_impossible': False}),\n",
              " Prediction(uid='A2KZOIOFXXMC1H', iid='B001UQ6E4Y', r_ui=4.0, est=4.180347294969238, details={'was_impossible': False}),\n",
              " Prediction(uid='A1R3GN9MEJFXM3', iid='B003CFATT2', r_ui=5.0, est=5, details={'was_impossible': False}),\n",
              " Prediction(uid='A2PL06HW6KZH2', iid='B0009Y7APU', r_ui=5.0, est=4.459444197412609, details={'was_impossible': False}),\n",
              " Prediction(uid='A1CYTBE7LLUQ8F', iid='B004X8R7VA', r_ui=4.0, est=4.170745616307639, details={'was_impossible': False}),\n",
              " Prediction(uid='A3UQSOJW51UU9T', iid='B009JCL55Y', r_ui=1.0, est=3.3576496327750562, details={'was_impossible': False}),\n",
              " Prediction(uid='A3TPNC3TKGCCEI', iid='B004E8Z3KQ', r_ui=5.0, est=4.359018235474072, details={'was_impossible': False}),\n",
              " Prediction(uid='A1X1CEGHTHMBL1', iid='B001A4HAFS', r_ui=5.0, est=4.673416423351998, details={'was_impossible': False}),\n",
              " Prediction(uid='AXP8GO5Q3AXSA', iid='B0001PFQAI', r_ui=5.0, est=4.545237969713282, details={'was_impossible': False}),\n",
              " Prediction(uid='A11YOTONCPRQ9S', iid='B002V8C3W2', r_ui=5.0, est=3.809927329531701, details={'was_impossible': False}),\n",
              " Prediction(uid='ANTGGAQYPSWHF', iid='B008ULPBJG', r_ui=3.0, est=3.5235132739650656, details={'was_impossible': False}),\n",
              " Prediction(uid='A2G563AC1HME2R', iid='B003WUBL0S', r_ui=5.0, est=4.554554613228833, details={'was_impossible': False}),\n",
              " Prediction(uid='A2NOW4U7W3F7RI', iid='B00212NO6W', r_ui=5.0, est=4.944435714640762, details={'was_impossible': False}),\n",
              " Prediction(uid='AK9BXHEXOOM6Z', iid='B000R9AAJA', r_ui=3.0, est=4.1959488298558645, details={'was_impossible': False}),\n",
              " Prediction(uid='A3LGT6UZL99IW1', iid='B003U7MSLE', r_ui=5.0, est=4.277090072317314, details={'was_impossible': False}),\n",
              " Prediction(uid='A33YZNZIRA3H97', iid='B008IEGSGU', r_ui=4.0, est=4.219151165922243, details={'was_impossible': False}),\n",
              " Prediction(uid='A3J6Q0Y0SKY7AR', iid='B007V9SNNY', r_ui=5.0, est=4.393707915665835, details={'was_impossible': False}),\n",
              " Prediction(uid='A196JN53PG0C7R', iid='B001FVI91U', r_ui=5.0, est=4.88555567084375, details={'was_impossible': False}),\n",
              " Prediction(uid='A1435P5AMCPB3X', iid='B000LD14PQ', r_ui=5.0, est=4.453627153008927, details={'was_impossible': False}),\n",
              " Prediction(uid='ASHJAZC9OA9NS', iid='B000TG4BA0', r_ui=5.0, est=4.378666001232378, details={'was_impossible': False}),\n",
              " Prediction(uid='A2BCDZO1XQLDH', iid='B005OB1TU0', r_ui=4.0, est=4.142232187212162, details={'was_impossible': False}),\n",
              " Prediction(uid='AAR7CEPXYJA0T', iid='B000058EGT', r_ui=5.0, est=3.828869083599276, details={'was_impossible': False}),\n",
              " Prediction(uid='AHF4I1FSIHABC', iid='B002WE0QN8', r_ui=5.0, est=5, details={'was_impossible': False}),\n",
              " Prediction(uid='A1SB9BNNGKNX2Z', iid='B00017LSPI', r_ui=5.0, est=5, details={'was_impossible': False}),\n",
              " Prediction(uid='A3NKRH3TJ4DPVI', iid='B006GWO5WK', r_ui=5.0, est=4.214800728367111, details={'was_impossible': False}),\n",
              " Prediction(uid='ARBKYIVNYWK3C', iid='B000068MP2', r_ui=4.0, est=4.354976660768836, details={'was_impossible': False}),\n",
              " Prediction(uid='A1NGFGBX2VCQS8', iid='B006BGZJJ4', r_ui=5.0, est=4.005037565563094, details={'was_impossible': False}),\n",
              " Prediction(uid='A33CNFK776MTWR', iid='B008ALAHA4', r_ui=5.0, est=4.45974515103479, details={'was_impossible': False}),\n",
              " Prediction(uid='AGEKVD8JPZQMT', iid='B0007Z6RAA', r_ui=5.0, est=4.303718401125692, details={'was_impossible': False}),\n",
              " Prediction(uid='AEWYUPCNDV7HY', iid='B0063705PE', r_ui=5.0, est=3.974019548624987, details={'was_impossible': False}),\n",
              " Prediction(uid='A3OXHLG6DIBRW8', iid='B000VRBLMS', r_ui=4.0, est=4.266753121405236, details={'was_impossible': False}),\n",
              " Prediction(uid='A2GOHNFBHUU3UI', iid='B004N62I0C', r_ui=4.0, est=3.6331294821263205, details={'was_impossible': False}),\n",
              " Prediction(uid='A96JD9312DHWC', iid='B0001A06GW', r_ui=5.0, est=4.375628952331194, details={'was_impossible': False}),\n",
              " Prediction(uid='ASJLXOX1VD4DF', iid='B005IHAIDO', r_ui=5.0, est=4.2576402551820705, details={'was_impossible': False}),\n",
              " Prediction(uid='AGX2K0FMS0IVL', iid='B0018PS4O0', r_ui=1.0, est=3.5489198145809353, details={'was_impossible': False}),\n",
              " Prediction(uid='A2Y29IRSI08F0I', iid='B004J3ZV62', r_ui=5.0, est=4.730078399991878, details={'was_impossible': False}),\n",
              " Prediction(uid='A2EN82VBJT44QP', iid='B007BJHETS', r_ui=5.0, est=4.560867386688999, details={'was_impossible': False}),\n",
              " Prediction(uid='AEAFHD09X8044', iid='B0031U1AT6', r_ui=5.0, est=4.285377057497229, details={'was_impossible': False}),\n",
              " Prediction(uid='A3CW0ZLUO5X2B1', iid='B004YLAYHA', r_ui=5.0, est=4.496242721900352, details={'was_impossible': False}),\n",
              " Prediction(uid='A3UQSOJW51UU9T', iid='B007PZWYKM', r_ui=5.0, est=3.887601210680169, details={'was_impossible': False}),\n",
              " Prediction(uid='AG6TX1ZJHLMO7', iid='B0054QNL38', r_ui=3.0, est=4.056098684241518, details={'was_impossible': False}),\n",
              " Prediction(uid='A2YEZ8Z3BW2SKG', iid='B004CLYEFK', r_ui=5.0, est=4.826596127905178, details={'was_impossible': False}),\n",
              " Prediction(uid='A25QJBK33C4O0R', iid='B00EI4V3FU', r_ui=4.0, est=3.220847700053277, details={'was_impossible': False}),\n",
              " Prediction(uid='A22CW0ZHY3NJH8', iid='B00DW374W4', r_ui=5.0, est=4.45255185310071, details={'was_impossible': False}),\n",
              " Prediction(uid='A2M14CFAMF8J7I', iid='B0052D3750', r_ui=4.0, est=4.484763355343117, details={'was_impossible': False}),\n",
              " Prediction(uid='A1TR1R2QKWRSRA', iid='B003Y74AXO', r_ui=3.0, est=3.2549801539440173, details={'was_impossible': False}),\n",
              " Prediction(uid='A1T9MILRRZ00F8', iid='B000V5P90K', r_ui=5.0, est=4.3899467219474255, details={'was_impossible': False}),\n",
              " Prediction(uid='A3R1WFO4KIUQXZ', iid='B005NFG1MS', r_ui=3.0, est=4.182997438376023, details={'was_impossible': False}),\n",
              " Prediction(uid='A1AWL9JASMG904', iid='B003SX0P1A', r_ui=5.0, est=4.097649682893233, details={'was_impossible': False}),\n",
              " Prediction(uid='A2LF16F0KX9L7P', iid='B00829TIEK', r_ui=5.0, est=4.829903953995602, details={'was_impossible': False}),\n",
              " Prediction(uid='A18GJ9MYYO6GCQ', iid='B004WK3U9W', r_ui=4.0, est=4.507241264821929, details={'was_impossible': False}),\n",
              " Prediction(uid='A2XQYE6TJYROHQ', iid='B000Z4AQFU', r_ui=5.0, est=4.285607894587327, details={'was_impossible': False}),\n",
              " Prediction(uid='A19XMHRB3G4DIR', iid='B0055R0YK4', r_ui=3.0, est=4.218174209311017, details={'was_impossible': False}),\n",
              " Prediction(uid='A1N3EH28S4DI8L', iid='B00894YP00', r_ui=4.0, est=4.2191774124087225, details={'was_impossible': False}),\n",
              " Prediction(uid='A17Z0LVY96TO53', iid='B0000BZL1P', r_ui=5.0, est=5, details={'was_impossible': False}),\n",
              " Prediction(uid='A2NB2E5DXE319Z', iid='B005EWB37S', r_ui=5.0, est=4.240848520561817, details={'was_impossible': False}),\n",
              " Prediction(uid='A1ZCSSCAGBCD49', iid='B00834SJNA', r_ui=4.0, est=4.168902011585691, details={'was_impossible': False}),\n",
              " Prediction(uid='AXR3CV6A4FMBG', iid='B002VPE1X4', r_ui=5.0, est=4.590616635712907, details={'was_impossible': False}),\n",
              " Prediction(uid='A680RUE1FDO8B', iid='B000DZH4D8', r_ui=4.0, est=4.514377679519921, details={'was_impossible': False}),\n",
              " Prediction(uid='A3OA4DV4L81N1D', iid='B001RIMZUW', r_ui=1.0, est=4.072194212656355, details={'was_impossible': False}),\n",
              " Prediction(uid='A3JLOIXFM75QNV', iid='B0007Z9QMG', r_ui=3.0, est=3.864407771711555, details={'was_impossible': False}),\n",
              " Prediction(uid='A1MRRMHGV3PN5W', iid='B001CHHVCU', r_ui=5.0, est=3.755755852936923, details={'was_impossible': False}),\n",
              " Prediction(uid='A28LUOEY0ECT9G', iid='B003SWLRLS', r_ui=5.0, est=4.394303609862807, details={'was_impossible': False}),\n",
              " Prediction(uid='A28X0LT2100RL1', iid='B002SGATH8', r_ui=5.0, est=4.235737705656291, details={'was_impossible': False}),\n",
              " Prediction(uid='AUBEFRFHJR64Y', iid='B000MGG6SC', r_ui=5.0, est=3.8035357903482443, details={'was_impossible': False}),\n",
              " Prediction(uid='A1CSRR7FCKBL9M', iid='B00I5SW8MC', r_ui=5.0, est=4.575883256429285, details={'was_impossible': False}),\n",
              " Prediction(uid='AV8MDYLHHTUOY', iid='B001RB1QWW', r_ui=4.0, est=3.700085203155511, details={'was_impossible': False}),\n",
              " Prediction(uid='A31RZMVAFMLB8B', iid='B004TB70Y0', r_ui=4.0, est=3.950965442866457, details={'was_impossible': False}),\n",
              " Prediction(uid='A2LB4FLRZG6CUV', iid='B000VKEFMS', r_ui=5.0, est=4.239510095480845, details={'was_impossible': False}),\n",
              " Prediction(uid='A2OBDNQ5ZYU1L8', iid='B00IL7B2YM', r_ui=3.0, est=4.135788320507377, details={'was_impossible': False}),\n",
              " Prediction(uid='A3UXW18DP4WSD6', iid='B000IJY8DS', r_ui=5.0, est=5, details={'was_impossible': False}),\n",
              " Prediction(uid='AZBXKUH4AIW3X', iid='B0003QIXBY', r_ui=2.0, est=4.066627896583244, details={'was_impossible': False}),\n",
              " Prediction(uid='A38RMU1Y5TDP9', iid='B002JSQ96K', r_ui=3.0, est=3.9697806008735803, details={'was_impossible': False}),\n",
              " Prediction(uid='A2WC9NFLG57W4H', iid='B00793MIJC', r_ui=2.0, est=3.97037428570219, details={'was_impossible': False}),\n",
              " Prediction(uid='A1143YEAZYMYHJ', iid='B001GS8FZ2', r_ui=4.0, est=4.089045883345716, details={'was_impossible': False}),\n",
              " Prediction(uid='A1T1YSCDW0PD25', iid='B005FE72Q6', r_ui=5.0, est=4.443765736392648, details={'was_impossible': False}),\n",
              " Prediction(uid='AHROSV6WJOEGY', iid='B003XIJ566', r_ui=4.0, est=3.0635313155744983, details={'was_impossible': False}),\n",
              " Prediction(uid='A3J3ZHGDUDPCFL', iid='B005NFG1MS', r_ui=5.0, est=4.545617152363186, details={'was_impossible': False}),\n",
              " Prediction(uid='AO09RWV40IX78', iid='B00DQZQG3G', r_ui=4.0, est=4.717033603819398, details={'was_impossible': False}),\n",
              " Prediction(uid='A3IUW081KXD3PE', iid='B002JCSCYS', r_ui=4.0, est=4.330217420044829, details={'was_impossible': False}),\n",
              " Prediction(uid='A18EA7MNLXP9H5', iid='B0001GAMQK', r_ui=5.0, est=4.440976867941952, details={'was_impossible': False}),\n",
              " Prediction(uid='A2LW5AL0KQ9P1M', iid='B00GDL2PPI', r_ui=3.0, est=3.6981880938382994, details={'was_impossible': False}),\n",
              " Prediction(uid='A1NGFGBX2VCQS8', iid='B0079TOG82', r_ui=2.0, est=3.490535627262461, details={'was_impossible': False}),\n",
              " Prediction(uid='A11T807LX2EF00', iid='B00GRNUO2I', r_ui=5.0, est=4.48943306086261, details={'was_impossible': False}),\n",
              " Prediction(uid='A2Z1R98M2XOCEJ', iid='B00829TIA4', r_ui=5.0, est=4.415160024299113, details={'was_impossible': False}),\n",
              " Prediction(uid='A4D5B7Q8A7PA6', iid='B0041Q38NU', r_ui=5.0, est=4.516348016338246, details={'was_impossible': False}),\n",
              " Prediction(uid='A2ZFFSJ0VM6KSJ', iid='B002V88HFE', r_ui=5.0, est=4.830504712076785, details={'was_impossible': False}),\n",
              " Prediction(uid='A2EF8N7ZE7ONWX', iid='B00834SJNA', r_ui=4.0, est=4.394212544803752, details={'was_impossible': False}),\n",
              " Prediction(uid='A33SX0AD5PYD9B', iid='B003M0NT1M', r_ui=5.0, est=4.2584120705701, details={'was_impossible': False}),\n",
              " Prediction(uid='A3OXHLG6DIBRW8', iid='B001SLFN7U', r_ui=4.0, est=4.0924748173978935, details={'was_impossible': False}),\n",
              " Prediction(uid='A1NJHKPHD4YWZV', iid='B003QLE4M0', r_ui=3.0, est=3.935055229838431, details={'was_impossible': False}),\n",
              " Prediction(uid='A34CSXOGVYF94S', iid='B00F0DD0I6', r_ui=5.0, est=4.694685515295604, details={'was_impossible': False}),\n",
              " Prediction(uid='A1ODOGXEYECQQ8', iid='B000KO0GY6', r_ui=4.0, est=4.514608075053028, details={'was_impossible': False}),\n",
              " Prediction(uid='A2HNH4PKE5DPSI', iid='B000V4TMWC', r_ui=5.0, est=4.236911664489109, details={'was_impossible': False}),\n",
              " Prediction(uid='A1RL1OTV8IJMVD', iid='B00DSGLM50', r_ui=5.0, est=4.276178019406064, details={'was_impossible': False}),\n",
              " Prediction(uid='A21VM9WVF8EOSJ', iid='B000RK89M4', r_ui=1.0, est=3.4475079012917655, details={'was_impossible': False}),\n",
              " Prediction(uid='AMO1MLSIJSQOF', iid='B003VNKKRG', r_ui=4.0, est=4.124979523951642, details={'was_impossible': False}),\n",
              " Prediction(uid='A39137LW12KK7B', iid='B00G4UQ6U8', r_ui=5.0, est=5, details={'was_impossible': False}),\n",
              " Prediction(uid='A3QDY9I0CNMD2W', iid='B0055W2XQM', r_ui=2.0, est=4.021435306005413, details={'was_impossible': False}),\n",
              " Prediction(uid='A27QXQQOLAMRRR', iid='B005CG2AL4', r_ui=2.0, est=3.642370672666445, details={'was_impossible': False}),\n",
              " Prediction(uid='A36K2N527TXXJN', iid='B001WAK6H4', r_ui=5.0, est=4.58845709328572, details={'was_impossible': False}),\n",
              " Prediction(uid='AGHZXQL9F94T9', iid='B0007VMROE', r_ui=2.0, est=3.329935780294555, details={'was_impossible': False}),\n",
              " Prediction(uid='AFICF7DKHTQ87', iid='B001QFXDA2', r_ui=2.0, est=3.829429753927806, details={'was_impossible': False}),\n",
              " Prediction(uid='A3H4S6YO9VNGDZ', iid='B0090878BW', r_ui=4.0, est=4.411877974049354, details={'was_impossible': False}),\n",
              " Prediction(uid='A1DQHS7MOVYYYA', iid='B0079TOI8K', r_ui=3.0, est=3.75815261751725, details={'was_impossible': False}),\n",
              " ...]"
            ]
          },
          "metadata": {
            "tags": []
          },
          "execution_count": 279
        }
      ]
    },
    {
      "cell_type": "code",
      "metadata": {
        "id": "SV5c6Ai_40eI",
        "colab_type": "code",
        "outputId": "d349ac89-b2b7-4741-c422-10e2d7809a2e",
        "colab": {
          "base_uri": "https://localhost:8080/",
          "height": 51
        }
      },
      "source": [
        "accuracy.rmse(gs.test(testset))"
      ],
      "execution_count": 280,
      "outputs": [
        {
          "output_type": "stream",
          "text": [
            "RMSE: 0.8532\n"
          ],
          "name": "stdout"
        },
        {
          "output_type": "execute_result",
          "data": {
            "text/plain": [
              "0.8532478792377717"
            ]
          },
          "metadata": {
            "tags": []
          },
          "execution_count": 280
        }
      ]
    },
    {
      "cell_type": "markdown",
      "metadata": {
        "id": "7jju_Rb-sbcr",
        "colab_type": "text"
      },
      "source": [
        "From the above grid search model, our RMSE value reduced as 0.85."
      ]
    },
    {
      "cell_type": "markdown",
      "metadata": {
        "id": "M0RO1tw-slqF",
        "colab_type": "text"
      },
      "source": [
        "Conclusion: From Popularity Recommender model, we can recommend best prodiucts to new users who were not already have records.\n",
        "\n",
        "From Collaborative Filtering model we got RMSE as 1.4 and we tried SVD model. It also increase the RMSE value. Finally we tried grid seaerch model using hyper perameter options. It reduct the RMSE as 0.853."
      ]
    }
  ]
}