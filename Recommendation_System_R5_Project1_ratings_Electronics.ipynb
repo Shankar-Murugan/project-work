{
 "cells": [
  {
   "cell_type": "code",
   "execution_count": 165,
   "metadata": {
    "colab": {
     "base_uri": "https://localhost:8080/",
     "height": 54
    },
    "colab_type": "code",
    "id": "rqAsXGDp5h7N",
    "outputId": "f88fb1ff-e81f-4bc7-9e39-1c632f954957"
   },
   "outputs": [
    {
     "name": "stdout",
     "output_type": "stream",
     "text": [
      "Drive already mounted at /content/drive; to attempt to forcibly remount, call drive.mount(\"/content/drive\", force_remount=True).\n"
     ]
    }
   ],
   "source": [
    "from google.colab import drive\n",
    "drive.mount('/content/drive')"
   ]
  },
  {
   "cell_type": "markdown",
   "metadata": {
    "colab_type": "text",
    "id": "yPwcp5qOCBtY"
   },
   "source": [
    "# 1. Read and explore the given dataset. ( Rename column/add headers, plot histograms, find data characteristics)"
   ]
  },
  {
   "cell_type": "code",
   "execution_count": 0,
   "metadata": {
    "colab": {},
    "colab_type": "code",
    "id": "_R0GV9706Agf"
   },
   "outputs": [],
   "source": [
    "import pandas as pd"
   ]
  },
  {
   "cell_type": "code",
   "execution_count": 0,
   "metadata": {
    "colab": {},
    "colab_type": "code",
    "id": "Gf8om4WK-2-q"
   },
   "outputs": [],
   "source": [
    "import numpy as np"
   ]
  },
  {
   "cell_type": "code",
   "execution_count": 0,
   "metadata": {
    "colab": {},
    "colab_type": "code",
    "id": "qze3ySK4-48p"
   },
   "outputs": [],
   "source": [
    "df = pd.read_csv('/content/drive/My Drive/Colab Notebooks/Recommendation System_Assignment/ratings_Electronics.csv', header = None)"
   ]
  },
  {
   "cell_type": "code",
   "execution_count": 169,
   "metadata": {
    "colab": {
     "base_uri": "https://localhost:8080/",
     "height": 204
    },
    "colab_type": "code",
    "id": "oOOo6gPW_DQT",
    "outputId": "f324fcb3-866a-4c76-a200-5e9415b1e38f"
   },
   "outputs": [
    {
     "data": {
      "text/html": [
       "<div>\n",
       "<style scoped>\n",
       "    .dataframe tbody tr th:only-of-type {\n",
       "        vertical-align: middle;\n",
       "    }\n",
       "\n",
       "    .dataframe tbody tr th {\n",
       "        vertical-align: top;\n",
       "    }\n",
       "\n",
       "    .dataframe thead th {\n",
       "        text-align: right;\n",
       "    }\n",
       "</style>\n",
       "<table border=\"1\" class=\"dataframe\">\n",
       "  <thead>\n",
       "    <tr style=\"text-align: right;\">\n",
       "      <th></th>\n",
       "      <th>0</th>\n",
       "      <th>1</th>\n",
       "      <th>2</th>\n",
       "      <th>3</th>\n",
       "    </tr>\n",
       "  </thead>\n",
       "  <tbody>\n",
       "    <tr>\n",
       "      <th>0</th>\n",
       "      <td>AKM1MP6P0OYPR</td>\n",
       "      <td>0132793040</td>\n",
       "      <td>5.0</td>\n",
       "      <td>1365811200</td>\n",
       "    </tr>\n",
       "    <tr>\n",
       "      <th>1</th>\n",
       "      <td>A2CX7LUOHB2NDG</td>\n",
       "      <td>0321732944</td>\n",
       "      <td>5.0</td>\n",
       "      <td>1341100800</td>\n",
       "    </tr>\n",
       "    <tr>\n",
       "      <th>2</th>\n",
       "      <td>A2NWSAGRHCP8N5</td>\n",
       "      <td>0439886341</td>\n",
       "      <td>1.0</td>\n",
       "      <td>1367193600</td>\n",
       "    </tr>\n",
       "    <tr>\n",
       "      <th>3</th>\n",
       "      <td>A2WNBOD3WNDNKT</td>\n",
       "      <td>0439886341</td>\n",
       "      <td>3.0</td>\n",
       "      <td>1374451200</td>\n",
       "    </tr>\n",
       "    <tr>\n",
       "      <th>4</th>\n",
       "      <td>A1GI0U4ZRJA8WN</td>\n",
       "      <td>0439886341</td>\n",
       "      <td>1.0</td>\n",
       "      <td>1334707200</td>\n",
       "    </tr>\n",
       "  </tbody>\n",
       "</table>\n",
       "</div>"
      ],
      "text/plain": [
       "                0           1    2           3\n",
       "0   AKM1MP6P0OYPR  0132793040  5.0  1365811200\n",
       "1  A2CX7LUOHB2NDG  0321732944  5.0  1341100800\n",
       "2  A2NWSAGRHCP8N5  0439886341  1.0  1367193600\n",
       "3  A2WNBOD3WNDNKT  0439886341  3.0  1374451200\n",
       "4  A1GI0U4ZRJA8WN  0439886341  1.0  1334707200"
      ]
     },
     "execution_count": 169,
     "metadata": {
      "tags": []
     },
     "output_type": "execute_result"
    }
   ],
   "source": [
    "df.head()"
   ]
  },
  {
   "cell_type": "markdown",
   "metadata": {
    "colab_type": "text",
    "id": "QogzXP1JjQiS"
   },
   "source": [
    "### The lodead data set not have column heads so we need to set column names as per data description."
   ]
  },
  {
   "cell_type": "markdown",
   "metadata": {
    "colab_type": "text",
    "id": "bvYvXYlajeqS"
   },
   "source": [
    "## Column Name setting:"
   ]
  },
  {
   "cell_type": "code",
   "execution_count": 0,
   "metadata": {
    "colab": {},
    "colab_type": "code",
    "id": "b__TSBF6_HlB"
   },
   "outputs": [],
   "source": [
    "df.columns = ['User ID', 'Product ID', 'Ratings', 'Timestamp']"
   ]
  },
  {
   "cell_type": "code",
   "execution_count": 171,
   "metadata": {
    "colab": {
     "base_uri": "https://localhost:8080/",
     "height": 204
    },
    "colab_type": "code",
    "id": "2iOA25fKDS8y",
    "outputId": "458c774c-bac5-48ad-e18b-0c5f8faa2329"
   },
   "outputs": [
    {
     "data": {
      "text/html": [
       "<div>\n",
       "<style scoped>\n",
       "    .dataframe tbody tr th:only-of-type {\n",
       "        vertical-align: middle;\n",
       "    }\n",
       "\n",
       "    .dataframe tbody tr th {\n",
       "        vertical-align: top;\n",
       "    }\n",
       "\n",
       "    .dataframe thead th {\n",
       "        text-align: right;\n",
       "    }\n",
       "</style>\n",
       "<table border=\"1\" class=\"dataframe\">\n",
       "  <thead>\n",
       "    <tr style=\"text-align: right;\">\n",
       "      <th></th>\n",
       "      <th>User ID</th>\n",
       "      <th>Product ID</th>\n",
       "      <th>Ratings</th>\n",
       "      <th>Timestamp</th>\n",
       "    </tr>\n",
       "  </thead>\n",
       "  <tbody>\n",
       "    <tr>\n",
       "      <th>0</th>\n",
       "      <td>AKM1MP6P0OYPR</td>\n",
       "      <td>0132793040</td>\n",
       "      <td>5.0</td>\n",
       "      <td>1365811200</td>\n",
       "    </tr>\n",
       "    <tr>\n",
       "      <th>1</th>\n",
       "      <td>A2CX7LUOHB2NDG</td>\n",
       "      <td>0321732944</td>\n",
       "      <td>5.0</td>\n",
       "      <td>1341100800</td>\n",
       "    </tr>\n",
       "    <tr>\n",
       "      <th>2</th>\n",
       "      <td>A2NWSAGRHCP8N5</td>\n",
       "      <td>0439886341</td>\n",
       "      <td>1.0</td>\n",
       "      <td>1367193600</td>\n",
       "    </tr>\n",
       "    <tr>\n",
       "      <th>3</th>\n",
       "      <td>A2WNBOD3WNDNKT</td>\n",
       "      <td>0439886341</td>\n",
       "      <td>3.0</td>\n",
       "      <td>1374451200</td>\n",
       "    </tr>\n",
       "    <tr>\n",
       "      <th>4</th>\n",
       "      <td>A1GI0U4ZRJA8WN</td>\n",
       "      <td>0439886341</td>\n",
       "      <td>1.0</td>\n",
       "      <td>1334707200</td>\n",
       "    </tr>\n",
       "  </tbody>\n",
       "</table>\n",
       "</div>"
      ],
      "text/plain": [
       "          User ID  Product ID  Ratings   Timestamp\n",
       "0   AKM1MP6P0OYPR  0132793040      5.0  1365811200\n",
       "1  A2CX7LUOHB2NDG  0321732944      5.0  1341100800\n",
       "2  A2NWSAGRHCP8N5  0439886341      1.0  1367193600\n",
       "3  A2WNBOD3WNDNKT  0439886341      3.0  1374451200\n",
       "4  A1GI0U4ZRJA8WN  0439886341      1.0  1334707200"
      ]
     },
     "execution_count": 171,
     "metadata": {
      "tags": []
     },
     "output_type": "execute_result"
    }
   ],
   "source": [
    "df.head()"
   ]
  },
  {
   "cell_type": "code",
   "execution_count": 172,
   "metadata": {
    "colab": {
     "base_uri": "https://localhost:8080/",
     "height": 34
    },
    "colab_type": "code",
    "id": "kp1DIvxTM7yO",
    "outputId": "bf6ce5d9-9dd1-4d1c-a7e2-bf1cf3a8f391"
   },
   "outputs": [
    {
     "data": {
      "text/plain": [
       "(7824482, 4)"
      ]
     },
     "execution_count": 172,
     "metadata": {
      "tags": []
     },
     "output_type": "execute_result"
    }
   ],
   "source": [
    "df.shape"
   ]
  },
  {
   "cell_type": "markdown",
   "metadata": {
    "colab_type": "text",
    "id": "RJbd6Zq6jp5R"
   },
   "source": [
    "### Initially we have 7.8 million records and 4 columns in the loaded data set."
   ]
  },
  {
   "cell_type": "markdown",
   "metadata": {
    "colab_type": "text",
    "id": "Gyoh2oCokL6r"
   },
   "source": [
    "## Dropping \"Timestamp\" since it is not needed for this project."
   ]
  },
  {
   "cell_type": "code",
   "execution_count": 0,
   "metadata": {
    "colab": {},
    "colab_type": "code",
    "id": "HgF2wnj-DU8G"
   },
   "outputs": [],
   "source": [
    "df1 = df.drop(['Timestamp'], axis=1)"
   ]
  },
  {
   "cell_type": "code",
   "execution_count": 174,
   "metadata": {
    "colab": {
     "base_uri": "https://localhost:8080/",
     "height": 204
    },
    "colab_type": "code",
    "id": "Fw-w_naTD45o",
    "outputId": "f4e515a2-d4fa-43b3-b34b-dec11e3c2b57"
   },
   "outputs": [
    {
     "data": {
      "text/html": [
       "<div>\n",
       "<style scoped>\n",
       "    .dataframe tbody tr th:only-of-type {\n",
       "        vertical-align: middle;\n",
       "    }\n",
       "\n",
       "    .dataframe tbody tr th {\n",
       "        vertical-align: top;\n",
       "    }\n",
       "\n",
       "    .dataframe thead th {\n",
       "        text-align: right;\n",
       "    }\n",
       "</style>\n",
       "<table border=\"1\" class=\"dataframe\">\n",
       "  <thead>\n",
       "    <tr style=\"text-align: right;\">\n",
       "      <th></th>\n",
       "      <th>User ID</th>\n",
       "      <th>Product ID</th>\n",
       "      <th>Ratings</th>\n",
       "    </tr>\n",
       "  </thead>\n",
       "  <tbody>\n",
       "    <tr>\n",
       "      <th>0</th>\n",
       "      <td>AKM1MP6P0OYPR</td>\n",
       "      <td>0132793040</td>\n",
       "      <td>5.0</td>\n",
       "    </tr>\n",
       "    <tr>\n",
       "      <th>1</th>\n",
       "      <td>A2CX7LUOHB2NDG</td>\n",
       "      <td>0321732944</td>\n",
       "      <td>5.0</td>\n",
       "    </tr>\n",
       "    <tr>\n",
       "      <th>2</th>\n",
       "      <td>A2NWSAGRHCP8N5</td>\n",
       "      <td>0439886341</td>\n",
       "      <td>1.0</td>\n",
       "    </tr>\n",
       "    <tr>\n",
       "      <th>3</th>\n",
       "      <td>A2WNBOD3WNDNKT</td>\n",
       "      <td>0439886341</td>\n",
       "      <td>3.0</td>\n",
       "    </tr>\n",
       "    <tr>\n",
       "      <th>4</th>\n",
       "      <td>A1GI0U4ZRJA8WN</td>\n",
       "      <td>0439886341</td>\n",
       "      <td>1.0</td>\n",
       "    </tr>\n",
       "  </tbody>\n",
       "</table>\n",
       "</div>"
      ],
      "text/plain": [
       "          User ID  Product ID  Ratings\n",
       "0   AKM1MP6P0OYPR  0132793040      5.0\n",
       "1  A2CX7LUOHB2NDG  0321732944      5.0\n",
       "2  A2NWSAGRHCP8N5  0439886341      1.0\n",
       "3  A2WNBOD3WNDNKT  0439886341      3.0\n",
       "4  A1GI0U4ZRJA8WN  0439886341      1.0"
      ]
     },
     "execution_count": 174,
     "metadata": {
      "tags": []
     },
     "output_type": "execute_result"
    }
   ],
   "source": [
    "df1.head()"
   ]
  },
  {
   "cell_type": "markdown",
   "metadata": {
    "colab_type": "text",
    "id": "iU073C5zkXJp"
   },
   "source": [
    "# Exploratory data analysis"
   ]
  },
  {
   "cell_type": "markdown",
   "metadata": {
    "colab_type": "text",
    "id": "Q6cfI9fjki8q"
   },
   "source": [
    "## Missing Values checking:"
   ]
  },
  {
   "cell_type": "code",
   "execution_count": 0,
   "metadata": {
    "colab": {},
    "colab_type": "code",
    "id": "R56rWWsZFKIU"
   },
   "outputs": [],
   "source": [
    "missing = df1.isnull().sum().sort_values(ascending=False)"
   ]
  },
  {
   "cell_type": "code",
   "execution_count": 176,
   "metadata": {
    "colab": {
     "base_uri": "https://localhost:8080/",
     "height": 85
    },
    "colab_type": "code",
    "id": "YXjzDGyTFlSX",
    "outputId": "42710be7-8d37-4100-e3bc-88dc646dc8e3"
   },
   "outputs": [
    {
     "name": "stdout",
     "output_type": "stream",
     "text": [
      "Ratings       0\n",
      "Product ID    0\n",
      "User ID       0\n",
      "dtype: int64\n"
     ]
    }
   ],
   "source": [
    "print(missing)"
   ]
  },
  {
   "cell_type": "markdown",
   "metadata": {
    "colab_type": "text",
    "id": "AurAPregFzxl"
   },
   "source": [
    "#### Ther is no missing values"
   ]
  },
  {
   "cell_type": "markdown",
   "metadata": {
    "colab_type": "text",
    "id": "dmDcSh5mkpCf"
   },
   "source": [
    "### Unique User ID count prediction"
   ]
  },
  {
   "cell_type": "code",
   "execution_count": 0,
   "metadata": {
    "colab": {},
    "colab_type": "code",
    "id": "AQxXvfe6Hkqs"
   },
   "outputs": [],
   "source": [
    "user_id_count=df1['User ID'].value_counts()"
   ]
  },
  {
   "cell_type": "code",
   "execution_count": 178,
   "metadata": {
    "colab": {
     "base_uri": "https://localhost:8080/",
     "height": 221
    },
    "colab_type": "code",
    "id": "XEeU9x1_Hu0v",
    "outputId": "54cad153-ecc0-4842-a03c-09cc28da75e2"
   },
   "outputs": [
    {
     "name": "stdout",
     "output_type": "stream",
     "text": [
      "A5JLAU2ARJ0BO     520\n",
      "ADLVFFE4VBT8      501\n",
      "A3OXHLG6DIBRW8    498\n",
      "A6FIAB28IS79      431\n",
      "A680RUE1FDO8B     406\n",
      "                 ... \n",
      "A1IMNY899K4OVT      1\n",
      "A2Q9ZMV77S7R3B      1\n",
      "A1YY0AFBR76STU      1\n",
      "A36KAXWCTT5ISV      1\n",
      "APOYZ7AX2MI4G       1\n",
      "Name: User ID, Length: 4201696, dtype: int64\n"
     ]
    }
   ],
   "source": [
    "print(user_id_count)"
   ]
  },
  {
   "cell_type": "markdown",
   "metadata": {
    "colab_type": "text",
    "id": "R5_Mh94sJSjv"
   },
   "source": [
    "#### We infer that there are 4201696 users participated in this *ratings*"
   ]
  },
  {
   "cell_type": "markdown",
   "metadata": {
    "colab_type": "text",
    "id": "8GXhte8uk3wb"
   },
   "source": [
    "### Unique Product ID count prediction:"
   ]
  },
  {
   "cell_type": "code",
   "execution_count": 0,
   "metadata": {
    "colab": {},
    "colab_type": "code",
    "id": "7mBr9Hs1H86A"
   },
   "outputs": [],
   "source": [
    "product_id_count=df1['Product ID'].value_counts()"
   ]
  },
  {
   "cell_type": "code",
   "execution_count": 180,
   "metadata": {
    "colab": {
     "base_uri": "https://localhost:8080/",
     "height": 221
    },
    "colab_type": "code",
    "id": "JSkIbzAUI4Mi",
    "outputId": "e8ec411c-519d-4bbf-dbc6-53233ac21624"
   },
   "outputs": [
    {
     "name": "stdout",
     "output_type": "stream",
     "text": [
      "B0074BW614    18244\n",
      "B00DR0PDNE    16454\n",
      "B007WTAJTO    14172\n",
      "B0019EHU8G    12285\n",
      "B006GWO5WK    12226\n",
      "              ...  \n",
      "B00EOMYCYU        1\n",
      "B0030CVA7M        1\n",
      "B007B79U3S        1\n",
      "B00JAUWHN4        1\n",
      "B002QOLB6A        1\n",
      "Name: Product ID, Length: 476002, dtype: int64\n"
     ]
    }
   ],
   "source": [
    "print(product_id_count)"
   ]
  },
  {
   "cell_type": "markdown",
   "metadata": {
    "colab_type": "text",
    "id": "DZQai486Jhlr"
   },
   "source": [
    "#### We infer that there are 476002 products has been rated in this dataset."
   ]
  },
  {
   "cell_type": "markdown",
   "metadata": {
    "colab_type": "text",
    "id": "5W0ju6tPlAtd"
   },
   "source": [
    "### Type of data prediction:"
   ]
  },
  {
   "cell_type": "code",
   "execution_count": 181,
   "metadata": {
    "colab": {
     "base_uri": "https://localhost:8080/",
     "height": 153
    },
    "colab_type": "code",
    "id": "RRrSJymtNPYc",
    "outputId": "0c3e72e2-9840-44b9-a26c-d1e6ae29dac6"
   },
   "outputs": [
    {
     "name": "stdout",
     "output_type": "stream",
     "text": [
      "<class 'pandas.core.frame.DataFrame'>\n",
      "RangeIndex: 7824482 entries, 0 to 7824481\n",
      "Data columns (total 3 columns):\n",
      "User ID       object\n",
      "Product ID    object\n",
      "Ratings       float64\n",
      "dtypes: float64(1), object(2)\n",
      "memory usage: 179.1+ MB\n"
     ]
    }
   ],
   "source": [
    "df1.info()"
   ]
  },
  {
   "cell_type": "markdown",
   "metadata": {
    "colab_type": "text",
    "id": "8bzJxe2MlFrt"
   },
   "source": [
    "#### We inferred that Ratings only folat and remaing two columns(User ID and Producted ID) treated as object."
   ]
  },
  {
   "cell_type": "markdown",
   "metadata": {
    "colab_type": "text",
    "id": "JP_4UMgYlayn"
   },
   "source": [
    "### Histogram plot between Raings against Number of users:"
   ]
  },
  {
   "cell_type": "code",
   "execution_count": 182,
   "metadata": {
    "colab": {
     "base_uri": "https://localhost:8080/",
     "height": 296
    },
    "colab_type": "code",
    "id": "TpDDqlepRDYG",
    "outputId": "111c68c5-d25f-4ffd-e3e0-c1cf87ab908b"
   },
   "outputs": [
    {
     "data": {
      "text/plain": [
       "<matplotlib.axes._subplots.AxesSubplot at 0x7fe00c8603c8>"
      ]
     },
     "execution_count": 182,
     "metadata": {
      "tags": []
     },
     "output_type": "execute_result"
    },
    {
     "data": {
      "image/png": "[encoded data removed]",
      "text/plain": [
       "<Figure size 432x288 with 1 Axes>"
      ]
     },
     "metadata": {
      "tags": []
     },
     "output_type": "display_data"
    }
   ],
   "source": [
    "import seaborn as sns\n",
    "sns.countplot(data=df1,x='Ratings')"
   ]
  },
  {
   "cell_type": "markdown",
   "metadata": {
    "colab_type": "text",
    "id": "GaMleCiolkpC"
   },
   "source": [
    "#### We inferred that more users rated as rating 5 than remaing ratings. The rating 2 has been rated by less number of userse. The raing 4 is farely good."
   ]
  },
  {
   "cell_type": "markdown",
   "metadata": {
    "colab_type": "text",
    "id": "W73rmLanccR1"
   },
   "source": [
    "# 2. Take a subset of the dataset to make it less sparse/ denser. ( For example, keep the users only who has given 50 or more number of ratings )"
   ]
  },
  {
   "cell_type": "markdown",
   "metadata": {
    "colab_type": "text",
    "id": "HJA9Q7ZMnD8v"
   },
   "source": [
    "### Short the date for more than 50 Reviwers."
   ]
  },
  {
   "cell_type": "code",
   "execution_count": 0,
   "metadata": {
    "colab": {},
    "colab_type": "code",
    "id": "jZLj9iScTERw"
   },
   "outputs": [],
   "source": [
    "user_index_50 = user_id_count[user_id_count >= 50].index"
   ]
  },
  {
   "cell_type": "code",
   "execution_count": 0,
   "metadata": {
    "colab": {},
    "colab_type": "code",
    "id": "cgDrBFytXWX8"
   },
   "outputs": [],
   "source": [
    "df2 = df1[df1['User ID'].isin(user_index_50)==True]"
   ]
  },
  {
   "cell_type": "code",
   "execution_count": 185,
   "metadata": {
    "colab": {
     "base_uri": "https://localhost:8080/",
     "height": 204
    },
    "colab_type": "code",
    "id": "BGYeLb_vX7qr",
    "outputId": "9eeb029e-7313-4b18-87dd-38aefa1c837a"
   },
   "outputs": [
    {
     "data": {
      "text/html": [
       "<div>\n",
       "<style scoped>\n",
       "    .dataframe tbody tr th:only-of-type {\n",
       "        vertical-align: middle;\n",
       "    }\n",
       "\n",
       "    .dataframe tbody tr th {\n",
       "        vertical-align: top;\n",
       "    }\n",
       "\n",
       "    .dataframe thead th {\n",
       "        text-align: right;\n",
       "    }\n",
       "</style>\n",
       "<table border=\"1\" class=\"dataframe\">\n",
       "  <thead>\n",
       "    <tr style=\"text-align: right;\">\n",
       "      <th></th>\n",
       "      <th>User ID</th>\n",
       "      <th>Product ID</th>\n",
       "      <th>Ratings</th>\n",
       "    </tr>\n",
       "  </thead>\n",
       "  <tbody>\n",
       "    <tr>\n",
       "      <th>94</th>\n",
       "      <td>A3BY5KCNQZXV5U</td>\n",
       "      <td>0594451647</td>\n",
       "      <td>5.0</td>\n",
       "    </tr>\n",
       "    <tr>\n",
       "      <th>118</th>\n",
       "      <td>AT09WGFUM934H</td>\n",
       "      <td>0594481813</td>\n",
       "      <td>3.0</td>\n",
       "    </tr>\n",
       "    <tr>\n",
       "      <th>177</th>\n",
       "      <td>A32HSNCNPRUMTR</td>\n",
       "      <td>0970407998</td>\n",
       "      <td>1.0</td>\n",
       "    </tr>\n",
       "    <tr>\n",
       "      <th>178</th>\n",
       "      <td>A17HMM1M7T9PJ1</td>\n",
       "      <td>0970407998</td>\n",
       "      <td>4.0</td>\n",
       "    </tr>\n",
       "    <tr>\n",
       "      <th>492</th>\n",
       "      <td>A3CLWR1UUZT6TG</td>\n",
       "      <td>0972683275</td>\n",
       "      <td>5.0</td>\n",
       "    </tr>\n",
       "  </tbody>\n",
       "</table>\n",
       "</div>"
      ],
      "text/plain": [
       "            User ID  Product ID  Ratings\n",
       "94   A3BY5KCNQZXV5U  0594451647      5.0\n",
       "118   AT09WGFUM934H  0594481813      3.0\n",
       "177  A32HSNCNPRUMTR  0970407998      1.0\n",
       "178  A17HMM1M7T9PJ1  0970407998      4.0\n",
       "492  A3CLWR1UUZT6TG  0972683275      5.0"
      ]
     },
     "execution_count": 185,
     "metadata": {
      "tags": []
     },
     "output_type": "execute_result"
    }
   ],
   "source": [
    "df2.head()"
   ]
  },
  {
   "cell_type": "code",
   "execution_count": 0,
   "metadata": {
    "colab": {},
    "colab_type": "code",
    "id": "txAqc2gyYOfm"
   },
   "outputs": [],
   "source": [
    "user_id_count1=df2['User ID'].value_counts()"
   ]
  },
  {
   "cell_type": "code",
   "execution_count": 188,
   "metadata": {
    "colab": {
     "base_uri": "https://localhost:8080/",
     "height": 221
    },
    "colab_type": "code",
    "id": "Vd6UHCnVYYwp",
    "outputId": "6a8bd6e7-19ea-483e-f34a-59a927569041"
   },
   "outputs": [
    {
     "data": {
      "text/plain": [
       "A5JLAU2ARJ0BO     520\n",
       "ADLVFFE4VBT8      501\n",
       "A3OXHLG6DIBRW8    498\n",
       "A6FIAB28IS79      431\n",
       "A680RUE1FDO8B     406\n",
       "                 ... \n",
       "A3EHJ5519LG7TR     50\n",
       "AA8RBTN3J2F5H      50\n",
       "A2QAOP52OEB5EV     50\n",
       "A21S26XYPGXJZX     50\n",
       "A3HH340REI4J47     50\n",
       "Name: User ID, Length: 1540, dtype: int64"
      ]
     },
     "execution_count": 188,
     "metadata": {
      "tags": []
     },
     "output_type": "execute_result"
    }
   ],
   "source": [
    "user_id_count1"
   ]
  },
  {
   "cell_type": "markdown",
   "metadata": {
    "colab_type": "text",
    "id": "_jfPaMQjYqH2"
   },
   "source": [
    "#### There are 1540 users only rated 50 or above 50 products."
   ]
  },
  {
   "cell_type": "markdown",
   "metadata": {
    "colab_type": "text",
    "id": "3KTPiwIknAvb"
   },
   "source": [
    "### Short the data from df2 for the product which has more than 50 reviews."
   ]
  },
  {
   "cell_type": "code",
   "execution_count": 0,
   "metadata": {
    "colab": {},
    "colab_type": "code",
    "id": "Df3oFztK1B1R"
   },
   "outputs": [],
   "source": [
    "product_index_50 = product_id_count[product_id_count >= 50].index"
   ]
  },
  {
   "cell_type": "code",
   "execution_count": 0,
   "metadata": {
    "colab": {},
    "colab_type": "code",
    "id": "s1foGqO81B1k"
   },
   "outputs": [],
   "source": [
    "df3 = df2[df2['Product ID'].isin(product_index_50)==True]"
   ]
  },
  {
   "cell_type": "code",
   "execution_count": 191,
   "metadata": {
    "colab": {
     "base_uri": "https://localhost:8080/",
     "height": 34
    },
    "colab_type": "code",
    "id": "g9WA3gXB2fNw",
    "outputId": "b9ba9878-6cd3-4ee0-ae44-024e3d2127d5"
   },
   "outputs": [
    {
     "data": {
      "text/plain": [
       "(79182, 3)"
      ]
     },
     "execution_count": 191,
     "metadata": {
      "tags": []
     },
     "output_type": "execute_result"
    }
   ],
   "source": [
    "df3.shape"
   ]
  },
  {
   "cell_type": "code",
   "execution_count": 291,
   "metadata": {
    "colab": {
     "base_uri": "https://localhost:8080/",
     "height": 204
    },
    "colab_type": "code",
    "id": "ZiFMIEXGmccr",
    "outputId": "f8bbf684-453c-435a-b75f-14cd2461c2cd"
   },
   "outputs": [
    {
     "data": {
      "text/html": [
       "<div>\n",
       "<style scoped>\n",
       "    .dataframe tbody tr th:only-of-type {\n",
       "        vertical-align: middle;\n",
       "    }\n",
       "\n",
       "    .dataframe tbody tr th {\n",
       "        vertical-align: top;\n",
       "    }\n",
       "\n",
       "    .dataframe thead th {\n",
       "        text-align: right;\n",
       "    }\n",
       "</style>\n",
       "<table border=\"1\" class=\"dataframe\">\n",
       "  <thead>\n",
       "    <tr style=\"text-align: right;\">\n",
       "      <th></th>\n",
       "      <th>User ID</th>\n",
       "      <th>Product ID</th>\n",
       "      <th>Ratings</th>\n",
       "    </tr>\n",
       "  </thead>\n",
       "  <tbody>\n",
       "    <tr>\n",
       "      <th>4</th>\n",
       "      <td>A3CLWR1UUZT6TG</td>\n",
       "      <td>0972683275</td>\n",
       "      <td>5.0</td>\n",
       "    </tr>\n",
       "    <tr>\n",
       "      <th>5</th>\n",
       "      <td>A3TAS1AG6FMBQW</td>\n",
       "      <td>0972683275</td>\n",
       "      <td>5.0</td>\n",
       "    </tr>\n",
       "    <tr>\n",
       "      <th>6</th>\n",
       "      <td>A2Y4H3PXB07WQI</td>\n",
       "      <td>0972683275</td>\n",
       "      <td>4.0</td>\n",
       "    </tr>\n",
       "    <tr>\n",
       "      <th>7</th>\n",
       "      <td>A25RTRAPQAJBDJ</td>\n",
       "      <td>0972683275</td>\n",
       "      <td>5.0</td>\n",
       "    </tr>\n",
       "    <tr>\n",
       "      <th>8</th>\n",
       "      <td>A3LDPF5FMB782Z</td>\n",
       "      <td>1400501466</td>\n",
       "      <td>5.0</td>\n",
       "    </tr>\n",
       "  </tbody>\n",
       "</table>\n",
       "</div>"
      ],
      "text/plain": [
       "          User ID  Product ID  Ratings\n",
       "4  A3CLWR1UUZT6TG  0972683275      5.0\n",
       "5  A3TAS1AG6FMBQW  0972683275      5.0\n",
       "6  A2Y4H3PXB07WQI  0972683275      4.0\n",
       "7  A25RTRAPQAJBDJ  0972683275      5.0\n",
       "8  A3LDPF5FMB782Z  1400501466      5.0"
      ]
     },
     "execution_count": 291,
     "metadata": {
      "tags": []
     },
     "output_type": "execute_result"
    }
   ],
   "source": [
    "df3.head()"
   ]
  },
  {
   "cell_type": "code",
   "execution_count": 292,
   "metadata": {
    "colab": {
     "base_uri": "https://localhost:8080/",
     "height": 204
    },
    "colab_type": "code",
    "id": "o3iuNrLDm1OG",
    "outputId": "60e795d6-cb7c-49c2-e502-22800cbcbec7"
   },
   "outputs": [
    {
     "data": {
      "text/html": [
       "<div>\n",
       "<style scoped>\n",
       "    .dataframe tbody tr th:only-of-type {\n",
       "        vertical-align: middle;\n",
       "    }\n",
       "\n",
       "    .dataframe tbody tr th {\n",
       "        vertical-align: top;\n",
       "    }\n",
       "\n",
       "    .dataframe thead th {\n",
       "        text-align: right;\n",
       "    }\n",
       "</style>\n",
       "<table border=\"1\" class=\"dataframe\">\n",
       "  <thead>\n",
       "    <tr style=\"text-align: right;\">\n",
       "      <th></th>\n",
       "      <th>User ID</th>\n",
       "      <th>Product ID</th>\n",
       "      <th>Ratings</th>\n",
       "    </tr>\n",
       "  </thead>\n",
       "  <tbody>\n",
       "    <tr>\n",
       "      <th>0</th>\n",
       "      <td>A3CLWR1UUZT6TG</td>\n",
       "      <td>0972683275</td>\n",
       "      <td>5.0</td>\n",
       "    </tr>\n",
       "    <tr>\n",
       "      <th>1</th>\n",
       "      <td>A3TAS1AG6FMBQW</td>\n",
       "      <td>0972683275</td>\n",
       "      <td>5.0</td>\n",
       "    </tr>\n",
       "    <tr>\n",
       "      <th>2</th>\n",
       "      <td>A2Y4H3PXB07WQI</td>\n",
       "      <td>0972683275</td>\n",
       "      <td>4.0</td>\n",
       "    </tr>\n",
       "    <tr>\n",
       "      <th>3</th>\n",
       "      <td>A25RTRAPQAJBDJ</td>\n",
       "      <td>0972683275</td>\n",
       "      <td>5.0</td>\n",
       "    </tr>\n",
       "    <tr>\n",
       "      <th>4</th>\n",
       "      <td>A3LDPF5FMB782Z</td>\n",
       "      <td>1400501466</td>\n",
       "      <td>5.0</td>\n",
       "    </tr>\n",
       "  </tbody>\n",
       "</table>\n",
       "</div>"
      ],
      "text/plain": [
       "          User ID  Product ID  Ratings\n",
       "0  A3CLWR1UUZT6TG  0972683275      5.0\n",
       "1  A3TAS1AG6FMBQW  0972683275      5.0\n",
       "2  A2Y4H3PXB07WQI  0972683275      4.0\n",
       "3  A25RTRAPQAJBDJ  0972683275      5.0\n",
       "4  A3LDPF5FMB782Z  1400501466      5.0"
      ]
     },
     "execution_count": 292,
     "metadata": {
      "tags": []
     },
     "output_type": "execute_result"
    }
   ],
   "source": [
    "df3.reset_index(inplace = True, drop = True)\n",
    "df3.head()"
   ]
  },
  {
   "cell_type": "code",
   "execution_count": 293,
   "metadata": {
    "colab": {
     "base_uri": "https://localhost:8080/",
     "height": 34
    },
    "colab_type": "code",
    "id": "K8nrHU0InmzQ",
    "outputId": "e57f3710-e785-4658-9833-a7f3d444b518"
   },
   "outputs": [
    {
     "data": {
      "text/plain": [
       "(79182, 3)"
      ]
     },
     "execution_count": 293,
     "metadata": {
      "tags": []
     },
     "output_type": "execute_result"
    }
   ],
   "source": [
    "df3.shape"
   ]
  },
  {
   "cell_type": "markdown",
   "metadata": {
    "colab_type": "text",
    "id": "KdoPGWdynq_A"
   },
   "source": [
    "#### In the aspect of reducing the dataframe, finally we got 79182 records. In this data frame, the useres who are all reviewd atleat 50 products. And the Products has been got atleat 50 reviews. Now our data set is pretty small and easy to handle."
   ]
  },
  {
   "cell_type": "markdown",
   "metadata": {
    "colab_type": "text",
    "id": "J9fZMuDtcB76"
   },
   "source": [
    "# 3. Split the data randomly into train and test dataset. ( For example, split it in 70/30 ratio)"
   ]
  },
  {
   "cell_type": "code",
   "execution_count": 0,
   "metadata": {
    "colab": {},
    "colab_type": "code",
    "id": "kI2XycT2eZ4R"
   },
   "outputs": [],
   "source": [
    "from sklearn.model_selection import train_test_split\n",
    "trainset_pop, testset_pop = train_test_split(df3, test_size=.30,random_state=123)"
   ]
  },
  {
   "cell_type": "code",
   "execution_count": 193,
   "metadata": {
    "colab": {
     "base_uri": "https://localhost:8080/",
     "height": 34
    },
    "colab_type": "code",
    "id": "OYdSEmMjnp1a",
    "outputId": "e707fcba-5386-4617-8b0b-841da6c6e167"
   },
   "outputs": [
    {
     "data": {
      "text/plain": [
       "(55427, 3)"
      ]
     },
     "execution_count": 193,
     "metadata": {
      "tags": []
     },
     "output_type": "execute_result"
    }
   ],
   "source": [
    "trainset_pop.shape"
   ]
  },
  {
   "cell_type": "code",
   "execution_count": 194,
   "metadata": {
    "colab": {
     "base_uri": "https://localhost:8080/",
     "height": 34
    },
    "colab_type": "code",
    "id": "_Mvwt8_Ln-kl",
    "outputId": "b6f2f226-62e9-4ced-9eaf-393138f45363"
   },
   "outputs": [
    {
     "data": {
      "text/plain": [
       "(23755, 3)"
      ]
     },
     "execution_count": 194,
     "metadata": {
      "tags": []
     },
     "output_type": "execute_result"
    }
   ],
   "source": [
    "testset_pop.shape"
   ]
  },
  {
   "cell_type": "code",
   "execution_count": 284,
   "metadata": {
    "colab": {
     "base_uri": "https://localhost:8080/",
     "height": 296
    },
    "colab_type": "code",
    "id": "X8SLGfN9eMOB",
    "outputId": "e77c7550-3cbd-472c-8f95-bf81e199e3bd"
   },
   "outputs": [
    {
     "data": {
      "text/plain": [
       "<matplotlib.axes._subplots.AxesSubplot at 0x7fdfecf14dd8>"
      ]
     },
     "execution_count": 284,
     "metadata": {
      "tags": []
     },
     "output_type": "execute_result"
    },
    {
     "data": {
      "image/png": "[encoded data removed]",
      "text/plain": [
       "<Figure size 432x288 with 1 Axes>"
      ]
     },
     "metadata": {
      "tags": []
     },
     "output_type": "display_data"
    }
   ],
   "source": [
    "import seaborn as sns\n",
    "sns.countplot(data=testset_pop,x='Ratings')"
   ]
  },
  {
   "cell_type": "markdown",
   "metadata": {
    "colab_type": "text",
    "id": "XKORY2xToTvd"
   },
   "source": [
    "#### After Train and Test splitup our final redueds data frame named as trainset_pop. This data frame has aproximately 55.45 K records. This reduction prety more help to run the data without memory error. But this approac is not good to practice. It is followed just to avoid memory kind of error. In the real time project we would use entire data set to get better accuracy."
   ]
  },
  {
   "cell_type": "markdown",
   "metadata": {
    "colab_type": "text",
    "id": "TJtXdE2Dco7s"
   },
   "source": [
    "# 4. Build Popularity Recommendation model."
   ]
  },
  {
   "cell_type": "code",
   "execution_count": 195,
   "metadata": {
    "colab": {
     "base_uri": "https://localhost:8080/",
     "height": 136
    },
    "colab_type": "code",
    "id": "m81y4MyJYrSF",
    "outputId": "fbdda1af-c209-47e7-f19b-bee24cbb5e2d"
   },
   "outputs": [
    {
     "data": {
      "text/plain": [
       "Product ID\n",
       "B00L3YHF6O    5.0\n",
       "B003GAAQXM    5.0\n",
       "B003B41XYO    5.0\n",
       "B003B48UNG    5.0\n",
       "B003B4BBFK    5.0\n",
       "Name: Ratings, dtype: float64"
      ]
     },
     "execution_count": 195,
     "metadata": {
      "tags": []
     },
     "output_type": "execute_result"
    }
   ],
   "source": [
    "trainset_pop.groupby('Product ID')['Ratings'].mean().sort_values(ascending=False).head()  "
   ]
  },
  {
   "cell_type": "code",
   "execution_count": 196,
   "metadata": {
    "colab": {
     "base_uri": "https://localhost:8080/",
     "height": 136
    },
    "colab_type": "code",
    "id": "YNbVThhhZrjz",
    "outputId": "13c1645b-ebbb-4da8-95d3-d5a261058123"
   },
   "outputs": [
    {
     "data": {
      "text/plain": [
       "Product ID\n",
       "B0088CJT4U    145\n",
       "B003ES5ZUU    126\n",
       "B000N99BBC    121\n",
       "B007WTAJTO    111\n",
       "B00829TIEK    108\n",
       "Name: Ratings, dtype: int64"
      ]
     },
     "execution_count": 196,
     "metadata": {
      "tags": []
     },
     "output_type": "execute_result"
    }
   ],
   "source": [
    "trainset_pop.groupby('Product ID')['Ratings'].count().sort_values(ascending=False).head()  "
   ]
  },
  {
   "cell_type": "code",
   "execution_count": 0,
   "metadata": {
    "colab": {},
    "colab_type": "code",
    "id": "zyGbOCyQZ9Kg"
   },
   "outputs": [],
   "source": [
    "ratings_mean_count = pd.DataFrame(trainset_pop.groupby('Product ID')['Ratings'].mean())"
   ]
  },
  {
   "cell_type": "code",
   "execution_count": 0,
   "metadata": {
    "colab": {},
    "colab_type": "code",
    "id": "UClgI3DDagB5"
   },
   "outputs": [],
   "source": [
    "ratings_mean_count['Rating Counts'] = pd.DataFrame(trainset_pop.groupby('Product ID')['Ratings'].count())"
   ]
  },
  {
   "cell_type": "code",
   "execution_count": 199,
   "metadata": {
    "colab": {
     "base_uri": "https://localhost:8080/",
     "height": 235
    },
    "colab_type": "code",
    "id": "J3lG7mrPayfa",
    "outputId": "f27e6b85-9752-4aad-e3f6-bb4987252d7a"
   },
   "outputs": [
    {
     "data": {
      "text/html": [
       "<div>\n",
       "<style scoped>\n",
       "    .dataframe tbody tr th:only-of-type {\n",
       "        vertical-align: middle;\n",
       "    }\n",
       "\n",
       "    .dataframe tbody tr th {\n",
       "        vertical-align: top;\n",
       "    }\n",
       "\n",
       "    .dataframe thead th {\n",
       "        text-align: right;\n",
       "    }\n",
       "</style>\n",
       "<table border=\"1\" class=\"dataframe\">\n",
       "  <thead>\n",
       "    <tr style=\"text-align: right;\">\n",
       "      <th></th>\n",
       "      <th>Ratings</th>\n",
       "      <th>Rating Counts</th>\n",
       "    </tr>\n",
       "    <tr>\n",
       "      <th>Product ID</th>\n",
       "      <th></th>\n",
       "      <th></th>\n",
       "    </tr>\n",
       "  </thead>\n",
       "  <tbody>\n",
       "    <tr>\n",
       "      <th>0972683275</th>\n",
       "      <td>5.0</td>\n",
       "      <td>2</td>\n",
       "    </tr>\n",
       "    <tr>\n",
       "      <th>1400501466</th>\n",
       "      <td>3.0</td>\n",
       "      <td>3</td>\n",
       "    </tr>\n",
       "    <tr>\n",
       "      <th>1400501520</th>\n",
       "      <td>5.0</td>\n",
       "      <td>1</td>\n",
       "    </tr>\n",
       "    <tr>\n",
       "      <th>1400501776</th>\n",
       "      <td>5.0</td>\n",
       "      <td>1</td>\n",
       "    </tr>\n",
       "    <tr>\n",
       "      <th>1400532620</th>\n",
       "      <td>5.0</td>\n",
       "      <td>1</td>\n",
       "    </tr>\n",
       "  </tbody>\n",
       "</table>\n",
       "</div>"
      ],
      "text/plain": [
       "            Ratings  Rating Counts\n",
       "Product ID                        \n",
       "0972683275      5.0              2\n",
       "1400501466      3.0              3\n",
       "1400501520      5.0              1\n",
       "1400501776      5.0              1\n",
       "1400532620      5.0              1"
      ]
     },
     "execution_count": 199,
     "metadata": {
      "tags": []
     },
     "output_type": "execute_result"
    }
   ],
   "source": [
    "ratings_mean_count.head()"
   ]
  },
  {
   "cell_type": "code",
   "execution_count": 0,
   "metadata": {
    "colab": {},
    "colab_type": "code",
    "id": "eTlOWHWRa36_"
   },
   "outputs": [],
   "source": [
    "ratings_mean_count['Rating weighted Average'] = ratings_mean_count['Ratings'] * ratings_mean_count['Rating Counts']"
   ]
  },
  {
   "cell_type": "code",
   "execution_count": 201,
   "metadata": {
    "colab": {
     "base_uri": "https://localhost:8080/",
     "height": 235
    },
    "colab_type": "code",
    "id": "xxKlPdEQbPJW",
    "outputId": "e9efa069-1ea3-44eb-eacf-1936c747cee7"
   },
   "outputs": [
    {
     "data": {
      "text/html": [
       "<div>\n",
       "<style scoped>\n",
       "    .dataframe tbody tr th:only-of-type {\n",
       "        vertical-align: middle;\n",
       "    }\n",
       "\n",
       "    .dataframe tbody tr th {\n",
       "        vertical-align: top;\n",
       "    }\n",
       "\n",
       "    .dataframe thead th {\n",
       "        text-align: right;\n",
       "    }\n",
       "</style>\n",
       "<table border=\"1\" class=\"dataframe\">\n",
       "  <thead>\n",
       "    <tr style=\"text-align: right;\">\n",
       "      <th></th>\n",
       "      <th>Ratings</th>\n",
       "      <th>Rating Counts</th>\n",
       "      <th>Rating weighted Average</th>\n",
       "    </tr>\n",
       "    <tr>\n",
       "      <th>Product ID</th>\n",
       "      <th></th>\n",
       "      <th></th>\n",
       "      <th></th>\n",
       "    </tr>\n",
       "  </thead>\n",
       "  <tbody>\n",
       "    <tr>\n",
       "      <th>0972683275</th>\n",
       "      <td>5.0</td>\n",
       "      <td>2</td>\n",
       "      <td>10.0</td>\n",
       "    </tr>\n",
       "    <tr>\n",
       "      <th>1400501466</th>\n",
       "      <td>3.0</td>\n",
       "      <td>3</td>\n",
       "      <td>9.0</td>\n",
       "    </tr>\n",
       "    <tr>\n",
       "      <th>1400501520</th>\n",
       "      <td>5.0</td>\n",
       "      <td>1</td>\n",
       "      <td>5.0</td>\n",
       "    </tr>\n",
       "    <tr>\n",
       "      <th>1400501776</th>\n",
       "      <td>5.0</td>\n",
       "      <td>1</td>\n",
       "      <td>5.0</td>\n",
       "    </tr>\n",
       "    <tr>\n",
       "      <th>1400532620</th>\n",
       "      <td>5.0</td>\n",
       "      <td>1</td>\n",
       "      <td>5.0</td>\n",
       "    </tr>\n",
       "  </tbody>\n",
       "</table>\n",
       "</div>"
      ],
      "text/plain": [
       "            Ratings  Rating Counts  Rating weighted Average\n",
       "Product ID                                                 \n",
       "0972683275      5.0              2                     10.0\n",
       "1400501466      3.0              3                      9.0\n",
       "1400501520      5.0              1                      5.0\n",
       "1400501776      5.0              1                      5.0\n",
       "1400532620      5.0              1                      5.0"
      ]
     },
     "execution_count": 201,
     "metadata": {
      "tags": []
     },
     "output_type": "execute_result"
    }
   ],
   "source": [
    "ratings_mean_count.head()"
   ]
  },
  {
   "cell_type": "code",
   "execution_count": 202,
   "metadata": {
    "colab": {
     "base_uri": "https://localhost:8080/",
     "height": 136
    },
    "colab_type": "code",
    "id": "TOnhF2EupEBm",
    "outputId": "a76a17d0-8758-4aae-d477-62e721c9befd"
   },
   "outputs": [
    {
     "data": {
      "text/plain": [
       "Product ID\n",
       "B003ES5ZUU    623.0\n",
       "B0088CJT4U    605.0\n",
       "B000N99BBC    579.0\n",
       "B007WTAJTO    514.0\n",
       "B00829TIEK    482.0\n",
       "Name: Rating weighted Average, dtype: float64"
      ]
     },
     "execution_count": 202,
     "metadata": {
      "tags": []
     },
     "output_type": "execute_result"
    }
   ],
   "source": [
    "ratings_mean_count['Rating weighted Average'].sort_values(ascending=False).head()  "
   ]
  },
  {
   "cell_type": "code",
   "execution_count": 203,
   "metadata": {
    "colab": {
     "base_uri": "https://localhost:8080/",
     "height": 390
    },
    "colab_type": "code",
    "id": "cZxm65M-piiP",
    "outputId": "5d7c73a4-69bf-4e0a-cc95-5f7e57937460"
   },
   "outputs": [
    {
     "data": {
      "text/html": [
       "<div>\n",
       "<style scoped>\n",
       "    .dataframe tbody tr th:only-of-type {\n",
       "        vertical-align: middle;\n",
       "    }\n",
       "\n",
       "    .dataframe tbody tr th {\n",
       "        vertical-align: top;\n",
       "    }\n",
       "\n",
       "    .dataframe thead th {\n",
       "        text-align: right;\n",
       "    }\n",
       "</style>\n",
       "<table border=\"1\" class=\"dataframe\">\n",
       "  <thead>\n",
       "    <tr style=\"text-align: right;\">\n",
       "      <th></th>\n",
       "      <th>Ratings</th>\n",
       "      <th>Rating Counts</th>\n",
       "      <th>Rating weighted Average</th>\n",
       "    </tr>\n",
       "    <tr>\n",
       "      <th>Product ID</th>\n",
       "      <th></th>\n",
       "      <th></th>\n",
       "      <th></th>\n",
       "    </tr>\n",
       "  </thead>\n",
       "  <tbody>\n",
       "    <tr>\n",
       "      <th>B003ES5ZUU</th>\n",
       "      <td>4.944444</td>\n",
       "      <td>126</td>\n",
       "      <td>623.0</td>\n",
       "    </tr>\n",
       "    <tr>\n",
       "      <th>B0088CJT4U</th>\n",
       "      <td>4.172414</td>\n",
       "      <td>145</td>\n",
       "      <td>605.0</td>\n",
       "    </tr>\n",
       "    <tr>\n",
       "      <th>B000N99BBC</th>\n",
       "      <td>4.785124</td>\n",
       "      <td>121</td>\n",
       "      <td>579.0</td>\n",
       "    </tr>\n",
       "    <tr>\n",
       "      <th>B007WTAJTO</th>\n",
       "      <td>4.630631</td>\n",
       "      <td>111</td>\n",
       "      <td>514.0</td>\n",
       "    </tr>\n",
       "    <tr>\n",
       "      <th>B00829TIEK</th>\n",
       "      <td>4.462963</td>\n",
       "      <td>108</td>\n",
       "      <td>482.0</td>\n",
       "    </tr>\n",
       "    <tr>\n",
       "      <th>B004CLYEDC</th>\n",
       "      <td>4.647059</td>\n",
       "      <td>85</td>\n",
       "      <td>395.0</td>\n",
       "    </tr>\n",
       "    <tr>\n",
       "      <th>B008DWCRQW</th>\n",
       "      <td>4.129032</td>\n",
       "      <td>93</td>\n",
       "      <td>384.0</td>\n",
       "    </tr>\n",
       "    <tr>\n",
       "      <th>B00834SJNA</th>\n",
       "      <td>4.517647</td>\n",
       "      <td>85</td>\n",
       "      <td>384.0</td>\n",
       "    </tr>\n",
       "    <tr>\n",
       "      <th>B00829THK0</th>\n",
       "      <td>4.414634</td>\n",
       "      <td>82</td>\n",
       "      <td>362.0</td>\n",
       "    </tr>\n",
       "    <tr>\n",
       "      <th>B002V88HFE</th>\n",
       "      <td>4.680000</td>\n",
       "      <td>75</td>\n",
       "      <td>351.0</td>\n",
       "    </tr>\n",
       "  </tbody>\n",
       "</table>\n",
       "</div>"
      ],
      "text/plain": [
       "             Ratings  Rating Counts  Rating weighted Average\n",
       "Product ID                                                  \n",
       "B003ES5ZUU  4.944444            126                    623.0\n",
       "B0088CJT4U  4.172414            145                    605.0\n",
       "B000N99BBC  4.785124            121                    579.0\n",
       "B007WTAJTO  4.630631            111                    514.0\n",
       "B00829TIEK  4.462963            108                    482.0\n",
       "B004CLYEDC  4.647059             85                    395.0\n",
       "B008DWCRQW  4.129032             93                    384.0\n",
       "B00834SJNA  4.517647             85                    384.0\n",
       "B00829THK0  4.414634             82                    362.0\n",
       "B002V88HFE  4.680000             75                    351.0"
      ]
     },
     "execution_count": 203,
     "metadata": {
      "tags": []
     },
     "output_type": "execute_result"
    }
   ],
   "source": [
    "ratings_mean_count.sort_values([\"Rating weighted Average\"], axis=0, ascending=False).head(10)"
   ]
  },
  {
   "cell_type": "markdown",
   "metadata": {
    "colab_type": "text",
    "id": "vIWXa95HpR7T"
   },
   "source": [
    "#### Insight: In the Popularity Recomendation model, We have shported the data using group by option and get best products for the new users. Here I have interduced one more column for Rated weighted Average. This column predicted by product of average rating and number of review. From thic column value we can exactly predict the best products based on rating and number reviews provided by reputed useres."
   ]
  },
  {
   "cell_type": "markdown",
   "metadata": {
    "colab_type": "text",
    "id": "TPwi1XFjcziE"
   },
   "source": [
    "# 5. Build Collaborative Filtering model."
   ]
  },
  {
   "cell_type": "markdown",
   "metadata": {
    "colab_type": "text",
    "id": "GzCCpXXTqKA8"
   },
   "source": [
    "### For this model, we have used again the same data set \"trainset_pop\" which was used for \"Popularity Recommender model\"."
   ]
  },
  {
   "cell_type": "code",
   "execution_count": 204,
   "metadata": {
    "colab": {
     "base_uri": "https://localhost:8080/",
     "height": 122
    },
    "colab_type": "code",
    "id": "N6xSQC8Ep8OW",
    "outputId": "ef7c4092-0384-4d74-b3ee-b79dd635a3c9"
   },
   "outputs": [
    {
     "name": "stdout",
     "output_type": "stream",
     "text": [
      "Requirement already satisfied: scikit-surprise in /usr/local/lib/python3.6/dist-packages (1.1.0)\n",
      "Requirement already satisfied: joblib>=0.11 in /usr/local/lib/python3.6/dist-packages (from scikit-surprise) (0.14.0)\n",
      "Requirement already satisfied: numpy>=1.11.2 in /usr/local/lib/python3.6/dist-packages (from scikit-surprise) (1.17.4)\n",
      "Requirement already satisfied: scipy>=1.0.0 in /usr/local/lib/python3.6/dist-packages (from scikit-surprise) (1.3.2)\n",
      "Requirement already satisfied: six>=1.10.0 in /usr/local/lib/python3.6/dist-packages (from scikit-surprise) (1.12.0)\n"
     ]
    }
   ],
   "source": [
    "!pip install scikit-surprise"
   ]
  },
  {
   "cell_type": "code",
   "execution_count": 0,
   "metadata": {
    "colab": {},
    "colab_type": "code",
    "id": "rHGFAi7dauB6"
   },
   "outputs": [],
   "source": [
    "from surprise import Dataset,Reader\n",
    "reader = Reader(rating_scale=(1, 5))"
   ]
  },
  {
   "cell_type": "code",
   "execution_count": 206,
   "metadata": {
    "colab": {
     "base_uri": "https://localhost:8080/",
     "height": 34
    },
    "colab_type": "code",
    "id": "pMR4wGXnnuYB",
    "outputId": "6513cc75-0231-43d5-84a1-bc5c87e00482"
   },
   "outputs": [
    {
     "data": {
      "text/plain": [
       "(55427, 3)"
      ]
     },
     "execution_count": 206,
     "metadata": {
      "tags": []
     },
     "output_type": "execute_result"
    }
   ],
   "source": [
    "trainset_pop.shape"
   ]
  },
  {
   "cell_type": "code",
   "execution_count": 207,
   "metadata": {
    "colab": {
     "base_uri": "https://localhost:8080/",
     "height": 204
    },
    "colab_type": "code",
    "id": "9mWKFTEn6Ylf",
    "outputId": "4214f133-2008-43fe-c029-2d4f6e406171"
   },
   "outputs": [
    {
     "data": {
      "text/html": [
       "<div>\n",
       "<style scoped>\n",
       "    .dataframe tbody tr th:only-of-type {\n",
       "        vertical-align: middle;\n",
       "    }\n",
       "\n",
       "    .dataframe tbody tr th {\n",
       "        vertical-align: top;\n",
       "    }\n",
       "\n",
       "    .dataframe thead th {\n",
       "        text-align: right;\n",
       "    }\n",
       "</style>\n",
       "<table border=\"1\" class=\"dataframe\">\n",
       "  <thead>\n",
       "    <tr style=\"text-align: right;\">\n",
       "      <th></th>\n",
       "      <th>User ID</th>\n",
       "      <th>Product ID</th>\n",
       "      <th>Ratings</th>\n",
       "    </tr>\n",
       "  </thead>\n",
       "  <tbody>\n",
       "    <tr>\n",
       "      <th>123654</th>\n",
       "      <td>A32O98PFC3OP7K</td>\n",
       "      <td>B00IAKLM54</td>\n",
       "      <td>5.0</td>\n",
       "    </tr>\n",
       "    <tr>\n",
       "      <th>74142</th>\n",
       "      <td>A2YEOR4XJ8N3QE</td>\n",
       "      <td>B004T9RR6I</td>\n",
       "      <td>1.0</td>\n",
       "    </tr>\n",
       "    <tr>\n",
       "      <th>64459</th>\n",
       "      <td>A2QRXQPHDMFCQV</td>\n",
       "      <td>B0041RSHWG</td>\n",
       "      <td>4.0</td>\n",
       "    </tr>\n",
       "    <tr>\n",
       "      <th>35628</th>\n",
       "      <td>A25FL6VLD7S23S</td>\n",
       "      <td>B001F1ZRAQ</td>\n",
       "      <td>5.0</td>\n",
       "    </tr>\n",
       "    <tr>\n",
       "      <th>83418</th>\n",
       "      <td>A1GWG5CWLKJ7ET</td>\n",
       "      <td>B005MJU1DA</td>\n",
       "      <td>4.0</td>\n",
       "    </tr>\n",
       "  </tbody>\n",
       "</table>\n",
       "</div>"
      ],
      "text/plain": [
       "               User ID  Product ID  Ratings\n",
       "123654  A32O98PFC3OP7K  B00IAKLM54      5.0\n",
       "74142   A2YEOR4XJ8N3QE  B004T9RR6I      1.0\n",
       "64459   A2QRXQPHDMFCQV  B0041RSHWG      4.0\n",
       "35628   A25FL6VLD7S23S  B001F1ZRAQ      5.0\n",
       "83418   A1GWG5CWLKJ7ET  B005MJU1DA      4.0"
      ]
     },
     "execution_count": 207,
     "metadata": {
      "tags": []
     },
     "output_type": "execute_result"
    }
   ],
   "source": [
    "trainset_pop.head()"
   ]
  },
  {
   "cell_type": "code",
   "execution_count": 0,
   "metadata": {
    "colab": {},
    "colab_type": "code",
    "id": "xs4GVlgxjeHM"
   },
   "outputs": [],
   "source": [
    "data = Dataset.load_from_df(trainset_pop[['User ID', 'Product ID', 'Ratings']], reader)"
   ]
  },
  {
   "cell_type": "code",
   "execution_count": 209,
   "metadata": {
    "colab": {
     "base_uri": "https://localhost:8080/",
     "height": 34
    },
    "colab_type": "code",
    "id": "93JNenR_njsh",
    "outputId": "09bb3a22-5004-448a-faa4-a740133db3c2"
   },
   "outputs": [
    {
     "data": {
      "text/plain": [
       "<surprise.dataset.DatasetAutoFolds at 0x7fdfecf1e278>"
      ]
     },
     "execution_count": 209,
     "metadata": {
      "tags": []
     },
     "output_type": "execute_result"
    }
   ],
   "source": [
    "data"
   ]
  },
  {
   "cell_type": "code",
   "execution_count": 0,
   "metadata": {
    "colab": {},
    "colab_type": "code",
    "id": "oG_cP3Ydn8jQ"
   },
   "outputs": [],
   "source": [
    "from surprise.model_selection import train_test_split\n",
    "trainset, testset = train_test_split(data, test_size=.30,random_state=123)"
   ]
  },
  {
   "cell_type": "code",
   "execution_count": 211,
   "metadata": {
    "colab": {
     "base_uri": "https://localhost:8080/",
     "height": 34
    },
    "colab_type": "code",
    "id": "HX8XCojBoH6u",
    "outputId": "969f75cb-a026-48c2-809e-38104b672ee9"
   },
   "outputs": [
    {
     "data": {
      "text/plain": [
       "surprise.trainset.Trainset"
      ]
     },
     "execution_count": 211,
     "metadata": {
      "tags": []
     },
     "output_type": "execute_result"
    }
   ],
   "source": [
    "type(trainset)"
   ]
  },
  {
   "cell_type": "code",
   "execution_count": 212,
   "metadata": {
    "colab": {
     "base_uri": "https://localhost:8080/",
     "height": 34
    },
    "colab_type": "code",
    "id": "eAQbPk61oSZ9",
    "outputId": "5c8583e2-04c3-4cfd-9e8b-8920001acb85"
   },
   "outputs": [
    {
     "data": {
      "text/plain": [
       "collections.defaultdict"
      ]
     },
     "execution_count": 212,
     "metadata": {
      "tags": []
     },
     "output_type": "execute_result"
    }
   ],
   "source": [
    "user_records = trainset.ur\n",
    "type(user_records)"
   ]
  },
  {
   "cell_type": "code",
   "execution_count": 213,
   "metadata": {
    "colab": {
     "base_uri": "https://localhost:8080/",
     "height": 289
    },
    "colab_type": "code",
    "id": "JvkDsXgAwWUs",
    "outputId": "dc3f2ae5-c59e-4fe3-e704-35a2e9c0799a"
   },
   "outputs": [
    {
     "data": {
      "text/plain": [
       "[(0, 4.0),\n",
       " (2244, 4.0),\n",
       " (2403, 5.0),\n",
       " (3234, 5.0),\n",
       " (3725, 4.0),\n",
       " (3531, 5.0),\n",
       " (4410, 3.0),\n",
       " (4900, 5.0),\n",
       " (3029, 5.0),\n",
       " (66, 5.0),\n",
       " (3174, 4.0),\n",
       " (9098, 5.0),\n",
       " (9194, 5.0),\n",
       " (1437, 4.0),\n",
       " (341, 4.0),\n",
       " (1830, 4.0)]"
      ]
     },
     "execution_count": 213,
     "metadata": {
      "tags": []
     },
     "output_type": "execute_result"
    }
   ],
   "source": [
    "user_records[0]"
   ]
  },
  {
   "cell_type": "markdown",
   "metadata": {},
   "source": [
    "### Cross checking Inner and raw IDs"
   ]
  },
  {
   "cell_type": "code",
   "execution_count": 214,
   "metadata": {
    "colab": {
     "base_uri": "https://localhost:8080/",
     "height": 51
    },
    "colab_type": "code",
    "id": "TktrKcgswnf7",
    "outputId": "74ce8f02-6457-4d36-8812-05bdcb641e69"
   },
   "outputs": [
    {
     "name": "stdout",
     "output_type": "stream",
     "text": [
      "A1ITRGMT80D5TK\n",
      "B00284ALF0\n"
     ]
    }
   ],
   "source": [
    "print(trainset.to_raw_uid(0))\n",
    "print(trainset.to_raw_iid(0))"
   ]
  },
  {
   "cell_type": "code",
   "execution_count": 215,
   "metadata": {
    "colab": {
     "base_uri": "https://localhost:8080/",
     "height": 34
    },
    "colab_type": "code",
    "id": "Y7BVjNhs3nkl",
    "outputId": "5c2fc5ee-0590-44c5-baaa-4fe942cd7de3"
   },
   "outputs": [
    {
     "data": {
      "text/plain": [
       "16629"
      ]
     },
     "execution_count": 215,
     "metadata": {
      "tags": []
     },
     "output_type": "execute_result"
    }
   ],
   "source": [
    "len(testset)"
   ]
  },
  {
   "cell_type": "code",
   "execution_count": 216,
   "metadata": {
    "colab": {
     "base_uri": "https://localhost:8080/",
     "height": 34
    },
    "colab_type": "code",
    "id": "w239eFMhx02s",
    "outputId": "a425c1c3-6bd2-4ff9-c38f-9160c3ad4dbd"
   },
   "outputs": [
    {
     "name": "stdout",
     "output_type": "stream",
     "text": [
      "645\n"
     ]
    }
   ],
   "source": [
    "print(trainset.to_inner_uid(\"A3BY5KCNQZXV5U\"))"
   ]
  },
  {
   "cell_type": "markdown",
   "metadata": {},
   "source": [
    "### Model Fitting"
   ]
  },
  {
   "cell_type": "code",
   "execution_count": 0,
   "metadata": {
    "colab": {},
    "colab_type": "code",
    "id": "13rJgrywyghs"
   },
   "outputs": [],
   "source": [
    "from surprise import KNNWithMeans\n",
    "from surprise import accuracy"
   ]
  },
  {
   "cell_type": "code",
   "execution_count": 218,
   "metadata": {
    "colab": {
     "base_uri": "https://localhost:8080/",
     "height": 68
    },
    "colab_type": "code",
    "id": "X4rFZLrN5GsY",
    "outputId": "d7c810d1-61d1-4174-df09-17263d353e5d"
   },
   "outputs": [
    {
     "name": "stdout",
     "output_type": "stream",
     "text": [
      "Computing the pearson similarity matrix...\n",
      "Done computing similarity matrix.\n"
     ]
    },
    {
     "data": {
      "text/plain": [
       "<surprise.prediction_algorithms.knns.KNNWithMeans at 0x7fdfecf1e208>"
      ]
     },
     "execution_count": 218,
     "metadata": {
      "tags": []
     },
     "output_type": "execute_result"
    }
   ],
   "source": [
    "algo = KNNWithMeans(k=5, sim_options={'name': 'pearson', 'user_based': False})\n",
    "algo.fit(trainset)"
   ]
  },
  {
   "cell_type": "code",
   "execution_count": 294,
   "metadata": {
    "colab": {
     "base_uri": "https://localhost:8080/",
     "height": 34
    },
    "colab_type": "code",
    "id": "tTcEyiNlQFnX",
    "outputId": "85a89f21-9d2e-40de-c714-254ea2f05a74"
   },
   "outputs": [
    {
     "data": {
      "text/plain": [
       "['B001RQ2YF0', 'B00176TEGM', 'B000IJY8DS', 'B003GSLEJY', 'B005CVNH1Q']"
      ]
     },
     "execution_count": 294,
     "metadata": {
      "tags": []
     },
     "output_type": "execute_result"
    }
   ],
   "source": [
    "sim_products = algo.get_neighbors(trainset.to_inner_iid(\"B00284ALF0\"),5)\n",
    "[trainset.to_raw_iid(x) for x in sim_products]"
   ]
  },
  {
   "cell_type": "markdown",
   "metadata": {
    "colab_type": "text",
    "id": "-x6nrx8hc_oV"
   },
   "source": [
    "# 6. Evaluate both the models. ( Once the model is trained on the training data, it can be used to compute the error (like RMSE) on predictions made on the test data.) You can also use a different method to evaluate the models."
   ]
  },
  {
   "cell_type": "code",
   "execution_count": 239,
   "metadata": {
    "colab": {
     "base_uri": "https://localhost:8080/",
     "height": 34
    },
    "colab_type": "code",
    "id": "k0beRzLDRlql",
    "outputId": "02bc349a-b631-4cf0-e99d-94394cc61b82"
   },
   "outputs": [
    {
     "data": {
      "text/plain": [
       "16629"
      ]
     },
     "execution_count": 239,
     "metadata": {
      "tags": []
     },
     "output_type": "execute_result"
    }
   ],
   "source": [
    "len(testset)"
   ]
  },
  {
   "cell_type": "code",
   "execution_count": 240,
   "metadata": {
    "colab": {
     "base_uri": "https://localhost:8080/",
     "height": 102
    },
    "colab_type": "code",
    "id": "IF0sKBnkRv6Z",
    "outputId": "097fe6fc-b327-4b82-a19e-d448eb275514"
   },
   "outputs": [
    {
     "data": {
      "text/plain": [
       "[('AIJQU979J6UFY', 'B005CWJB5G', 5.0),\n",
       " ('A1MFAPVBW9BEGD', 'B00009UT9B', 3.0),\n",
       " ('A20OBCQWBKCGZT', 'B005A0B3FG', 5.0),\n",
       " ('A1G5MI2KREPEIB', 'B000ANCPNM', 5.0),\n",
       " ('A2FWZ58M6IQMD7', 'B002DW92IE', 2.0)]"
      ]
     },
     "execution_count": 240,
     "metadata": {
      "tags": []
     },
     "output_type": "execute_result"
    }
   ],
   "source": [
    "testset[0:5]"
   ]
  },
  {
   "cell_type": "code",
   "execution_count": 283,
   "metadata": {
    "colab": {
     "base_uri": "https://localhost:8080/",
     "height": 51
    },
    "colab_type": "code",
    "id": "MmkuRfvmR0O5",
    "outputId": "0386dec0-958f-415c-b84c-8411b97e7b51"
   },
   "outputs": [
    {
     "name": "stdout",
     "output_type": "stream",
     "text": [
      "RMSE: 1.1278\n"
     ]
    },
    {
     "data": {
      "text/plain": [
       "1.1278412016732569"
      ]
     },
     "execution_count": 283,
     "metadata": {
      "tags": []
     },
     "output_type": "execute_result"
    }
   ],
   "source": [
    "test_pred = algo.test(testset)\n",
    "accuracy.rmse(test_pred)"
   ]
  },
  {
   "cell_type": "markdown",
   "metadata": {
    "colab_type": "text",
    "id": "vhH8wfUArMK0"
   },
   "source": [
    "### From the \"Collaborative Filtering model\" we got RMSE value as 1.12. It means our predicted rating might varry +/- 1.12."
   ]
  },
  {
   "cell_type": "code",
   "execution_count": 242,
   "metadata": {
    "colab": {
     "base_uri": "https://localhost:8080/",
     "height": 34
    },
    "colab_type": "code",
    "id": "pnKT4YYvFibg",
    "outputId": "9eb095a8-5cb7-4560-de23-7b47825e7ce4"
   },
   "outputs": [
    {
     "data": {
      "text/plain": [
       "('ANYC38I00IRVK', 'B0058P0I2C', 5.0)"
      ]
     },
     "execution_count": 242,
     "metadata": {
      "tags": []
     },
     "output_type": "execute_result"
    }
   ],
   "source": [
    "testset[12]"
   ]
  },
  {
   "cell_type": "code",
   "execution_count": 243,
   "metadata": {
    "colab": {
     "base_uri": "https://localhost:8080/",
     "height": 54
    },
    "colab_type": "code",
    "id": "qeHM4OrPR-0R",
    "outputId": "b72b2093-89a3-4d0a-d507-9c4c38fbd084"
   },
   "outputs": [
    {
     "data": {
      "text/plain": [
       "Prediction(uid='ANYC38I00IRVK', iid='B0058P0I2C', r_ui=5.0, est=4.297077168926234, details={'was_impossible': True, 'reason': 'User and/or item is unkown.'})"
      ]
     },
     "execution_count": 243,
     "metadata": {
      "tags": []
     },
     "output_type": "execute_result"
    }
   ],
   "source": [
    "test_pred[12]"
   ]
  },
  {
   "cell_type": "code",
   "execution_count": 0,
   "metadata": {
    "colab": {},
    "colab_type": "code",
    "id": "UMY5VOf79qvs"
   },
   "outputs": [],
   "source": [
    "test_pred_df = pd.DataFrame(test_pred)\n",
    "test_pred_df[\"was_impossible\"] = [x[\"was_impossible\"] for x in test_pred_df[\"details\"]]"
   ]
  },
  {
   "cell_type": "code",
   "execution_count": 245,
   "metadata": {
    "colab": {
     "base_uri": "https://localhost:8080/",
     "height": 204
    },
    "colab_type": "code",
    "id": "I4qO_7mt9ywB",
    "outputId": "db66c7ce-640d-4bf2-c746-a6f06b120342"
   },
   "outputs": [
    {
     "data": {
      "text/html": [
       "<div>\n",
       "<style scoped>\n",
       "    .dataframe tbody tr th:only-of-type {\n",
       "        vertical-align: middle;\n",
       "    }\n",
       "\n",
       "    .dataframe tbody tr th {\n",
       "        vertical-align: top;\n",
       "    }\n",
       "\n",
       "    .dataframe thead th {\n",
       "        text-align: right;\n",
       "    }\n",
       "</style>\n",
       "<table border=\"1\" class=\"dataframe\">\n",
       "  <thead>\n",
       "    <tr style=\"text-align: right;\">\n",
       "      <th></th>\n",
       "      <th>uid</th>\n",
       "      <th>iid</th>\n",
       "      <th>r_ui</th>\n",
       "      <th>est</th>\n",
       "      <th>details</th>\n",
       "      <th>was_impossible</th>\n",
       "    </tr>\n",
       "  </thead>\n",
       "  <tbody>\n",
       "    <tr>\n",
       "      <th>12</th>\n",
       "      <td>ANYC38I00IRVK</td>\n",
       "      <td>B0058P0I2C</td>\n",
       "      <td>5.0</td>\n",
       "      <td>4.297077</td>\n",
       "      <td>{'was_impossible': True, 'reason': 'User and/o...</td>\n",
       "      <td>True</td>\n",
       "    </tr>\n",
       "    <tr>\n",
       "      <th>13</th>\n",
       "      <td>A3V0YR50F1XSKP</td>\n",
       "      <td>B000HGMMH6</td>\n",
       "      <td>5.0</td>\n",
       "      <td>4.297077</td>\n",
       "      <td>{'was_impossible': True, 'reason': 'User and/o...</td>\n",
       "      <td>True</td>\n",
       "    </tr>\n",
       "    <tr>\n",
       "      <th>16</th>\n",
       "      <td>A1NNMOD9H36Q8E</td>\n",
       "      <td>B002K4512Q</td>\n",
       "      <td>5.0</td>\n",
       "      <td>4.297077</td>\n",
       "      <td>{'was_impossible': True, 'reason': 'User and/o...</td>\n",
       "      <td>True</td>\n",
       "    </tr>\n",
       "    <tr>\n",
       "      <th>25</th>\n",
       "      <td>A32482Z7XIKDQX</td>\n",
       "      <td>B00F42V83C</td>\n",
       "      <td>5.0</td>\n",
       "      <td>4.297077</td>\n",
       "      <td>{'was_impossible': True, 'reason': 'User and/o...</td>\n",
       "      <td>True</td>\n",
       "    </tr>\n",
       "    <tr>\n",
       "      <th>52</th>\n",
       "      <td>A3V0YR50F1XSKP</td>\n",
       "      <td>B00763WKZW</td>\n",
       "      <td>5.0</td>\n",
       "      <td>4.297077</td>\n",
       "      <td>{'was_impossible': True, 'reason': 'User and/o...</td>\n",
       "      <td>True</td>\n",
       "    </tr>\n",
       "  </tbody>\n",
       "</table>\n",
       "</div>"
      ],
      "text/plain": [
       "               uid  ... was_impossible\n",
       "12   ANYC38I00IRVK  ...           True\n",
       "13  A3V0YR50F1XSKP  ...           True\n",
       "16  A1NNMOD9H36Q8E  ...           True\n",
       "25  A32482Z7XIKDQX  ...           True\n",
       "52  A3V0YR50F1XSKP  ...           True\n",
       "\n",
       "[5 rows x 6 columns]"
      ]
     },
     "execution_count": 245,
     "metadata": {
      "tags": []
     },
     "output_type": "execute_result"
    }
   ],
   "source": [
    "test_pred_df.loc[test_pred_df.was_impossible].head(5)"
   ]
  },
  {
   "cell_type": "code",
   "execution_count": 0,
   "metadata": {
    "colab": {},
    "colab_type": "code",
    "id": "YvQRFnmqSKbK"
   },
   "outputs": [],
   "source": [
    "testset_new = trainset.build_anti_testset()"
   ]
  },
  {
   "cell_type": "code",
   "execution_count": 247,
   "metadata": {
    "colab": {
     "base_uri": "https://localhost:8080/",
     "height": 34
    },
    "colab_type": "code",
    "id": "vtvAN6ns-MBF",
    "outputId": "681395ca-d5fe-4582-f126-85418817474e"
   },
   "outputs": [
    {
     "data": {
      "text/plain": [
       "19654722"
      ]
     },
     "execution_count": 247,
     "metadata": {
      "tags": []
     },
     "output_type": "execute_result"
    }
   ],
   "source": [
    "len(testset_new)"
   ]
  },
  {
   "cell_type": "code",
   "execution_count": 248,
   "metadata": {
    "colab": {
     "base_uri": "https://localhost:8080/",
     "height": 102
    },
    "colab_type": "code",
    "id": "NSbSRSRt-UHk",
    "outputId": "48917997-fb1f-4bdf-8589-bd75f0fe48f1"
   },
   "outputs": [
    {
     "data": {
      "text/plain": [
       "[('A1ITRGMT80D5TK', 'B001RQ2YF0', 4.297077168926234),\n",
       " ('A1ITRGMT80D5TK', 'B00176TEGM', 4.297077168926234),\n",
       " ('A1ITRGMT80D5TK', 'B000IJY8DS', 4.297077168926234),\n",
       " ('A1ITRGMT80D5TK', 'B003GSLEJY', 4.297077168926234),\n",
       " ('A1ITRGMT80D5TK', 'B005CVNH1Q', 4.297077168926234)]"
      ]
     },
     "execution_count": 248,
     "metadata": {
      "tags": []
     },
     "output_type": "execute_result"
    }
   ],
   "source": [
    "testset_new[0:5]"
   ]
  },
  {
   "cell_type": "markdown",
   "metadata": {
    "colab_type": "text",
    "id": "lP1q-klTdbjK"
   },
   "source": [
    "# 7. Get top - K ( K = 5) recommendations. Since our goal is to recommend new products to each user based on his/her habits, we will recommend 5 new products."
   ]
  },
  {
   "cell_type": "code",
   "execution_count": 0,
   "metadata": {
    "colab": {},
    "colab_type": "code",
    "id": "MSmFU7cf-aGh"
   },
   "outputs": [],
   "source": [
    "predictions = algo.test(testset_new[0:10000])"
   ]
  },
  {
   "cell_type": "code",
   "execution_count": 252,
   "metadata": {
    "colab": {
     "base_uri": "https://localhost:8080/",
     "height": 54
    },
    "colab_type": "code",
    "id": "3k-BZF0hPyFL",
    "outputId": "b10e128c-ed69-4c86-d361-05274290984a"
   },
   "outputs": [
    {
     "data": {
      "text/plain": [
       "Prediction(uid='A1ITRGMT80D5TK', iid='B001QTXL82', r_ui=4.297077168926234, est=4.6, details={'actual_k': 0, 'was_impossible': False})"
      ]
     },
     "execution_count": 252,
     "metadata": {
      "tags": []
     },
     "output_type": "execute_result"
    }
   ],
   "source": [
    "predictions[100]"
   ]
  },
  {
   "cell_type": "code",
   "execution_count": 0,
   "metadata": {
    "colab": {},
    "colab_type": "code",
    "id": "y8HU1OWk-h97"
   },
   "outputs": [],
   "source": [
    "predictions_df = pd.DataFrame([[x.uid,x.iid,x.est] for x in predictions])"
   ]
  },
  {
   "cell_type": "code",
   "execution_count": 0,
   "metadata": {
    "colab": {},
    "colab_type": "code",
    "id": "COSe5nIM-prr"
   },
   "outputs": [],
   "source": [
    "predictions_df.columns = [\"userId\",\"iid\",\"est_rating\"]"
   ]
  },
  {
   "cell_type": "code",
   "execution_count": 0,
   "metadata": {
    "colab": {},
    "colab_type": "code",
    "id": "m2gzPDcF-vgG"
   },
   "outputs": [],
   "source": [
    "predictions_df.sort_values(by = [\"userId\", \"est_rating\"],ascending=False,inplace=True)"
   ]
  },
  {
   "cell_type": "code",
   "execution_count": 0,
   "metadata": {
    "colab": {},
    "colab_type": "code",
    "id": "KE6WAbhX-14M"
   },
   "outputs": [],
   "source": [
    "top_5_recos = predictions_df.groupby(\"userId\").head(5).reset_index(drop=True)"
   ]
  },
  {
   "cell_type": "code",
   "execution_count": 265,
   "metadata": {
    "colab": {
     "base_uri": "https://localhost:8080/",
     "height": 204
    },
    "colab_type": "code",
    "id": "68sOuwum-5QU",
    "outputId": "3b149ba1-fdb9-4737-ef65-8d4ebc490347"
   },
   "outputs": [
    {
     "data": {
      "text/html": [
       "<div>\n",
       "<style scoped>\n",
       "    .dataframe tbody tr th:only-of-type {\n",
       "        vertical-align: middle;\n",
       "    }\n",
       "\n",
       "    .dataframe tbody tr th {\n",
       "        vertical-align: top;\n",
       "    }\n",
       "\n",
       "    .dataframe thead th {\n",
       "        text-align: right;\n",
       "    }\n",
       "</style>\n",
       "<table border=\"1\" class=\"dataframe\">\n",
       "  <thead>\n",
       "    <tr style=\"text-align: right;\">\n",
       "      <th></th>\n",
       "      <th>userId</th>\n",
       "      <th>iid</th>\n",
       "      <th>est_rating</th>\n",
       "    </tr>\n",
       "  </thead>\n",
       "  <tbody>\n",
       "    <tr>\n",
       "      <th>0</th>\n",
       "      <td>A1ITRGMT80D5TK</td>\n",
       "      <td>B000IJY8DS</td>\n",
       "      <td>5.0</td>\n",
       "    </tr>\n",
       "    <tr>\n",
       "      <th>1</th>\n",
       "      <td>A1ITRGMT80D5TK</td>\n",
       "      <td>B005CVNH1Q</td>\n",
       "      <td>5.0</td>\n",
       "    </tr>\n",
       "    <tr>\n",
       "      <th>2</th>\n",
       "      <td>A1ITRGMT80D5TK</td>\n",
       "      <td>B000AL8JKW</td>\n",
       "      <td>5.0</td>\n",
       "    </tr>\n",
       "    <tr>\n",
       "      <th>3</th>\n",
       "      <td>A1ITRGMT80D5TK</td>\n",
       "      <td>B002JCSV5I</td>\n",
       "      <td>5.0</td>\n",
       "    </tr>\n",
       "    <tr>\n",
       "      <th>4</th>\n",
       "      <td>A1ITRGMT80D5TK</td>\n",
       "      <td>B0083XTQ42</td>\n",
       "      <td>5.0</td>\n",
       "    </tr>\n",
       "  </tbody>\n",
       "</table>\n",
       "</div>"
      ],
      "text/plain": [
       "           userId         iid  est_rating\n",
       "0  A1ITRGMT80D5TK  B000IJY8DS         5.0\n",
       "1  A1ITRGMT80D5TK  B005CVNH1Q         5.0\n",
       "2  A1ITRGMT80D5TK  B000AL8JKW         5.0\n",
       "3  A1ITRGMT80D5TK  B002JCSV5I         5.0\n",
       "4  A1ITRGMT80D5TK  B0083XTQ42         5.0"
      ]
     },
     "execution_count": 265,
     "metadata": {
      "tags": []
     },
     "output_type": "execute_result"
    }
   ],
   "source": [
    "top_5_recos"
   ]
  },
  {
   "cell_type": "markdown",
   "metadata": {
    "colab_type": "text",
    "id": "CyKgRzLyr0Ri"
   },
   "source": [
    "### From the above model, we can recommend the best 5 productes for each user."
   ]
  },
  {
   "cell_type": "markdown",
   "metadata": {
    "colab_type": "text",
    "id": "OEU4eFlzr_gU"
   },
   "source": [
    "## To reduce our RMSE value, we are traing some other model."
   ]
  },
  {
   "cell_type": "markdown",
   "metadata": {
    "colab_type": "text",
    "collapsed": true,
    "id": "sYECyO4R40cw"
   },
   "source": [
    "# SVD Based Recommendation"
   ]
  },
  {
   "cell_type": "code",
   "execution_count": 0,
   "metadata": {
    "colab": {},
    "colab_type": "code",
    "id": "Y45q_48n40dG"
   },
   "outputs": [],
   "source": [
    "from surprise import SVD\n",
    "from surprise import accuracy"
   ]
  },
  {
   "cell_type": "code",
   "execution_count": 272,
   "metadata": {
    "colab": {
     "base_uri": "https://localhost:8080/",
     "height": 34
    },
    "colab_type": "code",
    "id": "CI7KwtNV40dK",
    "outputId": "47a322bc-babc-4546-ebff-eecabfff7894"
   },
   "outputs": [
    {
     "data": {
      "text/plain": [
       "<surprise.prediction_algorithms.matrix_factorization.SVD at 0x7fdfecf25240>"
      ]
     },
     "execution_count": 272,
     "metadata": {
      "tags": []
     },
     "output_type": "execute_result"
    }
   ],
   "source": [
    "svd_model = SVD(n_factors=50,biased=False)\n",
    "svd_model.fit(trainset)"
   ]
  },
  {
   "cell_type": "code",
   "execution_count": 0,
   "metadata": {
    "colab": {},
    "colab_type": "code",
    "id": "1bSwid_B40dQ"
   },
   "outputs": [],
   "source": [
    "test_pred = svd_model.test(testset)"
   ]
  },
  {
   "cell_type": "code",
   "execution_count": 274,
   "metadata": {
    "colab": {
     "base_uri": "https://localhost:8080/",
     "height": 51
    },
    "colab_type": "code",
    "id": "hc-gbPIf40dX",
    "outputId": "0a33c8b9-1cc4-48d3-c689-68de6a34956d"
   },
   "outputs": [
    {
     "name": "stdout",
     "output_type": "stream",
     "text": [
      "RMSE: 2.5919\n"
     ]
    },
    {
     "data": {
      "text/plain": [
       "2.5919423391441163"
      ]
     },
     "execution_count": 274,
     "metadata": {
      "tags": []
     },
     "output_type": "execute_result"
    }
   ],
   "source": [
    "accuracy.rmse(test_pred)"
   ]
  },
  {
   "cell_type": "markdown",
   "metadata": {
    "colab_type": "text",
    "id": "qMm6j4JYsIkp"
   },
   "source": [
    "#### From the above result, we infer that RMSE value increased. So we are preding the best model through grid search using hyper parameter."
   ]
  },
  {
   "cell_type": "markdown",
   "metadata": {
    "colab_type": "text",
    "id": "mh9Gyuem40dz"
   },
   "source": [
    "### <b> Parameter tuning of SVD Recommendation system </b>"
   ]
  },
  {
   "cell_type": "code",
   "execution_count": 0,
   "metadata": {
    "colab": {},
    "colab_type": "code",
    "id": "7PE-YEmQ40d2"
   },
   "outputs": [],
   "source": [
    "from surprise.model_selection import GridSearchCV\n",
    "param_grid = {'n_factors' : [5,10,15], \"reg_all\":[0.01,0.02]}\n",
    "gs = GridSearchCV(SVD, param_grid, measures=['rmse'], cv=3,refit = True)"
   ]
  },
  {
   "cell_type": "code",
   "execution_count": 0,
   "metadata": {
    "colab": {},
    "colab_type": "code",
    "id": "mjSoQeN540d6"
   },
   "outputs": [],
   "source": [
    "gs.fit(data)"
   ]
  },
  {
   "cell_type": "code",
   "execution_count": 277,
   "metadata": {
    "colab": {
     "base_uri": "https://localhost:8080/",
     "height": 119
    },
    "colab_type": "code",
    "id": "FHV4GtQX40d-",
    "outputId": "7d4cf3d0-c6c2-4f26-aef6-e6580d368b63"
   },
   "outputs": [
    {
     "data": {
      "text/plain": [
       "[{'n_factors': 5, 'reg_all': 0.01},\n",
       " {'n_factors': 5, 'reg_all': 0.02},\n",
       " {'n_factors': 10, 'reg_all': 0.01},\n",
       " {'n_factors': 10, 'reg_all': 0.02},\n",
       " {'n_factors': 15, 'reg_all': 0.01},\n",
       " {'n_factors': 15, 'reg_all': 0.02}]"
      ]
     },
     "execution_count": 277,
     "metadata": {
      "tags": []
     },
     "output_type": "execute_result"
    }
   ],
   "source": [
    "# get all parameter combinations\n",
    "gs.param_combinations"
   ]
  },
  {
   "cell_type": "code",
   "execution_count": 278,
   "metadata": {
    "colab": {
     "base_uri": "https://localhost:8080/",
     "height": 34
    },
    "colab_type": "code",
    "id": "Qw6SRwTk40eD",
    "outputId": "74f41fe7-75ce-4902-f39c-6bc8138f8c87"
   },
   "outputs": [
    {
     "data": {
      "text/plain": [
       "{'rmse': {'n_factors': 5, 'reg_all': 0.02}}"
      ]
     },
     "execution_count": 278,
     "metadata": {
      "tags": []
     },
     "output_type": "execute_result"
    }
   ],
   "source": [
    "# get best parameters\n",
    "gs.best_params"
   ]
  },
  {
   "cell_type": "code",
   "execution_count": 0,
   "metadata": {
    "colab": {},
    "colab_type": "code",
    "id": "zVUO3Zh340eF"
   },
   "outputs": [],
   "source": [
    "# Use the \"best model\" for prediction\n",
    "gstest = gs.test(testset)"
   ]
  },
  {
   "cell_type": "code",
   "execution_count": 296,
   "metadata": {
    "colab": {
     "base_uri": "https://localhost:8080/",
     "height": 51
    },
    "colab_type": "code",
    "id": "SV5c6Ai_40eI",
    "outputId": "cd7785ee-aebc-43e9-bb13-4f46b3817026"
   },
   "outputs": [
    {
     "name": "stdout",
     "output_type": "stream",
     "text": [
      "RMSE: 0.8532\n"
     ]
    },
    {
     "data": {
      "text/plain": [
       "0.8532478792377717"
      ]
     },
     "execution_count": 296,
     "metadata": {
      "tags": []
     },
     "output_type": "execute_result"
    }
   ],
   "source": [
    "accuracy.rmse(gstest)"
   ]
  },
  {
   "cell_type": "markdown",
   "metadata": {
    "colab_type": "text",
    "id": "7jju_Rb-sbcr"
   },
   "source": [
    "#### From the above grid search model, our RMSE value reduced as 0.85."
   ]
  },
  {
   "cell_type": "markdown",
   "metadata": {
    "colab_type": "text",
    "id": "M0RO1tw-slqF"
   },
   "source": [
    "# Insights: \n",
    "\n",
    "Our original data set has approximately 7.8 million records with 4 columns.\n",
    "\n",
    "To make a dataset as less sparse and denser, we have shortened the records by users who rated more than or equal to 50 products. After that again we filtered as the product whic has reviewd by more than 50 useres. Finllay we got 79.18 K records. It means our final dataset(df3) has users who are all rated atleast 50 products. Also the final data set has products rated by atleast 50 users.\n",
    "\n",
    "Then we splitted the data as \"trainset_pop\" and \"testset_pop\". After this split up, our data frame modified as 55427 rows and 3 columns.\n",
    "\n",
    "We do not find any missing values in the final data set. Also we consider the filtered data frame has more strengthen than original dataset in the aspect of reputed reviers and productes.\n",
    "\n",
    "Popularity Recommended model:\n",
    "\n",
    "From Popularity Recommended model, we can recommend best prodiucts to new users who were not already have records.\n",
    "\n",
    "In this model, we used groupby option to short the best products by raing wise. Also we considered the number of ratings. Over all, we recomended the prodcuts those have good raings with more times. This model helps to recomened the best products to new customers who are not part of the dataset. This model very useful for cold start. That means start up of business which has not no past cusomer history.\n",
    "\n",
    "Collaborative Filtering model:\n",
    "\n",
    "This model used based on the past data. Here our objective is recomending best products for every users based on the user habit or interset with respective of thier past rating of the similar products.\n",
    "\n",
    "In this model, First we used the surprise library. In this library, while we load the data, our input data frame becomes \"Trainset\" format. The splitted test set becomes list. And the entire data converted to inner id. Our original data named as raw id. Using to_inner/raw, we can convert and very the data as we wish.\n",
    "\n",
    "After we fitted the model, we can find similer products using get neighbour concept. Also we can predict the test data. Then we can calculate RMSE by comparing both test prediction and actual rating.\n",
    "\n",
    "In the \"Collaborative Filtering model\" we got RMSE valyue as 1.2. It means our test data set predicted rating might vary +/- 1.2 from actual ratting. This is not a best accuracy.\n",
    "\n",
    "So we have tried some other model like SVD and Grid Search. In the SVD model, we got around 2.4 as RMSE value. After that we have tried Grid Searc model. It provided RMSE as 0.83. In our analysis this pretty good while compare with other models.\n",
    "\n",
    "Our main objective is recomended 5 products to every user.\n",
    "\n",
    "After finding similar products we have find the antitestset for testset data. Here we have predicted the rating for the all products which were not rated by the particuler user. And predited the best 5 relvent productes for every user based on their similar product ratings.\n",
    "\n",
    "Conclusion: \n",
    "\n",
    "We have reduced records to make the dataset as more dense and less sparse.\n",
    "\n",
    "Using Popularity Recommendation model, we have recomended best products which has high rating with more frequncy to new users.\n",
    "\n",
    "Using Collaborative Filtering model, we can find similar products and test data rating prediction. Using RMSE, we can find the accuracy of the model.\n",
    "\n",
    "To build the better accuracy we have applied grid search model and improved the accuracy from 1.2 to 0.8.\n",
    "\n",
    "Using antitestset generation, we can predict the best relevent products for every users."
   ]
  }
 ],
 "metadata": {
  "colab": {
   "collapsed_sections": [],
   "machine_shape": "hm",
   "name": "Recommendation_System_R5_Project1_ratings_Electronics.ipynb",
   "provenance": []
  },
  "kernelspec": {
   "display_name": "Python 3",
   "language": "python",
   "name": "python3"
  },
  "language_info": {
   "codemirror_mode": {
    "name": "ipython",
    "version": 3
   },
   "file_extension": ".py",
   "mimetype": "text/x-python",
   "name": "python",
   "nbconvert_exporter": "python",
   "pygments_lexer": "ipython3",
   "version": "3.7.3"
  }
 },
 "nbformat": 4,
 "nbformat_minor": 1
}
