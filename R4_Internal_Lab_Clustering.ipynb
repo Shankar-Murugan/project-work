{
 "cells": [
  {
   "cell_type": "markdown",
   "metadata": {},
   "source": [
    "### The data set has information about features of silhouette extracted from the images of different cars\n",
    "\n",
    "Four \"Corgie\" model vehicles were used for the experiment: a double decker bus, Cheverolet van, Saab 9000 and an Opel Manta 400 cars. This particular combination of vehicles was chosen with the expectation that the bus, van and either one of the cars would be readily distinguishable, but it would be more difficult to distinguish between the cars.\n",
    "\n"
   ]
  },
  {
   "cell_type": "markdown",
   "metadata": {},
   "source": [
    "### 1. Read the dataset using function .dropna() - to avoid dealing with NAs as of now"
   ]
  },
  {
   "cell_type": "code",
   "execution_count": 17,
   "metadata": {},
   "outputs": [],
   "source": [
    "%matplotlib inline \n",
    "\n",
    "from sklearn.model_selection import train_test_split\n",
    "\n",
    "# Import Linear Regression machine learning library\n",
    "from sklearn.linear_model import LinearRegression\n",
    "from sklearn.cluster import KMeans\n",
    "\n",
    "# to handle data in form of rows and columns \n",
    "import pandas as pd\n",
    "import numpy as np\n",
    "\n",
    "# importing ploting libraries\n",
    "import matplotlib.pyplot as plt   \n",
    "\n",
    "#importing seaborn for statistical plots\n",
    "import seaborn as sns"
   ]
  },
  {
   "cell_type": "code",
   "execution_count": 18,
   "metadata": {},
   "outputs": [],
   "source": [
    "df = pd.read_csv('vehicle.csv')"
   ]
  },
  {
   "cell_type": "code",
   "execution_count": 19,
   "metadata": {},
   "outputs": [
    {
     "data": {
      "text/html": [
       "<div>\n",
       "<style scoped>\n",
       "    .dataframe tbody tr th:only-of-type {\n",
       "        vertical-align: middle;\n",
       "    }\n",
       "\n",
       "    .dataframe tbody tr th {\n",
       "        vertical-align: top;\n",
       "    }\n",
       "\n",
       "    .dataframe thead th {\n",
       "        text-align: right;\n",
       "    }\n",
       "</style>\n",
       "<table border=\"1\" class=\"dataframe\">\n",
       "  <thead>\n",
       "    <tr style=\"text-align: right;\">\n",
       "      <th></th>\n",
       "      <th>compactness</th>\n",
       "      <th>circularity</th>\n",
       "      <th>distance_circularity</th>\n",
       "      <th>radius_ratio</th>\n",
       "      <th>pr.axis_aspect_ratio</th>\n",
       "      <th>max.length_aspect_ratio</th>\n",
       "      <th>scatter_ratio</th>\n",
       "      <th>elongatedness</th>\n",
       "      <th>pr.axis_rectangularity</th>\n",
       "      <th>max.length_rectangularity</th>\n",
       "      <th>scaled_variance</th>\n",
       "      <th>scaled_variance.1</th>\n",
       "      <th>scaled_radius_of_gyration</th>\n",
       "      <th>scaled_radius_of_gyration.1</th>\n",
       "      <th>skewness_about</th>\n",
       "      <th>skewness_about.1</th>\n",
       "      <th>skewness_about.2</th>\n",
       "      <th>hollows_ratio</th>\n",
       "      <th>class</th>\n",
       "    </tr>\n",
       "  </thead>\n",
       "  <tbody>\n",
       "    <tr>\n",
       "      <th>0</th>\n",
       "      <td>95</td>\n",
       "      <td>48.0</td>\n",
       "      <td>83.0</td>\n",
       "      <td>178.0</td>\n",
       "      <td>72.0</td>\n",
       "      <td>10</td>\n",
       "      <td>162.0</td>\n",
       "      <td>42.0</td>\n",
       "      <td>20.0</td>\n",
       "      <td>159</td>\n",
       "      <td>176.0</td>\n",
       "      <td>379.0</td>\n",
       "      <td>184.0</td>\n",
       "      <td>70.0</td>\n",
       "      <td>6.0</td>\n",
       "      <td>16.0</td>\n",
       "      <td>187.0</td>\n",
       "      <td>197</td>\n",
       "      <td>van</td>\n",
       "    </tr>\n",
       "    <tr>\n",
       "      <th>1</th>\n",
       "      <td>91</td>\n",
       "      <td>41.0</td>\n",
       "      <td>84.0</td>\n",
       "      <td>141.0</td>\n",
       "      <td>57.0</td>\n",
       "      <td>9</td>\n",
       "      <td>149.0</td>\n",
       "      <td>45.0</td>\n",
       "      <td>19.0</td>\n",
       "      <td>143</td>\n",
       "      <td>170.0</td>\n",
       "      <td>330.0</td>\n",
       "      <td>158.0</td>\n",
       "      <td>72.0</td>\n",
       "      <td>9.0</td>\n",
       "      <td>14.0</td>\n",
       "      <td>189.0</td>\n",
       "      <td>199</td>\n",
       "      <td>van</td>\n",
       "    </tr>\n",
       "    <tr>\n",
       "      <th>2</th>\n",
       "      <td>104</td>\n",
       "      <td>50.0</td>\n",
       "      <td>106.0</td>\n",
       "      <td>209.0</td>\n",
       "      <td>66.0</td>\n",
       "      <td>10</td>\n",
       "      <td>207.0</td>\n",
       "      <td>32.0</td>\n",
       "      <td>23.0</td>\n",
       "      <td>158</td>\n",
       "      <td>223.0</td>\n",
       "      <td>635.0</td>\n",
       "      <td>220.0</td>\n",
       "      <td>73.0</td>\n",
       "      <td>14.0</td>\n",
       "      <td>9.0</td>\n",
       "      <td>188.0</td>\n",
       "      <td>196</td>\n",
       "      <td>car</td>\n",
       "    </tr>\n",
       "    <tr>\n",
       "      <th>3</th>\n",
       "      <td>93</td>\n",
       "      <td>41.0</td>\n",
       "      <td>82.0</td>\n",
       "      <td>159.0</td>\n",
       "      <td>63.0</td>\n",
       "      <td>9</td>\n",
       "      <td>144.0</td>\n",
       "      <td>46.0</td>\n",
       "      <td>19.0</td>\n",
       "      <td>143</td>\n",
       "      <td>160.0</td>\n",
       "      <td>309.0</td>\n",
       "      <td>127.0</td>\n",
       "      <td>63.0</td>\n",
       "      <td>6.0</td>\n",
       "      <td>10.0</td>\n",
       "      <td>199.0</td>\n",
       "      <td>207</td>\n",
       "      <td>van</td>\n",
       "    </tr>\n",
       "    <tr>\n",
       "      <th>4</th>\n",
       "      <td>85</td>\n",
       "      <td>44.0</td>\n",
       "      <td>70.0</td>\n",
       "      <td>205.0</td>\n",
       "      <td>103.0</td>\n",
       "      <td>52</td>\n",
       "      <td>149.0</td>\n",
       "      <td>45.0</td>\n",
       "      <td>19.0</td>\n",
       "      <td>144</td>\n",
       "      <td>241.0</td>\n",
       "      <td>325.0</td>\n",
       "      <td>188.0</td>\n",
       "      <td>127.0</td>\n",
       "      <td>9.0</td>\n",
       "      <td>11.0</td>\n",
       "      <td>180.0</td>\n",
       "      <td>183</td>\n",
       "      <td>bus</td>\n",
       "    </tr>\n",
       "  </tbody>\n",
       "</table>\n",
       "</div>"
      ],
      "text/plain": [
       "   compactness  circularity  distance_circularity  radius_ratio  \\\n",
       "0           95         48.0                  83.0         178.0   \n",
       "1           91         41.0                  84.0         141.0   \n",
       "2          104         50.0                 106.0         209.0   \n",
       "3           93         41.0                  82.0         159.0   \n",
       "4           85         44.0                  70.0         205.0   \n",
       "\n",
       "   pr.axis_aspect_ratio  max.length_aspect_ratio  scatter_ratio  \\\n",
       "0                  72.0                       10          162.0   \n",
       "1                  57.0                        9          149.0   \n",
       "2                  66.0                       10          207.0   \n",
       "3                  63.0                        9          144.0   \n",
       "4                 103.0                       52          149.0   \n",
       "\n",
       "   elongatedness  pr.axis_rectangularity  max.length_rectangularity  \\\n",
       "0           42.0                    20.0                        159   \n",
       "1           45.0                    19.0                        143   \n",
       "2           32.0                    23.0                        158   \n",
       "3           46.0                    19.0                        143   \n",
       "4           45.0                    19.0                        144   \n",
       "\n",
       "   scaled_variance  scaled_variance.1  scaled_radius_of_gyration  \\\n",
       "0            176.0              379.0                      184.0   \n",
       "1            170.0              330.0                      158.0   \n",
       "2            223.0              635.0                      220.0   \n",
       "3            160.0              309.0                      127.0   \n",
       "4            241.0              325.0                      188.0   \n",
       "\n",
       "   scaled_radius_of_gyration.1  skewness_about  skewness_about.1  \\\n",
       "0                         70.0             6.0              16.0   \n",
       "1                         72.0             9.0              14.0   \n",
       "2                         73.0            14.0               9.0   \n",
       "3                         63.0             6.0              10.0   \n",
       "4                        127.0             9.0              11.0   \n",
       "\n",
       "   skewness_about.2  hollows_ratio class  \n",
       "0             187.0            197   van  \n",
       "1             189.0            199   van  \n",
       "2             188.0            196   car  \n",
       "3             199.0            207   van  \n",
       "4             180.0            183   bus  "
      ]
     },
     "execution_count": 19,
     "metadata": {},
     "output_type": "execute_result"
    }
   ],
   "source": [
    "df.head()"
   ]
  },
  {
   "cell_type": "code",
   "execution_count": 20,
   "metadata": {},
   "outputs": [
    {
     "data": {
      "text/plain": [
       "compactness                    0\n",
       "circularity                    5\n",
       "distance_circularity           4\n",
       "radius_ratio                   6\n",
       "pr.axis_aspect_ratio           2\n",
       "max.length_aspect_ratio        0\n",
       "scatter_ratio                  1\n",
       "elongatedness                  1\n",
       "pr.axis_rectangularity         3\n",
       "max.length_rectangularity      0\n",
       "scaled_variance                3\n",
       "scaled_variance.1              2\n",
       "scaled_radius_of_gyration      2\n",
       "scaled_radius_of_gyration.1    4\n",
       "skewness_about                 6\n",
       "skewness_about.1               1\n",
       "skewness_about.2               1\n",
       "hollows_ratio                  0\n",
       "class                          0\n",
       "dtype: int64"
      ]
     },
     "execution_count": 20,
     "metadata": {},
     "output_type": "execute_result"
    }
   ],
   "source": [
    "df.isna().sum()"
   ]
  },
  {
   "cell_type": "code",
   "execution_count": 21,
   "metadata": {},
   "outputs": [],
   "source": [
    "df1 = df.dropna()"
   ]
  },
  {
   "cell_type": "code",
   "execution_count": 22,
   "metadata": {},
   "outputs": [
    {
     "data": {
      "text/plain": [
       "compactness                    0\n",
       "circularity                    0\n",
       "distance_circularity           0\n",
       "radius_ratio                   0\n",
       "pr.axis_aspect_ratio           0\n",
       "max.length_aspect_ratio        0\n",
       "scatter_ratio                  0\n",
       "elongatedness                  0\n",
       "pr.axis_rectangularity         0\n",
       "max.length_rectangularity      0\n",
       "scaled_variance                0\n",
       "scaled_variance.1              0\n",
       "scaled_radius_of_gyration      0\n",
       "scaled_radius_of_gyration.1    0\n",
       "skewness_about                 0\n",
       "skewness_about.1               0\n",
       "skewness_about.2               0\n",
       "hollows_ratio                  0\n",
       "class                          0\n",
       "dtype: int64"
      ]
     },
     "execution_count": 22,
     "metadata": {},
     "output_type": "execute_result"
    }
   ],
   "source": [
    "df1.isna().sum()"
   ]
  },
  {
   "cell_type": "markdown",
   "metadata": {},
   "source": [
    "As per the request, we read the data set and drop the nul values."
   ]
  },
  {
   "cell_type": "markdown",
   "metadata": {},
   "source": [
    "### 2. Print/ Plot the dependent (categorical variable) - Class column"
   ]
  },
  {
   "cell_type": "markdown",
   "metadata": {},
   "source": [
    "Since the variable is categorical, you can use value_counts function"
   ]
  },
  {
   "cell_type": "code",
   "execution_count": 23,
   "metadata": {},
   "outputs": [
    {
     "data": {
      "text/plain": [
       "<matplotlib.axes._subplots.AxesSubplot at 0x9b81470>"
      ]
     },
     "execution_count": 23,
     "metadata": {},
     "output_type": "execute_result"
    },
    {
     "data": {
      "image/png": "[encoded data removed]",
      "text/plain": [
       "<Figure size 432x288 with 1 Axes>"
      ]
     },
     "metadata": {
      "needs_background": "light"
     },
     "output_type": "display_data"
    }
   ],
   "source": [
    "sns.countplot(x='class',data=df1)"
   ]
  },
  {
   "cell_type": "markdown",
   "metadata": {},
   "source": [
    "### Check for any missing values in the data "
   ]
  },
  {
   "cell_type": "code",
   "execution_count": 24,
   "metadata": {},
   "outputs": [
    {
     "data": {
      "text/plain": [
       "compactness                    0\n",
       "circularity                    0\n",
       "distance_circularity           0\n",
       "radius_ratio                   0\n",
       "pr.axis_aspect_ratio           0\n",
       "max.length_aspect_ratio        0\n",
       "scatter_ratio                  0\n",
       "elongatedness                  0\n",
       "pr.axis_rectangularity         0\n",
       "max.length_rectangularity      0\n",
       "scaled_variance                0\n",
       "scaled_variance.1              0\n",
       "scaled_radius_of_gyration      0\n",
       "scaled_radius_of_gyration.1    0\n",
       "skewness_about                 0\n",
       "skewness_about.1               0\n",
       "skewness_about.2               0\n",
       "hollows_ratio                  0\n",
       "class                          0\n",
       "dtype: int64"
      ]
     },
     "execution_count": 24,
     "metadata": {},
     "output_type": "execute_result"
    }
   ],
   "source": [
    "df1.isna().sum()"
   ]
  },
  {
   "cell_type": "markdown",
   "metadata": {},
   "source": [
    "#### As per the above output there is no missing values in the using data set df1."
   ]
  },
  {
   "cell_type": "markdown",
   "metadata": {},
   "source": [
    "### 3. Standardize the data "
   ]
  },
  {
   "cell_type": "markdown",
   "metadata": {},
   "source": [
    "Since the dimensions of the data are not really known to us, it would be wise to standardize the data using z scores before we go for any clustering methods.\n",
    "You can use zscore function to do this"
   ]
  },
  {
   "cell_type": "code",
   "execution_count": 25,
   "metadata": {},
   "outputs": [
    {
     "data": {
      "text/html": [
       "<div>\n",
       "<style scoped>\n",
       "    .dataframe tbody tr th:only-of-type {\n",
       "        vertical-align: middle;\n",
       "    }\n",
       "\n",
       "    .dataframe tbody tr th {\n",
       "        vertical-align: top;\n",
       "    }\n",
       "\n",
       "    .dataframe thead th {\n",
       "        text-align: right;\n",
       "    }\n",
       "</style>\n",
       "<table border=\"1\" class=\"dataframe\">\n",
       "  <thead>\n",
       "    <tr style=\"text-align: right;\">\n",
       "      <th></th>\n",
       "      <th>compactness</th>\n",
       "      <th>circularity</th>\n",
       "      <th>distance_circularity</th>\n",
       "      <th>radius_ratio</th>\n",
       "      <th>pr.axis_aspect_ratio</th>\n",
       "      <th>max.length_aspect_ratio</th>\n",
       "      <th>scatter_ratio</th>\n",
       "      <th>elongatedness</th>\n",
       "      <th>pr.axis_rectangularity</th>\n",
       "      <th>max.length_rectangularity</th>\n",
       "      <th>scaled_variance</th>\n",
       "      <th>scaled_variance.1</th>\n",
       "      <th>scaled_radius_of_gyration</th>\n",
       "      <th>scaled_radius_of_gyration.1</th>\n",
       "      <th>skewness_about</th>\n",
       "      <th>skewness_about.1</th>\n",
       "      <th>skewness_about.2</th>\n",
       "      <th>hollows_ratio</th>\n",
       "    </tr>\n",
       "  </thead>\n",
       "  <tbody>\n",
       "    <tr>\n",
       "      <th>0</th>\n",
       "      <td>95</td>\n",
       "      <td>48.0</td>\n",
       "      <td>83.0</td>\n",
       "      <td>178.0</td>\n",
       "      <td>72.0</td>\n",
       "      <td>10</td>\n",
       "      <td>162.0</td>\n",
       "      <td>42.0</td>\n",
       "      <td>20.0</td>\n",
       "      <td>159</td>\n",
       "      <td>176.0</td>\n",
       "      <td>379.0</td>\n",
       "      <td>184.0</td>\n",
       "      <td>70.0</td>\n",
       "      <td>6.0</td>\n",
       "      <td>16.0</td>\n",
       "      <td>187.0</td>\n",
       "      <td>197</td>\n",
       "    </tr>\n",
       "    <tr>\n",
       "      <th>1</th>\n",
       "      <td>91</td>\n",
       "      <td>41.0</td>\n",
       "      <td>84.0</td>\n",
       "      <td>141.0</td>\n",
       "      <td>57.0</td>\n",
       "      <td>9</td>\n",
       "      <td>149.0</td>\n",
       "      <td>45.0</td>\n",
       "      <td>19.0</td>\n",
       "      <td>143</td>\n",
       "      <td>170.0</td>\n",
       "      <td>330.0</td>\n",
       "      <td>158.0</td>\n",
       "      <td>72.0</td>\n",
       "      <td>9.0</td>\n",
       "      <td>14.0</td>\n",
       "      <td>189.0</td>\n",
       "      <td>199</td>\n",
       "    </tr>\n",
       "    <tr>\n",
       "      <th>2</th>\n",
       "      <td>104</td>\n",
       "      <td>50.0</td>\n",
       "      <td>106.0</td>\n",
       "      <td>209.0</td>\n",
       "      <td>66.0</td>\n",
       "      <td>10</td>\n",
       "      <td>207.0</td>\n",
       "      <td>32.0</td>\n",
       "      <td>23.0</td>\n",
       "      <td>158</td>\n",
       "      <td>223.0</td>\n",
       "      <td>635.0</td>\n",
       "      <td>220.0</td>\n",
       "      <td>73.0</td>\n",
       "      <td>14.0</td>\n",
       "      <td>9.0</td>\n",
       "      <td>188.0</td>\n",
       "      <td>196</td>\n",
       "    </tr>\n",
       "    <tr>\n",
       "      <th>3</th>\n",
       "      <td>93</td>\n",
       "      <td>41.0</td>\n",
       "      <td>82.0</td>\n",
       "      <td>159.0</td>\n",
       "      <td>63.0</td>\n",
       "      <td>9</td>\n",
       "      <td>144.0</td>\n",
       "      <td>46.0</td>\n",
       "      <td>19.0</td>\n",
       "      <td>143</td>\n",
       "      <td>160.0</td>\n",
       "      <td>309.0</td>\n",
       "      <td>127.0</td>\n",
       "      <td>63.0</td>\n",
       "      <td>6.0</td>\n",
       "      <td>10.0</td>\n",
       "      <td>199.0</td>\n",
       "      <td>207</td>\n",
       "    </tr>\n",
       "    <tr>\n",
       "      <th>4</th>\n",
       "      <td>85</td>\n",
       "      <td>44.0</td>\n",
       "      <td>70.0</td>\n",
       "      <td>205.0</td>\n",
       "      <td>103.0</td>\n",
       "      <td>52</td>\n",
       "      <td>149.0</td>\n",
       "      <td>45.0</td>\n",
       "      <td>19.0</td>\n",
       "      <td>144</td>\n",
       "      <td>241.0</td>\n",
       "      <td>325.0</td>\n",
       "      <td>188.0</td>\n",
       "      <td>127.0</td>\n",
       "      <td>9.0</td>\n",
       "      <td>11.0</td>\n",
       "      <td>180.0</td>\n",
       "      <td>183</td>\n",
       "    </tr>\n",
       "  </tbody>\n",
       "</table>\n",
       "</div>"
      ],
      "text/plain": [
       "   compactness  circularity  distance_circularity  radius_ratio  \\\n",
       "0           95         48.0                  83.0         178.0   \n",
       "1           91         41.0                  84.0         141.0   \n",
       "2          104         50.0                 106.0         209.0   \n",
       "3           93         41.0                  82.0         159.0   \n",
       "4           85         44.0                  70.0         205.0   \n",
       "\n",
       "   pr.axis_aspect_ratio  max.length_aspect_ratio  scatter_ratio  \\\n",
       "0                  72.0                       10          162.0   \n",
       "1                  57.0                        9          149.0   \n",
       "2                  66.0                       10          207.0   \n",
       "3                  63.0                        9          144.0   \n",
       "4                 103.0                       52          149.0   \n",
       "\n",
       "   elongatedness  pr.axis_rectangularity  max.length_rectangularity  \\\n",
       "0           42.0                    20.0                        159   \n",
       "1           45.0                    19.0                        143   \n",
       "2           32.0                    23.0                        158   \n",
       "3           46.0                    19.0                        143   \n",
       "4           45.0                    19.0                        144   \n",
       "\n",
       "   scaled_variance  scaled_variance.1  scaled_radius_of_gyration  \\\n",
       "0            176.0              379.0                      184.0   \n",
       "1            170.0              330.0                      158.0   \n",
       "2            223.0              635.0                      220.0   \n",
       "3            160.0              309.0                      127.0   \n",
       "4            241.0              325.0                      188.0   \n",
       "\n",
       "   scaled_radius_of_gyration.1  skewness_about  skewness_about.1  \\\n",
       "0                         70.0             6.0              16.0   \n",
       "1                         72.0             9.0              14.0   \n",
       "2                         73.0            14.0               9.0   \n",
       "3                         63.0             6.0              10.0   \n",
       "4                        127.0             9.0              11.0   \n",
       "\n",
       "   skewness_about.2  hollows_ratio  \n",
       "0             187.0            197  \n",
       "1             189.0            199  \n",
       "2             188.0            196  \n",
       "3             199.0            207  \n",
       "4             180.0            183  "
      ]
     },
     "execution_count": 25,
     "metadata": {},
     "output_type": "execute_result"
    }
   ],
   "source": [
    "from scipy.stats import zscore\n",
    "df2 = df1.drop(labels= \"class\", axis = 1)\n",
    "df2.head()"
   ]
  },
  {
   "cell_type": "code",
   "execution_count": 26,
   "metadata": {},
   "outputs": [
    {
     "data": {
      "text/html": [
       "<div>\n",
       "<style scoped>\n",
       "    .dataframe tbody tr th:only-of-type {\n",
       "        vertical-align: middle;\n",
       "    }\n",
       "\n",
       "    .dataframe tbody tr th {\n",
       "        vertical-align: top;\n",
       "    }\n",
       "\n",
       "    .dataframe thead th {\n",
       "        text-align: right;\n",
       "    }\n",
       "</style>\n",
       "<table border=\"1\" class=\"dataframe\">\n",
       "  <thead>\n",
       "    <tr style=\"text-align: right;\">\n",
       "      <th></th>\n",
       "      <th>compactness</th>\n",
       "      <th>circularity</th>\n",
       "      <th>distance_circularity</th>\n",
       "      <th>radius_ratio</th>\n",
       "      <th>pr.axis_aspect_ratio</th>\n",
       "      <th>max.length_aspect_ratio</th>\n",
       "      <th>scatter_ratio</th>\n",
       "      <th>elongatedness</th>\n",
       "      <th>pr.axis_rectangularity</th>\n",
       "      <th>max.length_rectangularity</th>\n",
       "      <th>scaled_variance</th>\n",
       "      <th>scaled_variance.1</th>\n",
       "      <th>scaled_radius_of_gyration</th>\n",
       "      <th>scaled_radius_of_gyration.1</th>\n",
       "      <th>skewness_about</th>\n",
       "      <th>skewness_about.1</th>\n",
       "      <th>skewness_about.2</th>\n",
       "      <th>hollows_ratio</th>\n",
       "    </tr>\n",
       "  </thead>\n",
       "  <tbody>\n",
       "    <tr>\n",
       "      <th>0</th>\n",
       "      <td>0.163231</td>\n",
       "      <td>0.520408</td>\n",
       "      <td>0.060669</td>\n",
       "      <td>0.264970</td>\n",
       "      <td>1.283254</td>\n",
       "      <td>0.299721</td>\n",
       "      <td>-0.198517</td>\n",
       "      <td>0.129648</td>\n",
       "      <td>-0.217151</td>\n",
       "      <td>0.766312</td>\n",
       "      <td>-0.397397</td>\n",
       "      <td>-0.339014</td>\n",
       "      <td>0.301676</td>\n",
       "      <td>-0.321192</td>\n",
       "      <td>-0.071523</td>\n",
       "      <td>0.371287</td>\n",
       "      <td>-0.321809</td>\n",
       "      <td>0.171837</td>\n",
       "    </tr>\n",
       "    <tr>\n",
       "      <th>1</th>\n",
       "      <td>-0.322874</td>\n",
       "      <td>-0.619123</td>\n",
       "      <td>0.124067</td>\n",
       "      <td>-0.836393</td>\n",
       "      <td>-0.599253</td>\n",
       "      <td>0.085785</td>\n",
       "      <td>-0.591720</td>\n",
       "      <td>0.514333</td>\n",
       "      <td>-0.606014</td>\n",
       "      <td>-0.337462</td>\n",
       "      <td>-0.590034</td>\n",
       "      <td>-0.618754</td>\n",
       "      <td>-0.502972</td>\n",
       "      <td>-0.053505</td>\n",
       "      <td>0.538425</td>\n",
       "      <td>0.147109</td>\n",
       "      <td>0.003400</td>\n",
       "      <td>0.442318</td>\n",
       "    </tr>\n",
       "    <tr>\n",
       "      <th>2</th>\n",
       "      <td>1.256966</td>\n",
       "      <td>0.845988</td>\n",
       "      <td>1.518823</td>\n",
       "      <td>1.187734</td>\n",
       "      <td>0.530251</td>\n",
       "      <td>0.299721</td>\n",
       "      <td>1.162569</td>\n",
       "      <td>-1.152637</td>\n",
       "      <td>0.949438</td>\n",
       "      <td>0.697326</td>\n",
       "      <td>1.111591</td>\n",
       "      <td>1.122486</td>\n",
       "      <td>1.415804</td>\n",
       "      <td>0.080339</td>\n",
       "      <td>1.555006</td>\n",
       "      <td>-0.413338</td>\n",
       "      <td>-0.159204</td>\n",
       "      <td>0.036596</td>\n",
       "    </tr>\n",
       "    <tr>\n",
       "      <th>3</th>\n",
       "      <td>-0.079822</td>\n",
       "      <td>-0.619123</td>\n",
       "      <td>-0.002729</td>\n",
       "      <td>-0.300595</td>\n",
       "      <td>0.153750</td>\n",
       "      <td>0.085785</td>\n",
       "      <td>-0.742952</td>\n",
       "      <td>0.642562</td>\n",
       "      <td>-0.606014</td>\n",
       "      <td>-0.337462</td>\n",
       "      <td>-0.911095</td>\n",
       "      <td>-0.738643</td>\n",
       "      <td>-1.462359</td>\n",
       "      <td>-1.258099</td>\n",
       "      <td>-0.071523</td>\n",
       "      <td>-0.301249</td>\n",
       "      <td>1.629444</td>\n",
       "      <td>1.524243</td>\n",
       "    </tr>\n",
       "    <tr>\n",
       "      <th>4</th>\n",
       "      <td>-1.052030</td>\n",
       "      <td>-0.130753</td>\n",
       "      <td>-0.763506</td>\n",
       "      <td>1.068668</td>\n",
       "      <td>5.173770</td>\n",
       "      <td>9.285029</td>\n",
       "      <td>-0.591720</td>\n",
       "      <td>0.514333</td>\n",
       "      <td>-0.606014</td>\n",
       "      <td>-0.268476</td>\n",
       "      <td>1.689501</td>\n",
       "      <td>-0.647299</td>\n",
       "      <td>0.425468</td>\n",
       "      <td>7.307905</td>\n",
       "      <td>0.538425</td>\n",
       "      <td>-0.189159</td>\n",
       "      <td>-1.460039</td>\n",
       "      <td>-1.721531</td>\n",
       "    </tr>\n",
       "  </tbody>\n",
       "</table>\n",
       "</div>"
      ],
      "text/plain": [
       "   compactness  circularity  distance_circularity  radius_ratio  \\\n",
       "0     0.163231     0.520408              0.060669      0.264970   \n",
       "1    -0.322874    -0.619123              0.124067     -0.836393   \n",
       "2     1.256966     0.845988              1.518823      1.187734   \n",
       "3    -0.079822    -0.619123             -0.002729     -0.300595   \n",
       "4    -1.052030    -0.130753             -0.763506      1.068668   \n",
       "\n",
       "   pr.axis_aspect_ratio  max.length_aspect_ratio  scatter_ratio  \\\n",
       "0              1.283254                 0.299721      -0.198517   \n",
       "1             -0.599253                 0.085785      -0.591720   \n",
       "2              0.530251                 0.299721       1.162569   \n",
       "3              0.153750                 0.085785      -0.742952   \n",
       "4              5.173770                 9.285029      -0.591720   \n",
       "\n",
       "   elongatedness  pr.axis_rectangularity  max.length_rectangularity  \\\n",
       "0       0.129648               -0.217151                   0.766312   \n",
       "1       0.514333               -0.606014                  -0.337462   \n",
       "2      -1.152637                0.949438                   0.697326   \n",
       "3       0.642562               -0.606014                  -0.337462   \n",
       "4       0.514333               -0.606014                  -0.268476   \n",
       "\n",
       "   scaled_variance  scaled_variance.1  scaled_radius_of_gyration  \\\n",
       "0        -0.397397          -0.339014                   0.301676   \n",
       "1        -0.590034          -0.618754                  -0.502972   \n",
       "2         1.111591           1.122486                   1.415804   \n",
       "3        -0.911095          -0.738643                  -1.462359   \n",
       "4         1.689501          -0.647299                   0.425468   \n",
       "\n",
       "   scaled_radius_of_gyration.1  skewness_about  skewness_about.1  \\\n",
       "0                    -0.321192       -0.071523          0.371287   \n",
       "1                    -0.053505        0.538425          0.147109   \n",
       "2                     0.080339        1.555006         -0.413338   \n",
       "3                    -1.258099       -0.071523         -0.301249   \n",
       "4                     7.307905        0.538425         -0.189159   \n",
       "\n",
       "   skewness_about.2  hollows_ratio  \n",
       "0         -0.321809       0.171837  \n",
       "1          0.003400       0.442318  \n",
       "2         -0.159204       0.036596  \n",
       "3          1.629444       1.524243  \n",
       "4         -1.460039      -1.721531  "
      ]
     },
     "execution_count": 26,
     "metadata": {},
     "output_type": "execute_result"
    }
   ],
   "source": [
    "df3 = df2.apply(zscore)\n",
    "df3.head()"
   ]
  },
  {
   "cell_type": "markdown",
   "metadata": {},
   "source": [
    "### K - Means Clustering"
   ]
  },
  {
   "cell_type": "markdown",
   "metadata": {},
   "source": [
    "### 4. Assign a dummy array called distortion"
   ]
  },
  {
   "cell_type": "code",
   "execution_count": 31,
   "metadata": {},
   "outputs": [],
   "source": [
    "cluster_errors = []"
   ]
  },
  {
   "cell_type": "markdown",
   "metadata": {},
   "source": [
    "You can later use this array to plot the elbow plot"
   ]
  },
  {
   "cell_type": "markdown",
   "metadata": {},
   "source": [
    "### 5. Calculating distortion - C distance"
   ]
  },
  {
   "cell_type": "markdown",
   "metadata": {},
   "source": [
    "Iterating values of k from 1 to 10 fit K means model\n",
    "Using c distance - Get the measure for Sum of squares error."
   ]
  },
  {
   "cell_type": "code",
   "execution_count": 32,
   "metadata": {},
   "outputs": [
    {
     "data": {
      "text/html": [
       "<div>\n",
       "<style scoped>\n",
       "    .dataframe tbody tr th:only-of-type {\n",
       "        vertical-align: middle;\n",
       "    }\n",
       "\n",
       "    .dataframe tbody tr th {\n",
       "        vertical-align: top;\n",
       "    }\n",
       "\n",
       "    .dataframe thead th {\n",
       "        text-align: right;\n",
       "    }\n",
       "</style>\n",
       "<table border=\"1\" class=\"dataframe\">\n",
       "  <thead>\n",
       "    <tr style=\"text-align: right;\">\n",
       "      <th></th>\n",
       "      <th>num_clusters</th>\n",
       "      <th>cluster_errors</th>\n",
       "    </tr>\n",
       "  </thead>\n",
       "  <tbody>\n",
       "    <tr>\n",
       "      <th>0</th>\n",
       "      <td>1</td>\n",
       "      <td>14634.000000</td>\n",
       "    </tr>\n",
       "    <tr>\n",
       "      <th>1</th>\n",
       "      <td>2</td>\n",
       "      <td>8623.136976</td>\n",
       "    </tr>\n",
       "    <tr>\n",
       "      <th>2</th>\n",
       "      <td>3</td>\n",
       "      <td>7037.467395</td>\n",
       "    </tr>\n",
       "    <tr>\n",
       "      <th>3</th>\n",
       "      <td>4</td>\n",
       "      <td>5741.223045</td>\n",
       "    </tr>\n",
       "    <tr>\n",
       "      <th>4</th>\n",
       "      <td>5</td>\n",
       "      <td>5189.455243</td>\n",
       "    </tr>\n",
       "    <tr>\n",
       "      <th>5</th>\n",
       "      <td>6</td>\n",
       "      <td>4707.810964</td>\n",
       "    </tr>\n",
       "    <tr>\n",
       "      <th>6</th>\n",
       "      <td>7</td>\n",
       "      <td>4355.019229</td>\n",
       "    </tr>\n",
       "    <tr>\n",
       "      <th>7</th>\n",
       "      <td>8</td>\n",
       "      <td>4086.452002</td>\n",
       "    </tr>\n",
       "    <tr>\n",
       "      <th>8</th>\n",
       "      <td>9</td>\n",
       "      <td>3867.484739</td>\n",
       "    </tr>\n",
       "  </tbody>\n",
       "</table>\n",
       "</div>"
      ],
      "text/plain": [
       "   num_clusters  cluster_errors\n",
       "0             1    14634.000000\n",
       "1             2     8623.136976\n",
       "2             3     7037.467395\n",
       "3             4     5741.223045\n",
       "4             5     5189.455243\n",
       "5             6     4707.810964\n",
       "6             7     4355.019229\n",
       "7             8     4086.452002\n",
       "8             9     3867.484739"
      ]
     },
     "execution_count": 32,
     "metadata": {},
     "output_type": "execute_result"
    }
   ],
   "source": [
    "cluster_range = range(1,10)   \n",
    "for num_clusters in cluster_range:\n",
    "  clusters = KMeans( num_clusters, n_init = 5)\n",
    "  clusters.fit(df3)\n",
    "  labels = clusters.labels_\n",
    "  centroids = clusters.cluster_centers_\n",
    "  cluster_errors.append( clusters.inertia_ )\n",
    "clusters_df = pd.DataFrame( { \"num_clusters\":cluster_range, \"cluster_errors\": cluster_errors } )\n",
    "clusters_df[0:10]"
   ]
  },
  {
   "cell_type": "markdown",
   "metadata": {},
   "source": [
    "### 6. Plotting Elbow/ Scree Plot"
   ]
  },
  {
   "cell_type": "markdown",
   "metadata": {},
   "source": [
    "Use Matplotlib to plot the scree plot - Note: Scree plot plots distortion vs the no of clusters"
   ]
  },
  {
   "cell_type": "code",
   "execution_count": 33,
   "metadata": {},
   "outputs": [
    {
     "data": {
      "text/plain": [
       "[<matplotlib.lines.Line2D at 0x9be1f10>]"
      ]
     },
     "execution_count": 33,
     "metadata": {},
     "output_type": "execute_result"
    },
    {
     "data": {
      "image/png": "[encoded data removed]",
      "text/plain": [
       "<Figure size 864x432 with 1 Axes>"
      ]
     },
     "metadata": {
      "needs_background": "light"
     },
     "output_type": "display_data"
    }
   ],
   "source": [
    "plt.figure(figsize=(12,6))\n",
    "plt.plot( clusters_df.num_clusters, clusters_df.cluster_errors, marker = \"o\" )"
   ]
  },
  {
   "cell_type": "markdown",
   "metadata": {},
   "source": [
    "#### The elbow plot confirms our visual analysis that there are likely 3 good clusters\n",
    "Let us start with 3 clusters"
   ]
  },
  {
   "cell_type": "markdown",
   "metadata": {},
   "source": [
    "### Find out the optimal value of K"
   ]
  },
  {
   "cell_type": "markdown",
   "metadata": {},
   "source": [
    "From the above chat we noticed that from 1 to 3 it is changed drastically. But after 3 the curve becomes smooth. So we concluded that we are going to find 3 clusteres. So the optimal K value is 3."
   ]
  },
  {
   "cell_type": "markdown",
   "metadata": {},
   "source": [
    "### Using optimal value of K - Cluster the data. \n",
    "Note: Since the data has more than 2 dimension we cannot visualize the data. As an alternative, we can observe the centroids and note how they are distributed across different dimensions"
   ]
  },
  {
   "cell_type": "markdown",
   "metadata": {},
   "source": [
    "You can use kmeans.cluster_centers_ function to pull the centroid information from the instance"
   ]
  },
  {
   "cell_type": "code",
   "execution_count": 34,
   "metadata": {},
   "outputs": [
    {
     "data": {
      "text/plain": [
       "KMeans(algorithm='auto', copy_x=True, init='k-means++', max_iter=300,\n",
       "    n_clusters=3, n_init=10, n_jobs=None, precompute_distances='auto',\n",
       "    random_state=2354, tol=0.0001, verbose=0)"
      ]
     },
     "execution_count": 34,
     "metadata": {},
     "output_type": "execute_result"
    }
   ],
   "source": [
    "cluster = KMeans( n_clusters = 3, random_state = 2354 )\n",
    "cluster.fit(df3)"
   ]
  },
  {
   "cell_type": "markdown",
   "metadata": {},
   "source": [
    "### 7. Store the centroids in a dataframe with column names from the original dataset given "
   ]
  },
  {
   "cell_type": "markdown",
   "metadata": {},
   "source": [
    "Hint: Use pd.Dataframe function "
   ]
  },
  {
   "cell_type": "code",
   "execution_count": 35,
   "metadata": {},
   "outputs": [
    {
     "data": {
      "text/plain": [
       "array([[-0.2339617 , -0.57387481, -0.30776905, -0.03041322,  0.2050726 ,\n",
       "        -0.11653151, -0.45904181,  0.32506329, -0.48798836, -0.53604446,\n",
       "        -0.41380935, -0.46366305, -0.60155031, -0.61924057, -0.06177969,\n",
       "         0.01066762,  0.81278556,  0.69897299],\n",
       "       [ 1.13076532,  1.17094237,  1.19500584,  1.01909505,  0.21505188,\n",
       "         0.34250798,  1.27180461, -1.19061224,  1.27548416,  1.09266768,\n",
       "         1.22038121,  1.28132727,  1.07954232, -0.02879497,  0.16229031,\n",
       "         0.26566456, -0.00535553,  0.18380067],\n",
       "       [-0.91987072, -0.52009251, -0.89320752, -1.06435572, -0.50042171,\n",
       "        -0.2190738 , -0.7791213 ,  0.86589322, -0.74535635, -0.484632  ,\n",
       "        -0.78240328, -0.78341064, -0.38498232,  0.83878747, -0.09524349,\n",
       "        -0.30171562, -1.05420601, -1.11069466]])"
      ]
     },
     "execution_count": 35,
     "metadata": {},
     "output_type": "execute_result"
    }
   ],
   "source": [
    "centroids = cluster.cluster_centers_\n",
    "centroids"
   ]
  },
  {
   "cell_type": "code",
   "execution_count": 37,
   "metadata": {},
   "outputs": [
    {
     "data": {
      "text/html": [
       "<div>\n",
       "<style scoped>\n",
       "    .dataframe tbody tr th:only-of-type {\n",
       "        vertical-align: middle;\n",
       "    }\n",
       "\n",
       "    .dataframe tbody tr th {\n",
       "        vertical-align: top;\n",
       "    }\n",
       "\n",
       "    .dataframe thead th {\n",
       "        text-align: right;\n",
       "    }\n",
       "</style>\n",
       "<table border=\"1\" class=\"dataframe\">\n",
       "  <thead>\n",
       "    <tr style=\"text-align: right;\">\n",
       "      <th></th>\n",
       "      <th>compactness</th>\n",
       "      <th>circularity</th>\n",
       "      <th>distance_circularity</th>\n",
       "      <th>radius_ratio</th>\n",
       "      <th>pr.axis_aspect_ratio</th>\n",
       "      <th>max.length_aspect_ratio</th>\n",
       "      <th>scatter_ratio</th>\n",
       "      <th>elongatedness</th>\n",
       "      <th>pr.axis_rectangularity</th>\n",
       "      <th>max.length_rectangularity</th>\n",
       "      <th>scaled_variance</th>\n",
       "      <th>scaled_variance.1</th>\n",
       "      <th>scaled_radius_of_gyration</th>\n",
       "      <th>scaled_radius_of_gyration.1</th>\n",
       "      <th>skewness_about</th>\n",
       "      <th>skewness_about.1</th>\n",
       "      <th>skewness_about.2</th>\n",
       "      <th>hollows_ratio</th>\n",
       "    </tr>\n",
       "  </thead>\n",
       "  <tbody>\n",
       "    <tr>\n",
       "      <th>0</th>\n",
       "      <td>-0.233962</td>\n",
       "      <td>-0.573875</td>\n",
       "      <td>-0.307769</td>\n",
       "      <td>-0.030413</td>\n",
       "      <td>0.205073</td>\n",
       "      <td>-0.116532</td>\n",
       "      <td>-0.459042</td>\n",
       "      <td>0.325063</td>\n",
       "      <td>-0.487988</td>\n",
       "      <td>-0.536044</td>\n",
       "      <td>-0.413809</td>\n",
       "      <td>-0.463663</td>\n",
       "      <td>-0.601550</td>\n",
       "      <td>-0.619241</td>\n",
       "      <td>-0.061780</td>\n",
       "      <td>0.010668</td>\n",
       "      <td>0.812786</td>\n",
       "      <td>0.698973</td>\n",
       "    </tr>\n",
       "    <tr>\n",
       "      <th>1</th>\n",
       "      <td>1.130765</td>\n",
       "      <td>1.170942</td>\n",
       "      <td>1.195006</td>\n",
       "      <td>1.019095</td>\n",
       "      <td>0.215052</td>\n",
       "      <td>0.342508</td>\n",
       "      <td>1.271805</td>\n",
       "      <td>-1.190612</td>\n",
       "      <td>1.275484</td>\n",
       "      <td>1.092668</td>\n",
       "      <td>1.220381</td>\n",
       "      <td>1.281327</td>\n",
       "      <td>1.079542</td>\n",
       "      <td>-0.028795</td>\n",
       "      <td>0.162290</td>\n",
       "      <td>0.265665</td>\n",
       "      <td>-0.005356</td>\n",
       "      <td>0.183801</td>\n",
       "    </tr>\n",
       "    <tr>\n",
       "      <th>2</th>\n",
       "      <td>-0.919871</td>\n",
       "      <td>-0.520093</td>\n",
       "      <td>-0.893208</td>\n",
       "      <td>-1.064356</td>\n",
       "      <td>-0.500422</td>\n",
       "      <td>-0.219074</td>\n",
       "      <td>-0.779121</td>\n",
       "      <td>0.865893</td>\n",
       "      <td>-0.745356</td>\n",
       "      <td>-0.484632</td>\n",
       "      <td>-0.782403</td>\n",
       "      <td>-0.783411</td>\n",
       "      <td>-0.384982</td>\n",
       "      <td>0.838787</td>\n",
       "      <td>-0.095243</td>\n",
       "      <td>-0.301716</td>\n",
       "      <td>-1.054206</td>\n",
       "      <td>-1.110695</td>\n",
       "    </tr>\n",
       "  </tbody>\n",
       "</table>\n",
       "</div>"
      ],
      "text/plain": [
       "   compactness  circularity  distance_circularity  radius_ratio  \\\n",
       "0    -0.233962    -0.573875             -0.307769     -0.030413   \n",
       "1     1.130765     1.170942              1.195006      1.019095   \n",
       "2    -0.919871    -0.520093             -0.893208     -1.064356   \n",
       "\n",
       "   pr.axis_aspect_ratio  max.length_aspect_ratio  scatter_ratio  \\\n",
       "0              0.205073                -0.116532      -0.459042   \n",
       "1              0.215052                 0.342508       1.271805   \n",
       "2             -0.500422                -0.219074      -0.779121   \n",
       "\n",
       "   elongatedness  pr.axis_rectangularity  max.length_rectangularity  \\\n",
       "0       0.325063               -0.487988                  -0.536044   \n",
       "1      -1.190612                1.275484                   1.092668   \n",
       "2       0.865893               -0.745356                  -0.484632   \n",
       "\n",
       "   scaled_variance  scaled_variance.1  scaled_radius_of_gyration  \\\n",
       "0        -0.413809          -0.463663                  -0.601550   \n",
       "1         1.220381           1.281327                   1.079542   \n",
       "2        -0.782403          -0.783411                  -0.384982   \n",
       "\n",
       "   scaled_radius_of_gyration.1  skewness_about  skewness_about.1  \\\n",
       "0                    -0.619241       -0.061780          0.010668   \n",
       "1                    -0.028795        0.162290          0.265665   \n",
       "2                     0.838787       -0.095243         -0.301716   \n",
       "\n",
       "   skewness_about.2  hollows_ratio  \n",
       "0          0.812786       0.698973  \n",
       "1         -0.005356       0.183801  \n",
       "2         -1.054206      -1.110695  "
      ]
     },
     "execution_count": 37,
     "metadata": {},
     "output_type": "execute_result"
    }
   ],
   "source": [
    "centroid_df = pd.DataFrame(centroids, columns = df2.columns )\n",
    "centroid_df"
   ]
  },
  {
   "cell_type": "markdown",
   "metadata": {},
   "source": [
    "### Use kmeans.labels_ function to print out the labels of the classes"
   ]
  },
  {
   "cell_type": "code",
   "execution_count": 46,
   "metadata": {},
   "outputs": [],
   "source": [
    "df['labels'] = pd.DataFrame(cluster.labels_ , columns=list(['labels']))"
   ]
  },
  {
   "cell_type": "code",
   "execution_count": 47,
   "metadata": {},
   "outputs": [
    {
     "data": {
      "text/plain": [
       "0.0    313\n",
       "1.0    260\n",
       "2.0    240\n",
       "Name: labels, dtype: int64"
      ]
     },
     "execution_count": 47,
     "metadata": {},
     "output_type": "execute_result"
    }
   ],
   "source": [
    "pd.value_counts(df['labels'])"
   ]
  },
  {
   "cell_type": "code",
   "execution_count": 122,
   "metadata": {},
   "outputs": [
    {
     "data": {
      "text/plain": [
       "array([0, 0, 1, 0, 2, 0, 0, 0, 0, 0, 0, 0, 0, 1, 2, 0, 1, 2, 2, 0, 0, 1,\n",
       "       0, 2, 1, 1, 2, 0, 0, 0, 1, 0, 2, 1, 1, 2, 1, 2, 2, 0, 1, 2, 2, 2,\n",
       "       2, 0, 2, 0, 1, 0, 1, 0, 0, 2, 1, 2, 1, 2, 2, 2, 0, 2, 1, 0, 1, 1,\n",
       "       0, 2, 0, 1, 0, 2, 2, 1, 0, 2, 0, 1, 0, 2, 0, 2, 1, 0, 1, 0, 2, 1,\n",
       "       2, 2, 1, 2, 2, 0, 0, 2, 1, 1, 2, 2, 1, 0, 0, 2, 2, 2, 0, 1, 1, 0,\n",
       "       2, 2, 0, 2, 2, 2, 2, 2, 0, 1, 1, 0, 0, 2, 1, 1, 2, 0, 2, 0, 0, 1,\n",
       "       2, 0, 1, 0, 0, 0, 0, 1, 0, 0, 1, 0, 1, 0, 2, 0, 2, 1, 0, 0, 1, 1,\n",
       "       0, 1, 2, 2, 1, 1, 0, 1, 0, 0, 0, 0, 2, 1, 2, 0, 2, 1, 0, 0, 0, 1,\n",
       "       0, 1, 0, 1, 0, 2, 1, 2, 2, 2, 0, 0, 1, 1, 0, 0, 0, 2, 1, 0, 0, 0,\n",
       "       1, 2, 2, 1, 2, 0, 1, 2, 2, 2, 0, 1, 0, 1, 2, 2, 2, 2, 1, 0, 2, 0,\n",
       "       1, 2, 0, 0, 2, 1, 2, 2, 0, 0, 1, 2, 1, 2, 0, 0, 1, 0, 0, 1, 1, 2,\n",
       "       0, 0, 0, 1, 2, 0, 0, 2, 2, 0, 0, 1, 0, 2, 2, 1, 0, 0, 2, 2, 1, 2,\n",
       "       0, 1, 2, 0, 1, 0, 0, 1, 0, 1, 2, 0, 0, 1, 0, 0, 0, 2, 0, 1, 1, 1,\n",
       "       1, 2, 0, 1, 2, 2, 2, 0, 2, 1, 1, 2, 1, 0, 2, 1, 0, 0, 0, 1, 1, 2,\n",
       "       1, 1, 2, 1, 0, 0, 0, 2, 2, 1, 1, 1, 0, 0, 0, 1, 2, 0, 2, 1, 0, 0,\n",
       "       1, 0, 1, 1, 1, 0, 2, 2, 1, 2, 2, 2, 0, 0, 0, 0, 2, 1, 1, 2, 2, 1,\n",
       "       2, 1, 2, 1, 0, 2, 0, 2, 1, 1, 2, 0, 0, 0, 1, 0, 0, 0, 0, 1, 0, 1,\n",
       "       0, 1, 0, 2, 2, 0, 0, 0, 2, 2, 0, 2, 1, 0, 0, 2, 2, 1, 0, 2, 0, 0,\n",
       "       1, 0, 1, 0, 1, 1, 2, 2, 1, 0, 2, 2, 0, 1, 1, 2, 0, 1, 1, 2, 1, 1,\n",
       "       1, 0, 0, 0, 0, 0, 1, 2, 2, 0, 1, 0, 0, 1, 0, 2, 1, 2, 2, 1, 0, 2,\n",
       "       1, 1, 1, 2, 1, 1, 2, 0, 2, 1, 1, 0, 0, 2, 2, 1, 0, 2, 1, 1, 0, 2,\n",
       "       1, 1, 0, 2, 2, 1, 1, 1, 2, 2, 1, 1, 1, 0, 0, 1, 2, 0, 1, 0, 2, 2,\n",
       "       0, 1, 2, 0, 0, 2, 0, 1, 0, 1, 1, 0, 2, 0, 1, 1, 2, 2, 0, 1, 0, 1,\n",
       "       1, 0, 0, 0, 0, 2, 2, 2, 0, 0, 1, 2, 2, 0, 2, 1, 0, 1, 2, 2, 1, 1,\n",
       "       0, 1, 0, 0, 0, 1, 0, 2, 0, 1, 0, 0, 2, 1, 1, 1, 1, 0, 2, 2, 2, 1,\n",
       "       1, 1, 0, 1, 2, 0, 1, 2, 2, 2, 0, 2, 1, 0, 0, 0, 0, 0, 0, 1, 0, 0,\n",
       "       1, 0, 0, 0, 2, 1, 2, 2, 0, 2, 0, 0, 2, 2, 1, 1, 2, 0, 1, 0, 1, 0,\n",
       "       0, 1, 0, 2, 1, 2, 1, 2, 2, 0, 2, 0, 1, 1, 2, 1, 0, 0, 2, 0, 2, 1,\n",
       "       0, 1, 2, 0, 0, 0, 2, 2, 2, 0, 1, 0, 1, 2, 0, 0, 0, 0, 1, 0, 2, 1,\n",
       "       0, 1, 0, 0, 1, 2, 1, 2, 0, 0, 0, 2, 1, 0, 2, 0, 1, 2, 1, 0, 0, 1,\n",
       "       2, 0, 2, 0, 0, 2, 0, 1, 1, 0, 0, 1, 1, 0, 0, 2, 0, 1, 1, 1, 1, 0,\n",
       "       1, 0, 0, 1, 1, 0, 1, 0, 1, 0, 2, 1, 0, 2, 1, 1, 1, 0, 1, 2, 2, 1,\n",
       "       1, 1, 0, 1, 0, 0, 1, 0, 2, 0, 2, 0, 1, 0, 2, 0, 0, 0, 2, 1, 2, 2,\n",
       "       2, 1, 1, 2, 1, 1, 2, 0, 0, 1, 0, 2, 1, 1, 2, 0, 0, 1, 1, 1, 2, 1,\n",
       "       0, 1, 1, 2, 2, 1, 2, 1, 0, 2, 0, 1, 1, 0, 2, 0, 1, 1, 0, 0, 2, 0,\n",
       "       0, 1, 2, 0, 1, 2, 2, 1, 2, 0, 2, 2, 2, 0, 1, 1, 0, 2, 1, 0, 1, 1,\n",
       "       2, 0, 1, 2, 2, 0, 0, 1, 2, 2, 1, 2, 0, 0, 0, 0, 0, 0, 1, 0, 2])"
      ]
     },
     "execution_count": 122,
     "metadata": {},
     "output_type": "execute_result"
    }
   ],
   "source": [
    "cluster.labels_"
   ]
  },
  {
   "cell_type": "markdown",
   "metadata": {},
   "source": [
    "## Hierarchical Clustering "
   ]
  },
  {
   "cell_type": "markdown",
   "metadata": {},
   "source": [
    "### 8. Variable creation"
   ]
  },
  {
   "cell_type": "markdown",
   "metadata": {},
   "source": [
    "For Hierarchical clustering, we will create datasets using multivariate normal distribution to visually observe how the clusters are formed at the end"
   ]
  },
  {
   "cell_type": "code",
   "execution_count": 48,
   "metadata": {},
   "outputs": [],
   "source": [
    "a = np.random.multivariate_normal([10, 0], [[3, 1], [1, 4]], size=[100,])\n",
    "b = np.random.multivariate_normal([0, 20], [[3, 1], [1, 4]], size=[50,])\n",
    "c = np.random.multivariate_normal([10, 20], [[3, 1], [1, 4]], size=[100,])"
   ]
  },
  {
   "cell_type": "markdown",
   "metadata": {},
   "source": [
    "### 9. Combine all three arrays a,b,c into a dataframe"
   ]
  },
  {
   "cell_type": "code",
   "execution_count": 85,
   "metadata": {},
   "outputs": [],
   "source": [
    "df_6 = np.concatenate([a, b, c])"
   ]
  },
  {
   "cell_type": "code",
   "execution_count": 86,
   "metadata": {},
   "outputs": [],
   "source": [
    "df_7 = pd.DataFrame(df_6)"
   ]
  },
  {
   "cell_type": "code",
   "execution_count": 88,
   "metadata": {},
   "outputs": [
    {
     "data": {
      "text/plain": [
       "(250, 2)"
      ]
     },
     "execution_count": 88,
     "metadata": {},
     "output_type": "execute_result"
    }
   ],
   "source": [
    "df_7.shape"
   ]
  },
  {
   "cell_type": "code",
   "execution_count": 89,
   "metadata": {},
   "outputs": [
    {
     "data": {
      "text/html": [
       "<div>\n",
       "<style scoped>\n",
       "    .dataframe tbody tr th:only-of-type {\n",
       "        vertical-align: middle;\n",
       "    }\n",
       "\n",
       "    .dataframe tbody tr th {\n",
       "        vertical-align: top;\n",
       "    }\n",
       "\n",
       "    .dataframe thead th {\n",
       "        text-align: right;\n",
       "    }\n",
       "</style>\n",
       "<table border=\"1\" class=\"dataframe\">\n",
       "  <thead>\n",
       "    <tr style=\"text-align: right;\">\n",
       "      <th></th>\n",
       "      <th>0</th>\n",
       "      <th>1</th>\n",
       "    </tr>\n",
       "  </thead>\n",
       "  <tbody>\n",
       "    <tr>\n",
       "      <th>0</th>\n",
       "      <td>9.488213</td>\n",
       "      <td>1.315788</td>\n",
       "    </tr>\n",
       "    <tr>\n",
       "      <th>1</th>\n",
       "      <td>9.481068</td>\n",
       "      <td>1.714388</td>\n",
       "    </tr>\n",
       "    <tr>\n",
       "      <th>2</th>\n",
       "      <td>10.768817</td>\n",
       "      <td>4.829118</td>\n",
       "    </tr>\n",
       "    <tr>\n",
       "      <th>3</th>\n",
       "      <td>11.322867</td>\n",
       "      <td>3.143748</td>\n",
       "    </tr>\n",
       "    <tr>\n",
       "      <th>4</th>\n",
       "      <td>11.521237</td>\n",
       "      <td>2.585355</td>\n",
       "    </tr>\n",
       "  </tbody>\n",
       "</table>\n",
       "</div>"
      ],
      "text/plain": [
       "           0         1\n",
       "0   9.488213  1.315788\n",
       "1   9.481068  1.714388\n",
       "2  10.768817  4.829118\n",
       "3  11.322867  3.143748\n",
       "4  11.521237  2.585355"
      ]
     },
     "execution_count": 89,
     "metadata": {},
     "output_type": "execute_result"
    }
   ],
   "source": [
    "df_7.head()"
   ]
  },
  {
   "cell_type": "markdown",
   "metadata": {},
   "source": [
    "### 10. Use scatter matrix to print all the 3 distributions"
   ]
  },
  {
   "cell_type": "code",
   "execution_count": 90,
   "metadata": {},
   "outputs": [
    {
     "data": {
      "text/plain": [
       "<seaborn.axisgrid.PairGrid at 0x9bc9730>"
      ]
     },
     "execution_count": 90,
     "metadata": {},
     "output_type": "execute_result"
    },
    {
     "data": {
      "image/png": "[encoded data removed]",
      "text/plain": [
       "<Figure size 360x360 with 6 Axes>"
      ]
     },
     "metadata": {
      "needs_background": "light"
     },
     "output_type": "display_data"
    }
   ],
   "source": [
    "sns.pairplot(df_7, diag_kind ='kde')"
   ]
  },
  {
   "cell_type": "code",
   "execution_count": null,
   "metadata": {},
   "outputs": [],
   "source": []
  },
  {
   "cell_type": "markdown",
   "metadata": {},
   "source": [
    "### 11. Find out the linkage matrix"
   ]
  },
  {
   "cell_type": "markdown",
   "metadata": {},
   "source": [
    "Use ward as linkage metric and distance as Eucledian"
   ]
  },
  {
   "cell_type": "code",
   "execution_count": 136,
   "metadata": {},
   "outputs": [
    {
     "data": {
      "text/plain": [
       "array([[8.10000000e+01, 9.70000000e+01, 2.46617224e-02, 2.00000000e+00],\n",
       "       [1.83000000e+02, 2.24000000e+02, 5.23929948e-02, 2.00000000e+00],\n",
       "       [1.73000000e+02, 2.12000000e+02, 5.77919431e-02, 2.00000000e+00],\n",
       "       [8.00000000e+01, 9.40000000e+01, 9.63352007e-02, 2.00000000e+00],\n",
       "       [1.93000000e+02, 2.51000000e+02, 9.77271731e-02, 3.00000000e+00],\n",
       "       [0.00000000e+00, 4.40000000e+01, 1.15699630e-01, 2.00000000e+00],\n",
       "       [2.10000000e+02, 2.45000000e+02, 1.20127622e-01, 2.00000000e+00],\n",
       "       [1.70000000e+01, 5.20000000e+01, 1.20164621e-01, 2.00000000e+00],\n",
       "       [1.76000000e+02, 2.32000000e+02, 1.23267665e-01, 2.00000000e+00],\n",
       "       [2.07000000e+02, 2.43000000e+02, 1.26994309e-01, 2.00000000e+00],\n",
       "       [4.60000000e+01, 5.80000000e+01, 1.29593825e-01, 2.00000000e+00],\n",
       "       [1.82000000e+02, 2.36000000e+02, 1.33050002e-01, 2.00000000e+00],\n",
       "       [5.40000000e+01, 8.90000000e+01, 1.34190002e-01, 2.00000000e+00],\n",
       "       [7.10000000e+01, 9.90000000e+01, 1.47374928e-01, 2.00000000e+00],\n",
       "       [1.63000000e+02, 2.39000000e+02, 1.47411294e-01, 2.00000000e+00],\n",
       "       [1.68000000e+02, 2.46000000e+02, 1.51664147e-01, 2.00000000e+00],\n",
       "       [3.40000000e+01, 2.50000000e+02, 1.59273354e-01, 3.00000000e+00],\n",
       "       [1.97000000e+02, 2.21000000e+02, 1.60438350e-01, 2.00000000e+00],\n",
       "       [2.04000000e+02, 2.08000000e+02, 1.66974970e-01, 2.00000000e+00],\n",
       "       [2.00000000e+01, 2.70000000e+01, 1.67386522e-01, 2.00000000e+00],\n",
       "       [2.80000000e+01, 8.70000000e+01, 1.77069221e-01, 2.00000000e+00],\n",
       "       [7.00000000e+01, 9.30000000e+01, 1.77411949e-01, 2.00000000e+00],\n",
       "       [1.03000000e+02, 1.44000000e+02, 1.97390784e-01, 2.00000000e+00],\n",
       "       [1.04000000e+02, 1.05000000e+02, 2.01845936e-01, 2.00000000e+00],\n",
       "       [2.11000000e+02, 2.22000000e+02, 2.08424739e-01, 2.00000000e+00],\n",
       "       [7.00000000e+00, 3.00000000e+01, 2.09022806e-01, 2.00000000e+00],\n",
       "       [8.00000000e+00, 5.70000000e+01, 2.12800193e-01, 2.00000000e+00],\n",
       "       [1.71000000e+02, 1.79000000e+02, 2.13272157e-01, 2.00000000e+00],\n",
       "       [1.66000000e+02, 1.80000000e+02, 2.15857018e-01, 2.00000000e+00],\n",
       "       [2.17000000e+02, 2.67000000e+02, 2.22764604e-01, 3.00000000e+00],\n",
       "       [1.50000000e+02, 2.15000000e+02, 2.25709029e-01, 2.00000000e+00],\n",
       "       [1.28000000e+02, 1.39000000e+02, 2.27353960e-01, 2.00000000e+00],\n",
       "       [1.64000000e+02, 1.72000000e+02, 2.32328669e-01, 2.00000000e+00],\n",
       "       [1.90000000e+01, 7.80000000e+01, 2.48110208e-01, 2.00000000e+00],\n",
       "       [1.84000000e+02, 1.89000000e+02, 2.53088680e-01, 2.00000000e+00],\n",
       "       [6.80000000e+01, 2.55000000e+02, 2.53138967e-01, 3.00000000e+00],\n",
       "       [1.94000000e+02, 2.25000000e+02, 2.59260338e-01, 2.00000000e+00],\n",
       "       [2.31000000e+02, 2.59000000e+02, 2.60221852e-01, 3.00000000e+00],\n",
       "       [1.50000000e+01, 9.20000000e+01, 2.66226009e-01, 2.00000000e+00],\n",
       "       [6.00000000e+01, 8.40000000e+01, 2.66972997e-01, 2.00000000e+00],\n",
       "       [4.10000000e+01, 8.20000000e+01, 2.67383034e-01, 2.00000000e+00],\n",
       "       [6.40000000e+01, 6.70000000e+01, 2.76142082e-01, 2.00000000e+00],\n",
       "       [5.60000000e+01, 2.60000000e+02, 2.79081372e-01, 3.00000000e+00],\n",
       "       [2.38000000e+02, 2.58000000e+02, 2.94335859e-01, 3.00000000e+00],\n",
       "       [1.13000000e+02, 1.21000000e+02, 2.97736858e-01, 2.00000000e+00],\n",
       "       [1.10000000e+01, 8.50000000e+01, 3.03022275e-01, 2.00000000e+00],\n",
       "       [1.54000000e+02, 1.96000000e+02, 3.11708873e-01, 2.00000000e+00],\n",
       "       [1.81000000e+02, 2.78000000e+02, 3.11756419e-01, 3.00000000e+00],\n",
       "       [1.77000000e+02, 2.87000000e+02, 3.13587547e-01, 4.00000000e+00],\n",
       "       [5.00000000e+00, 2.40000000e+01, 3.15190506e-01, 2.00000000e+00],\n",
       "       [1.86000000e+02, 2.09000000e+02, 3.16556487e-01, 2.00000000e+00],\n",
       "       [1.02000000e+02, 1.23000000e+02, 3.19811030e-01, 2.00000000e+00],\n",
       "       [1.38000000e+02, 1.42000000e+02, 3.21355564e-01, 2.00000000e+00],\n",
       "       [3.60000000e+01, 4.50000000e+01, 3.21789335e-01, 2.00000000e+00],\n",
       "       [1.67000000e+02, 2.26000000e+02, 3.22847779e-01, 2.00000000e+00],\n",
       "       [2.28000000e+02, 2.33000000e+02, 3.34866863e-01, 2.00000000e+00],\n",
       "       [4.80000000e+01, 9.80000000e+01, 3.35425393e-01, 2.00000000e+00],\n",
       "       [1.99000000e+02, 2.40000000e+02, 3.36026053e-01, 2.00000000e+00],\n",
       "       [2.19000000e+02, 2.79000000e+02, 3.40660407e-01, 4.00000000e+00],\n",
       "       [1.40000000e+01, 5.50000000e+01, 3.40668029e-01, 2.00000000e+00],\n",
       "       [7.60000000e+01, 2.53000000e+02, 3.42298547e-01, 3.00000000e+00],\n",
       "       [3.20000000e+01, 6.30000000e+01, 3.46779688e-01, 2.00000000e+00],\n",
       "       [1.57000000e+02, 2.74000000e+02, 3.47525865e-01, 3.00000000e+00],\n",
       "       [1.00000000e+01, 2.88000000e+02, 3.56434984e-01, 3.00000000e+00],\n",
       "       [2.27000000e+02, 2.56000000e+02, 3.56968899e-01, 3.00000000e+00],\n",
       "       [2.35000000e+02, 2.54000000e+02, 3.63747240e-01, 4.00000000e+00],\n",
       "       [2.00000000e+02, 2.68000000e+02, 3.73054931e-01, 3.00000000e+00],\n",
       "       [1.61000000e+02, 1.98000000e+02, 3.77302374e-01, 2.00000000e+00],\n",
       "       [1.08000000e+02, 1.25000000e+02, 3.81897872e-01, 2.00000000e+00],\n",
       "       [3.00000000e+00, 4.30000000e+01, 3.92198549e-01, 2.00000000e+00],\n",
       "       [1.24000000e+02, 1.26000000e+02, 3.92718463e-01, 2.00000000e+00],\n",
       "       [1.87000000e+02, 2.86000000e+02, 4.05645930e-01, 3.00000000e+00],\n",
       "       [3.30000000e+01, 9.50000000e+01, 4.15344001e-01, 2.00000000e+00],\n",
       "       [1.33000000e+02, 1.48000000e+02, 4.22831368e-01, 2.00000000e+00],\n",
       "       [1.53000000e+02, 3.16000000e+02, 4.23259866e-01, 4.00000000e+00],\n",
       "       [2.30000000e+01, 2.60000000e+01, 4.29712953e-01, 2.00000000e+00],\n",
       "       [1.60000000e+01, 3.10000000e+02, 4.30762630e-01, 4.00000000e+00],\n",
       "       [4.00000000e+00, 3.10000000e+01, 4.31326303e-01, 2.00000000e+00],\n",
       "       [1.80000000e+01, 6.50000000e+01, 4.32701068e-01, 2.00000000e+00],\n",
       "       [1.20000000e+01, 8.80000000e+01, 4.32703519e-01, 2.00000000e+00],\n",
       "       [1.30000000e+02, 1.41000000e+02, 4.39059471e-01, 2.00000000e+00],\n",
       "       [1.32000000e+02, 2.94000000e+02, 4.43349777e-01, 3.00000000e+00],\n",
       "       [5.90000000e+01, 2.95000000e+02, 4.43700065e-01, 3.00000000e+00],\n",
       "       [7.20000000e+01, 2.92000000e+02, 4.47867233e-01, 4.00000000e+00],\n",
       "       [2.82000000e+02, 3.17000000e+02, 4.48988811e-01, 4.00000000e+00],\n",
       "       [2.02000000e+02, 2.06000000e+02, 4.56493734e-01, 2.00000000e+00],\n",
       "       [2.18000000e+02, 3.15000000e+02, 4.73457510e-01, 5.00000000e+00],\n",
       "       [6.20000000e+01, 2.71000000e+02, 4.73554114e-01, 3.00000000e+00],\n",
       "       [7.40000000e+01, 3.29000000e+02, 4.82506694e-01, 3.00000000e+00],\n",
       "       [1.27000000e+02, 1.31000000e+02, 4.85744761e-01, 2.00000000e+00],\n",
       "       [1.55000000e+02, 1.60000000e+02, 4.86855220e-01, 2.00000000e+00],\n",
       "       [2.66000000e+02, 2.90000000e+02, 4.92447034e-01, 5.00000000e+00],\n",
       "       [1.14000000e+02, 1.16000000e+02, 4.94400719e-01, 2.00000000e+00],\n",
       "       [2.05000000e+02, 2.44000000e+02, 4.96477634e-01, 2.00000000e+00],\n",
       "       [2.03000000e+02, 2.93000000e+02, 5.00694876e-01, 4.00000000e+00],\n",
       "       [2.20000000e+01, 6.90000000e+01, 5.08175175e-01, 2.00000000e+00],\n",
       "       [1.85000000e+02, 2.49000000e+02, 5.13460750e-01, 2.00000000e+00],\n",
       "       [2.47000000e+02, 2.64000000e+02, 5.15452500e-01, 3.00000000e+00],\n",
       "       [4.00000000e+01, 2.63000000e+02, 5.22175974e-01, 3.00000000e+00],\n",
       "       [5.30000000e+01, 2.89000000e+02, 5.22522832e-01, 3.00000000e+00],\n",
       "       [2.41000000e+02, 2.80000000e+02, 5.35057751e-01, 3.00000000e+00],\n",
       "       [7.90000000e+01, 8.60000000e+01, 5.37518862e-01, 2.00000000e+00],\n",
       "       [9.60000000e+01, 3.03000000e+02, 5.44738780e-01, 3.00000000e+00],\n",
       "       [2.91000000e+02, 3.19000000e+02, 5.52064929e-01, 4.00000000e+00],\n",
       "       [1.65000000e+02, 2.52000000e+02, 5.63283498e-01, 3.00000000e+00],\n",
       "       [1.00000000e+00, 2.85000000e+02, 5.65602284e-01, 4.00000000e+00],\n",
       "       [2.77000000e+02, 2.96000000e+02, 5.68694736e-01, 4.00000000e+00],\n",
       "       [3.80000000e+01, 3.32000000e+02, 5.88952955e-01, 4.00000000e+00],\n",
       "       [2.23000000e+02, 2.29000000e+02, 5.91992009e-01, 2.00000000e+00],\n",
       "       [1.19000000e+02, 1.35000000e+02, 5.93920793e-01, 2.00000000e+00],\n",
       "       [1.36000000e+02, 3.01000000e+02, 5.96929021e-01, 3.00000000e+00],\n",
       "       [8.30000000e+01, 9.10000000e+01, 6.02313650e-01, 2.00000000e+00],\n",
       "       [1.78000000e+02, 1.92000000e+02, 6.06775871e-01, 2.00000000e+00],\n",
       "       [2.20000000e+02, 2.61000000e+02, 6.13216543e-01, 3.00000000e+00],\n",
       "       [1.30000000e+01, 3.09000000e+02, 6.30903945e-01, 3.00000000e+00],\n",
       "       [2.90000000e+01, 9.00000000e+01, 6.35824467e-01, 2.00000000e+00],\n",
       "       [7.30000000e+01, 2.57000000e+02, 6.35832485e-01, 3.00000000e+00],\n",
       "       [1.29000000e+02, 1.46000000e+02, 6.43260262e-01, 2.00000000e+00],\n",
       "       [1.17000000e+02, 1.47000000e+02, 6.43679280e-01, 2.00000000e+00],\n",
       "       [1.20000000e+02, 2.81000000e+02, 6.47248911e-01, 3.00000000e+00],\n",
       "       [6.10000000e+01, 3.26000000e+02, 6.52861644e-01, 5.00000000e+00],\n",
       "       [3.50000000e+01, 2.75000000e+02, 6.61519873e-01, 3.00000000e+00],\n",
       "       [1.69000000e+02, 2.14000000e+02, 6.64228929e-01, 2.00000000e+00],\n",
       "       [1.59000000e+02, 2.30000000e+02, 6.68474618e-01, 2.00000000e+00],\n",
       "       [9.00000000e+00, 3.52000000e+02, 6.68545285e-01, 4.00000000e+00],\n",
       "       [1.58000000e+02, 1.95000000e+02, 7.14681685e-01, 2.00000000e+00],\n",
       "       [1.70000000e+02, 1.91000000e+02, 7.18932128e-01, 2.00000000e+00],\n",
       "       [1.56000000e+02, 1.90000000e+02, 7.27364418e-01, 2.00000000e+00],\n",
       "       [2.10000000e+01, 3.48000000e+02, 7.29557512e-01, 4.00000000e+00],\n",
       "       [1.88000000e+02, 3.36000000e+02, 7.32929360e-01, 6.00000000e+00],\n",
       "       [2.65000000e+02, 3.14000000e+02, 7.47748400e-01, 5.00000000e+00],\n",
       "       [1.62000000e+02, 3.21000000e+02, 7.67395499e-01, 4.00000000e+00],\n",
       "       [1.45000000e+02, 2.72000000e+02, 7.78718454e-01, 3.00000000e+00],\n",
       "       [2.99000000e+02, 3.06000000e+02, 7.87437929e-01, 4.00000000e+00],\n",
       "       [1.09000000e+02, 1.37000000e+02, 7.89460844e-01, 2.00000000e+00],\n",
       "       [3.90000000e+01, 2.83000000e+02, 7.92213595e-01, 3.00000000e+00],\n",
       "       [2.48000000e+02, 3.12000000e+02, 8.20858448e-01, 4.00000000e+00],\n",
       "       [1.15000000e+02, 3.02000000e+02, 8.67785876e-01, 3.00000000e+00],\n",
       "       [7.50000000e+01, 3.64000000e+02, 8.78805045e-01, 4.00000000e+00],\n",
       "       [2.00000000e+00, 6.60000000e+01, 8.88655326e-01, 2.00000000e+00],\n",
       "       [2.34000000e+02, 3.58000000e+02, 8.94024491e-01, 3.00000000e+00],\n",
       "       [6.00000000e+00, 4.90000000e+01, 9.08015300e-01, 2.00000000e+00],\n",
       "       [2.37000000e+02, 3.00000000e+02, 9.18455145e-01, 3.00000000e+00],\n",
       "       [1.18000000e+02, 3.18000000e+02, 9.24840668e-01, 3.00000000e+00],\n",
       "       [1.74000000e+02, 3.44000000e+02, 9.25850642e-01, 5.00000000e+00],\n",
       "       [3.35000000e+02, 3.43000000e+02, 9.26741125e-01, 4.00000000e+00],\n",
       "       [2.97000000e+02, 3.46000000e+02, 9.47571313e-01, 5.00000000e+00],\n",
       "       [2.69000000e+02, 3.53000000e+02, 9.60832881e-01, 6.00000000e+00],\n",
       "       [2.76000000e+02, 3.51000000e+02, 9.68435572e-01, 4.00000000e+00],\n",
       "       [3.08000000e+02, 3.79000000e+02, 9.87128945e-01, 1.00000000e+01],\n",
       "       [1.12000000e+02, 3.59000000e+02, 9.88573792e-01, 3.00000000e+00],\n",
       "       [3.23000000e+02, 3.30000000e+02, 1.00319288e+00, 4.00000000e+00],\n",
       "       [4.20000000e+01, 3.85000000e+02, 1.01172766e+00, 4.00000000e+00],\n",
       "       [1.52000000e+02, 2.16000000e+02, 1.02752457e+00, 2.00000000e+00],\n",
       "       [3.42000000e+02, 3.87000000e+02, 1.03025990e+00, 5.00000000e+00],\n",
       "       [3.38000000e+02, 3.61000000e+02, 1.06430716e+00, 5.00000000e+00],\n",
       "       [3.20000000e+02, 3.93000000e+02, 1.07420669e+00, 5.00000000e+00],\n",
       "       [3.54000000e+02, 3.80000000e+02, 1.08809759e+00, 8.00000000e+00],\n",
       "       [3.13000000e+02, 3.27000000e+02, 1.08820705e+00, 5.00000000e+00],\n",
       "       [3.04000000e+02, 3.24000000e+02, 1.11240614e+00, 6.00000000e+00],\n",
       "       [3.40000000e+02, 3.72000000e+02, 1.13036879e+00, 4.00000000e+00],\n",
       "       [3.11000000e+02, 3.66000000e+02, 1.13916324e+00, 5.00000000e+00],\n",
       "       [2.62000000e+02, 3.33000000e+02, 1.14514582e+00, 6.00000000e+00],\n",
       "       [1.00000000e+02, 3.84000000e+02, 1.15624828e+00, 3.00000000e+00],\n",
       "       [2.98000000e+02, 3.50000000e+02, 1.15808549e+00, 7.00000000e+00],\n",
       "       [3.62000000e+02, 3.92000000e+02, 1.16180088e+00, 5.00000000e+00],\n",
       "       [3.55000000e+02, 3.71000000e+02, 1.16281925e+00, 7.00000000e+00],\n",
       "       [2.13000000e+02, 3.47000000e+02, 1.16291658e+00, 4.00000000e+00],\n",
       "       [2.01000000e+02, 4.03000000e+02, 1.18163060e+00, 3.00000000e+00],\n",
       "       [1.43000000e+02, 3.67000000e+02, 1.20040228e+00, 3.00000000e+00],\n",
       "       [1.06000000e+02, 2.73000000e+02, 1.24401748e+00, 3.00000000e+00],\n",
       "       [1.51000000e+02, 3.63000000e+02, 1.24457768e+00, 4.00000000e+00],\n",
       "       [3.60000000e+02, 3.69000000e+02, 1.26933100e+00, 6.00000000e+00],\n",
       "       [3.34000000e+02, 3.76000000e+02, 1.27749854e+00, 6.00000000e+00],\n",
       "       [2.70000000e+02, 3.65000000e+02, 1.27885437e+00, 4.00000000e+00],\n",
       "       [1.07000000e+02, 1.10000000e+02, 1.33561828e+00, 2.00000000e+00],\n",
       "       [3.22000000e+02, 3.89000000e+02, 1.43014759e+00, 4.00000000e+00],\n",
       "       [1.75000000e+02, 3.90000000e+02, 1.45807559e+00, 4.00000000e+00],\n",
       "       [2.50000000e+01, 3.70000000e+01, 1.48247364e+00, 2.00000000e+00],\n",
       "       [3.56000000e+02, 3.77000000e+02, 1.57358551e+00, 6.00000000e+00],\n",
       "       [3.39000000e+02, 4.01000000e+02, 1.58007256e+00, 6.00000000e+00],\n",
       "       [3.07000000e+02, 3.96000000e+02, 1.58826162e+00, 7.00000000e+00],\n",
       "       [3.49000000e+02, 3.74000000e+02, 1.60865204e+00, 7.00000000e+00],\n",
       "       [3.05000000e+02, 4.07000000e+02, 1.74486899e+00, 1.00000000e+01],\n",
       "       [3.28000000e+02, 3.91000000e+02, 1.79414529e+00, 4.00000000e+00],\n",
       "       [1.11000000e+02, 3.31000000e+02, 1.80596952e+00, 4.00000000e+00],\n",
       "       [3.25000000e+02, 3.37000000e+02, 1.82048666e+00, 5.00000000e+00],\n",
       "       [5.10000000e+01, 3.45000000e+02, 1.85504129e+00, 3.00000000e+00],\n",
       "       [1.34000000e+02, 4.00000000e+02, 1.87480569e+00, 4.00000000e+00],\n",
       "       [7.70000000e+01, 3.78000000e+02, 1.89476121e+00, 5.00000000e+00],\n",
       "       [4.04000000e+02, 4.22000000e+02, 1.90680726e+00, 1.10000000e+01],\n",
       "       [3.98000000e+02, 4.12000000e+02, 1.93234734e+00, 1.00000000e+01],\n",
       "       [3.88000000e+02, 4.11000000e+02, 2.00557551e+00, 9.00000000e+00],\n",
       "       [3.82000000e+02, 4.20000000e+02, 2.05753107e+00, 6.00000000e+00],\n",
       "       [1.22000000e+02, 1.40000000e+02, 2.09738208e+00, 2.00000000e+00],\n",
       "       [3.97000000e+02, 4.08000000e+02, 2.10446104e+00, 1.10000000e+01],\n",
       "       [3.57000000e+02, 4.32000000e+02, 2.12645275e+00, 1.10000000e+01],\n",
       "       [1.49000000e+02, 4.35000000e+02, 2.12751604e+00, 5.00000000e+00],\n",
       "       [3.41000000e+02, 3.70000000e+02, 2.13953891e+00, 1.00000000e+01],\n",
       "       [3.83000000e+02, 4.02000000e+02, 2.15404804e+00, 8.00000000e+00],\n",
       "       [3.99000000e+02, 4.21000000e+02, 2.18614810e+00, 1.40000000e+01],\n",
       "       [3.94000000e+02, 4.23000000e+02, 2.34261633e+00, 1.10000000e+01],\n",
       "       [3.75000000e+02, 4.14000000e+02, 2.36418610e+00, 9.00000000e+00],\n",
       "       [3.81000000e+02, 3.86000000e+02, 2.40259966e+00, 8.00000000e+00],\n",
       "       [2.42000000e+02, 4.31000000e+02, 2.44546901e+00, 8.00000000e+00],\n",
       "       [4.10000000e+02, 4.27000000e+02, 2.48399358e+00, 8.00000000e+00],\n",
       "       [3.68000000e+02, 4.19000000e+02, 2.54765199e+00, 5.00000000e+00],\n",
       "       [5.00000000e+01, 4.49000000e+02, 2.54956526e+00, 9.00000000e+00],\n",
       "       [4.24000000e+02, 4.37000000e+02, 2.57774826e+00, 7.00000000e+00],\n",
       "       [4.36000000e+02, 4.41000000e+02, 2.71533662e+00, 1.50000000e+01],\n",
       "       [4.13000000e+02, 4.38000000e+02, 2.74128244e+00, 7.00000000e+00],\n",
       "       [4.34000000e+02, 4.39000000e+02, 2.75113675e+00, 9.00000000e+00],\n",
       "       [3.95000000e+02, 4.51000000e+02, 2.81630744e+00, 1.50000000e+01],\n",
       "       [4.28000000e+02, 4.42000000e+02, 2.94497950e+00, 1.10000000e+01],\n",
       "       [4.18000000e+02, 4.29000000e+02, 3.14066570e+00, 9.00000000e+00],\n",
       "       [4.70000000e+01, 4.26000000e+02, 3.25762888e+00, 5.00000000e+00],\n",
       "       [2.84000000e+02, 4.17000000e+02, 3.25907060e+00, 6.00000000e+00],\n",
       "       [4.09000000e+02, 4.52000000e+02, 3.44144888e+00, 1.50000000e+01],\n",
       "       [4.06000000e+02, 4.43000000e+02, 3.44871432e+00, 1.10000000e+01],\n",
       "       [4.33000000e+02, 4.50000000e+02, 3.70216656e+00, 2.40000000e+01],\n",
       "       [4.16000000e+02, 4.46000000e+02, 3.94320703e+00, 1.80000000e+01],\n",
       "       [4.05000000e+02, 4.48000000e+02, 4.09442668e+00, 1.50000000e+01],\n",
       "       [4.25000000e+02, 4.47000000e+02, 4.42842798e+00, 7.00000000e+00],\n",
       "       [4.40000000e+02, 4.56000000e+02, 4.58122825e+00, 1.60000000e+01],\n",
       "       [4.45000000e+02, 4.65000000e+02, 4.73454924e+00, 1.60000000e+01],\n",
       "       [4.53000000e+02, 4.54000000e+02, 5.02104149e+00, 1.60000000e+01],\n",
       "       [4.30000000e+02, 4.73000000e+02, 5.27417450e+00, 2.20000000e+01],\n",
       "       [4.15000000e+02, 4.62000000e+02, 5.37362449e+00, 2.00000000e+01],\n",
       "       [1.01000000e+02, 3.73000000e+02, 5.59842186e+00, 3.00000000e+00],\n",
       "       [4.44000000e+02, 4.68000000e+02, 5.96940815e+00, 1.30000000e+01],\n",
       "       [4.63000000e+02, 4.71000000e+02, 6.44048485e+00, 2.60000000e+01],\n",
       "       [4.64000000e+02, 4.67000000e+02, 6.53158333e+00, 2.40000000e+01],\n",
       "       [4.66000000e+02, 4.75000000e+02, 6.60592169e+00, 2.20000000e+01],\n",
       "       [4.58000000e+02, 4.59000000e+02, 7.25285302e+00, 2.20000000e+01],\n",
       "       [4.61000000e+02, 4.70000000e+02, 8.13848396e+00, 2.70000000e+01],\n",
       "       [4.60000000e+02, 4.72000000e+02, 8.43386745e+00, 1.40000000e+01],\n",
       "       [4.77000000e+02, 4.78000000e+02, 9.01612844e+00, 2.30000000e+01],\n",
       "       [4.57000000e+02, 4.80000000e+02, 9.50334587e+00, 3.50000000e+01],\n",
       "       [4.55000000e+02, 4.86000000e+02, 9.94094117e+00, 3.10000000e+01],\n",
       "       [4.79000000e+02, 4.85000000e+02, 1.01281010e+01, 2.70000000e+01],\n",
       "       [4.69000000e+02, 4.82000000e+02, 1.07802635e+01, 4.60000000e+01],\n",
       "       [4.74000000e+02, 4.84000000e+02, 1.23461531e+01, 4.30000000e+01],\n",
       "       [4.81000000e+02, 4.90000000e+02, 1.45494372e+01, 7.00000000e+01],\n",
       "       [4.83000000e+02, 4.87000000e+02, 1.50055177e+01, 5.70000000e+01],\n",
       "       [4.76000000e+02, 4.89000000e+02, 1.98923423e+01, 4.90000000e+01],\n",
       "       [4.91000000e+02, 4.93000000e+02, 2.62359455e+01, 1.00000000e+02],\n",
       "       [4.88000000e+02, 4.92000000e+02, 2.70908116e+01, 1.01000000e+02],\n",
       "       [4.94000000e+02, 4.96000000e+02, 7.82496640e+01, 1.50000000e+02],\n",
       "       [4.95000000e+02, 4.97000000e+02, 2.22238328e+02, 2.50000000e+02]])"
      ]
     },
     "execution_count": 136,
     "metadata": {},
     "output_type": "execute_result"
    }
   ],
   "source": [
    "Z = linkage(df_7, method='ward', metric='euclidean')\n",
    "Z"
   ]
  },
  {
   "cell_type": "markdown",
   "metadata": {},
   "source": [
    "### 12. Plot the dendrogram for the consolidated dataframe"
   ]
  },
  {
   "cell_type": "code",
   "execution_count": 129,
   "metadata": {},
   "outputs": [],
   "source": [
    "from scipy.cluster.hierarchy import cophenet, dendrogram, linkage"
   ]
  },
  {
   "cell_type": "code",
   "execution_count": 130,
   "metadata": {},
   "outputs": [],
   "source": [
    "from scipy.spatial.distance import pdist  #Pairwise distribution between data points"
   ]
  },
  {
   "cell_type": "code",
   "execution_count": 132,
   "metadata": {},
   "outputs": [],
   "source": [
    "model = AgglomerativeClustering(n_clusters=3, affinity='euclidean',  linkage='ward')"
   ]
  },
  {
   "cell_type": "code",
   "execution_count": 134,
   "metadata": {},
   "outputs": [
    {
     "data": {
      "text/plain": [
       "AgglomerativeClustering(affinity='euclidean', compute_full_tree='auto',\n",
       "            connectivity=None, linkage='ward', memory=None, n_clusters=3,\n",
       "            pooling_func='deprecated')"
      ]
     },
     "execution_count": 134,
     "metadata": {},
     "output_type": "execute_result"
    }
   ],
   "source": [
    "model.fit(df_7)"
   ]
  },
  {
   "cell_type": "code",
   "execution_count": 137,
   "metadata": {},
   "outputs": [
    {
     "data": {
      "image/png": "[encoded data removed]",
      "text/plain": [
       "<Figure size 720x720 with 1 Axes>"
      ]
     },
     "metadata": {
      "needs_background": "light"
     },
     "output_type": "display_data"
    }
   ],
   "source": [
    "plt.figure(figsize=(10, 10))\n",
    "plt.title('Agglomerative Hierarchical Clustering Dendogram')\n",
    "plt.xlabel('sample index')\n",
    "plt.ylabel('Distance')\n",
    "dendrogram(Z, leaf_rotation=90.,color_threshold = 30, leaf_font_size=8. )\n",
    "plt.tight_layout()"
   ]
  },
  {
   "cell_type": "code",
   "execution_count": null,
   "metadata": {},
   "outputs": [],
   "source": []
  },
  {
   "cell_type": "markdown",
   "metadata": {},
   "source": [
    "### 13. Recreate the dendrogram for last 12 merged clusters "
   ]
  },
  {
   "cell_type": "code",
   "execution_count": 138,
   "metadata": {},
   "outputs": [
    {
     "data": {
      "image/png": "[encoded data removed]",
      "text/plain": [
       "<Figure size 432x288 with 1 Axes>"
      ]
     },
     "metadata": {
      "needs_background": "light"
     },
     "output_type": "display_data"
    }
   ],
   "source": [
    "dendrogram(\n",
    "    Z,\n",
    "    truncate_mode='lastp',  # show only the last p merged clusters\n",
    "    p=12,  # show only the last p merged clusters\n",
    ")\n",
    "plt.show()"
   ]
  },
  {
   "cell_type": "markdown",
   "metadata": {},
   "source": [
    "Hint: Use truncate_mode='lastp' attribute in dendrogram function to arrive at dendrogram "
   ]
  },
  {
   "cell_type": "markdown",
   "metadata": {},
   "source": [
    "### 14. From the truncated dendrogram, find out the optimal distance between clusters which u want to use an input for clustering data"
   ]
  },
  {
   "cell_type": "code",
   "execution_count": 141,
   "metadata": {},
   "outputs": [],
   "source": [
    "MaxD = 50"
   ]
  },
  {
   "cell_type": "markdown",
   "metadata": {},
   "source": [
    "### 15. Using this distance measure and fcluster function to cluster the data into 3 different groups"
   ]
  },
  {
   "cell_type": "code",
   "execution_count": 139,
   "metadata": {},
   "outputs": [],
   "source": [
    "from scipy.cluster.hierarchy import fcluster"
   ]
  },
  {
   "cell_type": "code",
   "execution_count": 143,
   "metadata": {},
   "outputs": [
    {
     "data": {
      "text/plain": [
       "array([1, 1, 1, 1, 1, 1, 1, 1, 1, 1, 1, 1, 1, 1, 1, 1, 1, 1, 1, 1, 1, 1,\n",
       "       1, 1, 1, 1, 1, 1, 1, 1, 1, 1, 1, 1, 1, 1, 1, 1, 1, 1, 1, 1, 1, 1,\n",
       "       1, 1, 1, 1, 1, 1, 1, 1, 1, 1, 1, 1, 1, 1, 1, 1, 1, 1, 1, 1, 1, 1,\n",
       "       1, 1, 1, 1, 1, 1, 1, 1, 1, 1, 1, 1, 1, 1, 1, 1, 1, 1, 1, 1, 1, 1,\n",
       "       1, 1, 1, 1, 1, 1, 1, 1, 1, 1, 1, 1, 2, 3, 2, 2, 2, 2, 2, 2, 2, 2,\n",
       "       2, 2, 2, 2, 2, 2, 2, 2, 2, 2, 2, 2, 2, 2, 2, 2, 2, 2, 2, 2, 2, 2,\n",
       "       2, 2, 2, 2, 2, 2, 2, 2, 2, 2, 2, 2, 2, 2, 2, 2, 2, 2, 3, 3, 3, 3,\n",
       "       3, 3, 3, 3, 3, 3, 3, 3, 3, 3, 3, 3, 3, 3, 3, 3, 3, 3, 3, 3, 3, 3,\n",
       "       3, 3, 3, 3, 3, 3, 3, 3, 3, 3, 3, 3, 3, 3, 3, 3, 3, 3, 3, 3, 3, 3,\n",
       "       3, 3, 3, 3, 3, 3, 3, 3, 3, 3, 3, 3, 3, 3, 3, 3, 3, 3, 3, 3, 3, 3,\n",
       "       3, 3, 3, 3, 3, 3, 3, 3, 3, 3, 3, 3, 3, 3, 3, 3, 3, 3, 3, 3, 3, 3,\n",
       "       3, 3, 3, 3, 3, 3, 3, 3], dtype=int32)"
      ]
     },
     "execution_count": 143,
     "metadata": {},
     "output_type": "execute_result"
    }
   ],
   "source": [
    "f=fcluster(Z,t=MaxD,criterion='distance')\n",
    "f"
   ]
  },
  {
   "cell_type": "markdown",
   "metadata": {},
   "source": [
    "### Use matplotlib to visually observe the clusters in 2D space "
   ]
  },
  {
   "cell_type": "code",
   "execution_count": 145,
   "metadata": {},
   "outputs": [
    {
     "data": {
      "text/plain": [
       "<matplotlib.collections.PathCollection at 0xbaf0810>"
      ]
     },
     "execution_count": 145,
     "metadata": {},
     "output_type": "execute_result"
    },
    {
     "data": {
      "image/png": "[encoded data removed]",
      "text/plain": [
       "<Figure size 432x288 with 1 Axes>"
      ]
     },
     "metadata": {
      "needs_background": "light"
     },
     "output_type": "display_data"
    }
   ],
   "source": [
    "plt.scatter(df_7[0],df_7[1],c=f)"
   ]
  }
 ],
 "metadata": {
  "kernelspec": {
   "display_name": "Python 3",
   "language": "python",
   "name": "python3"
  },
  "language_info": {
   "codemirror_mode": {
    "name": "ipython",
    "version": 3
   },
   "file_extension": ".py",
   "mimetype": "text/x-python",
   "name": "python",
   "nbconvert_exporter": "python",
   "pygments_lexer": "ipython3",
   "version": "3.7.3"
  }
 },
 "nbformat": 4,
 "nbformat_minor": 2
}
