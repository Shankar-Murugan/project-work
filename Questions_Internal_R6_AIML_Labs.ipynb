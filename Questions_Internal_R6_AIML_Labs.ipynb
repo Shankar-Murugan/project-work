{
 "cells": [
  {
   "cell_type": "markdown",
   "metadata": {
    "colab_type": "text",
    "id": "zUZjPnVXGz0Z"
   },
   "source": [
    "# The Iris Dataset\n",
    "The data set consists of 50 samples from each of three species of Iris (Iris setosa, Iris virginica and Iris versicolor). Four features were measured from each sample: the length and the width of the sepals and petals, in centimeters.\n",
    "\n",
    "The dataset contains a set of 150 records under five attributes - petal length, petal width, sepal length, sepal width and species."
   ]
  },
  {
   "cell_type": "markdown",
   "metadata": {
    "colab_type": "text",
    "id": "RMbmpriavLE9"
   },
   "source": [
    "### Specifying the TensorFlow version\n",
    "Running `import tensorflow` will import the default version (currently 1.x). You can use 2.x by running a cell with the `tensorflow_version` magic **before** you run `import tensorflow`."
   ]
  },
  {
   "cell_type": "code",
   "execution_count": 1,
   "metadata": {
    "colab": {
     "base_uri": "https://localhost:8080/",
     "height": 34
    },
    "colab_type": "code",
    "id": "fu8bUU__oa7h",
    "outputId": "99f54bb9-4568-4fa6-e489-d02360dac121"
   },
   "outputs": [
    {
     "name": "stdout",
     "output_type": "stream",
     "text": [
      "TensorFlow 2.x selected.\n"
     ]
    }
   ],
   "source": [
    "%tensorflow_version 2.x"
   ]
  },
  {
   "cell_type": "markdown",
   "metadata": {
    "colab_type": "text",
    "id": "bLz1Ckvfvn6D"
   },
   "source": [
    "### Import TensorFlow\n",
    "Once you have specified a version via this magic, you can run `import tensorflow` as normal and verify which version was imported as follows:"
   ]
  },
  {
   "cell_type": "code",
   "execution_count": 2,
   "metadata": {
    "colab": {
     "base_uri": "https://localhost:8080/",
     "height": 34
    },
    "colab_type": "code",
    "id": "CWrzVTLOvn6M",
    "outputId": "81af00bb-454d-46bd-9bb8-e9fec24d5708"
   },
   "outputs": [
    {
     "name": "stdout",
     "output_type": "stream",
     "text": [
      "2.0.0\n"
     ]
    }
   ],
   "source": [
    "import tensorflow as tf\n",
    "print(tf.__version__)"
   ]
  },
  {
   "cell_type": "markdown",
   "metadata": {
    "colab_type": "text",
    "id": "_uYeJgkNuXNC"
   },
   "source": [
    "### Set random seed"
   ]
  },
  {
   "cell_type": "code",
   "execution_count": 0,
   "metadata": {
    "colab": {},
    "colab_type": "code",
    "id": "lcASNsewsfQX"
   },
   "outputs": [],
   "source": [
    "tf.random.set_seed(42)"
   ]
  },
  {
   "cell_type": "markdown",
   "metadata": {
    "colab_type": "text",
    "id": "5-vVQBBqg7DI"
   },
   "source": [
    "## Question 1"
   ]
  },
  {
   "cell_type": "markdown",
   "metadata": {
    "colab_type": "text",
    "id": "kE0EDKvQhEIe"
   },
   "source": [
    "### Import dataset\n",
    "- Import iris dataset\n",
    "- Import the dataset using sklearn library"
   ]
  },
  {
   "cell_type": "code",
   "execution_count": 0,
   "metadata": {
    "colab": {},
    "colab_type": "code",
    "id": "IOOWpD26Haq3"
   },
   "outputs": [],
   "source": [
    "from sklearn import datasets"
   ]
  },
  {
   "cell_type": "code",
   "execution_count": 0,
   "metadata": {
    "colab": {},
    "colab_type": "code",
    "id": "zUWWolgvyjFe"
   },
   "outputs": [],
   "source": [
    "iris = datasets.load_iris()"
   ]
  },
  {
   "cell_type": "markdown",
   "metadata": {
    "colab_type": "text",
    "id": "ta8YqInTh5v5"
   },
   "source": [
    "## Question 2"
   ]
  },
  {
   "cell_type": "markdown",
   "metadata": {
    "colab_type": "text",
    "id": "HERt3drbhX0i"
   },
   "source": [
    "### Get features and label from the dataset in separate variable\n",
    "- you can get the features using .data method\n",
    "- you can get the features using .target method"
   ]
  },
  {
   "cell_type": "code",
   "execution_count": 0,
   "metadata": {
    "colab": {},
    "colab_type": "code",
    "id": "0cV-_qHAHyvE"
   },
   "outputs": [],
   "source": [
    "X = iris.data"
   ]
  },
  {
   "cell_type": "code",
   "execution_count": 0,
   "metadata": {
    "colab": {},
    "colab_type": "code",
    "id": "hYa1YKx54HAB"
   },
   "outputs": [],
   "source": [
    "y = iris.target"
   ]
  },
  {
   "cell_type": "markdown",
   "metadata": {
    "colab_type": "text",
    "id": "Qg1A2lkUjFak"
   },
   "source": [
    "## Question 3"
   ]
  },
  {
   "cell_type": "code",
   "execution_count": 12,
   "metadata": {
    "colab": {
     "base_uri": "https://localhost:8080/",
     "height": 136
    },
    "colab_type": "code",
    "id": "Pu2jy0hPzfW3",
    "outputId": "bd831d80-a2bb-40a2-f32e-3ede65a737a4"
   },
   "outputs": [
    {
     "data": {
      "text/plain": [
       "array([0, 0, 0, 0, 0, 0, 0, 0, 0, 0, 0, 0, 0, 0, 0, 0, 0, 0, 0, 0, 0, 0,\n",
       "       0, 0, 0, 0, 0, 0, 0, 0, 0, 0, 0, 0, 0, 0, 0, 0, 0, 0, 0, 0, 0, 0,\n",
       "       0, 0, 0, 0, 0, 0, 1, 1, 1, 1, 1, 1, 1, 1, 1, 1, 1, 1, 1, 1, 1, 1,\n",
       "       1, 1, 1, 1, 1, 1, 1, 1, 1, 1, 1, 1, 1, 1, 1, 1, 1, 1, 1, 1, 1, 1,\n",
       "       1, 1, 1, 1, 1, 1, 1, 1, 1, 1, 1, 1, 2, 2, 2, 2, 2, 2, 2, 2, 2, 2,\n",
       "       2, 2, 2, 2, 2, 2, 2, 2, 2, 2, 2, 2, 2, 2, 2, 2, 2, 2, 2, 2, 2, 2,\n",
       "       2, 2, 2, 2, 2, 2, 2, 2, 2, 2, 2, 2, 2, 2, 2, 2, 2, 2])"
      ]
     },
     "execution_count": 12,
     "metadata": {
      "tags": []
     },
     "output_type": "execute_result"
    }
   ],
   "source": [
    "iris.target"
   ]
  },
  {
   "cell_type": "markdown",
   "metadata": {
    "colab_type": "text",
    "id": "3YErwYLCH0N_"
   },
   "source": [
    "### Create train and test data\n",
    "- use train_test_split to get train and test set\n",
    "- set a random_state\n",
    "- test_size: 0.25"
   ]
  },
  {
   "cell_type": "code",
   "execution_count": 0,
   "metadata": {
    "colab": {},
    "colab_type": "code",
    "id": "TYKNJL85h7pQ"
   },
   "outputs": [],
   "source": [
    "from sklearn.model_selection import train_test_split\n",
    "test_size = 0.25 \n",
    "seed = 7\n",
    "X_train, X_test, y_train, y_test = train_test_split(X, y, test_size=test_size, random_state=seed)"
   ]
  },
  {
   "cell_type": "markdown",
   "metadata": {
    "colab_type": "text",
    "id": "g0KVP17Ozaix"
   },
   "source": [
    "## Question 4"
   ]
  },
  {
   "cell_type": "markdown",
   "metadata": {
    "colab_type": "text",
    "id": "SIjqxbhWv1zv"
   },
   "source": [
    "### One-hot encode the labels\n",
    "- convert class vectors (integers) to binary class matrix\n",
    "- convert labels\n",
    "- number of classes: 3\n",
    "- we are doing this to use categorical_crossentropy as loss"
   ]
  },
  {
   "cell_type": "code",
   "execution_count": 0,
   "metadata": {
    "colab": {},
    "colab_type": "code",
    "id": "R9vv-_gpyLY9"
   },
   "outputs": [],
   "source": [
    "y_train = tf.keras.utils.to_categorical(y_train, num_classes=3)\n",
    "y_test = tf.keras.utils.to_categorical(y_test, num_classes=3)"
   ]
  },
  {
   "cell_type": "markdown",
   "metadata": {
    "colab_type": "text",
    "id": "ovjLyYzWkO9s"
   },
   "source": [
    "## Question 5"
   ]
  },
  {
   "cell_type": "markdown",
   "metadata": {
    "colab_type": "text",
    "id": "hbIFzoPNSyYo"
   },
   "source": [
    "### Initialize a sequential model\n",
    "- Define a sequential model"
   ]
  },
  {
   "cell_type": "code",
   "execution_count": 0,
   "metadata": {
    "colab": {},
    "colab_type": "code",
    "id": "4FvSbf1UjHtl"
   },
   "outputs": [],
   "source": [
    "model = tf.keras.models.Sequential()"
   ]
  },
  {
   "cell_type": "markdown",
   "metadata": {
    "colab_type": "text",
    "id": "dGMy999vlacX"
   },
   "source": [
    "## Question 6"
   ]
  },
  {
   "cell_type": "markdown",
   "metadata": {
    "colab_type": "text",
    "id": "72ibK5Jxm8iL"
   },
   "source": [
    "### Add a layer\n",
    "- Use Dense Layer  with input shape of 4 (according to the feature set) and number of outputs set to 3\n",
    "- Apply Softmax on Dense Layer outputs"
   ]
  },
  {
   "cell_type": "code",
   "execution_count": 0,
   "metadata": {
    "colab": {},
    "colab_type": "code",
    "id": "uZKrBNSRm_o9"
   },
   "outputs": [],
   "source": [
    "model.add(tf.keras.layers.Dense(3, input_shape=(4,), activation='softmax'))"
   ]
  },
  {
   "cell_type": "markdown",
   "metadata": {
    "colab_type": "text",
    "id": "i4uiTH8plmNX"
   },
   "source": [
    "## Question 7"
   ]
  },
  {
   "cell_type": "markdown",
   "metadata": {
    "colab_type": "text",
    "id": "yJL8n8vcSyYz"
   },
   "source": [
    "### Compile the model\n",
    "- Use SGD as Optimizer\n",
    "- Use categorical_crossentropy as loss function\n",
    "- Use accuracy as metrics"
   ]
  },
  {
   "cell_type": "code",
   "execution_count": 0,
   "metadata": {
    "colab": {},
    "colab_type": "code",
    "id": "Tc_-fjIEk1ve"
   },
   "outputs": [],
   "source": [
    "model.compile(optimizer='sgd', loss='categorical_crossentropy', metrics=['accuracy'])"
   ]
  },
  {
   "cell_type": "markdown",
   "metadata": {
    "colab_type": "text",
    "id": "sihIGbRll_jT"
   },
   "source": [
    "## Question 8"
   ]
  },
  {
   "cell_type": "markdown",
   "metadata": {
    "colab_type": "text",
    "id": "54ZZCfNGlu0i"
   },
   "source": [
    "### Summarize the model\n",
    "- Check model layers\n",
    "- Understand number of trainable parameters"
   ]
  },
  {
   "cell_type": "code",
   "execution_count": 23,
   "metadata": {
    "colab": {
     "base_uri": "https://localhost:8080/",
     "height": 187
    },
    "colab_type": "code",
    "id": "elER3F_4ln8n",
    "outputId": "47e0190b-4470-48e9-f9c4-253ea4c12c0f"
   },
   "outputs": [
    {
     "name": "stdout",
     "output_type": "stream",
     "text": [
      "Model: \"sequential\"\n",
      "_________________________________________________________________\n",
      "Layer (type)                 Output Shape              Param #   \n",
      "=================================================================\n",
      "dense (Dense)                (None, 3)                 15        \n",
      "=================================================================\n",
      "Total params: 15\n",
      "Trainable params: 15\n",
      "Non-trainable params: 0\n",
      "_________________________________________________________________\n"
     ]
    }
   ],
   "source": [
    "model.summary()"
   ]
  },
  {
   "cell_type": "markdown",
   "metadata": {
    "colab_type": "text",
    "id": "2PiP7j3Vmj4p"
   },
   "source": [
    "## Question 9"
   ]
  },
  {
   "cell_type": "markdown",
   "metadata": {
    "colab_type": "text",
    "id": "rWdbfFCXmCHt"
   },
   "source": [
    "### Fit the model\n",
    "- Give train data as training features and labels\n",
    "- Epochs: 100\n",
    "- Give validation data as testing features and labels"
   ]
  },
  {
   "cell_type": "code",
   "execution_count": 27,
   "metadata": {
    "colab": {
     "base_uri": "https://localhost:8080/",
     "height": 1000
    },
    "colab_type": "code",
    "id": "cO1c-5tjmBVZ",
    "outputId": "d593dcd0-563d-4d95-80a1-8d905f827ea2"
   },
   "outputs": [
    {
     "name": "stdout",
     "output_type": "stream",
     "text": [
      "Train on 112 samples, validate on 38 samples\n",
      "Epoch 1/100\n",
      "112/112 [==============================] - 1s 9ms/sample - loss: 2.3845 - accuracy: 0.3304 - val_loss: 1.9332 - val_accuracy: 0.3421\n",
      "Epoch 2/100\n",
      "112/112 [==============================] - 0s 210us/sample - loss: 2.0863 - accuracy: 0.3304 - val_loss: 1.6921 - val_accuracy: 0.3158\n",
      "Epoch 3/100\n",
      "112/112 [==============================] - 0s 149us/sample - loss: 1.8162 - accuracy: 0.3571 - val_loss: 1.4627 - val_accuracy: 0.5263\n",
      "Epoch 4/100\n",
      "112/112 [==============================] - 0s 158us/sample - loss: 1.5457 - accuracy: 0.4196 - val_loss: 1.2546 - val_accuracy: 0.4211\n",
      "Epoch 5/100\n",
      "112/112 [==============================] - 0s 190us/sample - loss: 1.3033 - accuracy: 0.3839 - val_loss: 1.0714 - val_accuracy: 0.4211\n",
      "Epoch 6/100\n",
      "112/112 [==============================] - 0s 148us/sample - loss: 1.1004 - accuracy: 0.3661 - val_loss: 0.9356 - val_accuracy: 0.5526\n",
      "Epoch 7/100\n",
      "112/112 [==============================] - 0s 181us/sample - loss: 0.9430 - accuracy: 0.4643 - val_loss: 0.8371 - val_accuracy: 0.3421\n",
      "Epoch 8/100\n",
      "112/112 [==============================] - 0s 148us/sample - loss: 0.8278 - accuracy: 0.4107 - val_loss: 0.7826 - val_accuracy: 0.6316\n",
      "Epoch 9/100\n",
      "112/112 [==============================] - 0s 179us/sample - loss: 0.7710 - accuracy: 0.7768 - val_loss: 0.7734 - val_accuracy: 0.6316\n",
      "Epoch 10/100\n",
      "112/112 [==============================] - 0s 168us/sample - loss: 0.7452 - accuracy: 0.6964 - val_loss: 0.7557 - val_accuracy: 0.6316\n",
      "Epoch 11/100\n",
      "112/112 [==============================] - 0s 161us/sample - loss: 0.7271 - accuracy: 0.6875 - val_loss: 0.7441 - val_accuracy: 0.6316\n",
      "Epoch 12/100\n",
      "112/112 [==============================] - 0s 173us/sample - loss: 0.7149 - accuracy: 0.7054 - val_loss: 0.7358 - val_accuracy: 0.6316\n",
      "Epoch 13/100\n",
      "112/112 [==============================] - 0s 181us/sample - loss: 0.7033 - accuracy: 0.7589 - val_loss: 0.7326 - val_accuracy: 0.6316\n",
      "Epoch 14/100\n",
      "112/112 [==============================] - 0s 163us/sample - loss: 0.6955 - accuracy: 0.6786 - val_loss: 0.7204 - val_accuracy: 0.6316\n",
      "Epoch 15/100\n",
      "112/112 [==============================] - 0s 162us/sample - loss: 0.6865 - accuracy: 0.7321 - val_loss: 0.7129 - val_accuracy: 0.6579\n",
      "Epoch 16/100\n",
      "112/112 [==============================] - 0s 271us/sample - loss: 0.6803 - accuracy: 0.7500 - val_loss: 0.7112 - val_accuracy: 0.6316\n",
      "Epoch 17/100\n",
      "112/112 [==============================] - 0s 169us/sample - loss: 0.6725 - accuracy: 0.6875 - val_loss: 0.6954 - val_accuracy: 0.8158\n",
      "Epoch 18/100\n",
      "112/112 [==============================] - 0s 166us/sample - loss: 0.6636 - accuracy: 0.8482 - val_loss: 0.6945 - val_accuracy: 0.6579\n",
      "Epoch 19/100\n",
      "112/112 [==============================] - 0s 167us/sample - loss: 0.6575 - accuracy: 0.7321 - val_loss: 0.6824 - val_accuracy: 0.7895\n",
      "Epoch 20/100\n",
      "112/112 [==============================] - 0s 178us/sample - loss: 0.6504 - accuracy: 0.8036 - val_loss: 0.6773 - val_accuracy: 0.7368\n",
      "Epoch 21/100\n",
      "112/112 [==============================] - 0s 163us/sample - loss: 0.6434 - accuracy: 0.7946 - val_loss: 0.6707 - val_accuracy: 0.7632\n",
      "Epoch 22/100\n",
      "112/112 [==============================] - 0s 167us/sample - loss: 0.6404 - accuracy: 0.8750 - val_loss: 0.6713 - val_accuracy: 0.6579\n",
      "Epoch 23/100\n",
      "112/112 [==============================] - 0s 155us/sample - loss: 0.6314 - accuracy: 0.7321 - val_loss: 0.6629 - val_accuracy: 0.6842\n",
      "Epoch 24/100\n",
      "112/112 [==============================] - 0s 156us/sample - loss: 0.6293 - accuracy: 0.7411 - val_loss: 0.6557 - val_accuracy: 0.7632\n",
      "Epoch 25/100\n",
      "112/112 [==============================] - 0s 153us/sample - loss: 0.6213 - accuracy: 0.8125 - val_loss: 0.6498 - val_accuracy: 0.8158\n",
      "Epoch 26/100\n",
      "112/112 [==============================] - 0s 166us/sample - loss: 0.6168 - accuracy: 0.7946 - val_loss: 0.6466 - val_accuracy: 0.7368\n",
      "Epoch 27/100\n",
      "112/112 [==============================] - 0s 211us/sample - loss: 0.6106 - accuracy: 0.8125 - val_loss: 0.6463 - val_accuracy: 0.6579\n",
      "Epoch 28/100\n",
      "112/112 [==============================] - 0s 176us/sample - loss: 0.6097 - accuracy: 0.7857 - val_loss: 0.6494 - val_accuracy: 0.6316\n",
      "Epoch 29/100\n",
      "112/112 [==============================] - 0s 167us/sample - loss: 0.6059 - accuracy: 0.7143 - val_loss: 0.6492 - val_accuracy: 0.6316\n",
      "Epoch 30/100\n",
      "112/112 [==============================] - 0s 153us/sample - loss: 0.5999 - accuracy: 0.7054 - val_loss: 0.6373 - val_accuracy: 0.6316\n",
      "Epoch 31/100\n",
      "112/112 [==============================] - 0s 210us/sample - loss: 0.5961 - accuracy: 0.7054 - val_loss: 0.6231 - val_accuracy: 0.8158\n",
      "Epoch 32/100\n",
      "112/112 [==============================] - 0s 178us/sample - loss: 0.5859 - accuracy: 0.8304 - val_loss: 0.6204 - val_accuracy: 0.7632\n",
      "Epoch 33/100\n",
      "112/112 [==============================] - 0s 164us/sample - loss: 0.5831 - accuracy: 0.8125 - val_loss: 0.6147 - val_accuracy: 0.8947\n",
      "Epoch 34/100\n",
      "112/112 [==============================] - 0s 175us/sample - loss: 0.5806 - accuracy: 0.8482 - val_loss: 0.6106 - val_accuracy: 0.8947\n",
      "Epoch 35/100\n",
      "112/112 [==============================] - 0s 165us/sample - loss: 0.5754 - accuracy: 0.8929 - val_loss: 0.6077 - val_accuracy: 0.8158\n",
      "Epoch 36/100\n",
      "112/112 [==============================] - 0s 190us/sample - loss: 0.5713 - accuracy: 0.8571 - val_loss: 0.6080 - val_accuracy: 0.7632\n",
      "Epoch 37/100\n",
      "112/112 [==============================] - 0s 177us/sample - loss: 0.5661 - accuracy: 0.8304 - val_loss: 0.6060 - val_accuracy: 0.6842\n",
      "Epoch 38/100\n",
      "112/112 [==============================] - 0s 162us/sample - loss: 0.5639 - accuracy: 0.7946 - val_loss: 0.6017 - val_accuracy: 0.7632\n",
      "Epoch 39/100\n",
      "112/112 [==============================] - 0s 168us/sample - loss: 0.5587 - accuracy: 0.7946 - val_loss: 0.5979 - val_accuracy: 0.7632\n",
      "Epoch 40/100\n",
      "112/112 [==============================] - 0s 175us/sample - loss: 0.5547 - accuracy: 0.8214 - val_loss: 0.5940 - val_accuracy: 0.7632\n",
      "Epoch 41/100\n",
      "112/112 [==============================] - 0s 166us/sample - loss: 0.5511 - accuracy: 0.8571 - val_loss: 0.5926 - val_accuracy: 0.7632\n",
      "Epoch 42/100\n",
      "112/112 [==============================] - 0s 183us/sample - loss: 0.5486 - accuracy: 0.8125 - val_loss: 0.5888 - val_accuracy: 0.7368\n",
      "Epoch 43/100\n",
      "112/112 [==============================] - 0s 169us/sample - loss: 0.5453 - accuracy: 0.8571 - val_loss: 0.5858 - val_accuracy: 0.7632\n",
      "Epoch 44/100\n",
      "112/112 [==============================] - 0s 168us/sample - loss: 0.5420 - accuracy: 0.8125 - val_loss: 0.5815 - val_accuracy: 0.8158\n",
      "Epoch 45/100\n",
      "112/112 [==============================] - 0s 176us/sample - loss: 0.5416 - accuracy: 0.8393 - val_loss: 0.5775 - val_accuracy: 0.8421\n",
      "Epoch 46/100\n",
      "112/112 [==============================] - 0s 177us/sample - loss: 0.5375 - accuracy: 0.8929 - val_loss: 0.5751 - val_accuracy: 0.8421\n",
      "Epoch 47/100\n",
      "112/112 [==============================] - 0s 156us/sample - loss: 0.5367 - accuracy: 0.8125 - val_loss: 0.5709 - val_accuracy: 0.9211\n",
      "Epoch 48/100\n",
      "112/112 [==============================] - 0s 172us/sample - loss: 0.5338 - accuracy: 0.9107 - val_loss: 0.5737 - val_accuracy: 0.7632\n",
      "Epoch 49/100\n",
      "112/112 [==============================] - 0s 169us/sample - loss: 0.5327 - accuracy: 0.8036 - val_loss: 0.5704 - val_accuracy: 0.7632\n",
      "Epoch 50/100\n",
      "112/112 [==============================] - 0s 166us/sample - loss: 0.5296 - accuracy: 0.8214 - val_loss: 0.5694 - val_accuracy: 0.7632\n",
      "Epoch 51/100\n",
      "112/112 [==============================] - 0s 164us/sample - loss: 0.5235 - accuracy: 0.8304 - val_loss: 0.5672 - val_accuracy: 0.7632\n",
      "Epoch 52/100\n",
      "112/112 [==============================] - 0s 175us/sample - loss: 0.5207 - accuracy: 0.8036 - val_loss: 0.5604 - val_accuracy: 0.8158\n",
      "Epoch 53/100\n",
      "112/112 [==============================] - 0s 168us/sample - loss: 0.5192 - accuracy: 0.8929 - val_loss: 0.5607 - val_accuracy: 0.7632\n",
      "Epoch 54/100\n",
      "112/112 [==============================] - 0s 185us/sample - loss: 0.5189 - accuracy: 0.8571 - val_loss: 0.5657 - val_accuracy: 0.6579\n",
      "Epoch 55/100\n",
      "112/112 [==============================] - 0s 206us/sample - loss: 0.5131 - accuracy: 0.7589 - val_loss: 0.5550 - val_accuracy: 0.7895\n",
      "Epoch 56/100\n",
      "112/112 [==============================] - 0s 166us/sample - loss: 0.5096 - accuracy: 0.8839 - val_loss: 0.5518 - val_accuracy: 0.8421\n",
      "Epoch 57/100\n",
      "112/112 [==============================] - 0s 192us/sample - loss: 0.5069 - accuracy: 0.8929 - val_loss: 0.5501 - val_accuracy: 0.8158\n",
      "Epoch 58/100\n",
      "112/112 [==============================] - 0s 179us/sample - loss: 0.5057 - accuracy: 0.9107 - val_loss: 0.5478 - val_accuracy: 0.8421\n",
      "Epoch 59/100\n",
      "112/112 [==============================] - 0s 191us/sample - loss: 0.5040 - accuracy: 0.8929 - val_loss: 0.5488 - val_accuracy: 0.7632\n",
      "Epoch 60/100\n",
      "112/112 [==============================] - 0s 184us/sample - loss: 0.5023 - accuracy: 0.8661 - val_loss: 0.5429 - val_accuracy: 0.8421\n",
      "Epoch 61/100\n",
      "112/112 [==============================] - 0s 220us/sample - loss: 0.5021 - accuracy: 0.8929 - val_loss: 0.5402 - val_accuracy: 0.8421\n",
      "Epoch 62/100\n",
      "112/112 [==============================] - 0s 177us/sample - loss: 0.4975 - accuracy: 0.9196 - val_loss: 0.5391 - val_accuracy: 0.8421\n",
      "Epoch 63/100\n",
      "112/112 [==============================] - 0s 167us/sample - loss: 0.4943 - accuracy: 0.8929 - val_loss: 0.5372 - val_accuracy: 0.8421\n",
      "Epoch 64/100\n",
      "112/112 [==============================] - 0s 178us/sample - loss: 0.4943 - accuracy: 0.9018 - val_loss: 0.5370 - val_accuracy: 0.8158\n",
      "Epoch 65/100\n",
      "112/112 [==============================] - 0s 211us/sample - loss: 0.4902 - accuracy: 0.9107 - val_loss: 0.5366 - val_accuracy: 0.8421\n",
      "Epoch 66/100\n",
      "112/112 [==============================] - 0s 176us/sample - loss: 0.4916 - accuracy: 0.8482 - val_loss: 0.5332 - val_accuracy: 0.8421\n",
      "Epoch 67/100\n",
      "112/112 [==============================] - 0s 180us/sample - loss: 0.4858 - accuracy: 0.8929 - val_loss: 0.5319 - val_accuracy: 0.8158\n",
      "Epoch 68/100\n",
      "112/112 [==============================] - 0s 198us/sample - loss: 0.4842 - accuracy: 0.9018 - val_loss: 0.5303 - val_accuracy: 0.8421\n",
      "Epoch 69/100\n",
      "112/112 [==============================] - 0s 185us/sample - loss: 0.4824 - accuracy: 0.8750 - val_loss: 0.5266 - val_accuracy: 0.8421\n",
      "Epoch 70/100\n",
      "112/112 [==============================] - 0s 170us/sample - loss: 0.4807 - accuracy: 0.9196 - val_loss: 0.5247 - val_accuracy: 0.8421\n",
      "Epoch 71/100\n",
      "112/112 [==============================] - 0s 205us/sample - loss: 0.4800 - accuracy: 0.9107 - val_loss: 0.5263 - val_accuracy: 0.8158\n",
      "Epoch 72/100\n",
      "112/112 [==============================] - 0s 163us/sample - loss: 0.4775 - accuracy: 0.8750 - val_loss: 0.5209 - val_accuracy: 0.8684\n",
      "Epoch 73/100\n",
      "112/112 [==============================] - 0s 172us/sample - loss: 0.4760 - accuracy: 0.9375 - val_loss: 0.5218 - val_accuracy: 0.8421\n",
      "Epoch 74/100\n",
      "112/112 [==============================] - 0s 192us/sample - loss: 0.4744 - accuracy: 0.9196 - val_loss: 0.5269 - val_accuracy: 0.7632\n",
      "Epoch 75/100\n",
      "112/112 [==============================] - 0s 182us/sample - loss: 0.4733 - accuracy: 0.8304 - val_loss: 0.5237 - val_accuracy: 0.7632\n",
      "Epoch 76/100\n",
      "112/112 [==============================] - 0s 179us/sample - loss: 0.4735 - accuracy: 0.8482 - val_loss: 0.5220 - val_accuracy: 0.7632\n",
      "Epoch 77/100\n",
      "112/112 [==============================] - 0s 188us/sample - loss: 0.4713 - accuracy: 0.8482 - val_loss: 0.5169 - val_accuracy: 0.8158\n",
      "Epoch 78/100\n",
      "112/112 [==============================] - 0s 184us/sample - loss: 0.4670 - accuracy: 0.9018 - val_loss: 0.5132 - val_accuracy: 0.8421\n",
      "Epoch 79/100\n",
      "112/112 [==============================] - 0s 196us/sample - loss: 0.4651 - accuracy: 0.9107 - val_loss: 0.5114 - val_accuracy: 0.8421\n",
      "Epoch 80/100\n",
      "112/112 [==============================] - 0s 174us/sample - loss: 0.4653 - accuracy: 0.9018 - val_loss: 0.5109 - val_accuracy: 0.8421\n",
      "Epoch 81/100\n",
      "112/112 [==============================] - 0s 174us/sample - loss: 0.4619 - accuracy: 0.9018 - val_loss: 0.5088 - val_accuracy: 0.8421\n",
      "Epoch 82/100\n",
      "112/112 [==============================] - 0s 209us/sample - loss: 0.4615 - accuracy: 0.9375 - val_loss: 0.5098 - val_accuracy: 0.8421\n",
      "Epoch 83/100\n",
      "112/112 [==============================] - 0s 172us/sample - loss: 0.4600 - accuracy: 0.9018 - val_loss: 0.5045 - val_accuracy: 0.8947\n",
      "Epoch 84/100\n",
      "112/112 [==============================] - 0s 179us/sample - loss: 0.4583 - accuracy: 0.9375 - val_loss: 0.5085 - val_accuracy: 0.8421\n",
      "Epoch 85/100\n",
      "112/112 [==============================] - 0s 177us/sample - loss: 0.4587 - accuracy: 0.9107 - val_loss: 0.5121 - val_accuracy: 0.7632\n",
      "Epoch 86/100\n",
      "112/112 [==============================] - 0s 172us/sample - loss: 0.4555 - accuracy: 0.8750 - val_loss: 0.5063 - val_accuracy: 0.8421\n",
      "Epoch 87/100\n",
      "112/112 [==============================] - 0s 208us/sample - loss: 0.4546 - accuracy: 0.8839 - val_loss: 0.5011 - val_accuracy: 0.8421\n",
      "Epoch 88/100\n",
      "112/112 [==============================] - 0s 181us/sample - loss: 0.4593 - accuracy: 0.9018 - val_loss: 0.4998 - val_accuracy: 0.8421\n",
      "Epoch 89/100\n",
      "112/112 [==============================] - 0s 183us/sample - loss: 0.4602 - accuracy: 0.8929 - val_loss: 0.4985 - val_accuracy: 0.8421\n",
      "Epoch 90/100\n",
      "112/112 [==============================] - 0s 168us/sample - loss: 0.4485 - accuracy: 0.9286 - val_loss: 0.4972 - val_accuracy: 0.8421\n",
      "Epoch 91/100\n",
      "112/112 [==============================] - 0s 186us/sample - loss: 0.4488 - accuracy: 0.9464 - val_loss: 0.5045 - val_accuracy: 0.7632\n",
      "Epoch 92/100\n",
      "112/112 [==============================] - 0s 219us/sample - loss: 0.4489 - accuracy: 0.8839 - val_loss: 0.4989 - val_accuracy: 0.8421\n",
      "Epoch 93/100\n",
      "112/112 [==============================] - 0s 182us/sample - loss: 0.4466 - accuracy: 0.9107 - val_loss: 0.4973 - val_accuracy: 0.8684\n",
      "Epoch 94/100\n",
      "112/112 [==============================] - 0s 182us/sample - loss: 0.4470 - accuracy: 0.9107 - val_loss: 0.4928 - val_accuracy: 0.8421\n",
      "Epoch 95/100\n",
      "112/112 [==============================] - 0s 175us/sample - loss: 0.4445 - accuracy: 0.9375 - val_loss: 0.4942 - val_accuracy: 0.8684\n",
      "Epoch 96/100\n",
      "112/112 [==============================] - 0s 176us/sample - loss: 0.4408 - accuracy: 0.9107 - val_loss: 0.4921 - val_accuracy: 0.8421\n",
      "Epoch 97/100\n",
      "112/112 [==============================] - 0s 168us/sample - loss: 0.4400 - accuracy: 0.9107 - val_loss: 0.4922 - val_accuracy: 0.8684\n",
      "Epoch 98/100\n",
      "112/112 [==============================] - 0s 179us/sample - loss: 0.4400 - accuracy: 0.9107 - val_loss: 0.4888 - val_accuracy: 0.8421\n",
      "Epoch 99/100\n",
      "112/112 [==============================] - 0s 219us/sample - loss: 0.4389 - accuracy: 0.9286 - val_loss: 0.4895 - val_accuracy: 0.8421\n",
      "Epoch 100/100\n",
      "112/112 [==============================] - 0s 193us/sample - loss: 0.4370 - accuracy: 0.9196 - val_loss: 0.4910 - val_accuracy: 0.7895\n"
     ]
    },
    {
     "data": {
      "text/plain": [
       "<tensorflow.python.keras.callbacks.History at 0x7f5e7c9351d0>"
      ]
     },
     "execution_count": 27,
     "metadata": {
      "tags": []
     },
     "output_type": "execute_result"
    }
   ],
   "source": [
    "model.fit(X_train, y_train, validation_data=(X_test, y_test), epochs=100)"
   ]
  },
  {
   "cell_type": "markdown",
   "metadata": {
    "colab_type": "text",
    "id": "re9ItAR3yS3J"
   },
   "source": [
    "## Question 10"
   ]
  },
  {
   "cell_type": "markdown",
   "metadata": {
    "colab_type": "text",
    "id": "liw0IFf9yVqH"
   },
   "source": [
    "### Make predictions\n",
    "- Predict labels on one row"
   ]
  },
  {
   "cell_type": "code",
   "execution_count": 0,
   "metadata": {
    "colab": {},
    "colab_type": "code",
    "id": "ZtFdklf6-Xy1"
   },
   "outputs": [],
   "source": [
    "y_predict = model.predict(X_test)"
   ]
  },
  {
   "cell_type": "code",
   "execution_count": 37,
   "metadata": {
    "colab": {
     "base_uri": "https://localhost:8080/",
     "height": 34
    },
    "colab_type": "code",
    "id": "hdMUTPpA-1At",
    "outputId": "5e09f384-9346-4409-ed8c-c08c2f5236ad"
   },
   "outputs": [
    {
     "data": {
      "text/plain": [
       "array([0.02552744, 0.35058334, 0.62388915], dtype=float32)"
      ]
     },
     "execution_count": 37,
     "metadata": {
      "tags": []
     },
     "output_type": "execute_result"
    }
   ],
   "source": [
    "y_predict[0]"
   ]
  },
  {
   "cell_type": "markdown",
   "metadata": {
    "colab_type": "text",
    "id": "hSUgMq3m0bG7"
   },
   "source": [
    "### Compare the prediction with actual label\n",
    "- Print the same row as done in the previous step but of actual labels"
   ]
  },
  {
   "cell_type": "code",
   "execution_count": 38,
   "metadata": {
    "colab": {
     "base_uri": "https://localhost:8080/",
     "height": 34
    },
    "colab_type": "code",
    "id": "K5WbwVPyz-qQ",
    "outputId": "5e58654c-66f8-450b-d792-28691eb7c164"
   },
   "outputs": [
    {
     "data": {
      "text/plain": [
       "array([0., 0., 1.], dtype=float32)"
      ]
     },
     "execution_count": 38,
     "metadata": {
      "tags": []
     },
     "output_type": "execute_result"
    }
   ],
   "source": [
    "y_test[0]"
   ]
  },
  {
   "cell_type": "markdown",
   "metadata": {
    "colab_type": "text",
    "id": "FrTKwbgE7NFT"
   },
   "source": [
    "\n",
    "\n",
    "---\n",
    "\n"
   ]
  },
  {
   "cell_type": "markdown",
   "metadata": {
    "colab_type": "text",
    "id": "a1UBYPNp5Tn1"
   },
   "source": [
    "# Stock prices dataset\n",
    "The data is of tock exchange's stock listings for each trading day of 2010 to 2016.\n",
    "\n",
    "## Description\n",
    "A brief description of columns.\n",
    "- open: The opening market price of the equity symbol on the date\n",
    "- high: The highest market price of the equity symbol on the date\n",
    "- low: The lowest recorded market price of the equity symbol on the date\n",
    "- close: The closing recorded price of the equity symbol on the date\n",
    "- symbol: Symbol of the listed company\n",
    "- volume: Total traded volume of the equity symbol on the date\n",
    "- date: Date of record"
   ]
  },
  {
   "cell_type": "markdown",
   "metadata": {
    "colab_type": "text",
    "id": "ctH_ZW5g-M3g"
   },
   "source": [
    "### Specifying the TensorFlow version\n",
    "Running `import tensorflow` will import the default version (currently 1.x). You can use 2.x by running a cell with the `tensorflow_version` magic **before** you run `import tensorflow`."
   ]
  },
  {
   "cell_type": "code",
   "execution_count": 0,
   "metadata": {
    "colab": {},
    "colab_type": "code",
    "id": "vQbdODpH-M3r"
   },
   "outputs": [],
   "source": [
    "%tensorflow_version 2.x"
   ]
  },
  {
   "cell_type": "markdown",
   "metadata": {
    "colab_type": "text",
    "id": "nFQWH1tj-M38"
   },
   "source": [
    "### Import TensorFlow\n",
    "Once you have specified a version via this magic, you can run `import tensorflow` as normal and verify which version was imported as follows:"
   ]
  },
  {
   "cell_type": "code",
   "execution_count": 40,
   "metadata": {
    "colab": {
     "base_uri": "https://localhost:8080/",
     "height": 34
    },
    "colab_type": "code",
    "id": "Ho5n-xhd-M3_",
    "outputId": "79e7b9b9-d625-423c-ab3a-d8c34c3abaec"
   },
   "outputs": [
    {
     "name": "stdout",
     "output_type": "stream",
     "text": [
      "2.0.0\n"
     ]
    }
   ],
   "source": [
    "import tensorflow as tf\n",
    "print(tf.__version__)"
   ]
  },
  {
   "cell_type": "markdown",
   "metadata": {
    "colab_type": "text",
    "id": "tgkl0qu6-M4F"
   },
   "source": [
    "### Set random seed"
   ]
  },
  {
   "cell_type": "code",
   "execution_count": 0,
   "metadata": {
    "colab": {},
    "colab_type": "code",
    "id": "TKgTyuA3-M4G"
   },
   "outputs": [],
   "source": [
    "tf.random.set_seed(42)"
   ]
  },
  {
   "cell_type": "markdown",
   "metadata": {
    "colab_type": "text",
    "id": "_88voqAH-O6J"
   },
   "source": [
    "## Question 1"
   ]
  },
  {
   "cell_type": "markdown",
   "metadata": {
    "colab_type": "text",
    "id": "dRHCeJqP-evf"
   },
   "source": [
    "### Load the data\n",
    "- load the csv file and read it using pandas\n",
    "- file name is prices.csv"
   ]
  },
  {
   "cell_type": "code",
   "execution_count": 0,
   "metadata": {
    "colab": {},
    "colab_type": "code",
    "id": "PzWh1BZYGhNC"
   },
   "outputs": [],
   "source": [
    "# run this cell to upload file if you are using google colab\n",
    "from google.colab import files\n",
    "files.upload()"
   ]
  },
  {
   "cell_type": "code",
   "execution_count": 43,
   "metadata": {
    "colab": {
     "base_uri": "https://localhost:8080/",
     "height": 122
    },
    "colab_type": "code",
    "id": "pqtWAjcvEbYE",
    "outputId": "af323634-f4ed-43a1-a690-67f243644b8b"
   },
   "outputs": [
    {
     "name": "stdout",
     "output_type": "stream",
     "text": [
      "Go to this URL in a browser: https://accounts.google.com/o/oauth2/auth?client_id=947318989803-6bn6qk8qdgf4n4g3pfee6491hc0brc4i.apps.googleusercontent.com&redirect_uri=urn%3aietf%3awg%3aoauth%3a2.0%3aoob&response_type=code&scope=email%20https%3a%2f%2fwww.googleapis.com%2fauth%2fdocs.test%20https%3a%2f%2fwww.googleapis.com%2fauth%2fdrive%20https%3a%2f%2fwww.googleapis.com%2fauth%2fdrive.photos.readonly%20https%3a%2f%2fwww.googleapis.com%2fauth%2fpeopleapi.readonly\n",
      "\n",
      "Enter your authorization code:\n",
      "··········\n",
      "Mounted at /content/drive\n"
     ]
    }
   ],
   "source": [
    "from google.colab import drive\n",
    "drive.mount('/content/drive')"
   ]
  },
  {
   "cell_type": "code",
   "execution_count": 0,
   "metadata": {
    "colab": {},
    "colab_type": "code",
    "id": "P30of1VSGPFX"
   },
   "outputs": [],
   "source": [
    "import pandas as pd"
   ]
  },
  {
   "cell_type": "code",
   "execution_count": 0,
   "metadata": {
    "colab": {},
    "colab_type": "code",
    "id": "-gDC6cSW_FSK"
   },
   "outputs": [],
   "source": [
    "df = pd.read_csv('/content/drive/My Drive/Colab Notebooks/LAB/prices.csv')"
   ]
  },
  {
   "cell_type": "code",
   "execution_count": 47,
   "metadata": {
    "colab": {
     "base_uri": "https://localhost:8080/",
     "height": 204
    },
    "colab_type": "code",
    "id": "eW9MzHJ4GWd5",
    "outputId": "2ec30d5c-1695-4a96-f858-6b6ea1684e75"
   },
   "outputs": [
    {
     "data": {
      "text/html": [
       "<div>\n",
       "<style scoped>\n",
       "    .dataframe tbody tr th:only-of-type {\n",
       "        vertical-align: middle;\n",
       "    }\n",
       "\n",
       "    .dataframe tbody tr th {\n",
       "        vertical-align: top;\n",
       "    }\n",
       "\n",
       "    .dataframe thead th {\n",
       "        text-align: right;\n",
       "    }\n",
       "</style>\n",
       "<table border=\"1\" class=\"dataframe\">\n",
       "  <thead>\n",
       "    <tr style=\"text-align: right;\">\n",
       "      <th></th>\n",
       "      <th>date</th>\n",
       "      <th>symbol</th>\n",
       "      <th>open</th>\n",
       "      <th>close</th>\n",
       "      <th>low</th>\n",
       "      <th>high</th>\n",
       "      <th>volume</th>\n",
       "    </tr>\n",
       "  </thead>\n",
       "  <tbody>\n",
       "    <tr>\n",
       "      <th>0</th>\n",
       "      <td>2016-01-05 00:00:00</td>\n",
       "      <td>WLTW</td>\n",
       "      <td>123.430000</td>\n",
       "      <td>125.839996</td>\n",
       "      <td>122.309998</td>\n",
       "      <td>126.250000</td>\n",
       "      <td>2163600.0</td>\n",
       "    </tr>\n",
       "    <tr>\n",
       "      <th>1</th>\n",
       "      <td>2016-01-06 00:00:00</td>\n",
       "      <td>WLTW</td>\n",
       "      <td>125.239998</td>\n",
       "      <td>119.980003</td>\n",
       "      <td>119.940002</td>\n",
       "      <td>125.540001</td>\n",
       "      <td>2386400.0</td>\n",
       "    </tr>\n",
       "    <tr>\n",
       "      <th>2</th>\n",
       "      <td>2016-01-07 00:00:00</td>\n",
       "      <td>WLTW</td>\n",
       "      <td>116.379997</td>\n",
       "      <td>114.949997</td>\n",
       "      <td>114.930000</td>\n",
       "      <td>119.739998</td>\n",
       "      <td>2489500.0</td>\n",
       "    </tr>\n",
       "    <tr>\n",
       "      <th>3</th>\n",
       "      <td>2016-01-08 00:00:00</td>\n",
       "      <td>WLTW</td>\n",
       "      <td>115.480003</td>\n",
       "      <td>116.620003</td>\n",
       "      <td>113.500000</td>\n",
       "      <td>117.440002</td>\n",
       "      <td>2006300.0</td>\n",
       "    </tr>\n",
       "    <tr>\n",
       "      <th>4</th>\n",
       "      <td>2016-01-11 00:00:00</td>\n",
       "      <td>WLTW</td>\n",
       "      <td>117.010002</td>\n",
       "      <td>114.970001</td>\n",
       "      <td>114.089996</td>\n",
       "      <td>117.330002</td>\n",
       "      <td>1408600.0</td>\n",
       "    </tr>\n",
       "  </tbody>\n",
       "</table>\n",
       "</div>"
      ],
      "text/plain": [
       "                  date symbol        open  ...         low        high     volume\n",
       "0  2016-01-05 00:00:00   WLTW  123.430000  ...  122.309998  126.250000  2163600.0\n",
       "1  2016-01-06 00:00:00   WLTW  125.239998  ...  119.940002  125.540001  2386400.0\n",
       "2  2016-01-07 00:00:00   WLTW  116.379997  ...  114.930000  119.739998  2489500.0\n",
       "3  2016-01-08 00:00:00   WLTW  115.480003  ...  113.500000  117.440002  2006300.0\n",
       "4  2016-01-11 00:00:00   WLTW  117.010002  ...  114.089996  117.330002  1408600.0\n",
       "\n",
       "[5 rows x 7 columns]"
      ]
     },
     "execution_count": 47,
     "metadata": {
      "tags": []
     },
     "output_type": "execute_result"
    }
   ],
   "source": [
    "df.head()"
   ]
  },
  {
   "cell_type": "markdown",
   "metadata": {
    "colab_type": "text",
    "id": "HlLKVPVH_BCT"
   },
   "source": [
    "## Question 2"
   ]
  },
  {
   "cell_type": "markdown",
   "metadata": {
    "colab_type": "text",
    "id": "9J4BlzVA_gZd"
   },
   "source": [
    "### Drop columnns\n",
    "- drop \"date\" and \"symbol\" column from the data"
   ]
  },
  {
   "cell_type": "code",
   "execution_count": 0,
   "metadata": {
    "colab": {},
    "colab_type": "code",
    "id": "IKEK8aEE_Csx"
   },
   "outputs": [],
   "source": [
    "df1 = df.drop(['date', 'symbol'], axis=1)"
   ]
  },
  {
   "cell_type": "markdown",
   "metadata": {
    "colab_type": "text",
    "id": "cTPhO6v-AiZt"
   },
   "source": [
    "## Question 3"
   ]
  },
  {
   "cell_type": "markdown",
   "metadata": {
    "colab_type": "text",
    "id": "SsZXmF3NAkna"
   },
   "source": [
    "### Take initial rows\n",
    "- Take first 1000 rows from the data\n",
    "- This step is done to make the execution faster"
   ]
  },
  {
   "cell_type": "code",
   "execution_count": 0,
   "metadata": {
    "colab": {},
    "colab_type": "code",
    "id": "aKs04iIHAjxN"
   },
   "outputs": [],
   "source": [
    "df2 = df1[0:1000]"
   ]
  },
  {
   "cell_type": "code",
   "execution_count": 56,
   "metadata": {
    "colab": {
     "base_uri": "https://localhost:8080/",
     "height": 34
    },
    "colab_type": "code",
    "id": "VfaDwRBRHF0D",
    "outputId": "8c6f7e68-2793-44cb-991e-f612c9484e25"
   },
   "outputs": [
    {
     "data": {
      "text/plain": [
       "(1000, 5)"
      ]
     },
     "execution_count": 56,
     "metadata": {
      "tags": []
     },
     "output_type": "execute_result"
    }
   ],
   "source": [
    "df2.shape"
   ]
  },
  {
   "cell_type": "markdown",
   "metadata": {
    "colab_type": "text",
    "id": "6vGtnapgBIJm"
   },
   "source": [
    "## Question 4"
   ]
  },
  {
   "cell_type": "markdown",
   "metadata": {
    "colab_type": "text",
    "id": "C8u_jlbABTip"
   },
   "source": [
    "### Get features and label from the dataset in separate variable\n",
    "- Take \"open\", \"close\", \"low\", \"high\" columns as features\n",
    "- Take \"volume\" column as label\n",
    "- Normalize label column by dividing it with 1000000"
   ]
  },
  {
   "cell_type": "code",
   "execution_count": 0,
   "metadata": {
    "colab": {},
    "colab_type": "code",
    "id": "xQjCMzUXBJbg"
   },
   "outputs": [],
   "source": [
    "features = df2.drop(['volume'], axis =1)"
   ]
  },
  {
   "cell_type": "code",
   "execution_count": 0,
   "metadata": {
    "colab": {},
    "colab_type": "code",
    "id": "u9m8Li21IeDj"
   },
   "outputs": [],
   "source": [
    "label = df2['volume']"
   ]
  },
  {
   "cell_type": "code",
   "execution_count": 99,
   "metadata": {
    "colab": {
     "base_uri": "https://localhost:8080/",
     "height": 221
    },
    "colab_type": "code",
    "id": "5yb9hOV3Sskv",
    "outputId": "bea4b0d6-d01e-4beb-9cfe-92104dae1aae"
   },
   "outputs": [
    {
     "data": {
      "text/plain": [
       "0       2163600.0\n",
       "1       2386400.0\n",
       "2       2489500.0\n",
       "3       2006300.0\n",
       "4       1408600.0\n",
       "          ...    \n",
       "995     2133200.0\n",
       "996     1982400.0\n",
       "997    37152800.0\n",
       "998     6568600.0\n",
       "999     5604300.0\n",
       "Name: volume, Length: 1000, dtype: float64"
      ]
     },
     "execution_count": 99,
     "metadata": {
      "tags": []
     },
     "output_type": "execute_result"
    }
   ],
   "source": [
    "label"
   ]
  },
  {
   "cell_type": "code",
   "execution_count": 0,
   "metadata": {
    "colab": {},
    "colab_type": "code",
    "id": "bpzqYkY1MrRa"
   },
   "outputs": [],
   "source": [
    "label = label/1000000"
   ]
  },
  {
   "cell_type": "code",
   "execution_count": 101,
   "metadata": {
    "colab": {
     "base_uri": "https://localhost:8080/",
     "height": 221
    },
    "colab_type": "code",
    "id": "kGoXXljgS3oR",
    "outputId": "18d1f263-d9fd-4eae-9c4b-4ae27868d9eb"
   },
   "outputs": [
    {
     "data": {
      "text/plain": [
       "0       2.1636\n",
       "1       2.3864\n",
       "2       2.4895\n",
       "3       2.0063\n",
       "4       1.4086\n",
       "        ...   \n",
       "995     2.1332\n",
       "996     1.9824\n",
       "997    37.1528\n",
       "998     6.5686\n",
       "999     5.6043\n",
       "Name: volume, Length: 1000, dtype: float64"
      ]
     },
     "execution_count": 101,
     "metadata": {
      "tags": []
     },
     "output_type": "execute_result"
    }
   ],
   "source": [
    "label"
   ]
  },
  {
   "cell_type": "markdown",
   "metadata": {
    "colab_type": "text",
    "id": "aTAKzlxZBz0z"
   },
   "source": [
    "## Question 5"
   ]
  },
  {
   "cell_type": "markdown",
   "metadata": {
    "colab_type": "text",
    "id": "IfY8Km1Zzyt2"
   },
   "source": [
    "### Convert data\n",
    "- Convert features and labels to numpy array\n",
    "- Convert their data type to \"float32\""
   ]
  },
  {
   "cell_type": "code",
   "execution_count": 0,
   "metadata": {
    "colab": {},
    "colab_type": "code",
    "id": "Ko7nnQVbYENh"
   },
   "outputs": [],
   "source": [
    "features = np.array(features)\n",
    "features = features.astype('float32')\n",
    "label = np.array(label)\n",
    "label = label.astype('float32')"
   ]
  },
  {
   "cell_type": "markdown",
   "metadata": {
    "colab_type": "text",
    "id": "3TWpN0nVTpUx"
   },
   "source": [
    "## Question 6"
   ]
  },
  {
   "cell_type": "markdown",
   "metadata": {
    "colab_type": "text",
    "id": "WQ1FKEs-4btX"
   },
   "source": [
    "### Normalize data\n",
    "- Normalize features\n",
    "- Use tf.math.l2_normalize to normalize features\n",
    "- You can read more about it here https://www.tensorflow.org/api_docs/python/tf/math/l2_normalize"
   ]
  },
  {
   "cell_type": "code",
   "execution_count": 0,
   "metadata": {
    "colab": {},
    "colab_type": "code",
    "id": "V0Tfe00X78wB"
   },
   "outputs": [],
   "source": [
    "features = tf.math.l2_normalize(features)"
   ]
  },
  {
   "cell_type": "markdown",
   "metadata": {
    "colab_type": "text",
    "id": "wmXUGc2oTspa"
   },
   "source": [
    "## Question 7"
   ]
  },
  {
   "cell_type": "markdown",
   "metadata": {
    "colab_type": "text",
    "id": "VJelDMpzxs0L"
   },
   "source": [
    "### Define weight and bias\n",
    "- Initialize weight and bias with tf.zeros\n",
    "- tf.zeros is an initializer that generates tensors initialized to 0\n",
    "- Specify the value for shape"
   ]
  },
  {
   "cell_type": "code",
   "execution_count": 0,
   "metadata": {
    "colab": {},
    "colab_type": "code",
    "id": "8o9RPWVTxs0O"
   },
   "outputs": [],
   "source": [
    "W = tf.zeros(shape=(4, 1))\n",
    "b = tf.zeros(shape=(1))"
   ]
  },
  {
   "cell_type": "markdown",
   "metadata": {
    "colab_type": "text",
    "id": "8a0wr94aTyjg"
   },
   "source": [
    "## Question 8"
   ]
  },
  {
   "cell_type": "markdown",
   "metadata": {
    "colab_type": "text",
    "id": "zMXXYdOSxs0Q"
   },
   "source": [
    "### Get prediction\n",
    "- Define a function to get prediction\n",
    "- Approach: prediction = (X * W) + b; here is X is features"
   ]
  },
  {
   "cell_type": "code",
   "execution_count": 0,
   "metadata": {
    "colab": {},
    "colab_type": "code",
    "id": "U8Cty1y0xs0S"
   },
   "outputs": [],
   "source": [
    "@tf.function\n",
    "def prediction(features, W, b):\n",
    "    y_pred = tf.add(tf.matmul(features, W), b)\n",
    "    return y_pred"
   ]
  },
  {
   "cell_type": "markdown",
   "metadata": {
    "colab_type": "text",
    "id": "lQmS3Tauxs0V"
   },
   "source": [
    "### Calculate loss\n",
    "- Calculate loss using predictions\n",
    "- Define a function to calculate loss\n",
    "- We are calculating mean squared error"
   ]
  },
  {
   "cell_type": "code",
   "execution_count": 0,
   "metadata": {
    "colab": {},
    "colab_type": "code",
    "id": "-FRXmDd5xs0X"
   },
   "outputs": [],
   "source": [
    "@tf.function\n",
    "def loss(y_actual, y_predicted):\n",
    "    diff = y_actual - y_predicted\n",
    "    sqr = tf.square(diff)\n",
    "    avg = tf.reduce_mean(sqr)\n",
    "    return avg"
   ]
  },
  {
   "cell_type": "markdown",
   "metadata": {
    "colab_type": "text",
    "id": "ZbBpnOtfT0wd"
   },
   "source": [
    "## Question 9"
   ]
  },
  {
   "cell_type": "markdown",
   "metadata": {
    "colab_type": "text",
    "id": "bkOzAUUsTmF_"
   },
   "source": [
    "### Define a function to train the model\n",
    "1.   Record all the mathematical steps to calculate Loss\n",
    "2.   Calculate Gradients of Loss w.r.t weights and bias\n",
    "3.   Update Weights and Bias based on gradients and learning rate to minimize loss"
   ]
  },
  {
   "cell_type": "code",
   "execution_count": 0,
   "metadata": {
    "colab": {},
    "colab_type": "code",
    "id": "2R4uieGYLYtM"
   },
   "outputs": [],
   "source": [
    "@tf.function\n",
    "def train(x, y_actual, W, b, learning_rate=0.01):\n",
    "    \n",
    "    # Record mathematical operations on 'tape' to calculate loss\n",
    "    with tf.GradientTape() as t:\n",
    "        t.watch([W,b])\n",
    "        current_prediction = prediction(x, W, b)\n",
    "        current_loss = loss(y_actual, current_prediction)\n",
    "    \n",
    "    # Calculate Gradients for Loss with respect to Weights and Bias\n",
    "    dW, db = t.gradient(current_loss,[W, b])\n",
    "    \n",
    "    # Update Weights and Bias\n",
    "    W = W - learning_rate * dW\n",
    "    b = b - learning_rate * db\n",
    "    \n",
    "    return W, b"
   ]
  },
  {
   "cell_type": "markdown",
   "metadata": {
    "colab_type": "text",
    "id": "AW4SEP8kT2ls"
   },
   "source": [
    "## Question 10"
   ]
  },
  {
   "cell_type": "markdown",
   "metadata": {
    "colab_type": "text",
    "id": "yeN0deOvT81N"
   },
   "source": [
    "### Train the model for 100 epochs \n",
    "- Observe the training loss at every iteration"
   ]
  },
  {
   "cell_type": "code",
   "execution_count": 110,
   "metadata": {
    "colab": {
     "base_uri": "https://localhost:8080/",
     "height": 1000
    },
    "colab_type": "code",
    "id": "Jjkn4gUgLevE",
    "outputId": "ba6ad6d1-2dab-4ab7-cb61-78dd52312e6b"
   },
   "outputs": [
    {
     "name": "stdout",
     "output_type": "stream",
     "text": [
      "Current Training Loss on iteration 0 236.16759\n",
      "Current Training Loss on iteration 1 235.09299\n",
      "Current Training Loss on iteration 2 234.06102\n",
      "Current Training Loss on iteration 3 233.06998\n",
      "Current Training Loss on iteration 4 232.11781\n",
      "Current Training Loss on iteration 5 231.20381\n",
      "Current Training Loss on iteration 6 230.32585\n",
      "Current Training Loss on iteration 7 229.48265\n",
      "Current Training Loss on iteration 8 228.67297\n",
      "Current Training Loss on iteration 9 227.89539\n",
      "Current Training Loss on iteration 10 227.14832\n",
      "Current Training Loss on iteration 11 226.43114\n",
      "Current Training Loss on iteration 12 225.74234\n",
      "Current Training Loss on iteration 13 225.0808\n",
      "Current Training Loss on iteration 14 224.44553\n",
      "Current Training Loss on iteration 15 223.835\n",
      "Current Training Loss on iteration 16 223.24931\n",
      "Current Training Loss on iteration 17 222.68655\n",
      "Current Training Loss on iteration 18 222.14595\n",
      "Current Training Loss on iteration 19 221.62688\n",
      "Current Training Loss on iteration 20 221.12842\n",
      "Current Training Loss on iteration 21 220.6498\n",
      "Current Training Loss on iteration 22 220.18993\n",
      "Current Training Loss on iteration 23 219.74841\n",
      "Current Training Loss on iteration 24 219.32425\n",
      "Current Training Loss on iteration 25 218.91705\n",
      "Current Training Loss on iteration 26 218.52579\n",
      "Current Training Loss on iteration 27 218.15027\n",
      "Current Training Loss on iteration 28 217.78957\n",
      "Current Training Loss on iteration 29 217.44315\n",
      "Current Training Loss on iteration 30 217.11034\n",
      "Current Training Loss on iteration 31 216.79077\n",
      "Current Training Loss on iteration 32 216.48412\n",
      "Current Training Loss on iteration 33 216.18932\n",
      "Current Training Loss on iteration 34 215.90611\n",
      "Current Training Loss on iteration 35 215.63437\n",
      "Current Training Loss on iteration 36 215.37334\n",
      "Current Training Loss on iteration 37 215.12263\n",
      "Current Training Loss on iteration 38 214.88185\n",
      "Current Training Loss on iteration 39 214.65053\n",
      "Current Training Loss on iteration 40 214.42859\n",
      "Current Training Loss on iteration 41 214.21527\n",
      "Current Training Loss on iteration 42 214.01044\n",
      "Current Training Loss on iteration 43 213.81369\n",
      "Current Training Loss on iteration 44 213.62482\n",
      "Current Training Loss on iteration 45 213.44333\n",
      "Current Training Loss on iteration 46 213.2691\n",
      "Current Training Loss on iteration 47 213.10179\n",
      "Current Training Loss on iteration 48 212.94106\n",
      "Current Training Loss on iteration 49 212.78687\n",
      "Current Training Loss on iteration 50 212.63857\n",
      "Current Training Loss on iteration 51 212.4961\n",
      "Current Training Loss on iteration 52 212.35948\n",
      "Current Training Loss on iteration 53 212.22816\n",
      "Current Training Loss on iteration 54 212.10205\n",
      "Current Training Loss on iteration 55 211.98093\n",
      "Current Training Loss on iteration 56 211.86461\n",
      "Current Training Loss on iteration 57 211.75293\n",
      "Current Training Loss on iteration 58 211.64558\n",
      "Current Training Loss on iteration 59 211.54266\n",
      "Current Training Loss on iteration 60 211.44374\n",
      "Current Training Loss on iteration 61 211.34874\n",
      "Current Training Loss on iteration 62 211.2575\n",
      "Current Training Loss on iteration 63 211.16982\n",
      "Current Training Loss on iteration 64 211.08572\n",
      "Current Training Loss on iteration 65 211.00484\n",
      "Current Training Loss on iteration 66 210.92729\n",
      "Current Training Loss on iteration 67 210.85278\n",
      "Current Training Loss on iteration 68 210.78104\n",
      "Current Training Loss on iteration 69 210.71225\n",
      "Current Training Loss on iteration 70 210.64633\n",
      "Current Training Loss on iteration 71 210.58289\n",
      "Current Training Loss on iteration 72 210.52199\n",
      "Current Training Loss on iteration 73 210.46347\n",
      "Current Training Loss on iteration 74 210.4073\n",
      "Current Training Loss on iteration 75 210.3533\n",
      "Current Training Loss on iteration 76 210.30153\n",
      "Current Training Loss on iteration 77 210.2518\n",
      "Current Training Loss on iteration 78 210.204\n",
      "Current Training Loss on iteration 79 210.15811\n",
      "Current Training Loss on iteration 80 210.1141\n",
      "Current Training Loss on iteration 81 210.0717\n",
      "Current Training Loss on iteration 82 210.03108\n",
      "Current Training Loss on iteration 83 209.99205\n",
      "Current Training Loss on iteration 84 209.95453\n",
      "Current Training Loss on iteration 85 209.91852\n",
      "Current Training Loss on iteration 86 209.88396\n",
      "Current Training Loss on iteration 87 209.85075\n",
      "Current Training Loss on iteration 88 209.81891\n",
      "Current Training Loss on iteration 89 209.78818\n",
      "Current Training Loss on iteration 90 209.75874\n",
      "Current Training Loss on iteration 91 209.73053\n",
      "Current Training Loss on iteration 92 209.70349\n",
      "Current Training Loss on iteration 93 209.67744\n",
      "Current Training Loss on iteration 94 209.65225\n",
      "Current Training Loss on iteration 95 209.62833\n",
      "Current Training Loss on iteration 96 209.6052\n",
      "Current Training Loss on iteration 97 209.58302\n",
      "Current Training Loss on iteration 98 209.56174\n",
      "Current Training Loss on iteration 99 209.5413\n"
     ]
    }
   ],
   "source": [
    "for i in range(100):    \n",
    "    W, b = train(features, label, W, b)\n",
    "    print('Current Training Loss on iteration', i, loss(label, prediction(features, W, b)).numpy())"
   ]
  },
  {
   "cell_type": "markdown",
   "metadata": {
    "colab_type": "text",
    "id": "vanvD93FV0_k"
   },
   "source": [
    "### Observe values of Weight\n",
    "- Print the updated values"
   ]
  },
  {
   "cell_type": "code",
   "execution_count": 111,
   "metadata": {
    "colab": {
     "base_uri": "https://localhost:8080/",
     "height": 85
    },
    "colab_type": "code",
    "id": "QSqpy4gtWaOD",
    "outputId": "dd235f77-5eb8-4ebf-ae6c-e0b5f8ecd83d"
   },
   "outputs": [
    {
     "data": {
      "text/plain": [
       "array([[0.0547828 ],\n",
       "       [0.05488191],\n",
       "       [0.05422735],\n",
       "       [0.05533117]], dtype=float32)"
      ]
     },
     "execution_count": 111,
     "metadata": {
      "tags": []
     },
     "output_type": "execute_result"
    }
   ],
   "source": [
    "W.numpy()"
   ]
  },
  {
   "cell_type": "markdown",
   "metadata": {
    "colab_type": "text",
    "id": "y9KpRupYUEwy"
   },
   "source": [
    "### Observe values of Bias\n",
    "- Print the updated values"
   ]
  },
  {
   "cell_type": "code",
   "execution_count": 112,
   "metadata": {
    "colab": {
     "base_uri": "https://localhost:8080/",
     "height": 34
    },
    "colab_type": "code",
    "id": "bhEWkGqHWohg",
    "outputId": "46ff7f82-48c8-4684-a92c-2c2f74a2d1b7"
   },
   "outputs": [
    {
     "data": {
      "text/plain": [
       "array([4.607657], dtype=float32)"
      ]
     },
     "execution_count": 112,
     "metadata": {
      "tags": []
     },
     "output_type": "execute_result"
    }
   ],
   "source": [
    "b.numpy()"
   ]
  }
 ],
 "metadata": {
  "colab": {
   "collapsed_sections": [],
   "name": "Questions - Internal - R6 - AIML Labs.ipynb",
   "provenance": [],
   "toc_visible": true
  },
  "kernelspec": {
   "display_name": "Python 3",
   "language": "python",
   "name": "python3"
  },
  "language_info": {
   "codemirror_mode": {
    "name": "ipython",
    "version": 3
   },
   "file_extension": ".py",
   "mimetype": "text/x-python",
   "name": "python",
   "nbconvert_exporter": "python",
   "pygments_lexer": "ipython3",
   "version": "3.7.3"
  }
 },
 "nbformat": 4,
 "nbformat_minor": 1
}
