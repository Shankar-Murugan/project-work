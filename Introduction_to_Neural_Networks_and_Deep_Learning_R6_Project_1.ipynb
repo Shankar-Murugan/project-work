{
 "cells": [
  {
   "cell_type": "code",
   "execution_count": 1,
   "metadata": {
    "colab": {
     "base_uri": "https://localhost:8080/",
     "height": 34
    },
    "colab_type": "code",
    "id": "51XGF_FIcT91",
    "outputId": "c44fb86a-4c42-4ceb-b278-35b5485b0b6c"
   },
   "outputs": [
    {
     "name": "stdout",
     "output_type": "stream",
     "text": [
      "Drive already mounted at /content/drive; to attempt to forcibly remount, call drive.mount(\"/content/drive\", force_remount=True).\n"
     ]
    }
   ],
   "source": [
    "from google.colab import drive\n",
    "drive.mount('/content/drive')"
   ]
  },
  {
   "cell_type": "markdown",
   "metadata": {
    "colab_type": "text",
    "id": "QooQrmJQcFZJ"
   },
   "source": [
    "# Project 1 Introduction to Neural Networks and Deep Learning"
   ]
  },
  {
   "cell_type": "markdown",
   "metadata": {
    "colab_type": "text",
    "id": "LNUUN-xRcFZO"
   },
   "source": [
    "The case study is from an open-source dataset from Kaggle.\n",
    "\n",
    "Link to the Kaggle project site: https://www.kaggle.com/barelydedicated/bank-customer-churn-modeling\n",
    "\n",
    "Given a Bank customer, can we build a classifier that can determine whether they will leave or not using Neural networks?\n",
    "\n",
    "bank.csv\n",
    "\n",
    "The points distribution for this case is as follows:\n",
    "\n",
    "1. Read the dataset\n",
    "2. Drop the columns which are unique for all users like IDs (2.5 points)\n",
    "3. Distinguish the feature and target set (2.5 points)\n",
    "4. Divide the data set into train and test sets\n",
    "5. Normalize the train and test data (2.5 points)\n",
    "6. Initialize & build the model (10 points)\n",
    "7. Optimize the model (5 points)\n",
    "9. Predict the results using 0.5 as a threshold (5 points)\n",
    "10. Print the Accuracy score and confusion matrix (2.5 points)"
   ]
  },
  {
   "cell_type": "code",
   "execution_count": 0,
   "metadata": {
    "colab": {},
    "colab_type": "code",
    "id": "18sEBJuicFZS"
   },
   "outputs": [],
   "source": [
    "import numpy as np\n",
    "import pandas as pd"
   ]
  },
  {
   "cell_type": "markdown",
   "metadata": {
    "colab_type": "text",
    "id": "qZdJ2qtBcFZZ"
   },
   "source": [
    "# 1. Read the dataset"
   ]
  },
  {
   "cell_type": "code",
   "execution_count": 0,
   "metadata": {
    "colab": {},
    "colab_type": "code",
    "id": "7WEnZYT_cFZa"
   },
   "outputs": [],
   "source": [
    "bank_data=pd.read_csv(\"/content/drive/My Drive/Colab Notebooks/LAB/Residency_VI_Ext_LAB/bank.csv\")"
   ]
  },
  {
   "cell_type": "code",
   "execution_count": 4,
   "metadata": {
    "colab": {
     "base_uri": "https://localhost:8080/",
     "height": 217
    },
    "colab_type": "code",
    "id": "kQpikk2_cFZg",
    "outputId": "350d46c4-fea3-4a59-ae32-a85016239e93"
   },
   "outputs": [
    {
     "data": {
      "text/html": [
       "<div>\n",
       "<style scoped>\n",
       "    .dataframe tbody tr th:only-of-type {\n",
       "        vertical-align: middle;\n",
       "    }\n",
       "\n",
       "    .dataframe tbody tr th {\n",
       "        vertical-align: top;\n",
       "    }\n",
       "\n",
       "    .dataframe thead th {\n",
       "        text-align: right;\n",
       "    }\n",
       "</style>\n",
       "<table border=\"1\" class=\"dataframe\">\n",
       "  <thead>\n",
       "    <tr style=\"text-align: right;\">\n",
       "      <th></th>\n",
       "      <th>RowNumber</th>\n",
       "      <th>CustomerId</th>\n",
       "      <th>Surname</th>\n",
       "      <th>CreditScore</th>\n",
       "      <th>Geography</th>\n",
       "      <th>Gender</th>\n",
       "      <th>Age</th>\n",
       "      <th>Tenure</th>\n",
       "      <th>Balance</th>\n",
       "      <th>NumOfProducts</th>\n",
       "      <th>HasCrCard</th>\n",
       "      <th>IsActiveMember</th>\n",
       "      <th>EstimatedSalary</th>\n",
       "      <th>Exited</th>\n",
       "    </tr>\n",
       "  </thead>\n",
       "  <tbody>\n",
       "    <tr>\n",
       "      <th>0</th>\n",
       "      <td>1</td>\n",
       "      <td>15634602</td>\n",
       "      <td>Hargrave</td>\n",
       "      <td>619</td>\n",
       "      <td>France</td>\n",
       "      <td>Female</td>\n",
       "      <td>42</td>\n",
       "      <td>2</td>\n",
       "      <td>0.00</td>\n",
       "      <td>1</td>\n",
       "      <td>1</td>\n",
       "      <td>1</td>\n",
       "      <td>101348.88</td>\n",
       "      <td>1</td>\n",
       "    </tr>\n",
       "    <tr>\n",
       "      <th>1</th>\n",
       "      <td>2</td>\n",
       "      <td>15647311</td>\n",
       "      <td>Hill</td>\n",
       "      <td>608</td>\n",
       "      <td>Spain</td>\n",
       "      <td>Female</td>\n",
       "      <td>41</td>\n",
       "      <td>1</td>\n",
       "      <td>83807.86</td>\n",
       "      <td>1</td>\n",
       "      <td>0</td>\n",
       "      <td>1</td>\n",
       "      <td>112542.58</td>\n",
       "      <td>0</td>\n",
       "    </tr>\n",
       "    <tr>\n",
       "      <th>2</th>\n",
       "      <td>3</td>\n",
       "      <td>15619304</td>\n",
       "      <td>Onio</td>\n",
       "      <td>502</td>\n",
       "      <td>France</td>\n",
       "      <td>Female</td>\n",
       "      <td>42</td>\n",
       "      <td>8</td>\n",
       "      <td>159660.80</td>\n",
       "      <td>3</td>\n",
       "      <td>1</td>\n",
       "      <td>0</td>\n",
       "      <td>113931.57</td>\n",
       "      <td>1</td>\n",
       "    </tr>\n",
       "    <tr>\n",
       "      <th>3</th>\n",
       "      <td>4</td>\n",
       "      <td>15701354</td>\n",
       "      <td>Boni</td>\n",
       "      <td>699</td>\n",
       "      <td>France</td>\n",
       "      <td>Female</td>\n",
       "      <td>39</td>\n",
       "      <td>1</td>\n",
       "      <td>0.00</td>\n",
       "      <td>2</td>\n",
       "      <td>0</td>\n",
       "      <td>0</td>\n",
       "      <td>93826.63</td>\n",
       "      <td>0</td>\n",
       "    </tr>\n",
       "    <tr>\n",
       "      <th>4</th>\n",
       "      <td>5</td>\n",
       "      <td>15737888</td>\n",
       "      <td>Mitchell</td>\n",
       "      <td>850</td>\n",
       "      <td>Spain</td>\n",
       "      <td>Female</td>\n",
       "      <td>43</td>\n",
       "      <td>2</td>\n",
       "      <td>125510.82</td>\n",
       "      <td>1</td>\n",
       "      <td>1</td>\n",
       "      <td>1</td>\n",
       "      <td>79084.10</td>\n",
       "      <td>0</td>\n",
       "    </tr>\n",
       "  </tbody>\n",
       "</table>\n",
       "</div>"
      ],
      "text/plain": [
       "   RowNumber  CustomerId   Surname  ...  IsActiveMember EstimatedSalary Exited\n",
       "0          1    15634602  Hargrave  ...               1       101348.88      1\n",
       "1          2    15647311      Hill  ...               1       112542.58      0\n",
       "2          3    15619304      Onio  ...               0       113931.57      1\n",
       "3          4    15701354      Boni  ...               0        93826.63      0\n",
       "4          5    15737888  Mitchell  ...               1        79084.10      0\n",
       "\n",
       "[5 rows x 14 columns]"
      ]
     },
     "execution_count": 4,
     "metadata": {
      "tags": []
     },
     "output_type": "execute_result"
    }
   ],
   "source": [
    "bank_data.head()"
   ]
  },
  {
   "cell_type": "code",
   "execution_count": 5,
   "metadata": {
    "colab": {
     "base_uri": "https://localhost:8080/",
     "height": 34
    },
    "colab_type": "code",
    "id": "bK_Wijq7cFZn",
    "outputId": "d6d8278b-8edc-4107-9b15-15875f3e7112"
   },
   "outputs": [
    {
     "data": {
      "text/plain": [
       "(10000, 14)"
      ]
     },
     "execution_count": 5,
     "metadata": {
      "tags": []
     },
     "output_type": "execute_result"
    }
   ],
   "source": [
    "bank_data.shape"
   ]
  },
  {
   "cell_type": "code",
   "execution_count": 6,
   "metadata": {
    "colab": {
     "base_uri": "https://localhost:8080/",
     "height": 354
    },
    "colab_type": "code",
    "id": "hyjhMHmGcFZv",
    "outputId": "485d6090-2b77-43ac-90c8-19ffab371bda"
   },
   "outputs": [
    {
     "name": "stdout",
     "output_type": "stream",
     "text": [
      "<class 'pandas.core.frame.DataFrame'>\n",
      "RangeIndex: 10000 entries, 0 to 9999\n",
      "Data columns (total 14 columns):\n",
      "RowNumber          10000 non-null int64\n",
      "CustomerId         10000 non-null int64\n",
      "Surname            10000 non-null object\n",
      "CreditScore        10000 non-null int64\n",
      "Geography          10000 non-null object\n",
      "Gender             10000 non-null object\n",
      "Age                10000 non-null int64\n",
      "Tenure             10000 non-null int64\n",
      "Balance            10000 non-null float64\n",
      "NumOfProducts      10000 non-null int64\n",
      "HasCrCard          10000 non-null int64\n",
      "IsActiveMember     10000 non-null int64\n",
      "EstimatedSalary    10000 non-null float64\n",
      "Exited             10000 non-null int64\n",
      "dtypes: float64(2), int64(9), object(3)\n",
      "memory usage: 1.1+ MB\n"
     ]
    }
   ],
   "source": [
    "bank_data.info()"
   ]
  },
  {
   "cell_type": "code",
   "execution_count": 0,
   "metadata": {
    "colab": {},
    "colab_type": "code",
    "id": "5sThWF2icFZ1"
   },
   "outputs": [],
   "source": [
    "bank_data_1 = bank_data.drop(['RowNumber', 'CustomerId', 'Surname'], axis = 1)"
   ]
  },
  {
   "cell_type": "code",
   "execution_count": 8,
   "metadata": {
    "colab": {
     "base_uri": "https://localhost:8080/",
     "height": 34
    },
    "colab_type": "code",
    "id": "Mk6HhXTzcFZ5",
    "outputId": "2dfd8755-ec2b-4f4f-e272-57b7fbdc4106"
   },
   "outputs": [
    {
     "data": {
      "text/plain": [
       "(10000, 11)"
      ]
     },
     "execution_count": 8,
     "metadata": {
      "tags": []
     },
     "output_type": "execute_result"
    }
   ],
   "source": [
    "bank_data_1.shape"
   ]
  },
  {
   "cell_type": "markdown",
   "metadata": {
    "colab_type": "text",
    "id": "4IqLIgtUcFZ-"
   },
   "source": [
    "# Lets convert the Geography and Gender to categorial."
   ]
  },
  {
   "cell_type": "code",
   "execution_count": 0,
   "metadata": {
    "colab": {},
    "colab_type": "code",
    "id": "locLQQ6hcFaA"
   },
   "outputs": [],
   "source": [
    "bank_data_1[\"Geography\"] = bank_data_1[\"Geography\"].astype('category')\n",
    "bank_data_1[\"Gender\"] = bank_data_1[\"Gender\"].astype('category')"
   ]
  },
  {
   "cell_type": "code",
   "execution_count": 0,
   "metadata": {
    "colab": {},
    "colab_type": "code",
    "id": "RDshpsHscFaH"
   },
   "outputs": [],
   "source": [
    "bank_data_1[\"Geography\"] = bank_data_1[\"Geography\"].cat.codes\n",
    "bank_data_1[\"Gender\"] = bank_data_1[\"Gender\"].cat.codes"
   ]
  },
  {
   "cell_type": "code",
   "execution_count": 11,
   "metadata": {
    "colab": {
     "base_uri": "https://localhost:8080/",
     "height": 197
    },
    "colab_type": "code",
    "id": "wRoOG9gYcFaM",
    "outputId": "978accb2-8d97-4ff7-b7d5-9e25028b7894"
   },
   "outputs": [
    {
     "data": {
      "text/html": [
       "<div>\n",
       "<style scoped>\n",
       "    .dataframe tbody tr th:only-of-type {\n",
       "        vertical-align: middle;\n",
       "    }\n",
       "\n",
       "    .dataframe tbody tr th {\n",
       "        vertical-align: top;\n",
       "    }\n",
       "\n",
       "    .dataframe thead th {\n",
       "        text-align: right;\n",
       "    }\n",
       "</style>\n",
       "<table border=\"1\" class=\"dataframe\">\n",
       "  <thead>\n",
       "    <tr style=\"text-align: right;\">\n",
       "      <th></th>\n",
       "      <th>CreditScore</th>\n",
       "      <th>Geography</th>\n",
       "      <th>Gender</th>\n",
       "      <th>Age</th>\n",
       "      <th>Tenure</th>\n",
       "      <th>Balance</th>\n",
       "      <th>NumOfProducts</th>\n",
       "      <th>HasCrCard</th>\n",
       "      <th>IsActiveMember</th>\n",
       "      <th>EstimatedSalary</th>\n",
       "      <th>Exited</th>\n",
       "    </tr>\n",
       "  </thead>\n",
       "  <tbody>\n",
       "    <tr>\n",
       "      <th>0</th>\n",
       "      <td>619</td>\n",
       "      <td>0</td>\n",
       "      <td>0</td>\n",
       "      <td>42</td>\n",
       "      <td>2</td>\n",
       "      <td>0.00</td>\n",
       "      <td>1</td>\n",
       "      <td>1</td>\n",
       "      <td>1</td>\n",
       "      <td>101348.88</td>\n",
       "      <td>1</td>\n",
       "    </tr>\n",
       "    <tr>\n",
       "      <th>1</th>\n",
       "      <td>608</td>\n",
       "      <td>2</td>\n",
       "      <td>0</td>\n",
       "      <td>41</td>\n",
       "      <td>1</td>\n",
       "      <td>83807.86</td>\n",
       "      <td>1</td>\n",
       "      <td>0</td>\n",
       "      <td>1</td>\n",
       "      <td>112542.58</td>\n",
       "      <td>0</td>\n",
       "    </tr>\n",
       "    <tr>\n",
       "      <th>2</th>\n",
       "      <td>502</td>\n",
       "      <td>0</td>\n",
       "      <td>0</td>\n",
       "      <td>42</td>\n",
       "      <td>8</td>\n",
       "      <td>159660.80</td>\n",
       "      <td>3</td>\n",
       "      <td>1</td>\n",
       "      <td>0</td>\n",
       "      <td>113931.57</td>\n",
       "      <td>1</td>\n",
       "    </tr>\n",
       "    <tr>\n",
       "      <th>3</th>\n",
       "      <td>699</td>\n",
       "      <td>0</td>\n",
       "      <td>0</td>\n",
       "      <td>39</td>\n",
       "      <td>1</td>\n",
       "      <td>0.00</td>\n",
       "      <td>2</td>\n",
       "      <td>0</td>\n",
       "      <td>0</td>\n",
       "      <td>93826.63</td>\n",
       "      <td>0</td>\n",
       "    </tr>\n",
       "    <tr>\n",
       "      <th>4</th>\n",
       "      <td>850</td>\n",
       "      <td>2</td>\n",
       "      <td>0</td>\n",
       "      <td>43</td>\n",
       "      <td>2</td>\n",
       "      <td>125510.82</td>\n",
       "      <td>1</td>\n",
       "      <td>1</td>\n",
       "      <td>1</td>\n",
       "      <td>79084.10</td>\n",
       "      <td>0</td>\n",
       "    </tr>\n",
       "  </tbody>\n",
       "</table>\n",
       "</div>"
      ],
      "text/plain": [
       "   CreditScore  Geography  Gender  ...  IsActiveMember  EstimatedSalary  Exited\n",
       "0          619          0       0  ...               1        101348.88       1\n",
       "1          608          2       0  ...               1        112542.58       0\n",
       "2          502          0       0  ...               0        113931.57       1\n",
       "3          699          0       0  ...               0         93826.63       0\n",
       "4          850          2       0  ...               1         79084.10       0\n",
       "\n",
       "[5 rows x 11 columns]"
      ]
     },
     "execution_count": 11,
     "metadata": {
      "tags": []
     },
     "output_type": "execute_result"
    }
   ],
   "source": [
    "bank_data_1.head()"
   ]
  },
  {
   "cell_type": "code",
   "execution_count": 12,
   "metadata": {
    "colab": {
     "base_uri": "https://localhost:8080/",
     "height": 301
    },
    "colab_type": "code",
    "id": "3IJcEV_RcFaR",
    "outputId": "7feb50de-5832-4a96-cf13-d07bb67a2e23"
   },
   "outputs": [
    {
     "name": "stdout",
     "output_type": "stream",
     "text": [
      "<class 'pandas.core.frame.DataFrame'>\n",
      "RangeIndex: 10000 entries, 0 to 9999\n",
      "Data columns (total 11 columns):\n",
      "CreditScore        10000 non-null int64\n",
      "Geography          10000 non-null int8\n",
      "Gender             10000 non-null int8\n",
      "Age                10000 non-null int64\n",
      "Tenure             10000 non-null int64\n",
      "Balance            10000 non-null float64\n",
      "NumOfProducts      10000 non-null int64\n",
      "HasCrCard          10000 non-null int64\n",
      "IsActiveMember     10000 non-null int64\n",
      "EstimatedSalary    10000 non-null float64\n",
      "Exited             10000 non-null int64\n",
      "dtypes: float64(2), int64(7), int8(2)\n",
      "memory usage: 722.8 KB\n"
     ]
    }
   ],
   "source": [
    "bank_data_1.info()"
   ]
  },
  {
   "cell_type": "markdown",
   "metadata": {
    "colab_type": "text",
    "id": "vf1SNyWhcFaY"
   },
   "source": [
    "### Observations: After dropping the irrelevant features, we are left with 10 features and a target. Also we have converted the Gender and Geography features to categorical codes."
   ]
  },
  {
   "cell_type": "markdown",
   "metadata": {
    "colab_type": "text",
    "id": "GD5X5v7VcFaZ"
   },
   "source": [
    "# 3. Distinguish the feature and the target set"
   ]
  },
  {
   "cell_type": "code",
   "execution_count": 0,
   "metadata": {
    "colab": {},
    "colab_type": "code",
    "id": "EwMdoYqucFab"
   },
   "outputs": [],
   "source": [
    "X = bank_data_1.drop(['Exited'], axis=1)"
   ]
  },
  {
   "cell_type": "code",
   "execution_count": 0,
   "metadata": {
    "colab": {},
    "colab_type": "code",
    "id": "oIcdYr9FcFag"
   },
   "outputs": [],
   "source": [
    "y = bank_data_1[\"Exited\"]"
   ]
  },
  {
   "cell_type": "code",
   "execution_count": 15,
   "metadata": {
    "colab": {
     "base_uri": "https://localhost:8080/",
     "height": 107
    },
    "colab_type": "code",
    "id": "OQDEjS-JcFak",
    "outputId": "358f22b7-43eb-4904-e01b-933f2ee02220"
   },
   "outputs": [
    {
     "data": {
      "text/html": [
       "<div>\n",
       "<style scoped>\n",
       "    .dataframe tbody tr th:only-of-type {\n",
       "        vertical-align: middle;\n",
       "    }\n",
       "\n",
       "    .dataframe tbody tr th {\n",
       "        vertical-align: top;\n",
       "    }\n",
       "\n",
       "    .dataframe thead th {\n",
       "        text-align: right;\n",
       "    }\n",
       "</style>\n",
       "<table border=\"1\" class=\"dataframe\">\n",
       "  <thead>\n",
       "    <tr style=\"text-align: right;\">\n",
       "      <th></th>\n",
       "      <th>CreditScore</th>\n",
       "      <th>Geography</th>\n",
       "      <th>Gender</th>\n",
       "      <th>Age</th>\n",
       "      <th>Tenure</th>\n",
       "      <th>Balance</th>\n",
       "      <th>NumOfProducts</th>\n",
       "      <th>HasCrCard</th>\n",
       "      <th>IsActiveMember</th>\n",
       "      <th>EstimatedSalary</th>\n",
       "    </tr>\n",
       "  </thead>\n",
       "  <tbody>\n",
       "    <tr>\n",
       "      <th>0</th>\n",
       "      <td>619</td>\n",
       "      <td>0</td>\n",
       "      <td>0</td>\n",
       "      <td>42</td>\n",
       "      <td>2</td>\n",
       "      <td>0.00</td>\n",
       "      <td>1</td>\n",
       "      <td>1</td>\n",
       "      <td>1</td>\n",
       "      <td>101348.88</td>\n",
       "    </tr>\n",
       "    <tr>\n",
       "      <th>1</th>\n",
       "      <td>608</td>\n",
       "      <td>2</td>\n",
       "      <td>0</td>\n",
       "      <td>41</td>\n",
       "      <td>1</td>\n",
       "      <td>83807.86</td>\n",
       "      <td>1</td>\n",
       "      <td>0</td>\n",
       "      <td>1</td>\n",
       "      <td>112542.58</td>\n",
       "    </tr>\n",
       "  </tbody>\n",
       "</table>\n",
       "</div>"
      ],
      "text/plain": [
       "   CreditScore  Geography  Gender  ...  HasCrCard  IsActiveMember  EstimatedSalary\n",
       "0          619          0       0  ...          1               1        101348.88\n",
       "1          608          2       0  ...          0               1        112542.58\n",
       "\n",
       "[2 rows x 10 columns]"
      ]
     },
     "execution_count": 15,
     "metadata": {
      "tags": []
     },
     "output_type": "execute_result"
    }
   ],
   "source": [
    "X.head(2)"
   ]
  },
  {
   "cell_type": "code",
   "execution_count": 16,
   "metadata": {
    "colab": {
     "base_uri": "https://localhost:8080/",
     "height": 70
    },
    "colab_type": "code",
    "id": "OZPynqSVcFap",
    "outputId": "b757efa5-0bc1-401d-dc5f-441d3962e63f"
   },
   "outputs": [
    {
     "data": {
      "text/plain": [
       "0    1\n",
       "1    0\n",
       "Name: Exited, dtype: int64"
      ]
     },
     "execution_count": 16,
     "metadata": {
      "tags": []
     },
     "output_type": "execute_result"
    }
   ],
   "source": [
    "y.head(2)"
   ]
  },
  {
   "cell_type": "markdown",
   "metadata": {
    "colab_type": "text",
    "id": "Ue3dUyoFcFaw"
   },
   "source": [
    "# 4. Divide the data set into Train and test sets."
   ]
  },
  {
   "cell_type": "code",
   "execution_count": 0,
   "metadata": {
    "colab": {},
    "colab_type": "code",
    "id": "W8Qb0mAMcFax"
   },
   "outputs": [],
   "source": [
    "from sklearn.model_selection import train_test_split\n",
    "X_train, X_test, y_train, y_test = train_test_split(X, y, test_size = 0.2, random_state = 7)"
   ]
  },
  {
   "cell_type": "code",
   "execution_count": 18,
   "metadata": {
    "colab": {
     "base_uri": "https://localhost:8080/",
     "height": 34
    },
    "colab_type": "code",
    "id": "s7tkv2NWcFa3",
    "outputId": "f7f58ddf-edb5-4ced-85e0-939a047cb841"
   },
   "outputs": [
    {
     "data": {
      "text/plain": [
       "(8000, 10)"
      ]
     },
     "execution_count": 18,
     "metadata": {
      "tags": []
     },
     "output_type": "execute_result"
    }
   ],
   "source": [
    "X_train.shape"
   ]
  },
  {
   "cell_type": "code",
   "execution_count": 19,
   "metadata": {
    "colab": {
     "base_uri": "https://localhost:8080/",
     "height": 34
    },
    "colab_type": "code",
    "id": "L-vGamlTcFa_",
    "outputId": "eff147f8-347e-4e26-8507-33ecc76d42b1"
   },
   "outputs": [
    {
     "data": {
      "text/plain": [
       "(8000,)"
      ]
     },
     "execution_count": 19,
     "metadata": {
      "tags": []
     },
     "output_type": "execute_result"
    }
   ],
   "source": [
    "y_train.shape"
   ]
  },
  {
   "cell_type": "code",
   "execution_count": 20,
   "metadata": {
    "colab": {
     "base_uri": "https://localhost:8080/",
     "height": 34
    },
    "colab_type": "code",
    "id": "lxYAvDUecFbK",
    "outputId": "f51fdbba-cd9b-4ee9-f491-15551bea70a1"
   },
   "outputs": [
    {
     "data": {
      "text/plain": [
       "(2000, 10)"
      ]
     },
     "execution_count": 20,
     "metadata": {
      "tags": []
     },
     "output_type": "execute_result"
    }
   ],
   "source": [
    "X_test.shape"
   ]
  },
  {
   "cell_type": "code",
   "execution_count": 21,
   "metadata": {
    "colab": {
     "base_uri": "https://localhost:8080/",
     "height": 34
    },
    "colab_type": "code",
    "id": "S-lO4VP0cFbT",
    "outputId": "6b85724a-660a-4f68-a58a-e1aad708c696"
   },
   "outputs": [
    {
     "data": {
      "text/plain": [
       "(2000,)"
      ]
     },
     "execution_count": 21,
     "metadata": {
      "tags": []
     },
     "output_type": "execute_result"
    }
   ],
   "source": [
    "y_test.shape"
   ]
  },
  {
   "cell_type": "markdown",
   "metadata": {
    "colab_type": "text",
    "id": "tZjbPgiocFbo"
   },
   "source": [
    "#### Splitted the date into train (80%) and test (20%).. 8000 records and 10 features in train dataset and 2000 records and 10 features in test datase"
   ]
  },
  {
   "cell_type": "markdown",
   "metadata": {
    "colab_type": "text",
    "id": "287ZAgXaeOqT"
   },
   "source": [
    "# 5. Normalize the train and test data"
   ]
  },
  {
   "cell_type": "code",
   "execution_count": 24,
   "metadata": {
    "colab": {
     "base_uri": "https://localhost:8080/",
     "height": 81
    },
    "colab_type": "code",
    "id": "iwcvo-nwl-ap",
    "outputId": "4d49cdd7-4603-479d-b94c-3c981f01f1a2"
   },
   "outputs": [
    {
     "data": {
      "text/html": [
       "<p style=\"color: red;\">\n",
       "The default version of TensorFlow in Colab will soon switch to TensorFlow 2.x.<br>\n",
       "We recommend you <a href=\"https://www.tensorflow.org/guide/migrate\" target=\"_blank\">upgrade</a> now \n",
       "or ensure your notebook will continue to use TensorFlow 1.x via the <code>%tensorflow_version 1.x</code> magic:\n",
       "<a href=\"https://colab.research.google.com/notebooks/tensorflow_version.ipynb\" target=\"_blank\">more info</a>.</p>\n"
      ],
      "text/plain": [
       "<IPython.core.display.HTML object>"
      ]
     },
     "metadata": {
      "tags": []
     },
     "output_type": "display_data"
    },
    {
     "name": "stdout",
     "output_type": "stream",
     "text": [
      "1.15.0\n"
     ]
    }
   ],
   "source": [
    "import tensorflow as tf\n",
    "print(tf.__version__)"
   ]
  },
  {
   "cell_type": "code",
   "execution_count": 0,
   "metadata": {
    "colab": {},
    "colab_type": "code",
    "id": "gHYKkceTeIMU"
   },
   "outputs": [],
   "source": [
    "from scipy import stats\n",
    "X_train_std = stats.zscore(X_train) \n",
    "X_test_std = stats.zscore(X_test)"
   ]
  },
  {
   "cell_type": "code",
   "execution_count": 0,
   "metadata": {
    "colab": {},
    "colab_type": "code",
    "id": "Gf6StPSheIKI"
   },
   "outputs": [],
   "source": [
    "y_train_cat = tf.keras.utils.to_categorical(y_train)\n",
    "y_test_cat = tf.keras.utils.to_categorical(y_test)"
   ]
  },
  {
   "cell_type": "code",
   "execution_count": 27,
   "metadata": {
    "colab": {
     "base_uri": "https://localhost:8080/",
     "height": 70
    },
    "colab_type": "code",
    "id": "nhjYeR5BeIHr",
    "outputId": "49cb7d1c-12a4-4ac9-c1ff-9b9c1b3103d0"
   },
   "outputs": [
    {
     "data": {
      "text/plain": [
       "array([[1., 0.],\n",
       "       [1., 0.],\n",
       "       [0., 1.]], dtype=float32)"
      ]
     },
     "execution_count": 27,
     "metadata": {
      "tags": []
     },
     "output_type": "execute_result"
    }
   ],
   "source": [
    "y_train_cat[:3]"
   ]
  },
  {
   "cell_type": "markdown",
   "metadata": {
    "colab_type": "text",
    "id": "8IkdoaVTesDG"
   },
   "source": [
    "Observations: As the dataset have varied scales, normalizing the data will yield better results.Used zscore to normalize the features and have converted both train and test labels into one-hot vectors\n",
    "\n"
   ]
  },
  {
   "cell_type": "markdown",
   "metadata": {
    "colab_type": "text",
    "id": "GYQe4HpTcFbq"
   },
   "source": [
    "# 6. Initialize & build the model"
   ]
  },
  {
   "cell_type": "markdown",
   "metadata": {
    "colab_type": "text",
    "id": "1NZ6s34icFbu"
   },
   "source": [
    "#### Build a neural Network with a binary crossentropy loss function and sgd optimizer in Keras. The output layer with 1 neurons."
   ]
  },
  {
   "cell_type": "code",
   "execution_count": 0,
   "metadata": {
    "colab": {},
    "colab_type": "code",
    "id": "dL_Nj_2WcFb-"
   },
   "outputs": [],
   "source": [
    "model_1 = tf.keras.models.Sequential()"
   ]
  },
  {
   "cell_type": "code",
   "execution_count": 29,
   "metadata": {
    "colab": {
     "base_uri": "https://localhost:8080/",
     "height": 90
    },
    "colab_type": "code",
    "id": "MKrZ__XMdcJa",
    "outputId": "1e2c71e2-775c-4a84-d5ba-9c6d7e4e3ef8"
   },
   "outputs": [
    {
     "name": "stdout",
     "output_type": "stream",
     "text": [
      "WARNING:tensorflow:From /usr/local/lib/python3.6/dist-packages/tensorflow_core/python/ops/resource_variable_ops.py:1630: calling BaseResourceVariable.__init__ (from tensorflow.python.ops.resource_variable_ops) with constraint is deprecated and will be removed in a future version.\n",
      "Instructions for updating:\n",
      "If using Keras pass *_constraint arguments to layers.\n"
     ]
    }
   ],
   "source": [
    "#Input Layer\n",
    "model_1.add(tf.keras.layers.Dense(10, input_dim = 10, activation='relu'))"
   ]
  },
  {
   "cell_type": "code",
   "execution_count": 0,
   "metadata": {
    "colab": {},
    "colab_type": "code",
    "id": "54Oplr9CdhE-"
   },
   "outputs": [],
   "source": [
    "#Add Dense Layer which provides 1 Output after applying sigmoid (Output Layer)\n",
    "model_1.add(tf.keras.layers.Dense(2, activation='sigmoid'))"
   ]
  },
  {
   "cell_type": "code",
   "execution_count": 31,
   "metadata": {
    "colab": {
     "base_uri": "https://localhost:8080/",
     "height": 90
    },
    "colab_type": "code",
    "id": "VUm1DwCmds55",
    "outputId": "2268bf18-cb2a-49a8-be41-65f1c1ae0cd0"
   },
   "outputs": [
    {
     "name": "stdout",
     "output_type": "stream",
     "text": [
      "WARNING:tensorflow:From /usr/local/lib/python3.6/dist-packages/tensorflow_core/python/ops/nn_impl.py:183: where (from tensorflow.python.ops.array_ops) is deprecated and will be removed in a future version.\n",
      "Instructions for updating:\n",
      "Use tf.where in 2.0, which has the same broadcast rule as np.where\n"
     ]
    }
   ],
   "source": [
    "#Compile the model\n",
    "model_1.compile(optimizer='sgd', loss='binary_crossentropy', metrics=['accuracy'])"
   ]
  },
  {
   "cell_type": "code",
   "execution_count": 32,
   "metadata": {
    "colab": {
     "base_uri": "https://localhost:8080/",
     "height": 1000
    },
    "colab_type": "code",
    "id": "n8nU39d-dwf3",
    "outputId": "6acc582b-5968-4b1e-aee9-982c28afc8f3"
   },
   "outputs": [
    {
     "name": "stdout",
     "output_type": "stream",
     "text": [
      "Train on 8000 samples, validate on 2000 samples\n",
      "Epoch 1/30\n",
      "8000/8000 [==============================] - 1s 72us/sample - loss: 0.6474 - acc: 0.6604 - val_loss: 0.5751 - val_acc: 0.7530\n",
      "Epoch 2/30\n",
      "8000/8000 [==============================] - 0s 42us/sample - loss: 0.5447 - acc: 0.7722 - val_loss: 0.5235 - val_acc: 0.7825\n",
      "Epoch 3/30\n",
      "8000/8000 [==============================] - 0s 43us/sample - loss: 0.5103 - acc: 0.7909 - val_loss: 0.5023 - val_acc: 0.7900\n",
      "Epoch 4/30\n",
      "8000/8000 [==============================] - 0s 41us/sample - loss: 0.4940 - acc: 0.7954 - val_loss: 0.4906 - val_acc: 0.7930\n",
      "Epoch 5/30\n",
      "8000/8000 [==============================] - 0s 40us/sample - loss: 0.4839 - acc: 0.7968 - val_loss: 0.4824 - val_acc: 0.7937\n",
      "Epoch 6/30\n",
      "8000/8000 [==============================] - 0s 43us/sample - loss: 0.4762 - acc: 0.7974 - val_loss: 0.4757 - val_acc: 0.7940\n",
      "Epoch 7/30\n",
      "8000/8000 [==============================] - 0s 44us/sample - loss: 0.4699 - acc: 0.7976 - val_loss: 0.4700 - val_acc: 0.7947\n",
      "Epoch 8/30\n",
      "8000/8000 [==============================] - 0s 43us/sample - loss: 0.4645 - acc: 0.7978 - val_loss: 0.4649 - val_acc: 0.7950\n",
      "Epoch 9/30\n",
      "8000/8000 [==============================] - 0s 41us/sample - loss: 0.4597 - acc: 0.7987 - val_loss: 0.4604 - val_acc: 0.7955\n",
      "Epoch 10/30\n",
      "8000/8000 [==============================] - 0s 41us/sample - loss: 0.4556 - acc: 0.7994 - val_loss: 0.4565 - val_acc: 0.7960\n",
      "Epoch 11/30\n",
      "8000/8000 [==============================] - 0s 42us/sample - loss: 0.4519 - acc: 0.7999 - val_loss: 0.4530 - val_acc: 0.7985\n",
      "Epoch 12/30\n",
      "8000/8000 [==============================] - 0s 42us/sample - loss: 0.4486 - acc: 0.8012 - val_loss: 0.4500 - val_acc: 0.7997\n",
      "Epoch 13/30\n",
      "8000/8000 [==============================] - 0s 40us/sample - loss: 0.4456 - acc: 0.8011 - val_loss: 0.4472 - val_acc: 0.8010\n",
      "Epoch 14/30\n",
      "8000/8000 [==============================] - 0s 40us/sample - loss: 0.4430 - acc: 0.8024 - val_loss: 0.4448 - val_acc: 0.8012\n",
      "Epoch 15/30\n",
      "8000/8000 [==============================] - 0s 41us/sample - loss: 0.4407 - acc: 0.8029 - val_loss: 0.4427 - val_acc: 0.8027\n",
      "Epoch 16/30\n",
      "8000/8000 [==============================] - 0s 40us/sample - loss: 0.4386 - acc: 0.8034 - val_loss: 0.4407 - val_acc: 0.8043\n",
      "Epoch 17/30\n",
      "8000/8000 [==============================] - 0s 41us/sample - loss: 0.4367 - acc: 0.8043 - val_loss: 0.4390 - val_acc: 0.8058\n",
      "Epoch 18/30\n",
      "8000/8000 [==============================] - 0s 44us/sample - loss: 0.4349 - acc: 0.8048 - val_loss: 0.4374 - val_acc: 0.8085\n",
      "Epoch 19/30\n",
      "8000/8000 [==============================] - 0s 41us/sample - loss: 0.4332 - acc: 0.8059 - val_loss: 0.4359 - val_acc: 0.8098\n",
      "Epoch 20/30\n",
      "8000/8000 [==============================] - 0s 40us/sample - loss: 0.4317 - acc: 0.8074 - val_loss: 0.4346 - val_acc: 0.8098\n",
      "Epoch 21/30\n",
      "8000/8000 [==============================] - 0s 40us/sample - loss: 0.4302 - acc: 0.8078 - val_loss: 0.4333 - val_acc: 0.8112\n",
      "Epoch 22/30\n",
      "8000/8000 [==============================] - 0s 43us/sample - loss: 0.4287 - acc: 0.8089 - val_loss: 0.4321 - val_acc: 0.8112\n",
      "Epoch 23/30\n",
      "8000/8000 [==============================] - 0s 41us/sample - loss: 0.4273 - acc: 0.8104 - val_loss: 0.4310 - val_acc: 0.8125\n",
      "Epoch 24/30\n",
      "8000/8000 [==============================] - 0s 40us/sample - loss: 0.4260 - acc: 0.8114 - val_loss: 0.4298 - val_acc: 0.8133\n",
      "Epoch 25/30\n",
      "8000/8000 [==============================] - 0s 42us/sample - loss: 0.4247 - acc: 0.8128 - val_loss: 0.4286 - val_acc: 0.8142\n",
      "Epoch 26/30\n",
      "8000/8000 [==============================] - 0s 39us/sample - loss: 0.4233 - acc: 0.8146 - val_loss: 0.4275 - val_acc: 0.8160\n",
      "Epoch 27/30\n",
      "8000/8000 [==============================] - 0s 40us/sample - loss: 0.4220 - acc: 0.8166 - val_loss: 0.4263 - val_acc: 0.8173\n",
      "Epoch 28/30\n",
      "8000/8000 [==============================] - 0s 40us/sample - loss: 0.4206 - acc: 0.8178 - val_loss: 0.4252 - val_acc: 0.8198\n",
      "Epoch 29/30\n",
      "8000/8000 [==============================] - 0s 40us/sample - loss: 0.4193 - acc: 0.8191 - val_loss: 0.4240 - val_acc: 0.8207\n",
      "Epoch 30/30\n",
      "8000/8000 [==============================] - 0s 41us/sample - loss: 0.4180 - acc: 0.8202 - val_loss: 0.4229 - val_acc: 0.8215\n"
     ]
    },
    {
     "data": {
      "text/plain": [
       "<tensorflow.python.keras.callbacks.History at 0x7f7ec8d99358>"
      ]
     },
     "execution_count": 32,
     "metadata": {
      "tags": []
     },
     "output_type": "execute_result"
    }
   ],
   "source": [
    "model_1.fit(X_train_std, y_train_cat, \n",
    "          validation_data=(X_test_std, y_test_cat), \n",
    "          epochs=30,\n",
    "          batch_size=35)"
   ]
  },
  {
   "cell_type": "code",
   "execution_count": 33,
   "metadata": {
    "colab": {
     "base_uri": "https://localhost:8080/",
     "height": 230
    },
    "colab_type": "code",
    "id": "9wQIgP9Ad5ur",
    "outputId": "6dd8ec70-247f-4b8c-e1d1-1dfd6fbda5b5"
   },
   "outputs": [
    {
     "name": "stdout",
     "output_type": "stream",
     "text": [
      "Model: \"sequential\"\n",
      "_________________________________________________________________\n",
      "Layer (type)                 Output Shape              Param #   \n",
      "=================================================================\n",
      "dense (Dense)                (None, 10)                110       \n",
      "_________________________________________________________________\n",
      "dense_1 (Dense)              (None, 2)                 22        \n",
      "=================================================================\n",
      "Total params: 132\n",
      "Trainable params: 132\n",
      "Non-trainable params: 0\n",
      "_________________________________________________________________\n"
     ]
    }
   ],
   "source": [
    "model_1.summary()"
   ]
  },
  {
   "cell_type": "markdown",
   "metadata": {
    "colab_type": "text",
    "id": "PjaOoRGJfkli"
   },
   "source": [
    "Observations: As we have binary classification, we have used binary crossentropy for loss and sigmoid for activation in output layer.\n",
    "\n",
    "Tried with relu activation in input layer and used the best activation method using grid search.\n",
    "\n",
    "Same way tried with sgd optimizer and found the best optimizer using grid search.\n",
    "\n",
    "The accuracy is around 82%"
   ]
  },
  {
   "cell_type": "markdown",
   "metadata": {
    "colab_type": "text",
    "id": "Ws8Nox5Egc0Y"
   },
   "source": [
    "# 7. Optimize the model"
   ]
  },
  {
   "cell_type": "code",
   "execution_count": 34,
   "metadata": {
    "colab": {
     "base_uri": "https://localhost:8080/",
     "height": 34
    },
    "colab_type": "code",
    "id": "8rzUOAKDgaqc",
    "outputId": "0c6b8d3f-2067-48ac-e003-27f9dee28075"
   },
   "outputs": [
    {
     "name": "stderr",
     "output_type": "stream",
     "text": [
      "Using TensorFlow backend.\n"
     ]
    }
   ],
   "source": [
    "from sklearn.model_selection import GridSearchCV\n",
    "from keras.models import Sequential\n",
    "from keras.layers import Dense\n",
    "from keras.wrappers.scikit_learn import KerasClassifier\n",
    "from keras.optimizers import Nadam\n",
    "from keras.optimizers import sgd\n",
    "from keras.layers import Dropout\n",
    "from keras.constraints import maxnorm"
   ]
  },
  {
   "cell_type": "markdown",
   "metadata": {
    "colab_type": "text",
    "id": "MnNEuWTugren"
   },
   "source": [
    "## Lets first findout the best optimizer among 'SGD', 'RMSprop', 'Adagrad', 'Adadelta', 'Adam', 'Adamax', 'Nadam'"
   ]
  },
  {
   "cell_type": "code",
   "execution_count": 35,
   "metadata": {
    "colab": {
     "base_uri": "https://localhost:8080/",
     "height": 641
    },
    "colab_type": "code",
    "id": "mG698jyFgiyp",
    "outputId": "34f7f559-c541-44d5-9a40-e3ebffe1949e"
   },
   "outputs": [
    {
     "name": "stdout",
     "output_type": "stream",
     "text": [
      "WARNING:tensorflow:From /usr/local/lib/python3.6/dist-packages/keras/backend/tensorflow_backend.py:66: The name tf.get_default_graph is deprecated. Please use tf.compat.v1.get_default_graph instead.\n",
      "\n",
      "WARNING:tensorflow:From /usr/local/lib/python3.6/dist-packages/keras/backend/tensorflow_backend.py:541: The name tf.placeholder is deprecated. Please use tf.compat.v1.placeholder instead.\n",
      "\n",
      "WARNING:tensorflow:From /usr/local/lib/python3.6/dist-packages/keras/backend/tensorflow_backend.py:4432: The name tf.random_uniform is deprecated. Please use tf.random.uniform instead.\n",
      "\n",
      "WARNING:tensorflow:From /usr/local/lib/python3.6/dist-packages/keras/optimizers.py:793: The name tf.train.Optimizer is deprecated. Please use tf.compat.v1.train.Optimizer instead.\n",
      "\n",
      "WARNING:tensorflow:From /usr/local/lib/python3.6/dist-packages/keras/backend/tensorflow_backend.py:3657: The name tf.log is deprecated. Please use tf.math.log instead.\n",
      "\n",
      "WARNING:tensorflow:From /usr/local/lib/python3.6/dist-packages/keras/backend/tensorflow_backend.py:1033: The name tf.assign_add is deprecated. Please use tf.compat.v1.assign_add instead.\n",
      "\n",
      "WARNING:tensorflow:From /usr/local/lib/python3.6/dist-packages/keras/backend/tensorflow_backend.py:1020: The name tf.assign is deprecated. Please use tf.compat.v1.assign instead.\n",
      "\n",
      "WARNING:tensorflow:From /usr/local/lib/python3.6/dist-packages/keras/backend/tensorflow_backend.py:3005: The name tf.Session is deprecated. Please use tf.compat.v1.Session instead.\n",
      "\n",
      "WARNING:tensorflow:From /usr/local/lib/python3.6/dist-packages/keras/backend/tensorflow_backend.py:190: The name tf.get_default_session is deprecated. Please use tf.compat.v1.get_default_session instead.\n",
      "\n",
      "WARNING:tensorflow:From /usr/local/lib/python3.6/dist-packages/keras/backend/tensorflow_backend.py:197: The name tf.ConfigProto is deprecated. Please use tf.compat.v1.ConfigProto instead.\n",
      "\n",
      "WARNING:tensorflow:From /usr/local/lib/python3.6/dist-packages/keras/backend/tensorflow_backend.py:207: The name tf.global_variables is deprecated. Please use tf.compat.v1.global_variables instead.\n",
      "\n",
      "WARNING:tensorflow:From /usr/local/lib/python3.6/dist-packages/keras/backend/tensorflow_backend.py:216: The name tf.is_variable_initialized is deprecated. Please use tf.compat.v1.is_variable_initialized instead.\n",
      "\n",
      "WARNING:tensorflow:From /usr/local/lib/python3.6/dist-packages/keras/backend/tensorflow_backend.py:223: The name tf.variables_initializer is deprecated. Please use tf.compat.v1.variables_initializer instead.\n",
      "\n",
      "Best: 0.855375 using {'optimizer': 'Nadam'}\n",
      "0.829375 (0.001625) with: {'optimizer': 'SGD'}\n",
      "0.849000 (0.003250) with: {'optimizer': 'RMSprop'}\n",
      "0.825625 (0.003125) with: {'optimizer': 'Adagrad'}\n",
      "0.838125 (0.012375) with: {'optimizer': 'Adadelta'}\n",
      "0.852375 (0.004875) with: {'optimizer': 'Adam'}\n",
      "0.838250 (0.010750) with: {'optimizer': 'Adamax'}\n",
      "0.855375 (0.006125) with: {'optimizer': 'Nadam'}\n"
     ]
    }
   ],
   "source": [
    "def create_model(optimizer='adam'):\n",
    "  #Initialize Sequential model\n",
    "  model_2 = Sequential()\n",
    "  \n",
    "  #Input Layer\n",
    "  model_2.add(Dense(10, input_dim = 10, activation='relu'))\n",
    "  \n",
    "  #Add Dense Layer which provides 1 Outputs after applying softmax (Output Layer)\n",
    "  model_2.add(Dense(1, activation='sigmoid'))\n",
    "  \n",
    "\t#Compile the model\n",
    "  model_2.compile(optimizer=optimizer, loss='binary_crossentropy', metrics=['accuracy'])\n",
    "  \n",
    "  return model_2\n",
    "\n",
    "model_2 = KerasClassifier(build_fn=create_model, epochs=30, batch_size=35, verbose=0)\n",
    "\n",
    "\n",
    "# define the grid search parameters\n",
    "optimizer = ['SGD', 'RMSprop', 'Adagrad', 'Adadelta', 'Adam', 'Adamax', 'Nadam']\n",
    "param_grid = dict(optimizer=optimizer)\n",
    "\n",
    "grid = GridSearchCV(estimator=model_2, param_grid=param_grid, n_jobs=-1, scoring=\"accuracy\", cv=2)\n",
    "grid_result = grid.fit(X_train_std, y_train)\n",
    "\n",
    "# summarize results\n",
    "print(\"Best: %f using %s\" % (grid_result.best_score_, grid_result.best_params_))\n",
    "\n",
    "means = grid_result.cv_results_['mean_test_score']\n",
    "stds = grid_result.cv_results_['std_test_score']\n",
    "params = grid_result.cv_results_['params']\n",
    "\n",
    "for mean, stdev, param in zip(means, stds, params):\n",
    "    print(\"%f (%f) with: %r\" % (mean, stdev, param))\n"
   ]
  },
  {
   "cell_type": "markdown",
   "metadata": {
    "colab_type": "text",
    "id": "eDsd4Fqpmr_w"
   },
   "source": [
    "Observations: The best optimizer we have got is Nadam and the accuracy is 85.53%.\n",
    "\n",
    "The accuracy have increased 3%.\n",
    "\n",
    "Note: As there is difference in multiclass representation with scikit-learn and keras, we are not going to use the categorical transformation on target variable with gridsearch. If we use the categorical transformation of target variable, we will be ending up with the error, \"ValueError: Classification metrics can't handle a mix of multilabel-indicator and binary targets\". So with gridsearchcv, we are going to use target variable without categorical transformation.\n",
    "\n"
   ]
  },
  {
   "cell_type": "markdown",
   "metadata": {
    "colab_type": "text",
    "id": "fKUl2ZPzm-No"
   },
   "source": [
    "## Best learning rate"
   ]
  },
  {
   "cell_type": "code",
   "execution_count": 37,
   "metadata": {
    "colab": {
     "base_uri": "https://localhost:8080/",
     "height": 123
    },
    "colab_type": "code",
    "id": "HaQwdHJCm7Hc",
    "outputId": "0ce8cb13-d74a-4cae-829d-ec8ee13ca6c5"
   },
   "outputs": [
    {
     "name": "stdout",
     "output_type": "stream",
     "text": [
      "Best: 0.855312 using {'learn_rate': 0.01}\n",
      "0.850687 (0.004688) with: {'learn_rate': 0.001}\n",
      "0.855312 (0.006937) with: {'learn_rate': 0.01}\n",
      "0.843125 (0.000375) with: {'learn_rate': 0.1}\n",
      "0.824562 (0.020937) with: {'learn_rate': 0.2}\n",
      "0.815312 (0.005687) with: {'learn_rate': 0.3}\n"
     ]
    }
   ],
   "source": [
    "# Tune Learning Rate\n",
    "from keras.optimizers import Nadam\n",
    "\n",
    "# Function to create model, required for KerasClassifier\n",
    "def create_model(learn_rate=0.01):\n",
    "  #Initialize Sequential model\n",
    "  model_4 = Sequential()\n",
    "  #Input Layer\n",
    "  model_4.add(Dense(10, input_dim = 10, activation='relu'))\n",
    "  #Add Dense Layer which provides 1 Outputs after applying sigmoid (Output Layer)\n",
    "  model_4.add(Dense(2, activation='sigmoid'))\n",
    "\t#Comile the model\n",
    "  optimizer = Nadam(lr=learn_rate)\n",
    "  model_4.compile(optimizer = optimizer, loss = 'binary_crossentropy', metrics = ['accuracy'])\n",
    "  return model_4\n",
    "\n",
    "# create model\n",
    "model_4 = KerasClassifier(build_fn=create_model, epochs=30, batch_size=30, verbose=0)\n",
    "\n",
    "# define the grid search parameters\n",
    "learn_rate = [0.001, 0.01, 0.1, 0.2, 0.3]\n",
    "param_grid = dict(learn_rate=learn_rate)\n",
    "\n",
    "grid = GridSearchCV(estimator=model_4, param_grid=param_grid, n_jobs=1, cv=2)\n",
    "grid_result = grid.fit(X_train_std, y_train_cat)\n",
    "\n",
    "# summarize results\n",
    "print(\"Best: %f using %s\" % (grid_result.best_score_, grid_result.best_params_))\n",
    "means = grid_result.cv_results_['mean_test_score']\n",
    "stds = grid_result.cv_results_['std_test_score']\n",
    "params = grid_result.cv_results_['params']\n",
    "for mean, stdev, param in zip(means, stds, params):\n",
    "    print(\"%f (%f) with: %r\" % (mean, stdev, param))\n"
   ]
  },
  {
   "cell_type": "markdown",
   "metadata": {
    "colab_type": "text",
    "id": "I31jIUfIngAw"
   },
   "source": [
    "Observation: The best learning rate we got is 0.01 and the accuracy is 85.53%.\n",
    "\n",
    "There is a slight increase in accuracy\n",
    "\n"
   ]
  },
  {
   "cell_type": "markdown",
   "metadata": {
    "colab_type": "text",
    "id": "sm3Dj0w5yb0i"
   },
   "source": [
    "## Best Batch Size and Number of Epochs"
   ]
  },
  {
   "cell_type": "code",
   "execution_count": 38,
   "metadata": {
    "colab": {
     "base_uri": "https://localhost:8080/",
     "height": 463
    },
    "colab_type": "code",
    "id": "QpAGwi-Un6qz",
    "outputId": "09e169e2-23f5-4cff-c759-dbca8c5c2d0e"
   },
   "outputs": [
    {
     "name": "stdout",
     "output_type": "stream",
     "text": [
      "WARNING:tensorflow:From /usr/local/lib/python3.6/dist-packages/keras/backend/tensorflow_backend.py:148: The name tf.placeholder_with_default is deprecated. Please use tf.compat.v1.placeholder_with_default instead.\n",
      "\n",
      "WARNING:tensorflow:From /usr/local/lib/python3.6/dist-packages/keras/backend/tensorflow_backend.py:3733: calling dropout (from tensorflow.python.ops.nn_ops) with keep_prob is deprecated and will be removed in a future version.\n",
      "Instructions for updating:\n",
      "Please use `rate` instead of `keep_prob`. Rate should be set to `rate = 1 - keep_prob`.\n",
      "Best: 0.857625 using {'batch_size': 10, 'epochs': 10}\n",
      "0.857625 (0.005375) with: {'batch_size': 10, 'epochs': 10}\n",
      "0.850375 (0.005375) with: {'batch_size': 10, 'epochs': 50}\n",
      "0.843500 (0.008250) with: {'batch_size': 10, 'epochs': 100}\n",
      "0.855125 (0.004625) with: {'batch_size': 20, 'epochs': 10}\n",
      "0.849125 (0.004375) with: {'batch_size': 20, 'epochs': 50}\n",
      "0.852625 (0.004375) with: {'batch_size': 20, 'epochs': 100}\n",
      "0.856000 (0.002000) with: {'batch_size': 40, 'epochs': 10}\n",
      "0.855000 (0.004000) with: {'batch_size': 40, 'epochs': 50}\n",
      "0.851625 (0.005375) with: {'batch_size': 40, 'epochs': 100}\n",
      "0.855750 (0.005500) with: {'batch_size': 60, 'epochs': 10}\n",
      "0.855125 (0.005375) with: {'batch_size': 60, 'epochs': 50}\n",
      "0.851250 (0.007500) with: {'batch_size': 60, 'epochs': 100}\n",
      "0.855625 (0.004125) with: {'batch_size': 80, 'epochs': 10}\n",
      "0.853125 (0.006375) with: {'batch_size': 80, 'epochs': 50}\n",
      "0.854250 (0.003250) with: {'batch_size': 80, 'epochs': 100}\n",
      "0.856625 (0.004125) with: {'batch_size': 100, 'epochs': 10}\n",
      "0.853750 (0.005750) with: {'batch_size': 100, 'epochs': 50}\n",
      "0.854375 (0.005375) with: {'batch_size': 100, 'epochs': 100}\n"
     ]
    }
   ],
   "source": [
    "# Tune Batch Size and Number of Epochs\n",
    "\n",
    "# Function to create model, required for KerasClassifier\n",
    "def create_model():\n",
    "  #Initialize Sequential model\n",
    "  model_3 = Sequential()\n",
    "  \n",
    "  #Input Layer\n",
    "  model_3.add(Dense(30, input_dim = 10, activation='softmax'))\n",
    "  \n",
    "  #Dropout\n",
    "  model_3.add(Dropout(0.2))\n",
    "  \n",
    "  #Add Dense Layer which provides 2 Outputs after applying sigmoid (Output Layer)\n",
    "  model_3.add(Dense(1, activation='sigmoid'))\n",
    "  \n",
    "\t#Compile the model\n",
    "  optimizer = Nadam(lr=0.01)\n",
    "  model_3.compile(optimizer=optimizer, loss='binary_crossentropy', metrics=['accuracy'])\n",
    "  \n",
    "  return model_3\n",
    "\n",
    "# create model\n",
    "model_3 = KerasClassifier(build_fn=create_model, verbose=0)\n",
    "\n",
    "# define the grid search parameters\n",
    "batch_size = [10, 20, 40, 60, 80, 100]\n",
    "epochs = [10, 50, 100]\n",
    "param_grid = dict(batch_size=batch_size, epochs=epochs)\n",
    "\n",
    "grid = GridSearchCV(estimator=model_3, param_grid=param_grid, n_jobs=1, scoring=\"accuracy\", cv=2)\n",
    "grid_result = grid.fit(X_train_std, y_train)\n",
    "\n",
    "# summarize results\n",
    "print(\"Best: %f using %s\" % (grid_result.best_score_, grid_result.best_params_))\n",
    "means = grid_result.cv_results_['mean_test_score']\n",
    "stds = grid_result.cv_results_['std_test_score']\n",
    "params = grid_result.cv_results_['params']\n",
    "for mean, stdev, param in zip(means, stds, params):\n",
    "    print(\"%f (%f) with: %r\" % (mean, stdev, param))\n"
   ]
  },
  {
   "cell_type": "markdown",
   "metadata": {
    "colab_type": "text",
    "id": "PDD1PfytoZUN"
   },
   "source": [
    "Observations:\n",
    "We have got, the best batch size as 10 and number of epochs as 10 with accuracy 85.76%.\n",
    "\n",
    "Now lets build out final model with all the best parameter we have identified\n"
   ]
  },
  {
   "cell_type": "markdown",
   "metadata": {
    "colab_type": "text",
    "id": "6MyxdLA3ohDl"
   },
   "source": [
    "# Final Model based on best optimizer, lerning rate and best batch size and epochs"
   ]
  },
  {
   "cell_type": "code",
   "execution_count": 39,
   "metadata": {
    "colab": {
     "base_uri": "https://localhost:8080/",
     "height": 407
    },
    "colab_type": "code",
    "id": "CrxmP39vofuF",
    "outputId": "141d8d39-1224-4d6b-99b8-3161cfe362d9"
   },
   "outputs": [
    {
     "name": "stdout",
     "output_type": "stream",
     "text": [
      "Train on 8000 samples, validate on 2000 samples\n",
      "Epoch 1/10\n",
      "8000/8000 [==============================] - 6s 704us/step - loss: 0.4601 - acc: 0.8052 - val_loss: 0.3974 - val_acc: 0.8420\n",
      "Epoch 2/10\n",
      "8000/8000 [==============================] - 2s 222us/step - loss: 0.3996 - acc: 0.8302 - val_loss: 0.3712 - val_acc: 0.8492\n",
      "Epoch 3/10\n",
      "8000/8000 [==============================] - 2s 215us/step - loss: 0.3743 - acc: 0.8426 - val_loss: 0.3588 - val_acc: 0.8550\n",
      "Epoch 4/10\n",
      "8000/8000 [==============================] - 2s 225us/step - loss: 0.3726 - acc: 0.8419 - val_loss: 0.3629 - val_acc: 0.8497\n",
      "Epoch 5/10\n",
      "8000/8000 [==============================] - 2s 221us/step - loss: 0.3679 - acc: 0.8442 - val_loss: 0.3590 - val_acc: 0.8547\n",
      "Epoch 6/10\n",
      "8000/8000 [==============================] - 2s 217us/step - loss: 0.3623 - acc: 0.8486 - val_loss: 0.3573 - val_acc: 0.8550\n",
      "Epoch 7/10\n",
      "8000/8000 [==============================] - 2s 217us/step - loss: 0.3654 - acc: 0.8450 - val_loss: 0.3572 - val_acc: 0.8550\n",
      "Epoch 8/10\n",
      "8000/8000 [==============================] - 2s 223us/step - loss: 0.3602 - acc: 0.8506 - val_loss: 0.3539 - val_acc: 0.8527\n",
      "Epoch 9/10\n",
      "8000/8000 [==============================] - 2s 219us/step - loss: 0.3582 - acc: 0.8534 - val_loss: 0.3538 - val_acc: 0.8525\n",
      "Epoch 10/10\n",
      "8000/8000 [==============================] - 2s 218us/step - loss: 0.3596 - acc: 0.8501 - val_loss: 0.3593 - val_acc: 0.8572\n"
     ]
    },
    {
     "data": {
      "text/plain": [
       "<keras.callbacks.History at 0x7f7ebca03b00>"
      ]
     },
     "execution_count": 39,
     "metadata": {
      "tags": []
     },
     "output_type": "execute_result"
    }
   ],
   "source": [
    "model_Final = Sequential()\n",
    "  \n",
    "#Input Layer\n",
    "model_Final.add(Dense(30, input_dim = 10, activation='softmax'))\n",
    "  \n",
    "#Dropout\n",
    "model_Final.add(Dropout(0.2))\n",
    "\n",
    "#Add Dense Layer which provides 10 Outputs\n",
    "model_Final.add(Dense(30, activation='softmax'))\n",
    "\n",
    "#Dropout\n",
    "model_Final.add(Dropout(0.2))\n",
    "  \n",
    "#Add Dense Layer which provides 1 Output after applying sigmoid (Output Layer)\n",
    "model_Final.add(Dense(2, activation='sigmoid'))\n",
    " \n",
    "#Comile the model\n",
    "optimizer = Nadam(lr=0.01)\n",
    "model_Final.compile(optimizer=optimizer, loss='binary_crossentropy', metrics=['accuracy'])\n",
    " \n",
    "model_Final.fit(X_train_std, y_train_cat, \n",
    "        validation_data=(X_test_std, y_test_cat), \n",
    "        epochs=10,\n",
    "        batch_size=10)"
   ]
  },
  {
   "cell_type": "code",
   "execution_count": 64,
   "metadata": {
    "colab": {
     "base_uri": "https://localhost:8080/",
     "height": 336
    },
    "colab_type": "code",
    "id": "7X33PrmVoROC",
    "outputId": "ab216806-12c7-4ba9-97aa-32821ff265c4"
   },
   "outputs": [
    {
     "name": "stdout",
     "output_type": "stream",
     "text": [
      "Model: \"sequential_50\"\n",
      "_________________________________________________________________\n",
      "Layer (type)                 Output Shape              Param #   \n",
      "=================================================================\n",
      "dense_99 (Dense)             (None, 30)                330       \n",
      "_________________________________________________________________\n",
      "dropout_38 (Dropout)         (None, 30)                0         \n",
      "_________________________________________________________________\n",
      "dense_100 (Dense)            (None, 30)                930       \n",
      "_________________________________________________________________\n",
      "dropout_39 (Dropout)         (None, 30)                0         \n",
      "_________________________________________________________________\n",
      "dense_101 (Dense)            (None, 2)                 62        \n",
      "=================================================================\n",
      "Total params: 1,322\n",
      "Trainable params: 1,322\n",
      "Non-trainable params: 0\n",
      "_________________________________________________________________\n"
     ]
    }
   ],
   "source": [
    "model_Final.summary()"
   ]
  },
  {
   "cell_type": "markdown",
   "metadata": {
    "colab_type": "text",
    "id": "vg8s4PrMrZOR"
   },
   "source": [
    "# 9. Predict the results using 0.5 as a threshold"
   ]
  },
  {
   "cell_type": "markdown",
   "metadata": {
    "colab_type": "text",
    "id": "dQqCK3MGsRi6"
   },
   "source": [
    "# Prediction for Model_1"
   ]
  },
  {
   "cell_type": "code",
   "execution_count": 0,
   "metadata": {
    "colab": {},
    "colab_type": "code",
    "id": "zwSp07j3raB7"
   },
   "outputs": [],
   "source": [
    "y_pred_1 = model_1.predict(X_test_std)"
   ]
  },
  {
   "cell_type": "code",
   "execution_count": 43,
   "metadata": {
    "colab": {
     "base_uri": "https://localhost:8080/",
     "height": 194
    },
    "colab_type": "code",
    "id": "iMtTlbvoriRX",
    "outputId": "fca07372-bc11-49a8-facb-edb3ed8dafb3"
   },
   "outputs": [
    {
     "name": "stdout",
     "output_type": "stream",
     "text": [
      "Prediction:  [[0.87802994 0.17836979]\n",
      " [0.5547338  0.41941348]\n",
      " [0.92430997 0.07918701]\n",
      " [0.67053413 0.3698973 ]\n",
      " [0.821352   0.20328718]\n",
      " [0.85741746 0.13361809]\n",
      " [0.9575169  0.04068792]\n",
      " [0.96654046 0.02547622]\n",
      " [0.9507282  0.04378313]\n",
      " [0.5357713  0.5494094 ]]\n"
     ]
    }
   ],
   "source": [
    "print (\"Prediction: \", y_pred_1[:10])"
   ]
  },
  {
   "cell_type": "code",
   "execution_count": 0,
   "metadata": {
    "colab": {},
    "colab_type": "code",
    "id": "4jbKZeghrpdX"
   },
   "outputs": [],
   "source": [
    "y_pred_1_threshold = (model_1.predict_proba(X_test_std) >= 0.5)"
   ]
  },
  {
   "cell_type": "markdown",
   "metadata": {
    "colab_type": "text",
    "id": "PyogvtAHufjT"
   },
   "source": [
    "# Prediction for Final Model"
   ]
  },
  {
   "cell_type": "code",
   "execution_count": 0,
   "metadata": {
    "colab": {},
    "colab_type": "code",
    "id": "9HsB3xC7sksa"
   },
   "outputs": [],
   "source": [
    "y_pred_Final = model_Final.predict(X_test_std)"
   ]
  },
  {
   "cell_type": "code",
   "execution_count": 47,
   "metadata": {
    "colab": {
     "base_uri": "https://localhost:8080/",
     "height": 194
    },
    "colab_type": "code",
    "id": "LZTucybxsksk",
    "outputId": "30553d89-912c-40bc-b0f1-0eeeeea83ec4"
   },
   "outputs": [
    {
     "name": "stdout",
     "output_type": "stream",
     "text": [
      "Prediction:  [[0.09267643 0.90823936]\n",
      " [0.8048177  0.19680128]\n",
      " [0.96092814 0.03905696]\n",
      " [0.4446677  0.5561017 ]\n",
      " [0.9536138  0.04605022]\n",
      " [0.96698797 0.03259215]\n",
      " [0.9480878  0.05187801]\n",
      " [0.97791576 0.02167287]\n",
      " [0.9717783  0.02807376]\n",
      " [0.08878946 0.9121022 ]]\n"
     ]
    }
   ],
   "source": [
    "print (\"Prediction: \", y_pred_Final[:10])"
   ]
  },
  {
   "cell_type": "code",
   "execution_count": 0,
   "metadata": {
    "colab": {},
    "colab_type": "code",
    "id": "jixQdQd6sksq"
   },
   "outputs": [],
   "source": [
    "y_pred_Final_threshold = (model_Final.predict_proba(X_test_std) >= 0.5)"
   ]
  },
  {
   "cell_type": "markdown",
   "metadata": {
    "colab_type": "text",
    "id": "ahXadPYls2P_"
   },
   "source": [
    "#10. Print the Accuracy score and confusion matrix"
   ]
  },
  {
   "cell_type": "markdown",
   "metadata": {
    "colab_type": "text",
    "id": "QlxmYLcEulnc"
   },
   "source": [
    "# Print the Accuracy score and confusion matrix for Model_1(before hyper tuning)"
   ]
  },
  {
   "cell_type": "code",
   "execution_count": 50,
   "metadata": {
    "colab": {
     "base_uri": "https://localhost:8080/",
     "height": 52
    },
    "colab_type": "code",
    "id": "n6glQpb6s0p4",
    "outputId": "9ca8a543-d31b-4347-860d-f91a0a681ffe"
   },
   "outputs": [
    {
     "name": "stdout",
     "output_type": "stream",
     "text": [
      "Accuracy score for predictions with no specified thershold for model_1:  0.804\n",
      "Accuracy score for predictions with specified threshold 0.5 for model_1:  0.804\n"
     ]
    }
   ],
   "source": [
    "# Accuracy score for predictions without threshold\n",
    "\n",
    "from sklearn import metrics\n",
    "print(\"Accuracy score for predictions with no specified thershold for model_1: \", metrics.accuracy_score(y_test_cat, y_pred_1.round()))\n",
    "print(\"Accuracy score for predictions with specified threshold 0.5 for model_1: \", metrics.accuracy_score(y_test_cat, y_pred_1_threshold.round()))\n"
   ]
  },
  {
   "cell_type": "code",
   "execution_count": 52,
   "metadata": {
    "colab": {
     "base_uri": "https://localhost:8080/",
     "height": 125
    },
    "colab_type": "code",
    "id": "SUAhb--RstF9",
    "outputId": "9fb2c6a6-4c5c-451f-ea83-2a0587146e40"
   },
   "outputs": [
    {
     "name": "stdout",
     "output_type": "stream",
     "text": [
      "Confusion Matrix for predictions with no specified threshold for Model_1\n"
     ]
    },
    {
     "data": {
      "text/html": [
       "<div>\n",
       "<style scoped>\n",
       "    .dataframe tbody tr th:only-of-type {\n",
       "        vertical-align: middle;\n",
       "    }\n",
       "\n",
       "    .dataframe tbody tr th {\n",
       "        vertical-align: top;\n",
       "    }\n",
       "\n",
       "    .dataframe thead th {\n",
       "        text-align: right;\n",
       "    }\n",
       "</style>\n",
       "<table border=\"1\" class=\"dataframe\">\n",
       "  <thead>\n",
       "    <tr style=\"text-align: right;\">\n",
       "      <th></th>\n",
       "      <th>pred_neg</th>\n",
       "      <th>pred_pos</th>\n",
       "    </tr>\n",
       "  </thead>\n",
       "  <tbody>\n",
       "    <tr>\n",
       "      <th>neg</th>\n",
       "      <td>1543</td>\n",
       "      <td>46</td>\n",
       "    </tr>\n",
       "    <tr>\n",
       "      <th>pos</th>\n",
       "      <td>312</td>\n",
       "      <td>99</td>\n",
       "    </tr>\n",
       "  </tbody>\n",
       "</table>\n",
       "</div>"
      ],
      "text/plain": [
       "     pred_neg  pred_pos\n",
       "neg      1543        46\n",
       "pos       312        99"
      ]
     },
     "execution_count": 52,
     "metadata": {
      "tags": []
     },
     "output_type": "execute_result"
    }
   ],
   "source": [
    "print (\"Confusion Matrix for predictions with no specified threshold for Model_1\")\n",
    "pd.DataFrame(metrics.confusion_matrix(y_test_cat.argmax(axis=1), y_pred_1.argmax(axis=1)),\n",
    "                 columns=['pred_neg', 'pred_pos'], index=['neg', 'pos'])"
   ]
  },
  {
   "cell_type": "code",
   "execution_count": 53,
   "metadata": {
    "colab": {
     "base_uri": "https://localhost:8080/",
     "height": 125
    },
    "colab_type": "code",
    "id": "eNp-eyKEtdKZ",
    "outputId": "baaeccb5-c2e7-4695-c9dc-2d3f7a10b0ad"
   },
   "outputs": [
    {
     "name": "stdout",
     "output_type": "stream",
     "text": [
      "Confusion Matrix for predictions with specified threshold 0.5 for model_1\n"
     ]
    },
    {
     "data": {
      "text/html": [
       "<div>\n",
       "<style scoped>\n",
       "    .dataframe tbody tr th:only-of-type {\n",
       "        vertical-align: middle;\n",
       "    }\n",
       "\n",
       "    .dataframe tbody tr th {\n",
       "        vertical-align: top;\n",
       "    }\n",
       "\n",
       "    .dataframe thead th {\n",
       "        text-align: right;\n",
       "    }\n",
       "</style>\n",
       "<table border=\"1\" class=\"dataframe\">\n",
       "  <thead>\n",
       "    <tr style=\"text-align: right;\">\n",
       "      <th></th>\n",
       "      <th>pred_neg</th>\n",
       "      <th>pred_pos</th>\n",
       "    </tr>\n",
       "  </thead>\n",
       "  <tbody>\n",
       "    <tr>\n",
       "      <th>neg</th>\n",
       "      <td>1555</td>\n",
       "      <td>34</td>\n",
       "    </tr>\n",
       "    <tr>\n",
       "      <th>pos</th>\n",
       "      <td>328</td>\n",
       "      <td>83</td>\n",
       "    </tr>\n",
       "  </tbody>\n",
       "</table>\n",
       "</div>"
      ],
      "text/plain": [
       "     pred_neg  pred_pos\n",
       "neg      1555        34\n",
       "pos       328        83"
      ]
     },
     "execution_count": 53,
     "metadata": {
      "tags": []
     },
     "output_type": "execute_result"
    }
   ],
   "source": [
    "print (\"Confusion Matrix for predictions with specified threshold 0.5 for model_1\")\n",
    "pd.DataFrame(metrics.confusion_matrix(y_test_cat.argmax(axis=1), y_pred_1_threshold.argmax(axis=1)),\n",
    "                 columns=['pred_neg', 'pred_pos'], index=['neg', 'pos'])\n"
   ]
  },
  {
   "cell_type": "code",
   "execution_count": 55,
   "metadata": {
    "colab": {
     "base_uri": "https://localhost:8080/",
     "height": 267
    },
    "colab_type": "code",
    "id": "1_92YndAt5Ov",
    "outputId": "604f4505-54c1-4472-f03b-7daf33c04682"
   },
   "outputs": [
    {
     "name": "stdout",
     "output_type": "stream",
     "text": [
      "Classification Report for predictions with no specified threshold\n",
      "              precision    recall  f1-score   support\n",
      "\n",
      "           0       0.83      0.97      0.89      1589\n",
      "           1       0.73      0.29      0.41       411\n",
      "\n",
      "   micro avg       0.82      0.83      0.82      2000\n",
      "   macro avg       0.78      0.63      0.65      2000\n",
      "weighted avg       0.81      0.83      0.79      2000\n",
      " samples avg       0.82      0.83      0.82      2000\n",
      "\n"
     ]
    },
    {
     "name": "stderr",
     "output_type": "stream",
     "text": [
      "/usr/local/lib/python3.6/dist-packages/sklearn/metrics/_classification.py:1272: UndefinedMetricWarning: Precision and F-score are ill-defined and being set to 0.0 in samples with no predicted labels. Use `zero_division` parameter to control this behavior.\n",
      "  _warn_prf(average, modifier, msg_start, len(result))\n"
     ]
    }
   ],
   "source": [
    "from sklearn.metrics import classification_report\n",
    "print (\"Classification Report for predictions with no specified threshold\")\n",
    "print(classification_report(y_test_cat, y_pred_1.round()))"
   ]
  },
  {
   "cell_type": "code",
   "execution_count": 56,
   "metadata": {
    "colab": {
     "base_uri": "https://localhost:8080/",
     "height": 267
    },
    "colab_type": "code",
    "id": "wrMhAeWzuRY4",
    "outputId": "e5850cad-995e-41fa-8d1d-ff19153e6542"
   },
   "outputs": [
    {
     "name": "stdout",
     "output_type": "stream",
     "text": [
      "Classification Report for predictions with specified threshold 0.5\n",
      "              precision    recall  f1-score   support\n",
      "\n",
      "           0       0.83      0.97      0.89      1589\n",
      "           1       0.73      0.29      0.41       411\n",
      "\n",
      "   micro avg       0.82      0.83      0.82      2000\n",
      "   macro avg       0.78      0.63      0.65      2000\n",
      "weighted avg       0.81      0.83      0.79      2000\n",
      " samples avg       0.82      0.83      0.82      2000\n",
      "\n"
     ]
    },
    {
     "name": "stderr",
     "output_type": "stream",
     "text": [
      "/usr/local/lib/python3.6/dist-packages/sklearn/metrics/_classification.py:1272: UndefinedMetricWarning: Precision and F-score are ill-defined and being set to 0.0 in samples with no predicted labels. Use `zero_division` parameter to control this behavior.\n",
      "  _warn_prf(average, modifier, msg_start, len(result))\n"
     ]
    }
   ],
   "source": [
    "from sklearn.metrics import classification_report\n",
    "print (\"Classification Report for predictions with specified threshold 0.5\")\n",
    "print(classification_report(y_test_cat, y_pred_1_threshold))\n"
   ]
  },
  {
   "cell_type": "code",
   "execution_count": 0,
   "metadata": {
    "colab": {},
    "colab_type": "code",
    "id": "IQx1_qy_u0wP"
   },
   "outputs": [],
   "source": []
  },
  {
   "cell_type": "markdown",
   "metadata": {
    "colab_type": "text",
    "id": "aIdJ_yUpu3ix"
   },
   "source": [
    "# Print the Accuracy score and confusion matrix for Final Model"
   ]
  },
  {
   "cell_type": "code",
   "execution_count": 58,
   "metadata": {
    "colab": {
     "base_uri": "https://localhost:8080/",
     "height": 52
    },
    "colab_type": "code",
    "id": "7oKsIc-4vEkV",
    "outputId": "a45b6263-dae0-4737-9f23-f8a1db4d9cf7"
   },
   "outputs": [
    {
     "name": "stdout",
     "output_type": "stream",
     "text": [
      "Accuracy score for predictions with no specified thershold for model_Final:  0.8565\n",
      "Accuracy score for predictions with specified threshold 0.5 for model_Final:  0.8565\n"
     ]
    }
   ],
   "source": [
    "# Accuracy score for predictions without threshold\n",
    "\n",
    "from sklearn import metrics\n",
    "print(\"Accuracy score for predictions with no specified thershold for model_Final: \", metrics.accuracy_score(y_test_cat, y_pred_Final.round()))\n",
    "print(\"Accuracy score for predictions with specified threshold 0.5 for model_Final: \", metrics.accuracy_score(y_test_cat, y_pred_Final_threshold.round()))\n"
   ]
  },
  {
   "cell_type": "code",
   "execution_count": 59,
   "metadata": {
    "colab": {
     "base_uri": "https://localhost:8080/",
     "height": 125
    },
    "colab_type": "code",
    "id": "k0GmSexxvEki",
    "outputId": "c628bf3b-6d7c-46b5-c0ca-8475510fc297"
   },
   "outputs": [
    {
     "name": "stdout",
     "output_type": "stream",
     "text": [
      "Confusion Matrix for predictions with no specified threshold for Model_Final\n"
     ]
    },
    {
     "data": {
      "text/html": [
       "<div>\n",
       "<style scoped>\n",
       "    .dataframe tbody tr th:only-of-type {\n",
       "        vertical-align: middle;\n",
       "    }\n",
       "\n",
       "    .dataframe tbody tr th {\n",
       "        vertical-align: top;\n",
       "    }\n",
       "\n",
       "    .dataframe thead th {\n",
       "        text-align: right;\n",
       "    }\n",
       "</style>\n",
       "<table border=\"1\" class=\"dataframe\">\n",
       "  <thead>\n",
       "    <tr style=\"text-align: right;\">\n",
       "      <th></th>\n",
       "      <th>pred_neg</th>\n",
       "      <th>pred_pos</th>\n",
       "    </tr>\n",
       "  </thead>\n",
       "  <tbody>\n",
       "    <tr>\n",
       "      <th>neg</th>\n",
       "      <td>1515</td>\n",
       "      <td>74</td>\n",
       "    </tr>\n",
       "    <tr>\n",
       "      <th>pos</th>\n",
       "      <td>211</td>\n",
       "      <td>200</td>\n",
       "    </tr>\n",
       "  </tbody>\n",
       "</table>\n",
       "</div>"
      ],
      "text/plain": [
       "     pred_neg  pred_pos\n",
       "neg      1515        74\n",
       "pos       211       200"
      ]
     },
     "execution_count": 59,
     "metadata": {
      "tags": []
     },
     "output_type": "execute_result"
    }
   ],
   "source": [
    "print (\"Confusion Matrix for predictions with no specified threshold for Model_Final\")\n",
    "pd.DataFrame(metrics.confusion_matrix(y_test_cat.argmax(axis=1), y_pred_Final.argmax(axis=1)),\n",
    "                 columns=['pred_neg', 'pred_pos'], index=['neg', 'pos'])"
   ]
  },
  {
   "cell_type": "code",
   "execution_count": 60,
   "metadata": {
    "colab": {
     "base_uri": "https://localhost:8080/",
     "height": 125
    },
    "colab_type": "code",
    "id": "sPB4iAVnvEko",
    "outputId": "73c029c5-7bf7-4394-9631-a1588252c8a4"
   },
   "outputs": [
    {
     "name": "stdout",
     "output_type": "stream",
     "text": [
      "Confusion Matrix for predictions with specified threshold 0.5 for model_Final\n"
     ]
    },
    {
     "data": {
      "text/html": [
       "<div>\n",
       "<style scoped>\n",
       "    .dataframe tbody tr th:only-of-type {\n",
       "        vertical-align: middle;\n",
       "    }\n",
       "\n",
       "    .dataframe tbody tr th {\n",
       "        vertical-align: top;\n",
       "    }\n",
       "\n",
       "    .dataframe thead th {\n",
       "        text-align: right;\n",
       "    }\n",
       "</style>\n",
       "<table border=\"1\" class=\"dataframe\">\n",
       "  <thead>\n",
       "    <tr style=\"text-align: right;\">\n",
       "      <th></th>\n",
       "      <th>pred_neg</th>\n",
       "      <th>pred_pos</th>\n",
       "    </tr>\n",
       "  </thead>\n",
       "  <tbody>\n",
       "    <tr>\n",
       "      <th>neg</th>\n",
       "      <td>1515</td>\n",
       "      <td>74</td>\n",
       "    </tr>\n",
       "    <tr>\n",
       "      <th>pos</th>\n",
       "      <td>211</td>\n",
       "      <td>200</td>\n",
       "    </tr>\n",
       "  </tbody>\n",
       "</table>\n",
       "</div>"
      ],
      "text/plain": [
       "     pred_neg  pred_pos\n",
       "neg      1515        74\n",
       "pos       211       200"
      ]
     },
     "execution_count": 60,
     "metadata": {
      "tags": []
     },
     "output_type": "execute_result"
    }
   ],
   "source": [
    "print (\"Confusion Matrix for predictions with specified threshold 0.5 for model_Final\")\n",
    "pd.DataFrame(metrics.confusion_matrix(y_test_cat.argmax(axis=1), y_pred_Final_threshold.argmax(axis=1)),\n",
    "                 columns=['pred_neg', 'pred_pos'], index=['neg', 'pos'])\n"
   ]
  },
  {
   "cell_type": "code",
   "execution_count": 61,
   "metadata": {
    "colab": {
     "base_uri": "https://localhost:8080/",
     "height": 212
    },
    "colab_type": "code",
    "id": "QwNRCvP1vEkw",
    "outputId": "81a12e3a-282a-4875-c32d-ef2cebfb7091"
   },
   "outputs": [
    {
     "name": "stdout",
     "output_type": "stream",
     "text": [
      "Classification Report for predictions with no specified threshold\n",
      "              precision    recall  f1-score   support\n",
      "\n",
      "           0       0.88      0.95      0.91      1589\n",
      "           1       0.73      0.49      0.58       411\n",
      "\n",
      "   micro avg       0.86      0.86      0.86      2000\n",
      "   macro avg       0.80      0.72      0.75      2000\n",
      "weighted avg       0.85      0.86      0.85      2000\n",
      " samples avg       0.86      0.86      0.86      2000\n",
      "\n"
     ]
    }
   ],
   "source": [
    "from sklearn.metrics import classification_report\n",
    "print (\"Classification Report for predictions with no specified threshold\")\n",
    "print(classification_report(y_test_cat, y_pred_Final.round()))"
   ]
  },
  {
   "cell_type": "code",
   "execution_count": 62,
   "metadata": {
    "colab": {
     "base_uri": "https://localhost:8080/",
     "height": 212
    },
    "colab_type": "code",
    "id": "d6vmKc8gvtvW",
    "outputId": "5272c5b8-7d9d-4a77-94f1-7e3b70166f24"
   },
   "outputs": [
    {
     "name": "stdout",
     "output_type": "stream",
     "text": [
      "Classification Report for predictions with specified threshold 0.5\n",
      "              precision    recall  f1-score   support\n",
      "\n",
      "           0       0.88      0.95      0.91      1589\n",
      "           1       0.73      0.49      0.58       411\n",
      "\n",
      "   micro avg       0.86      0.86      0.86      2000\n",
      "   macro avg       0.80      0.72      0.75      2000\n",
      "weighted avg       0.85      0.86      0.85      2000\n",
      " samples avg       0.86      0.86      0.86      2000\n",
      "\n"
     ]
    }
   ],
   "source": [
    "from sklearn.metrics import classification_report\n",
    "print (\"Classification Report for predictions with specified threshold 0.5\")\n",
    "print(classification_report(y_test_cat, y_pred_Final_threshold))"
   ]
  },
  {
   "cell_type": "markdown",
   "metadata": {
    "colab_type": "text",
    "id": "cFmP7UxKxByH"
   },
   "source": [
    "# Conclusion: After hypertuning the model, we can improve the accuracy as 85.6% from 80%. And also we can improve the overall precision, recall, f1-score. These resulted values clearly illustarted the improvements applied by hypertuning through grid search. By this model, we can predict the reasonable good numbers of who are all reatin with bank and who are all exit from the bank."
   ]
  }
 ],
 "metadata": {
  "colab": {
   "collapsed_sections": [],
   "name": "Introduction_to_Neural_Networks_and_Deep_Learning_R6_Project_1.ipynb",
   "provenance": [],
   "toc_visible": true
  },
  "kernelspec": {
   "display_name": "Python 3",
   "language": "python",
   "name": "python3"
  },
  "language_info": {
   "codemirror_mode": {
    "name": "ipython",
    "version": 3
   },
   "file_extension": ".py",
   "mimetype": "text/x-python",
   "name": "python",
   "nbconvert_exporter": "python",
   "pygments_lexer": "ipython3",
   "version": "3.7.3"
  }
 },
 "nbformat": 4,
 "nbformat_minor": 1
}
